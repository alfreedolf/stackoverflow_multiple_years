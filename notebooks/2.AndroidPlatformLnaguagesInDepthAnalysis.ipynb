{
 "cells": [
  {
   "cell_type": "code",
   "execution_count": null,
   "metadata": {},
   "outputs": [],
   "source": []
  },
  {
   "cell_type": "markdown",
   "metadata": {},
   "source": [
    "### In depth analysis of Java vs Kotlin"
   ]
  },
  {
   "cell_type": "markdown",
   "metadata": {},
   "source": [
    "I will extract some more targeted statistics, to get a better idea, of the relationship between the two apparently conflicting trends between thest two languages, wich shares such an interesting (for developers and for software related industries) field of application as Android development."
   ]
  },
  {
   "cell_type": "code",
   "execution_count": null,
   "metadata": {},
   "outputs": [],
   "source": [
    "cols_18 = df_surveys_18.columns[df_surveys_18.isin([\"Android\"]).any()]\n",
    "cols_19 = df_surveys_19.columns[df_surveys_19.isin([\"Android\"]).any()]\n",
    "cols_20 = df_surveys_20.columns[df_surveys_20.isin([\"Android\"]).any()]\n",
    "#df_surveys_18[df_surveys_18.eq(\"Android\").any(1)]"
   ]
  },
  {
   "cell_type": "code",
   "execution_count": null,
   "metadata": {},
   "outputs": [],
   "source": [
    "cols_18"
   ]
  },
  {
   "cell_type": "code",
   "execution_count": null,
   "metadata": {},
   "outputs": [],
   "source": [
    "cols_19"
   ]
  },
  {
   "cell_type": "code",
   "execution_count": null,
   "metadata": {},
   "outputs": [],
   "source": [
    "cols_20"
   ]
  },
  {
   "cell_type": "markdown",
   "metadata": {},
   "source": [
    "We have a clear indication on where to find the information about the platform of reference."
   ]
  },
  {
   "cell_type": "markdown",
   "metadata": {},
   "source": [
    "Then, we first define as base to count shares as:\n",
    "$$ ShareBase = \\frac{|(Java \\cup Kotlin) \\cap Android|}{|Android|}"
   ]
  },
  {
   "cell_type": "markdown",
   "metadata": {},
   "source": [
    "As the percentage of respondents that have Java or Kotlin experience, and that have declared to have worked on Android platform."
   ]
  },
  {
   "cell_type": "markdown",
   "metadata": {},
   "source": [
    "Then, we can define joint intersection of Java and Kotlin on Android platform:"
   ]
  },
  {
   "cell_type": "markdown",
   "metadata": {},
   "source": [
    "$$ \\frac{|Java \\cap Kotlin \\cap Android|}{ShareBase}"
   ]
  },
  {
   "cell_type": "markdown",
   "metadata": {},
   "source": [
    "From that, we can also define:"
   ]
  },
  {
   "cell_type": "markdown",
   "metadata": {},
   "source": [
    "$$ \\frac{|Java \\cap Android| \\setminus |Kotlin \\cap Android|}{ShareBase}"
   ]
  },
  {
   "cell_type": "markdown",
   "metadata": {},
   "source": [
    "as the percentage of developers in share base that used Java but not Kotlin."
   ]
  },
  {
   "cell_type": "markdown",
   "metadata": {},
   "source": [
    "As opposed to:"
   ]
  },
  {
   "cell_type": "markdown",
   "metadata": {},
   "source": [
    "$$ \\frac{|Kotlin \\cap Android| \\setminus |Java \\cap Android|}{ShareBase}"
   ]
  },
  {
   "cell_type": "markdown",
   "metadata": {},
   "source": [
    "as the percentage of developers in share base that used Kotlin but not Java."
   ]
  },
  {
   "cell_type": "markdown",
   "metadata": {},
   "source": [
    "For practical reason, I will call these value as follows:"
   ]
  },
  {
   "cell_type": "code",
   "execution_count": null,
   "metadata": {},
   "outputs": [],
   "source": [
    "java_vs_kotlin_experience = [\"Java plus Kotlin Android developers\", \"Android Developers that use Java and Kotlin together\", \"Java exclusive share on Android Developers\", \"Kotlin exclusive share on Android Developers\"]"
   ]
  },
  {
   "cell_type": "markdown",
   "metadata": {},
   "source": [
    "First we will compute:\n",
    "$$ ShareBase = \\frac{|(Java \\cup Kotlin) \\cap Android|}{|Android|}"
   ]
  },
  {
   "cell_type": "code",
   "execution_count": null,
   "metadata": {},
   "outputs": [],
   "source": [
    "base_share_18 = lpp_18.joint_share([\"LanguageWorkedWith: Java\", \"LanguageWorkedWith: Kotlin\"], platform=\"Android\")\n",
    "base_share_19 = lpp_19.joint_share([\"LanguageWorkedWith: Java\", \"LanguageWorkedWith: Kotlin\"], platform=\"Android\")\n",
    "base_share_20 = lpp_20.joint_share([\"LanguageWorkedWith: Java\", \"LanguageWorkedWith: Kotlin\"], platform=\"Android\")"
   ]
  },
  {
   "cell_type": "code",
   "execution_count": null,
   "metadata": {},
   "outputs": [],
   "source": [
    "base_share_18"
   ]
  },
  {
   "cell_type": "code",
   "execution_count": null,
   "metadata": {},
   "outputs": [],
   "source": [
    "base_share_19"
   ]
  },
  {
   "cell_type": "code",
   "execution_count": null,
   "metadata": {},
   "outputs": [],
   "source": [
    "base_share_20"
   ]
  },
  {
   "cell_type": "markdown",
   "metadata": {},
   "source": [
    "We can now compute:"
   ]
  },
  {
   "cell_type": "markdown",
   "metadata": {},
   "source": [
    "$$ \\frac{|Java \\cap Kotlin \\cap Android|}{ShareBase}"
   ]
  },
  {
   "cell_type": "code",
   "execution_count": null,
   "metadata": {},
   "outputs": [],
   "source": [
    "android_java_and_kotlin_shares_intersections_18 = lpp_18.joint_share([\"LanguageWorkedWith: Java\", \"LanguageWorkedWith: Kotlin\"], unison=True, platform=\"Android\")\n",
    "android_java_and_kotlin_shares_intersections_19 = lpp_19.joint_share([\"LanguageWorkedWith: Java\", \"LanguageWorkedWith: Kotlin\"], unison=True, platform=\"Android\")\n",
    "android_java_and_kotlin_shares_intersections_20 = lpp_20.joint_share([\"LanguageWorkedWith: Java\", \"LanguageWorkedWith: Kotlin\"], unison=True, platform=\"Android\")"
   ]
  },
  {
   "cell_type": "code",
   "execution_count": null,
   "metadata": {},
   "outputs": [],
   "source": [
    "android_java_and_kotlin_shares_intersections_18"
   ]
  },
  {
   "cell_type": "code",
   "execution_count": null,
   "metadata": {},
   "outputs": [],
   "source": [
    "android_java_and_kotlin_shares_intersections_19"
   ]
  },
  {
   "cell_type": "code",
   "execution_count": null,
   "metadata": {},
   "outputs": [],
   "source": [
    "android_java_and_kotlin_shares_intersections_20"
   ]
  },
  {
   "cell_type": "markdown",
   "metadata": {},
   "source": [
    "Than we will compute:\n",
    "$$ \\frac{|Java \\cap Android| \\setminus |Kotlin \\cap Android|}{ShareBase}"
   ]
  },
  {
   "cell_type": "code",
   "execution_count": null,
   "metadata": {},
   "outputs": [],
   "source": [
    "android_java_exclusive_share_18 = lpp_18.exclusive_share(ref_language=\"LanguageWorkedWith: Java\", excluded_languages=[\"LanguageWorkedWith: Kotlin\"], platform=\"Android\")\n",
    "android_java_exclusive_share_19 = lpp_19.exclusive_share(ref_language=\"LanguageWorkedWith: Java\", excluded_languages=[\"LanguageWorkedWith: Kotlin\"], platform=\"Android\")\n",
    "android_java_exclusive_share_20 = lpp_20.exclusive_share(ref_language=\"LanguageWorkedWith: Java\", excluded_languages=[\"LanguageWorkedWith: Kotlin\"], platform=\"Android\")"
   ]
  },
  {
   "cell_type": "code",
   "execution_count": null,
   "metadata": {},
   "outputs": [],
   "source": [
    "android_java_exclusive_share_18"
   ]
  },
  {
   "cell_type": "code",
   "execution_count": null,
   "metadata": {},
   "outputs": [],
   "source": [
    "android_java_exclusive_share_19"
   ]
  },
  {
   "cell_type": "code",
   "execution_count": null,
   "metadata": {},
   "outputs": [],
   "source": [
    "android_java_exclusive_share_20"
   ]
  },
  {
   "cell_type": "code",
   "execution_count": null,
   "metadata": {},
   "outputs": [],
   "source": [
    "android_kotlin_exclusive_share_18 = lpp_18.exclusive_share(ref_language=\"LanguageWorkedWith: Kotlin\", excluded_languages=[\"LanguageWorkedWith: Java\"], platform=\"Android\")\n",
    "android_kotlin_exclusive_share_19 = lpp_19.exclusive_share(ref_language=\"LanguageWorkedWith: Kotlin\", excluded_languages=[\"LanguageWorkedWith: Java\"], platform=\"Android\")\n",
    "android_kotlin_exclusive_share_20 = lpp_20.exclusive_share(ref_language=\"LanguageWorkedWith: Kotlin\", excluded_languages=[\"LanguageWorkedWith: Java\"], platform=\"Android\")"
   ]
  },
  {
   "cell_type": "code",
   "execution_count": null,
   "metadata": {},
   "outputs": [],
   "source": [
    "android_kotlin_exclusive_share_18"
   ]
  },
  {
   "cell_type": "code",
   "execution_count": null,
   "metadata": {},
   "outputs": [],
   "source": [
    "android_kotlin_exclusive_share_19"
   ]
  },
  {
   "cell_type": "code",
   "execution_count": null,
   "metadata": {},
   "outputs": [],
   "source": [
    "android_kotlin_exclusive_share_20"
   ]
  },
  {
   "cell_type": "markdown",
   "metadata": {},
   "source": [
    "Now we can proceed plotting data:"
   ]
  },
  {
   "cell_type": "code",
   "execution_count": null,
   "metadata": {},
   "outputs": [],
   "source": [
    "import numpy as np"
   ]
  },
  {
   "cell_type": "code",
   "execution_count": null,
   "metadata": {},
   "outputs": [],
   "source": [
    "# putting everythin in arrays, so we can populate a dataframe\n",
    "java_plus_kotlin_share = np.array([base_share_18, base_share_19, base_share_20])\n",
    "android_java_and_kotlin_shares_intersections = np.array([android_java_and_kotlin_shares_intersections_18, android_java_and_kotlin_shares_intersections_19, android_java_and_kotlin_shares_intersections_20])\n",
    "java_exclusive_shares = np.array([android_java_exclusive_share_18, android_java_exclusive_share_19, android_java_exclusive_share_20])\n",
    "kotlin_exclusive_shares = np.array([android_kotlin_exclusive_share_18, android_kotlin_exclusive_share_19, android_kotlin_exclusive_share_20])\n"
   ]
  },
  {
   "cell_type": "code",
   "execution_count": null,
   "metadata": {},
   "outputs": [],
   "source": [
    "java_vs_kotlin_stats =  np.array([java_plus_kotlin_share, android_java_and_kotlin_shares_intersections, java_exclusive_shares, kotlin_exclusive_shares])"
   ]
  },
  {
   "cell_type": "code",
   "execution_count": null,
   "metadata": {},
   "outputs": [],
   "source": [
    "# here is the dataframe\n",
    "df_java_vs_kotlin_18to20_percentages = pd.DataFrame(index=java_vs_kotlin_experience, data=java_vs_kotlin_stats, columns=[2018, 2019, 2020])"
   ]
  },
  {
   "cell_type": "code",
   "execution_count": null,
   "metadata": {},
   "outputs": [],
   "source": [
    "#df_java_vs_kotlin_18to20_percentages.index.name = 'year'"
   ]
  },
  {
   "cell_type": "code",
   "execution_count": null,
   "metadata": {},
   "outputs": [],
   "source": [
    "df_java_vs_kotlin_18to20_percentages"
   ]
  },
  {
   "cell_type": "markdown",
   "metadata": {},
   "source": [
    "Now we can also plot the data, but first, it is better to change the legend to make it shorter:"
   ]
  },
  {
   "cell_type": "code",
   "execution_count": null,
   "metadata": {},
   "outputs": [],
   "source": [
    "java_vs_kotlin_experience_plot_legend = [r'$ShareBase = \\frac{|(Java \\cup Kotlin) \\cap Android|}{|Android|}$', r'$\\frac{|Java \\cap Kotlin \\cap Android|}{ShareBase}$', r'$\\frac{|Java \\cap Android| - |Kotlin \\cap Android|}{ShareBase}$',  \\\n",
    "    r'$\\frac{|Kotlin \\cap Android| - |Java \\cap Android|}{ShareBase}$']"
   ]
  },
  {
   "cell_type": "code",
   "execution_count": null,
   "metadata": {},
   "outputs": [],
   "source": [
    "df_java_vs_kotlin_18to20_percentages_plot = pd.DataFrame(index=java_vs_kotlin_experience_plot_legend, data=java_vs_kotlin_stats, columns=[2018, 2019, 2020])"
   ]
  },
  {
   "cell_type": "code",
   "execution_count": null,
   "metadata": {},
   "outputs": [],
   "source": [
    "df_java_vs_kotlin_18to20_percentages_plot.plot.bar()\n",
    "plt.legend(loc='center left', bbox_to_anchor=(1.0, 0.5))\n",
    "plt.xticks(rotation=30, horizontalalignment=\"center\")\n",
    "plt.show()"
   ]
  },
  {
   "cell_type": "markdown",
   "metadata": {},
   "source": [
    "It can be clearly spotted an increase in Kotlin developers in Android base, simultaneously with a decrease in Java developer in the same base."
   ]
  },
  {
   "cell_type": "markdown",
   "metadata": {},
   "source": [
    "As a conclusion, we can say that is likely that a significative percentage of respondents were drawn from Java to Kotlin development. But this doesn't seem to fully explain the leak of Java developers, both on Android and on other platforms.  "
   ]
  }
 ],
 "metadata": {
  "language_info": {
   "name": "python"
  },
  "orig_nbformat": 4
 },
 "nbformat": 4,
 "nbformat_minor": 2
}
