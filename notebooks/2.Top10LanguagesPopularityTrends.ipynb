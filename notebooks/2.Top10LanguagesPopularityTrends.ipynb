{
 "cells": [
  {
   "cell_type": "markdown",
   "metadata": {
    "collapsed": true,
    "pycharm": {
     "name": "#%% md\n"
    }
   },
   "source": [
    "# Top 10 Languages Trends\n",
    "# Question N°2\n",
    "What are the trends in top 10 languages popularity over last 11 years?\n",
    "Now we can look at the trends, plotting data about top 5 languages."
   ]
  },
  {
   "cell_type": "markdown",
   "metadata": {
    "collapsed": false
   },
   "source": [
    "We can observe that these 10 languages are the most used languages over the 10 years of surveys:\n",
    "1. JavaScript\n",
    "2. PHP\n",
    "3. C#\n",
    "4. Java\n",
    "5. C++\n",
    "6. C\n",
    "7. Python\n",
    "8. TypeScript\n",
    "9. Objective-C\n",
    "10. Ruby"
   ]
  },
  {
   "cell_type": "code",
   "execution_count": 1,
   "metadata": {
    "collapsed": false,
    "pycharm": {
     "name": "#%%\n"
    }
   },
   "outputs": [],
   "source": [
    "popular_languages = [\"JavaScript\", \"PHP\", \"C#\", \"Java\", \"C++\", \"C\", \"Python\", \"TypeScript\", \"Objective-C\", \"Ruby\"]"
   ]
  },
  {
   "cell_type": "markdown",
   "metadata": {
    "collapsed": false
   },
   "source": [
    "## 5. Results Analysis\n",
    "For the purposes of this quesion,  previous CRISP-DM stages (Business Understanding, Data Understanding,\n",
    "Data Preparation and Data Modeling) can be reused, hence,\n",
    "I'll proceed with the results' analysis stage, delving into the analysis of results."
   ]
  },
  {
   "cell_type": "markdown",
   "metadata": {
    "collapsed": false
   },
   "source": [
    "First question: \"What languages were the most popular in each year?\""
   ]
  },
  {
   "cell_type": "markdown",
   "metadata": {
    "collapsed": false
   },
   "source": [
    "### Plotting the trends in top 10 languages throughout years\n",
    "Now I will plot the trend of languages popularity throughout years."
   ]
  },
  {
   "cell_type": "markdown",
   "metadata": {
    "collapsed": false
   },
   "source": [
    "Before plotting data, I need to make data ready to be plotted, so I will prepare a Dataframe </br>\n",
    "containing only top 10 languages' by popularity, throughout reference years."
   ]
  },
  {
   "cell_type": "markdown",
   "metadata": {},
   "source": [
    "First, I need to import the data from the previous notebook"
   ]
  },
  {
   "cell_type": "code",
   "execution_count": 2,
   "metadata": {},
   "outputs": [],
   "source": [
    "%store -r s_2011_proficiencies_stats\n",
    "%store -r s_2011_proficiencies_percentages\n",
    "%store -r s_2012_proficiencies_stats\n",
    "%store -r s_2012_proficiencies_percentages\n",
    "%store -r s_2013_proficiencies_stats\n",
    "%store -r s_2013_proficiencies_percentages\n",
    "%store -r s_2014_proficiencies_stats\n",
    "%store -r s_2014_proficiencies_percentages\n",
    "%store -r s_2015_proficiencies_stats\n",
    "%store -r s_2015_proficiencies_percentages\n",
    "%store -r s_2016_proficiencies_stats\n",
    "%store -r s_2016_proficiencies_percentages\n",
    "%store -r s_2017_proficiencies_stats\n",
    "%store -r s_2017_proficiencies_percentages\n",
    "%store -r s_2018_proficiencies_stats\n",
    "%store -r s_2018_proficiencies_percentages\n",
    "%store -r s_2019_proficiencies_stats\n",
    "%store -r s_2019_proficiencies_percentages\n",
    "%store -r s_2020_proficiencies_stats\n",
    "%store -r s_2020_proficiencies_percentages\n",
    "%store -r s_2021_proficiencies_stats\n",
    "%store -r s_2021_proficiencies_percentages"
   ]
  },
  {
   "cell_type": "code",
   "execution_count": 3,
   "metadata": {},
   "outputs": [],
   "source": [
    "import pandas as pd\n",
    "from preparation.data_load import get_10most_popular_languages_by_year"
   ]
  },
  {
   "cell_type": "code",
   "execution_count": 4,
   "metadata": {
    "collapsed": false,
    "pycharm": {
     "name": "#%%\n"
    }
   },
   "outputs": [
    {
     "ename": "KeyError",
     "evalue": "'full ranking'",
     "output_type": "error",
     "traceback": [
      "\u001b[1;31m---------------------------------------------------------------------------\u001b[0m",
      "\u001b[1;31mKeyError\u001b[0m                                  Traceback (most recent call last)",
      "\u001b[1;32mh:\\workspace\\stackoverflow_multiple_years\\notebooks\\2.Top10LanguagesPopularityTrends.ipynb Cell 11\u001b[0m in \u001b[0;36m<cell line: 9>\u001b[1;34m()\u001b[0m\n\u001b[0;32m      <a href='vscode-notebook-cell:/h%3A/workspace/stackoverflow_multiple_years/notebooks/2.Top10LanguagesPopularityTrends.ipynb#ch0000010?line=0'>1</a>\u001b[0m s_surveys_data \u001b[39m=\u001b[39m {\u001b[39m\"\u001b[39m\u001b[39m2011\u001b[39m\u001b[39m\"\u001b[39m: s_2011_proficiencies_percentages, \u001b[39m\"\u001b[39m\u001b[39m2012\u001b[39m\u001b[39m\"\u001b[39m: s_2012_proficiencies_percentages, \u001b[39m\"\u001b[39m\u001b[39m2013\u001b[39m\u001b[39m\"\u001b[39m: s_2013_proficiencies_percentages,\n\u001b[0;32m      <a href='vscode-notebook-cell:/h%3A/workspace/stackoverflow_multiple_years/notebooks/2.Top10LanguagesPopularityTrends.ipynb#ch0000010?line=1'>2</a>\u001b[0m                   \u001b[39m\"\u001b[39m\u001b[39m2014\u001b[39m\u001b[39m\"\u001b[39m: s_2014_proficiencies_percentages, \u001b[39m\"\u001b[39m\u001b[39m2015\u001b[39m\u001b[39m\"\u001b[39m: s_2015_proficiencies_percentages, \u001b[39m\"\u001b[39m\u001b[39m2016\u001b[39m\u001b[39m\"\u001b[39m: s_2016_proficiencies_percentages,\n\u001b[0;32m      <a href='vscode-notebook-cell:/h%3A/workspace/stackoverflow_multiple_years/notebooks/2.Top10LanguagesPopularityTrends.ipynb#ch0000010?line=2'>3</a>\u001b[0m                   \u001b[39m\"\u001b[39m\u001b[39m2017\u001b[39m\u001b[39m\"\u001b[39m: s_2017_proficiencies_percentages, \u001b[39m\"\u001b[39m\u001b[39m2018\u001b[39m\u001b[39m\"\u001b[39m: s_2018_proficiencies_percentages, \u001b[39m\"\u001b[39m\u001b[39m2019\u001b[39m\u001b[39m\"\u001b[39m: s_2019_proficiencies_percentages,\n\u001b[0;32m      <a href='vscode-notebook-cell:/h%3A/workspace/stackoverflow_multiple_years/notebooks/2.Top10LanguagesPopularityTrends.ipynb#ch0000010?line=3'>4</a>\u001b[0m                   \u001b[39m\"\u001b[39m\u001b[39m2020\u001b[39m\u001b[39m\"\u001b[39m: s_2020_proficiencies_percentages, \u001b[39m\"\u001b[39m\u001b[39m2021\u001b[39m\u001b[39m\"\u001b[39m: s_2021_proficiencies_percentages}\n\u001b[0;32m      <a href='vscode-notebook-cell:/h%3A/workspace/stackoverflow_multiple_years/notebooks/2.Top10LanguagesPopularityTrends.ipynb#ch0000010?line=5'>6</a>\u001b[0m languages_popularity_df \u001b[39m=\u001b[39m pd\u001b[39m.\u001b[39mDataFrame(columns\u001b[39m=\u001b[39mpopular_languages, index\u001b[39m=\u001b[39ms_surveys_data\u001b[39m.\u001b[39mkeys())\n\u001b[1;32m----> <a href='vscode-notebook-cell:/h%3A/workspace/stackoverflow_multiple_years/notebooks/2.Top10LanguagesPopularityTrends.ipynb#ch0000010?line=8'>9</a>\u001b[0m get_10most_popular_languages_by_year(languages_popularity_df, s_surveys_data, popular_languages)\n",
      "File \u001b[1;32mh:\\workspace\\stackoverflow_multiple_years\\preparation\\data_load.py:112\u001b[0m, in \u001b[0;36mget_10most_popular_languages_by_year\u001b[1;34m(languages_popularity_df, proficiencies_by_year_data, top10languages)\u001b[0m\n\u001b[0;32m    110\u001b[0m \u001b[39mfor\u001b[39;00m lang \u001b[39min\u001b[39;00m top10languages:\n\u001b[0;32m    111\u001b[0m     lang_re \u001b[39m=\u001b[39m \u001b[39mr\u001b[39m\u001b[39m'\u001b[39m\u001b[39m\\\u001b[39m\u001b[39mb\u001b[39m\u001b[39m'\u001b[39m \u001b[39m+\u001b[39m re\u001b[39m.\u001b[39mescape(lang) \u001b[39m+\u001b[39m \u001b[39mr\u001b[39m\u001b[39m'\u001b[39m\u001b[39m\\\u001b[39m\u001b[39mZ\u001b[39m\u001b[39m'\u001b[39m\n\u001b[1;32m--> 112\u001b[0m     tmp_stats \u001b[39m=\u001b[39m dataset[\u001b[39m\"\u001b[39;49m\u001b[39mfull ranking\u001b[39;49m\u001b[39m\"\u001b[39;49m]\u001b[39m.\u001b[39mfilter(regex\u001b[39m=\u001b[39mlang_re)\n\u001b[0;32m    113\u001b[0m     \u001b[39mif\u001b[39;00m \u001b[39mlen\u001b[39m(tmp_stats) \u001b[39m>\u001b[39m \u001b[39m0\u001b[39m:\n\u001b[0;32m    114\u001b[0m         languages_popularity_df\u001b[39m.\u001b[39mloc[year, lang] \u001b[39m=\u001b[39m \u001b[39mint\u001b[39m(tmp_stats\u001b[39m.\u001b[39mvalues[\u001b[39m0\u001b[39m])\n",
      "\u001b[1;31mKeyError\u001b[0m: 'full ranking'"
     ]
    }
   ],
   "source": [
    "\n",
    "\n",
    "\n",
    "s_surveys_data = {\"2011\": [s_2011_proficiencies_stats, s_2011_proficiencies_percentages], \"2012\": [s_2012_proficiencies_stats, s_2012_proficiencies_percentages],\n",
    "                  \"2013\": [s_2013_proficiencies_stats, s_2013_proficiencies_percentages], \"2014\": [s_2014_proficiencies_stats, s_2014_proficiencies_percentages],\n",
    "                  \"2015\": [s_2015_proficiencies_stats, s_2015_proficiencies_percentages], \"2016\": [s_2016_proficiencies_stats, s_2016_proficiencies_percentages],\n",
    "                  \"2017\": [s_2017_proficiencies_stats, s_2017_proficiencies_percentages], \"2018\": [s_2018_proficiencies_stats, s_2018_proficiencies_percentages],\n",
    "                  \"2019\": [s_2019_proficiencies_stats, s_2019_proficiencies_percentages], \"2020\": [s_2020_proficiencies_stats, s_2020_proficiencies_percentages],\n",
    "                  \"2021\": [s_2021_proficiencies_stats, s_2021_proficiencies_percentages]}\n",
    "\n",
    "languages_popularity_df = pd.DataFrame(columns=popular_languages, index=s_surveys_data.keys())\n",
    "\n",
    "\n",
    "get_10most_popular_languages_by_year(languages_popularity_df, s_surveys_data, popular_languages)\n"
   ]
  },
  {
   "cell_type": "code",
   "execution_count": 12,
   "metadata": {},
   "outputs": [
    {
     "data": {
      "text/html": [
       "<div>\n",
       "<style scoped>\n",
       "    .dataframe tbody tr th:only-of-type {\n",
       "        vertical-align: middle;\n",
       "    }\n",
       "\n",
       "    .dataframe tbody tr th {\n",
       "        vertical-align: top;\n",
       "    }\n",
       "\n",
       "    .dataframe thead th {\n",
       "        text-align: right;\n",
       "    }\n",
       "</style>\n",
       "<table border=\"1\" class=\"dataframe\">\n",
       "  <thead>\n",
       "    <tr style=\"text-align: right;\">\n",
       "      <th></th>\n",
       "      <th>JavaScript</th>\n",
       "      <th>PHP</th>\n",
       "      <th>C#</th>\n",
       "      <th>Java</th>\n",
       "      <th>C++</th>\n",
       "      <th>C</th>\n",
       "      <th>Python</th>\n",
       "      <th>TypeScript</th>\n",
       "      <th>Objective-C</th>\n",
       "      <th>Ruby</th>\n",
       "    </tr>\n",
       "  </thead>\n",
       "  <tbody>\n",
       "    <tr>\n",
       "      <th>2011</th>\n",
       "      <td>NaN</td>\n",
       "      <td>NaN</td>\n",
       "      <td>NaN</td>\n",
       "      <td>NaN</td>\n",
       "      <td>NaN</td>\n",
       "      <td>NaN</td>\n",
       "      <td>NaN</td>\n",
       "      <td>NaN</td>\n",
       "      <td>NaN</td>\n",
       "      <td>NaN</td>\n",
       "    </tr>\n",
       "    <tr>\n",
       "      <th>2012</th>\n",
       "      <td>NaN</td>\n",
       "      <td>NaN</td>\n",
       "      <td>NaN</td>\n",
       "      <td>NaN</td>\n",
       "      <td>NaN</td>\n",
       "      <td>NaN</td>\n",
       "      <td>NaN</td>\n",
       "      <td>NaN</td>\n",
       "      <td>NaN</td>\n",
       "      <td>NaN</td>\n",
       "    </tr>\n",
       "    <tr>\n",
       "      <th>2013</th>\n",
       "      <td>NaN</td>\n",
       "      <td>NaN</td>\n",
       "      <td>NaN</td>\n",
       "      <td>NaN</td>\n",
       "      <td>NaN</td>\n",
       "      <td>NaN</td>\n",
       "      <td>NaN</td>\n",
       "      <td>NaN</td>\n",
       "      <td>NaN</td>\n",
       "      <td>NaN</td>\n",
       "    </tr>\n",
       "    <tr>\n",
       "      <th>2014</th>\n",
       "      <td>NaN</td>\n",
       "      <td>NaN</td>\n",
       "      <td>NaN</td>\n",
       "      <td>NaN</td>\n",
       "      <td>NaN</td>\n",
       "      <td>NaN</td>\n",
       "      <td>NaN</td>\n",
       "      <td>NaN</td>\n",
       "      <td>NaN</td>\n",
       "      <td>NaN</td>\n",
       "    </tr>\n",
       "    <tr>\n",
       "      <th>2015</th>\n",
       "      <td>NaN</td>\n",
       "      <td>NaN</td>\n",
       "      <td>NaN</td>\n",
       "      <td>NaN</td>\n",
       "      <td>NaN</td>\n",
       "      <td>NaN</td>\n",
       "      <td>NaN</td>\n",
       "      <td>NaN</td>\n",
       "      <td>NaN</td>\n",
       "      <td>NaN</td>\n",
       "    </tr>\n",
       "  </tbody>\n",
       "</table>\n",
       "</div>"
      ],
      "text/plain": [
       "     JavaScript  PHP   C# Java  C++    C Python TypeScript Objective-C Ruby\n",
       "2011        NaN  NaN  NaN  NaN  NaN  NaN    NaN        NaN         NaN  NaN\n",
       "2012        NaN  NaN  NaN  NaN  NaN  NaN    NaN        NaN         NaN  NaN\n",
       "2013        NaN  NaN  NaN  NaN  NaN  NaN    NaN        NaN         NaN  NaN\n",
       "2014        NaN  NaN  NaN  NaN  NaN  NaN    NaN        NaN         NaN  NaN\n",
       "2015        NaN  NaN  NaN  NaN  NaN  NaN    NaN        NaN         NaN  NaN"
      ]
     },
     "execution_count": 12,
     "metadata": {},
     "output_type": "execute_result"
    }
   ],
   "source": [
    "languages_popularity_df.head()"
   ]
  },
  {
   "cell_type": "markdown",
   "metadata": {
    "collapsed": false
   },
   "source": [
    "Now I can plot data, but before that, for readability purposes, I'll set default matplotlib size."
   ]
  },
  {
   "cell_type": "code",
   "execution_count": 6,
   "metadata": {
    "collapsed": false,
    "pycharm": {
     "name": "#%%\n"
    }
   },
   "outputs": [
    {
     "name": "stdout",
     "output_type": "stream",
     "text": [
      "Before, figure default size is:  [6.0, 4.0]\n",
      "After, figure default size is:  [20.0, 10.0]\n"
     ]
    }
   ],
   "source": [
    "import matplotlib.pyplot as plt\n",
    "\n",
    "print(\"Before, figure default size is: \", plt.rcParams[\"figure.figsize\"])\n",
    "plt.rcParams[\"figure.figsize\"] = (20, 10)\n",
    "print(\"After, figure default size is: \", plt.rcParams[\"figure.figsize\"])\n",
    "\n"
   ]
  },
  {
   "cell_type": "code",
   "execution_count": 9,
   "metadata": {
    "collapsed": false,
    "pycharm": {
     "name": "#%%\n"
    }
   },
   "outputs": [
    {
     "ename": "KeyError",
     "evalue": "'top ten'",
     "output_type": "error",
     "traceback": [
      "\u001b[1;31m---------------------------------------------------------------------------\u001b[0m",
      "\u001b[1;31mKeyError\u001b[0m                                  Traceback (most recent call last)",
      "\u001b[1;32mh:\\workspace\\stackoverflow_multiple_years\\notebooks\\2.Top10LanguagesPopularityTrends.ipynb Cell 14\u001b[0m in \u001b[0;36m<cell line: 2>\u001b[1;34m()\u001b[0m\n\u001b[0;32m      <a href='vscode-notebook-cell:/h%3A/workspace/stackoverflow_multiple_years/notebooks/2.Top10LanguagesPopularityTrends.ipynb#ch0000013?line=0'>1</a>\u001b[0m languages_popularity_df\u001b[39m.\u001b[39mplot\u001b[39m.\u001b[39mline()\n\u001b[1;32m----> <a href='vscode-notebook-cell:/h%3A/workspace/stackoverflow_multiple_years/notebooks/2.Top10LanguagesPopularityTrends.ipynb#ch0000013?line=1'>2</a>\u001b[0m s_surveys_data[\u001b[39m\"\u001b[39;49m\u001b[39m2011\u001b[39;49m\u001b[39m\"\u001b[39;49m][\u001b[39m0\u001b[39;49m][\u001b[39m'\u001b[39;49m\u001b[39mtop ten\u001b[39;49m\u001b[39m'\u001b[39;49m]\u001b[39m.\u001b[39mplot\u001b[39m.\u001b[39mline()\n",
      "\u001b[1;31mKeyError\u001b[0m: 'top ten'"
     ]
    },
    {
     "data": {
      "image/png": "[encoded data removed]",
      "text/plain": [
       "<Figure size 1440x720 with 1 Axes>"
      ]
     },
     "metadata": {
      "needs_background": "light"
     },
     "output_type": "display_data"
    }
   ],
   "source": [
    "languages_popularity_df.plot.line()\n",
    "s_surveys_data[\"2011\"][0]['top ten'].plot.line()"
   ]
  },
  {
   "cell_type": "code",
   "execution_count": null,
   "metadata": {
    "collapsed": false,
    "pycharm": {
     "name": "#%%\n"
    }
   },
   "outputs": [],
   "source": []
  }
 ],
 "metadata": {
  "kernelspec": {
   "display_name": "Python 3.8.10 ('mlDaSci')",
   "language": "python",
   "name": "python3"
  },
  "language_info": {
   "codemirror_mode": {
    "name": "ipython",
    "version": 3
   },
   "file_extension": ".py",
   "mimetype": "text/x-python",
   "name": "python",
   "nbconvert_exporter": "python",
   "pygments_lexer": "ipython3",
   "version": "3.8.10"
  },
  "pycharm": {
   "stem_cell": {
    "cell_type": "raw",
    "metadata": {
     "collapsed": false
    },
    "source": [
     "\n"
    ]
   }
  },
  "vscode": {
   "interpreter": {
    "hash": "bd277283790f13d3f1fcc8a68e9e3d35ea8b3a9d5fb7a50ad45fa2b22b824c41"
   }
  }
 },
 "nbformat": 4,
 "nbformat_minor": 0
}
