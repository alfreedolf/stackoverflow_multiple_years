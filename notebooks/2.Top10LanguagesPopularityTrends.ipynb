{
 "cells": [
  {
   "cell_type": "markdown",
   "metadata": {
    "collapsed": true,
    "pycharm": {
     "name": "#%% md\n"
    }
   },
   "source": [
    "# Top 10 Languages Trends\n",
    "# Question N°2\n",
    "What are the trends in top 10 languages popularity over last 11 years?\n",
    "Now we can look at the trends, plotting data about top 5 languages."
   ]
  },
  {
   "cell_type": "markdown",
   "metadata": {
    "collapsed": false
   },
   "source": [
    "We can observe that these 10 languages are the most used languages over the 10 years of surveys:\n",
    "1. JavaScript\n",
    "2. PHP\n",
    "3. C#\n",
    "4. Java\n",
    "5. C++\n",
    "6. C\n",
    "7. Python\n",
    "8. TypeScript\n",
    "9. Objective-C\n",
    "10. Ruby"
   ]
  },
  {
   "cell_type": "code",
   "execution_count": null,
   "metadata": {
    "collapsed": false,
    "pycharm": {
     "name": "#%%\n"
    }
   },
   "outputs": [],
   "source": [
    "popular_languages = [\"JavaScript\", \"PHP\", \"C#\", \"Java\", \"C++\", \"C\", \"Python\", \"TypeScript\", \"Objective-C\", \"Ruby\"]"
   ]
  },
  {
   "cell_type": "markdown",
   "metadata": {
    "collapsed": false
   },
   "source": [
    "## 5. Results Analysis\n",
    "For the purposes of this quesion,  previous CRISP-DM stages (Business Understanding, Data Understanding,\n",
    "Data Preparation and Data Modeling) can be reused, hence,\n",
    "I'll proceed with the results' analysis stage, delving into the analysis of results."
   ]
  },
  {
   "cell_type": "markdown",
   "metadata": {
    "collapsed": false
   },
   "source": [
    "First question: \"What languages were the most popular in each year?\""
   ]
  },
  {
   "cell_type": "markdown",
   "metadata": {
    "collapsed": false
   },
   "source": [
    "### Plotting the trends in top 10 languages throughout years\n",
    "Now I will plot the trend of languages popularity throughout years."
   ]
  },
  {
   "cell_type": "markdown",
   "metadata": {
    "collapsed": false
   },
   "source": [
    "Before plotting data, I need to make data ready to be plotted, so I will prepare a Dataframe </br>\n",
    "containing only top 10 languages' by popularity, throughout reference years."
   ]
  },
  {
   "cell_type": "markdown",
   "metadata": {},
   "source": [
    "First, I need to import the data from the previous notebook"
   ]
  },
  {
   "cell_type": "code",
   "execution_count": null,
   "metadata": {},
   "outputs": [],
   "source": [
    "%store -r s_2011_proficiencies_stats\n",
    "%store -r s_2011_proficiencies_percentages\n",
    "%store -r s_2012_proficiencies_stats\n",
    "%store -r s_2012_proficiencies_percentages\n",
    "%store -r s_2013_proficiencies_stats\n",
    "%store -r s_2013_proficiencies_percentages\n",
    "%store -r s_2014_proficiencies_stats\n",
    "%store -r s_2014_proficiencies_percentages\n",
    "%store -r s_2015_proficiencies_stats\n",
    "%store -r s_2015_proficiencies_percentages\n",
    "%store -r s_2016_proficiencies_stats\n",
    "%store -r s_2016_proficiencies_percentages\n",
    "%store -r s_2017_proficiencies_stats\n",
    "%store -r s_2017_proficiencies_percentages\n",
    "%store -r s_2018_proficiencies_stats\n",
    "%store -r s_2018_proficiencies_percentages\n",
    "%store -r s_2019_proficiencies_stats\n",
    "%store -r s_2019_proficiencies_percentages\n",
    "%store -r s_2020_proficiencies_stats\n",
    "%store -r s_2020_proficiencies_percentages\n",
    "%store -r s_2021_proficiencies_stats\n",
    "%store -r s_2021_proficiencies_percentages"
   ]
  },
  {
   "cell_type": "code",
   "execution_count": null,
   "metadata": {},
   "outputs": [],
   "source": [
    "import pandas as pd\n",
    "from preparation.data_load import get_10most_popular_languages_by_year"
   ]
  },
  {
   "cell_type": "code",
   "execution_count": null,
   "metadata": {
    "collapsed": false,
    "pycharm": {
     "name": "#%%\n"
    }
   },
   "outputs": [],
   "source": [
    "\n",
    "\n",
    "\n",
    "s_surveys_data = {\"2011\": [s_2011_proficiencies_stats, s_2011_proficiencies_percentages], \"2012\": [s_2012_proficiencies_stats, s_2012_proficiencies_percentages],\n",
    "                  \"2013\": [s_2013_proficiencies_stats, s_2013_proficiencies_percentages], \"2014\": [s_2014_proficiencies_stats, s_2014_proficiencies_percentages],\n",
    "                  \"2015\": [s_2015_proficiencies_stats, s_2015_proficiencies_percentages], \"2016\": [s_2016_proficiencies_stats, s_2016_proficiencies_percentages],\n",
    "                  \"2017\": [s_2017_proficiencies_stats, s_2017_proficiencies_percentages], \"2018\": [s_2018_proficiencies_stats, s_2018_proficiencies_percentages],\n",
    "                  \"2019\": [s_2019_proficiencies_stats, s_2019_proficiencies_percentages], \"2020\": [s_2020_proficiencies_stats, s_2020_proficiencies_percentages],\n",
    "                  \"2021\": [s_2021_proficiencies_stats, s_2021_proficiencies_percentages]}\n",
    "\n",
    "languages_popularity_df = pd.DataFrame(columns=popular_languages, index=s_surveys_data.keys())\n",
    "\n",
    "\n",
    "get_10most_popular_languages_by_year(languages_popularity_df, s_surveys_data, popular_languages)\n"
   ]
  },
  {
   "cell_type": "code",
   "execution_count": null,
   "metadata": {},
   "outputs": [],
   "source": [
    "languages_popularity_df.head()"
   ]
  },
  {
   "cell_type": "markdown",
   "metadata": {
    "collapsed": false
   },
   "source": [
    "Now I can plot data, but before that, for readability purposes, I'll set default matplotlib size."
   ]
  },
  {
   "cell_type": "code",
   "execution_count": null,
   "metadata": {
    "collapsed": false,
    "pycharm": {
     "name": "#%%\n"
    }
   },
   "outputs": [],
   "source": [
    "import matplotlib.pyplot as plt\n",
    "\n",
    "print(\"Before, figure default size is: \", plt.rcParams[\"figure.figsize\"])\n",
    "plt.rcParams[\"figure.figsize\"] = (20, 10)\n",
    "print(\"After, figure default size is: \", plt.rcParams[\"figure.figsize\"])\n",
    "\n"
   ]
  },
  {
   "cell_type": "code",
   "execution_count": null,
   "metadata": {
    "collapsed": false,
    "pycharm": {
     "name": "#%%\n"
    }
   },
   "outputs": [],
   "source": [
    "languages_popularity_df.plot.line()\n",
    "s_surveys_data[\"2011\"][0]['top ten'].plot.line()"
   ]
  },
  {
   "cell_type": "code",
   "execution_count": null,
   "metadata": {
    "collapsed": false,
    "pycharm": {
     "name": "#%%\n"
    }
   },
   "outputs": [],
   "source": []
  }
 ],
 "metadata": {
  "kernelspec": {
   "display_name": "Python 3.8.10 ('mlDaSci')",
   "language": "python",
   "name": "python3"
  },
  "language_info": {
   "codemirror_mode": {
    "name": "ipython",
    "version": 3
   },
   "file_extension": ".py",
   "mimetype": "text/x-python",
   "name": "python",
   "nbconvert_exporter": "python",
   "pygments_lexer": "ipython3",
   "version": "3.9.13"
  },
  "pycharm": {
   "stem_cell": {
    "cell_type": "raw",
    "metadata": {
     "collapsed": false
    },
    "source": [
     "\n"
    ]
   }
  },
  "vscode": {
   "interpreter": {
    "hash": "bd277283790f13d3f1fcc8a68e9e3d35ea8b3a9d5fb7a50ad45fa2b22b824c41"
   }
  }
 },
 "nbformat": 4,
 "nbformat_minor": 0
}
