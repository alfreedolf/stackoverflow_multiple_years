{
 "cells": [
  {
   "cell_type": "markdown",
   "metadata": {
    "collapsed": true,
    "pycharm": {
     "name": "#%% md\n"
    }
   },
   "source": [
    "# Top 10 Languages Trends\n",
    "# Question N°2\n",
    "What are the trends in top 10 languages popularity over last 11 years?\n",
    "Now we can look at the trends, plotting data about top 5 languages."
   ]
  },
  {
   "cell_type": "markdown",
   "source": [
    "We can observe that these 10 languages are the most used languages over the 10 years of surveys:\n",
    "1. JavaScript\n",
    "2. PHP\n",
    "3. C#\n",
    "4. Java\n",
    "5. C++\n",
    "6. C\n",
    "7. Python\n",
    "8. TypeScript\n",
    "9. Objective-C\n",
    "10. Ruby"
   ],
   "metadata": {
    "collapsed": false
   }
  },
  {
   "cell_type": "code",
   "execution_count": 1,
   "outputs": [],
   "source": [
    "popular_languages = [\"JavaScript\", \"PHP\", \"C#\", \"Java\", \"C++\", \"C\", \"Python\", \"TypeScript\", \"Objective-C\", \"Ruby\"]"
   ],
   "metadata": {
    "collapsed": false,
    "pycharm": {
     "name": "#%%\n"
    }
   }
  },
  {
   "cell_type": "markdown",
   "source": [
    "## 5. Results Analysis\n",
    "For the purposes of this quesion,  previous CRISP-DM stages (Business Understanding, Data Understanding,\n",
    "Data Preparation and Data Modeling) can be reused, hence,\n",
    "I'll proceed with the results' analysis stage, delving into the analysis of results."
   ],
   "metadata": {
    "collapsed": false
   }
  },
  {
   "cell_type": "markdown",
   "source": [
    "First question: \"What languages were the most popular in each year?\""
   ],
   "metadata": {
    "collapsed": false
   }
  },
  {
   "cell_type": "markdown",
   "source": [
    "### Plotting the trends in top 10 languages throughout years\n",
    "Now I will plot the trend of languages popularity throughout years."
   ],
   "metadata": {
    "collapsed": false
   }
  },
  {
   "cell_type": "markdown",
   "source": [
    "Before plotting data, I need to make data ready to be plotted, so I will prepare a Dataframe </br>\n",
    "containing only top 10 languages' by popularity, throughout reference years."
   ],
   "metadata": {
    "collapsed": false
   }
  },
  {
   "cell_type": "code",
   "execution_count": 4,
   "outputs": [
    {
     "ename": "TypeError",
     "evalue": "get_10most_popular_languages_by_year() takes 2 positional arguments but 3 were given",
     "output_type": "error",
     "traceback": [
      "\u001B[0;31m---------------------------------------------------------------------------\u001B[0m",
      "\u001B[0;31mTypeError\u001B[0m                                 Traceback (most recent call last)",
      "\u001B[0;32m/tmp/ipykernel_106393/637498924.py\u001B[0m in \u001B[0;36m<module>\u001B[0;34m\u001B[0m\n\u001B[1;32m     23\u001B[0m \u001B[0;32mfrom\u001B[0m \u001B[0mpreparation\u001B[0m\u001B[0;34m.\u001B[0m\u001B[0mdata_load\u001B[0m \u001B[0;32mimport\u001B[0m \u001B[0mget_10most_popular_languages_by_year\u001B[0m\u001B[0;34m\u001B[0m\u001B[0;34m\u001B[0m\u001B[0m\n\u001B[1;32m     24\u001B[0m \u001B[0;34m\u001B[0m\u001B[0m\n\u001B[0;32m---> 25\u001B[0;31m \u001B[0mget_10most_popular_languages_by_year\u001B[0m\u001B[0;34m(\u001B[0m\u001B[0mlanguages_popularity_df\u001B[0m\u001B[0;34m,\u001B[0m \u001B[0ms_surveys_data\u001B[0m\u001B[0;34m,\u001B[0m \u001B[0mpopular_languages\u001B[0m\u001B[0;34m)\u001B[0m\u001B[0;34m\u001B[0m\u001B[0;34m\u001B[0m\u001B[0m\n\u001B[0m\u001B[1;32m     26\u001B[0m \u001B[0;34m\u001B[0m\u001B[0m\n\u001B[1;32m     27\u001B[0m \u001B[0;34m\u001B[0m\u001B[0m\n",
      "\u001B[0;31mTypeError\u001B[0m: get_10most_popular_languages_by_year() takes 2 positional arguments but 3 were given"
     ]
    }
   ],
   "source": [
    "import pandas as pd\n",
    "\n",
    "%store -r s_2011_proficiencies\n",
    "%store -r s_2012_proficiencies\n",
    "%store -r s_2013_proficiencies\n",
    "%store -r s_2014_proficiencies\n",
    "%store -r s_2015_proficiencies\n",
    "%store -r s_2016_proficiencies\n",
    "%store -r s_2017_proficiencies\n",
    "%store -r s_2018_proficiencies\n",
    "%store -r s_2019_proficiencies\n",
    "%store -r s_2020_proficiencies\n",
    "%store -r s_2021_proficiencies\n",
    "\n",
    "s_surveys_data = {\"2011\": s_2011_proficiencies, \"2012\": s_2012_proficiencies, \"2013\": s_2013_proficiencies,\n",
    "                  \"2014\": s_2014_proficiencies, \"2015\": s_2015_proficiencies, \"2016\": s_2016_proficiencies,\n",
    "                  \"2017\": s_2017_proficiencies, \"2018\": s_2018_proficiencies, \"2019\": s_2019_proficiencies,\n",
    "                  \"2020\": s_2020_proficiencies, \"2021\": s_2021_proficiencies}\n",
    "\n",
    "languages_popularity_df = pd.DataFrame(columns=popular_languages, index=s_surveys_data.keys())\n",
    "\n",
    "\n",
    "from preparation.data_load import get_10most_popular_languages_by_year\n",
    "\n",
    "get_10most_popular_languages_by_year(languages_popularity_df, s_surveys_data, popular_languages)\n"
   ],
   "metadata": {
    "collapsed": false,
    "pycharm": {
     "name": "#%%\n"
    }
   }
  },
  {
   "cell_type": "markdown",
   "source": [
    "Now I can plot data, but before that, for readability purposes, I'll set default matplotlib size."
   ],
   "metadata": {
    "collapsed": false
   }
  },
  {
   "cell_type": "code",
   "execution_count": null,
   "outputs": [],
   "source": [
    "import matplotlib.pyplot as plt\n",
    "\n",
    "print(\"Before, figure default size is: \", plt.rcParams[\"figure.figsize\"])\n",
    "plt.rcParams[\"figure.figsize\"] = (20, 10)\n",
    "print(\"After, figure default size is: \", plt.rcParams[\"figure.figsize\"])\n",
    "\n"
   ],
   "metadata": {
    "collapsed": false,
    "pycharm": {
     "name": "#%%\n"
    }
   }
  },
  {
   "cell_type": "code",
   "execution_count": null,
   "outputs": [],
   "source": [
    "languages_popularity_df.plot.line()\n"
   ],
   "metadata": {
    "collapsed": false,
    "pycharm": {
     "name": "#%%\n"
    }
   }
  },
  {
   "cell_type": "code",
   "execution_count": null,
   "outputs": [],
   "source": [],
   "metadata": {
    "collapsed": false,
    "pycharm": {
     "name": "#%%\n"
    }
   }
  }
 ],
 "metadata": {
  "kernelspec": {
   "display_name": "Python 3",
   "language": "python",
   "name": "python3"
  },
  "language_info": {
   "codemirror_mode": {
    "name": "ipython",
    "version": 2
   },
   "file_extension": ".py",
   "mimetype": "text/x-python",
   "name": "python",
   "nbconvert_exporter": "python",
   "pygments_lexer": "ipython2",
   "version": "2.7.6"
  },
  "pycharm": {
   "stem_cell": {
    "cell_type": "raw",
    "source": [
     "\n"
    ],
    "metadata": {
     "collapsed": false
    }
   }
  }
 },
 "nbformat": 4,
 "nbformat_minor": 0
}