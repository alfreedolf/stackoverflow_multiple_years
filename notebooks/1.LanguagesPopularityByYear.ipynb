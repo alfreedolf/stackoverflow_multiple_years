{
 "cells": [
  {
   "cell_type": "markdown",
   "metadata": {
    "pycharm": {
     "name": "#%% md\n"
    }
   },
   "source": [
    "# Languages Popularity by Year\n",
    "# Question N°1\n",
    "This notebook purpose is to answer the First Question: </br>\n",
    "<b><i>\"What languages were the most popular in each year?\"</i></b>\n"
   ]
  },
  {
   "cell_type": "markdown",
   "metadata": {
    "pycharm": {
     "name": "#%% md\n"
    }
   },
   "source": [
    "In order to do so, I would need previously loaded data about surveys."
   ]
  },
  {
   "cell_type": "code",
   "execution_count": null,
   "metadata": {
    "pycharm": {
     "name": "#%%\n"
    }
   },
   "outputs": [],
   "source": [
    "import pandas\n",
    "import pandas as pd\n",
    "df_surveys_11_to_22 = None\n",
    "%store -r df_surveys_11_to_22"
   ]
  },
  {
   "attachments": {},
   "cell_type": "markdown",
   "metadata": {
    "pycharm": {
     "name": "#%% md\n"
    }
   },
   "source": [
    "#### Features understanding\n",
    "I will use the following features to produce an answer\n",
    "to the question number 1 :\n",
    "\n",
    "2011. \"Which languages are you proficient in?\"(column 30) to \"Unnamed: 40\" (column 40)\n",
    "2012. \"Which languages are you proficient in?\" (column 22) to \"Unnamed: 34\" (column 34)\n",
    "2013. \"Which of the following languages or technologies have you used significantly in the past year?\" (column 56)\n",
    "to \"Unnamed: 68\" (column 68)\n",
    "2014. \"Which of the following languages or technologies have you used significantly in the past year?\" (column 42)\n",
    "to \"Unnamed: 52\" (column 52)\n",
    "2015. \"Current Lang & Tech <LanguageName>\" columns, (columns from 8 to 49), <LanguageName> would, most of the time,\n",
    "indicate a name of a programming language, sometimes including also more general technology names (e.g. Android).\n",
    "2016. \"tech_do\", \"tech_want\" (columns from 66 to 99)\n",
    "2017. \"HaveWorkedLanguage\", \"WantWorkLanguage\"\n",
    "2018. \"LanguageWorkedWith\", \"LanguageDesireNextYear\"\n",
    "2019. \"LanguageWorkedWith\", \"LanguageDesireNextYear\"\n",
    "2020. \"LanguageWorkedWith\", \"LanguageDesireNextYear\"\n",
    "2021. \"LanguageWorkedWith\", \"LanguageWantToWorkWith\"\n",
    "2022. \"LanguageWorkedWith\", \"LanguageWantToWorkWith\"\n",
    "\n",
    "Before this kind of analysis, it would be better to prepare the data.\n",
    "In order to do so, I will define Columns' Range of Interest in the first 5 dataframe, 2011 to 2015,\n",
    "where language proficiencies' features are already split into columns."
   ]
  },
  {
   "cell_type": "code",
   "execution_count": null,
   "metadata": {
    "pycharm": {
     "name": "#%%\n"
    }
   },
   "outputs": [],
   "source": [
    "# Language Proficiencies Columns' Range of Interest\n",
    "lang_prof_CROI_2011 = range(30, 41)\n",
    "lang_prof_CROI_2012 = range(22, 35)\n",
    "lang_prof_CROI_2013 = range(56, 69)\n",
    "lang_prof_CROI_2014 = range(42, 53)\n",
    "lang_prof_CROI_2015 = range(8, 50)\n",
    "lang_prof_CROI_2016 = range(66, 99)\n",
    "#lang_prof_CROI_2017 = range(66, 99)"
   ]
  },
  {
   "cell_type": "markdown",
   "metadata": {
    "pycharm": {
     "name": "#%% md\n"
    }
   },
   "source": [
    "## 3. Data Preparation"
   ]
  },
  {
   "cell_type": "markdown",
   "metadata": {
    "pycharm": {
     "name": "#%% md\n"
    }
   },
   "source": [
    "First, I already observed that:\n",
    "1. 2011 to 2014 data has a first non valid data row, containing \"Response\" as value,\n",
    "2. 2015 dataframe heading should be properly fixed:"
   ]
  },
  {
   "cell_type": "code",
   "execution_count": null,
   "metadata": {
    "pycharm": {
     "name": "#%%\n"
    }
   },
   "outputs": [],
   "source": [
    "from preparation.data_transform import drop_first_row\n",
    "# dropping first row in dataframes containing data from 2011 to 2014\n",
    "drop_first_row(df_surveys_11_to_22, 2011, 2014)\n"
   ]
  },
  {
   "cell_type": "markdown",
   "metadata": {
    "pycharm": {
     "name": "#%% md\n"
    }
   },
   "source": [
    "As said, 2015 data hasn't been correctly loaded, since the header doesn't contain valid feature names.\n",
    "Valid header data is actually in the first dataframe row.\n",
    "So, I will replace it properly:"
   ]
  },
  {
   "cell_type": "code",
   "execution_count": null,
   "metadata": {
    "pycharm": {
     "name": "#%%\n"
    }
   },
   "outputs": [],
   "source": [
    "new_2015_header = df_surveys_11_to_22[2015].iloc[0]\n",
    "df_surveys_11_to_22[2015] = df_surveys_11_to_22[2015][1:]\n",
    "df_surveys_11_to_22[2015].columns = new_2015_header"
   ]
  },
  {
   "cell_type": "markdown",
   "metadata": {
    "pycharm": {
     "name": "#%% md\n"
    }
   },
   "source": [
    "now I will cross-check the results:"
   ]
  },
  {
   "cell_type": "code",
   "execution_count": null,
   "metadata": {
    "pycharm": {
     "name": "#%%\n"
    }
   },
   "outputs": [],
   "source": [
    "df_surveys_11_to_22[2015].head(1)\n"
   ]
  },
  {
   "cell_type": "markdown",
   "metadata": {
    "pycharm": {
     "name": "#%% md\n"
    }
   },
   "source": [
    "Now I'll prepare data to be categorized, so that it could be better suited for analysis about first question <br/>\n",
    "(the categorization could be used for other questions too):\n"
   ]
  },
  {
   "cell_type": "code",
   "execution_count": null,
   "metadata": {
    "pycharm": {
     "name": "#%%\n"
    }
   },
   "outputs": [],
   "source": [
    "new_column_name_prefix = \"Proficient in\""
   ]
  },
  {
   "cell_type": "markdown",
   "metadata": {
    "pycharm": {
     "name": "#%% md\n"
    }
   },
   "source": [
    "Importing proper preparatory functions:"
   ]
  },
  {
   "cell_type": "code",
   "execution_count": null,
   "metadata": {
    "pycharm": {
     "name": "#%%\n"
    }
   },
   "outputs": [],
   "source": [
    "from preparation.data_transform import transform_unnamed_cols_base, feature_split"
   ]
  },
  {
   "cell_type": "markdown",
   "metadata": {
    "pycharm": {
     "name": "#%% md\n"
    }
   },
   "source": [
    "Preparing 2011 data:"
   ]
  },
  {
   "cell_type": "code",
   "execution_count": null,
   "metadata": {
    "collapsed": false,
    "pycharm": {
     "name": "#%%\n"
    }
   },
   "outputs": [],
   "source": [
    "from pathlib import Path\n",
    "import os\n",
    "path = Path(os.getcwd())"
   ]
  },
  {
   "cell_type": "code",
   "execution_count": null,
   "metadata": {
    "collapsed": false,
    "pycharm": {
     "name": "#%%\n"
    }
   },
   "outputs": [],
   "source": [
    "file_name = \"2011_results_prepared.csv\"\n",
    "complete_file_name = os.path.join(path, \"data\", file_name)"
   ]
  },
  {
   "cell_type": "code",
   "execution_count": null,
   "metadata": {
    "pycharm": {
     "name": "#%%\n"
    }
   },
   "outputs": [],
   "source": [
    "if os.path.isfile(complete_file_name):\n",
    "    df_surveys_11 = pd.read_csv(complete_file_name)\n",
    "else:\n",
    "    starting_column_name = \"Which languages are you proficient in?\"\n",
    "    df_surveys_11 = transform_unnamed_cols_base(df_surveys_11_to_22[2011], starting_column_name,\n",
    "                                                columns_look_ahead=len(lang_prof_CROI_2011),\n",
    "                                                new_column_name_prefix=new_column_name_prefix)\n",
    "    df_surveys_11.to_csv(complete_file_name)\n",
    "df_surveys_11.head(3)"
   ]
  },
  {
   "cell_type": "markdown",
   "metadata": {
    "pycharm": {
     "name": "#%% md\n"
    }
   },
   "source": [
    "the same procedure can be applied to 2012 survey data:"
   ]
  },
  {
   "cell_type": "code",
   "execution_count": null,
   "metadata": {
    "collapsed": false,
    "pycharm": {
     "name": "#%%\n"
    }
   },
   "outputs": [],
   "source": [
    "file_name = \"2012_results_prepared.csv\"\n",
    "complete_file_name = os.path.join(path, \"data\", file_name)"
   ]
  },
  {
   "cell_type": "code",
   "execution_count": null,
   "metadata": {
    "pycharm": {
     "name": "#%%\n"
    }
   },
   "outputs": [],
   "source": [
    "if os.path.isfile(complete_file_name):\n",
    "    df_surveys_12 = pd.read_csv(complete_file_name)\n",
    "else:\n",
    "    df_surveys_12 = transform_unnamed_cols_base(df_surveys_11_to_22[2012], starting_column_name,\n",
    "                                            columns_look_ahead=len(lang_prof_CROI_2012),\n",
    "                                            new_column_name_prefix=new_column_name_prefix)\n",
    "    df_surveys_12.to_csv(complete_file_name)\n",
    "df_surveys_12.head(3)"
   ]
  },
  {
   "cell_type": "markdown",
   "metadata": {
    "pycharm": {
     "name": "#%% md\n"
    }
   },
   "source": [
    "...to 2013 survey data:\n"
   ]
  },
  {
   "cell_type": "code",
   "execution_count": null,
   "metadata": {
    "collapsed": false,
    "pycharm": {
     "name": "#%%\n"
    }
   },
   "outputs": [],
   "source": [
    "file_name = \"2013_results_prepared.csv\"\n",
    "complete_file_name = os.path.join(path, \"data\", file_name)"
   ]
  },
  {
   "cell_type": "code",
   "execution_count": null,
   "metadata": {
    "pycharm": {
     "name": "#%%\n"
    }
   },
   "outputs": [],
   "source": [
    "if os.path.isfile(complete_file_name):\n",
    "    df_surveys_13 = pd.read_csv(complete_file_name)\n",
    "else:\n",
    "    starting_column_name = \"Which of the following languages or technologies have you used significantly in the past year?\"\n",
    "    df_surveys_13 = transform_unnamed_cols_base(df_surveys_11_to_22[2013], starting_column_name,\n",
    "                                            columns_look_ahead=len(lang_prof_CROI_2013),\n",
    "                                            new_column_name_prefix=new_column_name_prefix)\n",
    "    df_surveys_13.to_csv(complete_file_name)\n",
    "df_surveys_13.head(3)\n"
   ]
  },
  {
   "cell_type": "markdown",
   "metadata": {
    "pycharm": {
     "name": "#%% md\n"
    }
   },
   "source": [
    "...to 2014 survey data:\n"
   ]
  },
  {
   "cell_type": "code",
   "execution_count": null,
   "metadata": {
    "collapsed": false,
    "pycharm": {
     "name": "#%%\n"
    }
   },
   "outputs": [],
   "source": [
    "file_name = \"2014_results_prepared.csv\"\n",
    "complete_file_name = os.path.join(path, \"data\", file_name)"
   ]
  },
  {
   "cell_type": "code",
   "execution_count": null,
   "metadata": {
    "pycharm": {
     "name": "#%%\n"
    }
   },
   "outputs": [],
   "source": [
    "if os.path.isfile(complete_file_name):\n",
    "    df_surveys_14 = pd.read_csv(complete_file_name)\n",
    "else:\n",
    "    starting_column_name = \"Which of the following languages or technologies have you used significantly in the past year?\"\n",
    "    df_surveys_14 = transform_unnamed_cols_base(df_surveys_11_to_22[2014], starting_column_name,\n",
    "                                            columns_look_ahead=len(lang_prof_CROI_2014),\n",
    "                                            new_column_name_prefix=new_column_name_prefix)\n",
    "    df_surveys_14.to_csv(complete_file_name)\n",
    "df_surveys_14.head(3)"
   ]
  },
  {
   "cell_type": "markdown",
   "metadata": {
    "pycharm": {
     "name": "#%% md\n"
    }
   },
   "source": [
    "Now, knowing from exploration phase that 2015 dataset have a different features' layout,\n",
    "I'll use a specific function to prepare the data:"
   ]
  },
  {
   "cell_type": "code",
   "execution_count": null,
   "metadata": {
    "collapsed": false,
    "pycharm": {
     "name": "#%%\n"
    }
   },
   "outputs": [],
   "source": [
    "file_name = \"2015_results_prepared.csv\"\n",
    "complete_file_name = os.path.join(path, \"data\", file_name)"
   ]
  },
  {
   "cell_type": "code",
   "execution_count": null,
   "metadata": {
    "pycharm": {
     "name": "#%%\n"
    }
   },
   "outputs": [],
   "source": [
    "from preparation.data_transform import df_2015_survey_preprocessing\n",
    "if os.path.isfile(complete_file_name):\n",
    "    df_surveys_15 = pd.read_csv(complete_file_name)\n",
    "else:\n",
    "    df_surveys_15 = df_2015_survey_preprocessing(df_surveys_11_to_22[2015], lang_prof_CROI_2015)\n",
    "    df_surveys_15.to_csv(complete_file_name)\n",
    "df_surveys_15.head(3)"
   ]
  },
  {
   "cell_type": "markdown",
   "metadata": {
    "pycharm": {
     "name": "#%% md\n"
    }
   },
   "source": [
    "Data from 2016 survey (and successive) on have a different layout, hence it should be processed differently:\n",
    "from the fact that in the input dataframes all the feature categories sits in a single column separated by semicolons,\n",
    "this feature column must be split, in order to obtain a similar layout as in previously described dataframes:"
   ]
  },
  {
   "cell_type": "code",
   "execution_count": null,
   "metadata": {
    "collapsed": false,
    "pycharm": {
     "name": "#%%\n"
    }
   },
   "outputs": [],
   "source": [
    "file_name = \"2016_results_prepared.csv\"\n",
    "complete_file_name = os.path.join(path, \"data\", file_name)"
   ]
  },
  {
   "cell_type": "code",
   "execution_count": null,
   "metadata": {
    "pycharm": {
     "name": "#%%\n"
    }
   },
   "outputs": [],
   "source": [
    "if os.path.isfile(complete_file_name):\n",
    "    df_surveys_16 = pd.read_csv(complete_file_name)\n",
    "else:\n",
    "    df_surveys_16 = feature_split(df=df_surveys_11_to_22[2016], column_to_split=\"tech_do\", inplace=False)\n",
    "    df_surveys_16.to_csv(complete_file_name)\n",
    "df_surveys_16.head(3)"
   ]
  },
  {
   "cell_type": "markdown",
   "metadata": {
    "pycharm": {
     "name": "#%% md\n"
    }
   },
   "source": [
    "This process will also be applicable to 2017 data:"
   ]
  },
  {
   "cell_type": "code",
   "execution_count": null,
   "metadata": {
    "collapsed": false,
    "pycharm": {
     "name": "#%%\n"
    }
   },
   "outputs": [],
   "source": [
    "file_name = \"2017_results_prepared.csv\"\n",
    "complete_file_name = os.path.join(path, \"data\", file_name)"
   ]
  },
  {
   "cell_type": "code",
   "execution_count": null,
   "metadata": {
    "pycharm": {
     "name": "#%%\n"
    }
   },
   "outputs": [],
   "source": [
    "if os.path.isfile(complete_file_name):\n",
    "    df_surveys_17 = pd.read_csv(complete_file_name)\n",
    "else:\n",
    "    df_surveys_17 = feature_split(df=df_surveys_11_to_22[2017], column_to_split=\"HaveWorkedLanguage\", inplace=False)\n",
    "    df_surveys_17.to_csv(complete_file_name)\n",
    "df_surveys_17.head(3)"
   ]
  },
  {
   "cell_type": "markdown",
   "metadata": {
    "pycharm": {
     "name": "#%% md\n"
    }
   },
   "source": [
    "... 2018 data:"
   ]
  },
  {
   "cell_type": "code",
   "execution_count": null,
   "metadata": {
    "collapsed": false,
    "pycharm": {
     "name": "#%%\n"
    }
   },
   "outputs": [],
   "source": [
    "file_name = \"2018_results_prepared.csv\"\n",
    "complete_file_name = os.path.join(path, \"data\", file_name)"
   ]
  },
  {
   "cell_type": "code",
   "execution_count": null,
   "metadata": {
    "pycharm": {
     "name": "#%%\n"
    }
   },
   "outputs": [],
   "source": [
    "if os.path.isfile(complete_file_name):\n",
    "    df_surveys_18 = pd.read_csv(complete_file_name)\n",
    "else:\n",
    "    df_surveys_18 = feature_split(df=df_surveys_11_to_22[2018], column_to_split=\"LanguageWorkedWith\", inplace=False)\n",
    "    df_surveys_18.to_csv(complete_file_name)\n",
    "df_surveys_18.head(3)"
   ]
  },
  {
   "cell_type": "markdown",
   "metadata": {
    "pycharm": {
     "name": "#%% md\n"
    }
   },
   "source": [
    "... 2019 data:"
   ]
  },
  {
   "cell_type": "code",
   "execution_count": null,
   "metadata": {
    "collapsed": false,
    "pycharm": {
     "name": "#%%\n"
    }
   },
   "outputs": [],
   "source": [
    "file_name = \"2019_results_prepared.csv\"\n",
    "complete_file_name = os.path.join(path, \"data\", file_name)"
   ]
  },
  {
   "cell_type": "code",
   "execution_count": null,
   "metadata": {
    "pycharm": {
     "name": "#%%\n"
    }
   },
   "outputs": [],
   "source": [
    "if os.path.isfile(complete_file_name):\n",
    "    df_surveys_19 = pd.read_csv(complete_file_name)\n",
    "else:\n",
    "    df_surveys_19 = feature_split(df=df_surveys_11_to_22[2019], column_to_split=\"LanguageWorkedWith\", inplace=False)\n",
    "    df_surveys_19.to_csv(complete_file_name)\n",
    "df_surveys_19.head(3)"
   ]
  },
  {
   "cell_type": "markdown",
   "metadata": {
    "pycharm": {
     "name": "#%% md\n"
    }
   },
   "source": [
    "... 2020 data:"
   ]
  },
  {
   "cell_type": "code",
   "execution_count": null,
   "metadata": {
    "collapsed": false,
    "pycharm": {
     "name": "#%%\n"
    }
   },
   "outputs": [],
   "source": [
    "file_name = \"2020_results_prepared.csv\"\n",
    "complete_file_name = os.path.join(path, \"data\", file_name)"
   ]
  },
  {
   "cell_type": "code",
   "execution_count": null,
   "metadata": {
    "pycharm": {
     "name": "#%%\n"
    }
   },
   "outputs": [],
   "source": [
    "if os.path.isfile(complete_file_name):\n",
    "    df_surveys_20 = pd.read_csv(complete_file_name)\n",
    "else:\n",
    "    df_surveys_20 = feature_split(df=df_surveys_11_to_22[2020], column_to_split=\"LanguageWorkedWith\", inplace=False)\n",
    "    df_surveys_20.to_csv(complete_file_name)\n",
    "df_surveys_20.head(3)"
   ]
  },
  {
   "attachments": {},
   "cell_type": "markdown",
   "metadata": {
    "pycharm": {
     "name": "#%% md\n"
    }
   },
   "source": [
    "...2021 data:"
   ]
  },
  {
   "cell_type": "code",
   "execution_count": null,
   "metadata": {
    "collapsed": false,
    "pycharm": {
     "name": "#%%\n"
    }
   },
   "outputs": [],
   "source": [
    "file_name = \"2021_results_prepared.csv\"\n",
    "complete_file_name = os.path.join(path, \"data\", file_name)"
   ]
  },
  {
   "cell_type": "code",
   "execution_count": null,
   "metadata": {
    "pycharm": {
     "name": "#%%\n"
    }
   },
   "outputs": [],
   "source": [
    "if os.path.isfile(complete_file_name):\n",
    "    df_surveys_21 = pd.read_csv(complete_file_name)\n",
    "else:\n",
    "    df_surveys_21 = feature_split(df=df_surveys_11_to_22[2021], column_to_split=\"LanguageHaveWorkedWith\", inplace=False)\n",
    "    df_surveys_21.to_csv(complete_file_name)\n",
    "df_surveys_21.head()"
   ]
  },
  {
   "attachments": {},
   "cell_type": "markdown",
   "metadata": {},
   "source": [
    "... and 2022 data:"
   ]
  },
  {
   "cell_type": "code",
   "execution_count": null,
   "metadata": {
    "collapsed": false,
    "pycharm": {
     "name": "#%%\n"
    }
   },
   "outputs": [],
   "source": [
    "file_name = \"2022_results_prepared.csv\"\n",
    "complete_file_name = os.path.join(path, \"data\", file_name)"
   ]
  },
  {
   "cell_type": "code",
   "execution_count": null,
   "metadata": {
    "pycharm": {
     "name": "#%%\n"
    }
   },
   "outputs": [],
   "source": [
    "if os.path.isfile(complete_file_name):\n",
    "    df_surveys_22 = pd.read_csv(complete_file_name)\n",
    "else:\n",
    "    df_surveys_22 = feature_split(df=df_surveys_11_to_22[2022], column_to_split=\"LanguageHaveWorkedWith\", inplace=False)\n",
    "    df_surveys_22.to_csv(complete_file_name)\n",
    "df_surveys_22.head()"
   ]
  },
  {
   "cell_type": "markdown",
   "metadata": {
    "pycharm": {
     "name": "#%% md\n"
    }
   },
   "source": [
    "Now, results from modeling phase will be analyzed."
   ]
  },
  {
   "cell_type": "markdown",
   "metadata": {
    "pycharm": {
     "name": "#%% md\n"
    }
   },
   "source": [
    "## 5. Results Analysis\n",
    "In this section, I will analyze results. In order to do so, I'll compute language usage percentages for each reference year."
   ]
  },
  {
   "attachments": {},
   "cell_type": "markdown",
   "metadata": {},
   "source": [
    "### Analysis Criteria"
   ]
  },
  {
   "attachments": {},
   "cell_type": "markdown",
   "metadata": {},
   "source": [
    "As a general criterion, with the purpose of having an uncluttered view on the languages of widest adoption, I want to investigate only general-purpose programming languages, as opposed to domain-specific programming languages.\n",
    "Therefore, I will systematically exclude the latter from the analysis.\n",
    "This will leave out some very famous and widely used languages that may also be among the most popular overall. But I think it is more clear for the purpose of the analysis to do like this."
   ]
  },
  {
   "attachments": {},
   "cell_type": "markdown",
   "metadata": {
    "pycharm": {
     "name": "#%% md\n"
    }
   },
   "source": [
    "Before diving into the analysis, I need to do some plotting related instruction."
   ]
  },
  {
   "cell_type": "code",
   "execution_count": null,
   "metadata": {
    "pycharm": {
     "name": "#%%\n"
    }
   },
   "outputs": [],
   "source": [
    "\n",
    "# importing libraries for plotting and vectors manipulation\n",
    "import matplotlib.pyplot as plt"
   ]
  },
  {
   "cell_type": "code",
   "execution_count": null,
   "metadata": {
    "pycharm": {
     "name": "#%%\n"
    }
   },
   "outputs": [],
   "source": [
    "# setting figure size in matplotlib global parameters\n",
    "plt.rcParams[\"figure.figsize\"] = (20, 10)\n"
   ]
  },
  {
   "cell_type": "code",
   "execution_count": null,
   "metadata": {
    "pycharm": {
     "name": "#%%\n"
    }
   },
   "outputs": [],
   "source": [
    "# changing font of plot strings, for readability purposes\n",
    "font = {'weight': 'bold',\n",
    "        'size': 22}\n",
    "plt.rc('font', **font)"
   ]
  },
  {
   "cell_type": "markdown",
   "metadata": {
    "pycharm": {
     "name": "#%% md\n"
    }
   },
   "source": [
    "#### 2011 Results Analysis"
   ]
  },
  {
   "cell_type": "markdown",
   "metadata": {
    "collapsed": false,
    "pycharm": {
     "name": "#%% md\n"
    }
   },
   "source": [
    "Here I'll proceed to result analysis through data visualization.\n",
    "First I need to extract meaningful data from data dataframes:"
   ]
  },
  {
   "cell_type": "markdown",
   "metadata": {
    "collapsed": false,
    "pycharm": {
     "name": "#%% md\n"
    }
   },
   "source": []
  },
  {
   "cell_type": "code",
   "execution_count": null,
   "metadata": {
    "collapsed": false,
    "pycharm": {
     "name": "#%%\n"
    }
   },
   "outputs": [],
   "source": [
    "# slicing features columns containing language proficiencies data:\n",
    "proficiency_columns_range_2011 = range(30, 41)"
   ]
  },
  {
   "cell_type": "markdown",
   "metadata": {
    "collapsed": false,
    "pycharm": {
     "name": "#%% md\n"
    }
   },
   "source": [
    "In order to obtain popularity values, I have to compute cumulative count of proficiencies per language:"
   ]
  },
  {
   "cell_type": "code",
   "execution_count": null,
   "metadata": {
    "collapsed": false,
    "pycharm": {
     "name": "#%%\n"
    }
   },
   "outputs": [],
   "source": [
    "from preparation.data_stats import LanguagesRankingExtractor, LanguagesProficienciesPercentages\n",
    "\n",
    "# instantiating  a LanguagesStatsExtractor object\n",
    "lre_11 = LanguagesRankingExtractor(df_surveys_11, columns_selection_criteria=proficiency_columns_range_2011, prefix_to_remove='Proficient in ')\n",
    "# computing languages proficiency ranking in 2011\n",
    "s_2011_proficiencies_stats = lre_11.get_stats()"
   ]
  },
  {
   "cell_type": "code",
   "execution_count": null,
   "metadata": {
    "collapsed": false,
    "pycharm": {
     "name": "#%%\n"
    }
   },
   "outputs": [],
   "source": [
    "# having a look at top ten most popular languages in 2011\n",
    "s_2011_proficiencies_top_10 = s_2011_proficiencies_stats['top ten languages']\n",
    "s_2011_proficiencies_top_10"
   ]
  },
  {
   "attachments": {},
   "cell_type": "markdown",
   "metadata": {
    "collapsed": false,
    "pycharm": {
     "name": "#%% md\n"
    }
   },
   "source": [
    "Clearly, most used language in 2011 was SQL, followed by JavaScript and CSS.\n",
    "Anyway, to be fair, SQL and CSS are not General Purpose Programming Languages but Domain Specific Programming Languages.\n",
    "Then, JavaScript is actually the most popular language in 2011, followed by C#.\n",
    "Let's have a look to full ranking to see if there are other occurrences of \"non programming\" languages:"
   ]
  },
  {
   "cell_type": "code",
   "execution_count": null,
   "metadata": {
    "collapsed": false,
    "pycharm": {
     "name": "#%%\n"
    }
   },
   "outputs": [],
   "source": [
    "s_2011_proficiencies_stats[\"full ranking\"]"
   ]
  },
  {
   "cell_type": "markdown",
   "metadata": {
    "collapsed": false,
    "pycharm": {
     "name": "#%% md\n"
    }
   },
   "source": [
    "##### Computing top ten languages on clean data:\n",
    "Proficiencies from Clean Data"
   ]
  },
  {
   "cell_type": "code",
   "execution_count": null,
   "metadata": {
    "collapsed": false,
    "pycharm": {
     "name": "#%%\n"
    }
   },
   "outputs": [],
   "source": [
    "lre_11 = LanguagesRankingExtractor(df_surveys_11, columns_selection_criteria=proficiency_columns_range_2011, exclusion_list = [\"Proficient in SQL\", \"Proficient in CSS\"], prefix_to_remove='Proficient in ')\n",
    "s_2011_proficiencies_stats = lre_11.get_stats()"
   ]
  },
  {
   "cell_type": "code",
   "execution_count": null,
   "metadata": {},
   "outputs": [],
   "source": [
    "# having a look at top ten most popular languages in 2011\n",
    "s_2011_proficiencies_top_10 = s_2011_proficiencies_stats['top ten languages']\n",
    "s_2011_proficiencies_top_10"
   ]
  },
  {
   "cell_type": "markdown",
   "metadata": {
    "collapsed": false,
    "pycharm": {
     "name": "#%% md\n"
    }
   },
   "source": [
    "We can assess the language popularity in absolute terms computing total percentage of coders using that\n",
    "particular language:\n"
   ]
  },
  {
   "cell_type": "code",
   "execution_count": null,
   "metadata": {
    "collapsed": false,
    "pycharm": {
     "name": "#%%\n"
    }
   },
   "outputs": [],
   "source": [
    "# computing percentages\n",
    "lpp_11 = LanguagesProficienciesPercentages(lre_11)\n",
    "\n",
    "s_2011_proficiencies_percentages = lpp_11.get_stats()"
   ]
  },
  {
   "cell_type": "code",
   "execution_count": null,
   "metadata": {
    "collapsed": false,
    "pycharm": {
     "name": "#%%\n"
    }
   },
   "outputs": [],
   "source": [
    "# printing percentages about all languages\n",
    "s_2011_proficiencies_percentages['proficiency percentages']"
   ]
  },
  {
   "cell_type": "code",
   "execution_count": null,
   "metadata": {
    "collapsed": false,
    "pycharm": {
     "name": "#%%\n"
    }
   },
   "outputs": [],
   "source": [
    "# printing percentages about top ten languages\n",
    "s_2011_proficiencies_percentages['top ten proficiency percentages']"
   ]
  },
  {
   "cell_type": "markdown",
   "metadata": {
    "collapsed": false,
    "pycharm": {
     "name": "#%% md\n"
    }
   },
   "source": [
    "##### Histogram of most popular languages in 2011\n"
   ]
  },
  {
   "cell_type": "markdown",
   "metadata": {
    "collapsed": false,
    "pycharm": {
     "name": "#%% md\n"
    }
   },
   "source": [
    "###### Definition of Results Color Palette"
   ]
  },
  {
   "cell_type": "markdown",
   "metadata": {
    "collapsed": false,
    "pycharm": {
     "name": "#%% md\n"
    }
   },
   "source": [
    "Here I'll define a languages color palette, useful to keep same color throughout the different plots\n",
    "\n"
   ]
  },
  {
   "cell_type": "code",
   "execution_count": null,
   "metadata": {
    "collapsed": false,
    "pycharm": {
     "name": "#%%\n"
    }
   },
   "outputs": [],
   "source": [
    "languages_palette = {\n",
    "    'C':'yellow',\n",
    "    'C++':'orange',\n",
    "    'Python':'green',\n",
    "    'PHP':'purple',\n",
    "    'Ruby':'pink',\n",
    "    'JavaScript' : 'grey',\n",
    "    'C#' : 'blue',\n",
    "    'Java' : 'brown',\n",
    "    'Perl' : '#add8e6'\n",
    "    }\n"
   ]
  },
  {
   "cell_type": "code",
   "execution_count": null,
   "metadata": {
    "collapsed": false,
    "pycharm": {
     "name": "#%%\n"
    }
   },
   "outputs": [],
   "source": [
    "# importing a useful function to map languages to colors\n",
    "from preparation.utils import map_languages_to_color_list\n",
    "\n",
    "languages_palette_list = map_languages_to_color_list(languages_palette, s_2011_proficiencies_percentages['top ten proficiency percentages'])\n"
   ]
  },
  {
   "cell_type": "code",
   "execution_count": null,
   "metadata": {
    "collapsed": false,
    "pycharm": {
     "name": "#%%\n"
    }
   },
   "outputs": [],
   "source": [
    "# plotting data\n",
    "ax = s_2011_proficiencies_percentages['top ten proficiency percentages'].plot(kind=\"bar\", color=languages_palette_list)\n",
    "\n",
    "# annotating values on top of each bar, for readability\n",
    "for p in ax.patches:\n",
    "    ax.annotate(str(round(p.get_height(), 2)), (p.get_x() * 1.005, p.get_height() * 1.005))\n"
   ]
  },
  {
   "cell_type": "markdown",
   "metadata": {
    "collapsed": false,
    "pycharm": {
     "name": "#%% md\n"
    }
   },
   "source": [
    "Hence, 2011 top 5 ranking would be:\n",
    "1. JavaScript\n",
    "2. C#\n",
    "3. Java\n",
    "4. PHP\n",
    "5. C\n"
   ]
  },
  {
   "cell_type": "markdown",
   "metadata": {
    "collapsed": false,
    "pycharm": {
     "name": "#%% md\n"
    }
   },
   "source": [
    "#### 2012 Results Analysis\n",
    "Now I'll compute the answer to first question, referring to 2012 data:\n"
   ]
  },
  {
   "cell_type": "markdown",
   "metadata": {
    "collapsed": false,
    "pycharm": {
     "name": "#%% md\n"
    }
   },
   "source": [
    "##### Proficiencies from Raw Data\n",
    "Computing top ten languages on raw data:"
   ]
  },
  {
   "cell_type": "code",
   "execution_count": null,
   "metadata": {
    "collapsed": false,
    "pycharm": {
     "name": "#%%\n"
    }
   },
   "outputs": [],
   "source": [
    "proficiency_columns_range_2012 = range(22,35)\n",
    "\n",
    "# instantiating  a LanguagesStatsExtractor object\n",
    "lre_12 = LanguagesRankingExtractor(df_surveys_12, columns_selection_criteria=proficiency_columns_range_2012, prefix_to_remove='Proficient in ')\n",
    "# computing languages proficiency ranking in 2011\n",
    "s_2012_proficiencies_stats = lre_12.get_stats()"
   ]
  },
  {
   "cell_type": "code",
   "execution_count": null,
   "metadata": {
    "collapsed": false,
    "pycharm": {
     "name": "#%%\n"
    }
   },
   "outputs": [],
   "source": [
    "# having a look at top ten most popular languages in 2011\n",
    "s_2012_proficiencies_top_10 = s_2012_proficiencies_stats['top ten languages']\n",
    "s_2012_proficiencies_top_10"
   ]
  },
  {
   "cell_type": "markdown",
   "metadata": {
    "collapsed": false,
    "pycharm": {
     "name": "#%% md\n"
    }
   },
   "source": [
    "Since we observed a few \"non programming\" languages in our top ten, we'd better look at the full ranking in order to spot and eliminate all of this kind of occurrence from the data:"
   ]
  },
  {
   "cell_type": "code",
   "execution_count": null,
   "metadata": {
    "collapsed": false,
    "pycharm": {
     "name": "#%%\n"
    }
   },
   "outputs": [],
   "source": [
    "s_2012_proficiencies_stats[\"full ranking\"]"
   ]
  },
  {
   "cell_type": "markdown",
   "metadata": {
    "collapsed": false,
    "pycharm": {
     "name": "#%% md\n"
    }
   },
   "source": [
    "##### Proficiencies from Clean Data\n",
    "Computing top ten languages on clean data:"
   ]
  },
  {
   "cell_type": "markdown",
   "metadata": {
    "collapsed": false,
    "pycharm": {
     "name": "#%% md\n"
    }
   },
   "source": [
    "Again in top 10 we have SQL, CSS and HTML5 that are not programming languages and shall be removed from the top ten."
   ]
  },
  {
   "cell_type": "code",
   "execution_count": null,
   "metadata": {
    "collapsed": false,
    "pycharm": {
     "name": "#%%\n"
    }
   },
   "outputs": [],
   "source": [
    "# dropping SQL and CSS from results\n",
    "exclusion_list = [\"Proficient in SQL\", \"Proficient in CSS\"]\n",
    "# computing top ten languages by proficiency in 2012\n",
    "\n",
    "lre_12 = LanguagesRankingExtractor(df_surveys_12, columns_selection_criteria=proficiency_columns_range_2012, prefix_to_remove='Proficient in ', exclusion_list=exclusion_list)\n",
    "# computing languages proficiency ranking in 2012\n",
    "s_2012_proficiencies_stats = lre_12.get_stats()"
   ]
  },
  {
   "cell_type": "markdown",
   "metadata": {
    "collapsed": false,
    "pycharm": {
     "name": "#%% md\n"
    }
   },
   "source": [
    "Looking again at top proficiencies:"
   ]
  },
  {
   "cell_type": "code",
   "execution_count": null,
   "metadata": {
    "collapsed": false,
    "pycharm": {
     "name": "#%%\n"
    }
   },
   "outputs": [],
   "source": [
    "# having a look at top ten most popular languages in 2011\n",
    "s_2012_proficiencies_top_10 = s_2011_proficiencies_stats['top ten languages']\n",
    "s_2012_proficiencies_top_10"
   ]
  },
  {
   "cell_type": "markdown",
   "metadata": {
    "collapsed": false,
    "pycharm": {
     "name": "#%% md\n"
    }
   },
   "source": [
    "We can now assess the language popularity in absolute terms computing total percentage of coders using that\n",
    "particular language:\n"
   ]
  },
  {
   "cell_type": "code",
   "execution_count": null,
   "metadata": {
    "collapsed": false,
    "pycharm": {
     "name": "#%%\n"
    }
   },
   "outputs": [],
   "source": [
    "# computing percentages\n",
    "lpp_12 = LanguagesProficienciesPercentages(lre_12)\n",
    "\n",
    "s_2012_proficiencies_percentages = lpp_12.get_stats()"
   ]
  },
  {
   "cell_type": "code",
   "execution_count": null,
   "metadata": {
    "collapsed": false,
    "pycharm": {
     "name": "#%%\n"
    }
   },
   "outputs": [],
   "source": [
    "s_2012_proficiencies_percentages['proficiency percentages']"
   ]
  },
  {
   "cell_type": "code",
   "execution_count": null,
   "metadata": {
    "collapsed": false,
    "pycharm": {
     "name": "#%%\n"
    }
   },
   "outputs": [],
   "source": [
    "s_2012_proficiencies_percentages['top ten proficiency percentages']"
   ]
  },
  {
   "cell_type": "markdown",
   "metadata": {
    "collapsed": false,
    "pycharm": {
     "name": "#%% md\n"
    }
   },
   "source": [
    "##### Histogram of most popular languages in 2012"
   ]
  },
  {
   "cell_type": "markdown",
   "metadata": {
    "collapsed": false,
    "pycharm": {
     "name": "#%% md\n"
    }
   },
   "source": [
    "###### Color Palette integration"
   ]
  },
  {
   "cell_type": "markdown",
   "metadata": {
    "collapsed": false,
    "pycharm": {
     "name": "#%% md\n"
    }
   },
   "source": [
    "Now I'll add missing languages to palette dictionary:"
   ]
  },
  {
   "cell_type": "code",
   "execution_count": null,
   "metadata": {
    "collapsed": false,
    "pycharm": {
     "name": "#%%\n"
    }
   },
   "outputs": [],
   "source": [
    "languages_palette"
   ]
  },
  {
   "cell_type": "code",
   "execution_count": null,
   "metadata": {
    "collapsed": false,
    "pycharm": {
     "name": "#%%\n"
    }
   },
   "outputs": [],
   "source": [
    "languages_palette['Objective-C'] = \"#6699cc\""
   ]
  },
  {
   "cell_type": "markdown",
   "metadata": {
    "collapsed": false,
    "pycharm": {
     "name": "#%% md\n"
    }
   },
   "source": [
    "Mapping languages to related assigned color:\n"
   ]
  },
  {
   "cell_type": "code",
   "execution_count": null,
   "metadata": {
    "collapsed": false,
    "pycharm": {
     "name": "#%%\n"
    }
   },
   "outputs": [],
   "source": [
    "languages_palette_list = map_languages_to_color_list(languages_palette, s_2012_proficiencies_percentages['top ten proficiency percentages'])"
   ]
  },
  {
   "cell_type": "code",
   "execution_count": null,
   "metadata": {
    "collapsed": false,
    "pycharm": {
     "name": "#%%\n"
    }
   },
   "outputs": [],
   "source": [
    "# plotting data\n",
    "ax_12 = s_2012_proficiencies_percentages['top ten proficiency percentages'].plot.bar(color=languages_palette_list)\n",
    "# annotating values on top of each bar, for readability\n",
    "for p in ax_12.patches:\n",
    "    ax_12.annotate(str(round(p.get_height(), 2)), (p.get_x() * 1.005, p.get_height() * 1.005))"
   ]
  },
  {
   "cell_type": "markdown",
   "metadata": {
    "collapsed": false,
    "pycharm": {
     "name": "#%% md\n"
    }
   },
   "source": [
    "Top 5 languages in 2012 are:\n",
    "1. JavaScript\n",
    "2. C#\n",
    "3. Java\n",
    "4. PHP\n",
    "5. C++"
   ]
  },
  {
   "cell_type": "markdown",
   "metadata": {
    "collapsed": false,
    "pycharm": {
     "name": "#%% md\n"
    }
   },
   "source": [
    "Three main facts can be noted from this year results analysis:\n",
    "1. C++ just overtook its \"father\" language C at 5th place\n",
    "2. C# is not as popular as it was in 2011 respect to JavaScript\n",
    "3. Objective-C has gained its first top ten appearance"
   ]
  },
  {
   "cell_type": "markdown",
   "metadata": {
    "pycharm": {
     "name": "#%% md\n"
    }
   },
   "source": [
    "#### 2013 Results Analysis\n",
    "Now I'll compute the answer to first question, referring to 2013 data:"
   ]
  },
  {
   "cell_type": "code",
   "execution_count": null,
   "metadata": {
    "pycharm": {
     "name": "#%%\n"
    }
   },
   "outputs": [],
   "source": [
    "proficiency_columns_range_2013 = range(56,69)\n",
    "\n",
    "# instantiating  a LanguagesStatsExtractor object\n",
    "lre_13 = LanguagesRankingExtractor(df_surveys_13, columns_selection_criteria=proficiency_columns_range_2013, prefix_to_remove='Proficient in ')\n",
    "# computing languages proficiency ranking in 2013\n",
    "s_2013_proficiencies_stats = lre_13.get_stats()\n"
   ]
  },
  {
   "cell_type": "markdown",
   "metadata": {
    "collapsed": false,
    "pycharm": {
     "name": "#%% md\n"
    }
   },
   "source": [
    "Looking at top ten languages in 2013"
   ]
  },
  {
   "cell_type": "code",
   "execution_count": null,
   "metadata": {
    "collapsed": false,
    "pycharm": {
     "name": "#%%\n"
    }
   },
   "outputs": [],
   "source": [
    "# having a look at top ten most popular languages in 2013\n",
    "s_2013_proficiencies_top_10 = s_2013_proficiencies_stats['top ten languages']\n",
    "s_2013_proficiencies_top_10"
   ]
  },
  {
   "cell_type": "code",
   "execution_count": null,
   "metadata": {
    "collapsed": false,
    "pycharm": {
     "name": "#%%\n"
    }
   },
   "outputs": [],
   "source": [
    "s_2013_proficiencies_stats[\"full ranking\"]"
   ]
  },
  {
   "cell_type": "markdown",
   "metadata": {
    "collapsed": false,
    "pycharm": {
     "name": "#%% md\n"
    }
   },
   "source": [
    "I have to merge jQuery (which is actually a library) and Node.js to JavaScript,\n",
    "in order to have a clean view on data:"
   ]
  },
  {
   "cell_type": "code",
   "execution_count": null,
   "metadata": {
    "collapsed": false,
    "pycharm": {
     "name": "#%%\n"
    }
   },
   "outputs": [],
   "source": [
    "# merge list\n",
    "entries_merge_list = [(\"JavaScript\", \"jQuery\"), (\"JavaScript\", \"Node.js\"), (\"JavaScript\", \"JQuery\")]\n",
    "# instantiating  a LanguagesStatsExtractor object\n",
    "lre_13 = LanguagesRankingExtractor(df_surveys_13, columns_selection_criteria=lang_prof_CROI_2013, prefix_to_remove='Proficient in ', entries_merge_list=entries_merge_list)\n",
    "# computing languages proficiency ranking in 2013\n",
    "s_2013_proficiencies_stats = lre_13.get_stats()"
   ]
  },
  {
   "cell_type": "markdown",
   "metadata": {
    "collapsed": false,
    "pycharm": {
     "name": "#%% md\n"
    }
   },
   "source": [
    "Looking at clean top ten data from 2013:"
   ]
  },
  {
   "cell_type": "code",
   "execution_count": null,
   "metadata": {
    "collapsed": false,
    "pycharm": {
     "name": "#%%\n"
    }
   },
   "outputs": [],
   "source": [
    "# having a look at top ten most popular languages in 2013\n",
    "s_2013_proficiencies_top_10 = s_2013_proficiencies_stats['top ten languages']\n",
    "s_2013_proficiencies_top_10"
   ]
  },
  {
   "cell_type": "markdown",
   "metadata": {
    "collapsed": false,
    "pycharm": {
     "name": "#%% md\n"
    }
   },
   "source": [
    "We can assess the language popularity in absolute terms computing total percentage of coders using that\n",
    "particular language:\n"
   ]
  },
  {
   "cell_type": "code",
   "execution_count": null,
   "metadata": {
    "collapsed": false,
    "pycharm": {
     "name": "#%%\n"
    }
   },
   "outputs": [],
   "source": [
    "# computing percentages\n",
    "lpp_13 = LanguagesProficienciesPercentages(lre_13)\n",
    "\n",
    "s_2013_proficiencies_percentages = lpp_13.get_stats()"
   ]
  },
  {
   "cell_type": "code",
   "execution_count": null,
   "metadata": {
    "collapsed": false,
    "pycharm": {
     "name": "#%%\n"
    }
   },
   "outputs": [],
   "source": [
    "s_2013_proficiencies_percentages['proficiency percentages']"
   ]
  },
  {
   "cell_type": "code",
   "execution_count": null,
   "metadata": {
    "collapsed": false,
    "pycharm": {
     "name": "#%%\n"
    }
   },
   "outputs": [],
   "source": [
    "s_2013_proficiencies_percentages['top ten proficiency percentages']"
   ]
  },
  {
   "cell_type": "markdown",
   "metadata": {
    "pycharm": {
     "is_executing": true,
     "name": "#%% md\n"
    }
   },
   "source": [
    "Mapping languages to related assigned color:\n"
   ]
  },
  {
   "cell_type": "code",
   "execution_count": null,
   "metadata": {
    "collapsed": false,
    "pycharm": {
     "name": "#%%\n"
    }
   },
   "outputs": [],
   "source": [
    "languages_palette_list = map_languages_to_color_list(languages_palette, s_2013_proficiencies_percentages['top ten proficiency percentages'])"
   ]
  },
  {
   "cell_type": "markdown",
   "metadata": {
    "collapsed": false,
    "pycharm": {
     "name": "#%% md\n"
    }
   },
   "source": [
    "### Histogram of most popular languages in 2013"
   ]
  },
  {
   "cell_type": "code",
   "execution_count": null,
   "metadata": {
    "collapsed": false,
    "pycharm": {
     "name": "#%%\n"
    }
   },
   "outputs": [],
   "source": [
    "# plotting data\n",
    "\n",
    "ax_13 = s_2013_proficiencies_percentages['top ten proficiency percentages'].plot.bar(color=languages_palette_list)\n",
    "# annotating values on top of each bar, for readability\n",
    "for p in ax_13.patches:\n",
    "    ax_13.annotate(str(round(p.get_height(), 2)), (p.get_x() * 1.005, p.get_height() * 1.005))"
   ]
  },
  {
   "cell_type": "markdown",
   "metadata": {
    "pycharm": {
     "name": "#%% md\n"
    }
   },
   "source": [
    "Top 5 languages in 2013: <br>\n",
    "1. JavaScript\n",
    "2. C#\n",
    "3. Java\n",
    "4. PHP\n",
    "5. Python <br>"
   ]
  },
  {
   "cell_type": "markdown",
   "metadata": {
    "collapsed": false,
    "pycharm": {
     "name": "#%% md\n"
    }
   },
   "source": [
    "Once more, in 2013 JavaScript was the most used language. Considering jQuery and Node.js as additional JavaScript proficiencies, about half of the respondents knows JavaScript. Following (but not so close) we can find C# and Java <br> (they're almost tied)."
   ]
  },
  {
   "cell_type": "markdown",
   "metadata": {
    "pycharm": {
     "name": "#%% md\n"
    }
   },
   "source": [
    "#### 2014 Results Analysis\n",
    "Now I'll compute the answer to first question, referring to 2014 data:\n"
   ]
  },
  {
   "cell_type": "code",
   "execution_count": null,
   "metadata": {
    "pycharm": {
     "name": "#%%\n"
    }
   },
   "outputs": [],
   "source": [
    "proficiency_columns_range_2014 = range(42,53)\n",
    "\n",
    "# instantiating  a LanguagesStatsExtractor object\n",
    "lre_14 = LanguagesRankingExtractor(df_surveys_14, columns_selection_criteria=proficiency_columns_range_2014, prefix_to_remove='Proficient in ')\n",
    "# computing languages proficiency ranking in 2014\n",
    "s_2014_proficiencies_stats = lre_14.get_stats()"
   ]
  },
  {
   "cell_type": "code",
   "execution_count": null,
   "metadata": {
    "collapsed": false,
    "pycharm": {
     "name": "#%%\n"
    }
   },
   "outputs": [],
   "source": [
    "# having a look at top ten most popular languages in 2013\n",
    "s_2014_proficiencies_top_10 = s_2014_proficiencies_stats['top ten languages']\n",
    "s_2014_proficiencies_top_10"
   ]
  },
  {
   "cell_type": "markdown",
   "metadata": {
    "collapsed": false,
    "pycharm": {
     "name": "#%% md\n"
    }
   },
   "source": [
    "Clearly, SQL and Node.js should be removed/merged with other entries. Let's have a look at full ranking before populating exclusion list."
   ]
  },
  {
   "cell_type": "code",
   "execution_count": null,
   "metadata": {
    "collapsed": false,
    "pycharm": {
     "name": "#%%\n"
    }
   },
   "outputs": [],
   "source": [
    "s_2014_proficiencies_stats['full ranking']"
   ]
  },
  {
   "cell_type": "code",
   "execution_count": null,
   "metadata": {
    "collapsed": false,
    "pycharm": {
     "name": "#%%\n"
    }
   },
   "outputs": [],
   "source": [
    "entries_merge_list = [('JavaScript', 'Node.js')]"
   ]
  },
  {
   "cell_type": "code",
   "execution_count": null,
   "metadata": {
    "collapsed": false,
    "pycharm": {
     "name": "#%%\n"
    }
   },
   "outputs": [],
   "source": [
    "exclusion_list = ['Proficient in SQL']"
   ]
  },
  {
   "cell_type": "code",
   "execution_count": null,
   "metadata": {
    "collapsed": false,
    "pycharm": {
     "name": "#%%\n"
    }
   },
   "outputs": [],
   "source": [
    "# computing top ten languages by proficiency in 2013\n",
    "# instantiating  a LanguagesStatsExtractor object\n",
    "\n",
    "\n",
    "lre_14 = LanguagesRankingExtractor(df_surveys_14, columns_selection_criteria=proficiency_columns_range_2014, prefix_to_remove='Proficient in ', exclusion_list=exclusion_list, entries_merge_list=entries_merge_list)\n",
    "# computing languages proficiency ranking in 2014\n",
    "s_2014_proficiencies_stats = lre_14.get_stats()"
   ]
  },
  {
   "cell_type": "code",
   "execution_count": null,
   "metadata": {
    "collapsed": false,
    "pycharm": {
     "name": "#%%\n"
    }
   },
   "outputs": [],
   "source": [
    "# having a look at top ten most popular languages in 2014\n",
    "s_2014_proficiencies_stats['top ten languages']"
   ]
  },
  {
   "cell_type": "markdown",
   "metadata": {
    "collapsed": false,
    "pycharm": {
     "name": "#%% md\n"
    }
   },
   "source": [
    "We can assess the language popularity in absolute terms computing total percentage of coders using that\n",
    "particular language:\n"
   ]
  },
  {
   "cell_type": "code",
   "execution_count": null,
   "metadata": {
    "collapsed": false,
    "pycharm": {
     "name": "#%%\n"
    }
   },
   "outputs": [],
   "source": [
    "# computing percentages\n",
    "lpp_14 = LanguagesProficienciesPercentages(lre_14)\n",
    "\n",
    "s_2014_proficiencies_percentages = lpp_14.get_stats()"
   ]
  },
  {
   "cell_type": "code",
   "execution_count": null,
   "metadata": {
    "collapsed": false,
    "pycharm": {
     "name": "#%%\n"
    }
   },
   "outputs": [],
   "source": [
    "s_2014_proficiencies_percentages['proficiency percentages']"
   ]
  },
  {
   "cell_type": "code",
   "execution_count": null,
   "metadata": {
    "collapsed": false,
    "pycharm": {
     "name": "#%%\n"
    }
   },
   "outputs": [],
   "source": [
    "s_2014_proficiencies_percentages['top ten proficiency percentages']"
   ]
  },
  {
   "cell_type": "markdown",
   "metadata": {
    "collapsed": false,
    "pycharm": {
     "name": "#%% md\n"
    }
   },
   "source": [
    "Mapping languages to related assigned color:\n"
   ]
  },
  {
   "cell_type": "code",
   "execution_count": null,
   "metadata": {
    "collapsed": false,
    "pycharm": {
     "name": "#%%\n"
    }
   },
   "outputs": [],
   "source": [
    "languages_palette_list = map_languages_to_color_list(languages_palette, s_2014_proficiencies_percentages['top ten proficiency percentages'])"
   ]
  },
  {
   "cell_type": "markdown",
   "metadata": {
    "collapsed": false,
    "pycharm": {
     "name": "#%% md\n"
    }
   },
   "source": [
    "### Histogram of most popular languages in 2014"
   ]
  },
  {
   "cell_type": "code",
   "execution_count": null,
   "metadata": {
    "collapsed": false,
    "pycharm": {
     "name": "#%%\n"
    }
   },
   "outputs": [],
   "source": [
    "# plotting data\n",
    "\n",
    "ax_14 = s_2014_proficiencies_percentages['top ten proficiency percentages'].plot.bar(color=languages_palette_list)\n",
    "# annotating values on top of each bar, for readability\n",
    "for p in ax_14.patches:\n",
    "    ax_14.annotate(str(round(p.get_height(), 2)), (p.get_x() * 1.005, p.get_height() * 1.005))\n"
   ]
  },
  {
   "cell_type": "markdown",
   "metadata": {
    "pycharm": {
     "name": "#%% md\n"
    }
   },
   "source": [
    "Top 5 languages in 2014: <br>\n",
    "1. JavaScript\n",
    "2. Java\n",
    "3. C#\n",
    "4. PHP\n",
    "5. Python"
   ]
  },
  {
   "cell_type": "markdown",
   "metadata": {
    "pycharm": {
     "name": "#%% md\n"
    }
   },
   "source": [
    "#### 2015 Results Analysis\n",
    "Now I'll compute the answer to first question, referring to 2015 data:"
   ]
  },
  {
   "cell_type": "code",
   "execution_count": null,
   "metadata": {
    "pycharm": {
     "name": "#%%\n"
    }
   },
   "outputs": [],
   "source": [
    "# instantiating  a LanguagesStatsExtractor object\n",
    "lre_15 = LanguagesRankingExtractor(df_surveys_15, columns_selection_criteria=lang_prof_CROI_2015, prefix_to_remove='Current Lang & Tech: ')\n",
    "# computing languages proficiency ranking in 2013\n",
    "s_2015_proficiencies_stats = lre_15.get_stats()"
   ]
  },
  {
   "cell_type": "code",
   "execution_count": null,
   "metadata": {
    "collapsed": false,
    "pycharm": {
     "name": "#%%\n"
    }
   },
   "outputs": [],
   "source": [
    "# having a look at top ten most popular languages in 2015\n",
    "s_2015_proficiencies_top_10 = s_2015_proficiencies_stats['top ten languages']\n",
    "s_2015_proficiencies_top_10"
   ]
  },
  {
   "cell_type": "markdown",
   "metadata": {
    "collapsed": false,
    "pycharm": {
     "name": "#%% md\n"
    }
   },
   "source": [
    "SQL, SQL Server and Android are not programming languages  and have to be excluded from computations:"
   ]
  },
  {
   "cell_type": "markdown",
   "metadata": {
    "collapsed": false,
    "pycharm": {
     "name": "#%% md\n"
    }
   },
   "source": [
    "From the moment we may have other non-languages involved, let's have a look at full ranking before compiling exclusion list:"
   ]
  },
  {
   "cell_type": "code",
   "execution_count": null,
   "metadata": {
    "collapsed": false,
    "pycharm": {
     "name": "#%%\n"
    }
   },
   "outputs": [],
   "source": [
    "s_2015_proficiencies_stats['full ranking']"
   ]
  },
  {
   "cell_type": "code",
   "execution_count": null,
   "metadata": {
    "collapsed": false,
    "pycharm": {
     "name": "#%%\n"
    }
   },
   "outputs": [],
   "source": [
    "exclusion_list = [\"Current Lang & Tech: SQL\", \"Current Lang & Tech: SQL Server\", \"Current Lang & Tech: Android\",\n",
    "                  \"Current Lang & Tech: iOS\", \"Current Lang & Tech: LAMP\", \"Current Lang & Tech: C++11\", \"Current Lang & Tech: MongoDB\",\n",
    "                  \"Current Lang & Tech: Arduino\", \"Current Lang & Tech: Cloud\", \"Current Lang & Tech: Redis\", \"Current Lang & Tech: Cordova\",\n",
    "                  \"Current Lang & Tech: Windows Phone\", \"Current Lang & Tech: Sharepoint\", \"Current Lang & Tech: Hadoop\", \"Current Lang & Tech: Cassandra\",\n",
    "                  \"Current Lang & Tech: Salesforce\", \"Current Lang & Tech: Spark\"]\n",
    "\n",
    "entries_merge_list = [(\"JavaScript\", \"Node.js\"), (\"JavaScript\", \"AngularJS\")]"
   ]
  },
  {
   "cell_type": "code",
   "execution_count": null,
   "metadata": {
    "collapsed": false,
    "pycharm": {
     "name": "#%%\n"
    }
   },
   "outputs": [],
   "source": [
    "# instantiating  a LanguagesStatsExtractor object\n",
    "lre_15 = LanguagesRankingExtractor(df_surveys_15, columns_selection_criteria=lang_prof_CROI_2015, exclusion_list=exclusion_list, prefix_to_remove='Current Lang & Tech: ', entries_merge_list=entries_merge_list)\n",
    "# computing languages proficiency ranking in 2013\n",
    "s_2015_proficiencies_stats = lre_15.get_stats()"
   ]
  },
  {
   "cell_type": "code",
   "execution_count": null,
   "metadata": {
    "collapsed": false,
    "pycharm": {
     "name": "#%%\n"
    }
   },
   "outputs": [],
   "source": [
    "# having a look at top ten most popular languages in 2015\n",
    "s_2015_proficiencies_top_10 = s_2015_proficiencies_stats['top ten languages']\n",
    "s_2015_proficiencies_top_10"
   ]
  },
  {
   "cell_type": "markdown",
   "metadata": {
    "collapsed": false,
    "pycharm": {
     "name": "#%% md\n"
    }
   },
   "source": [
    "We can now assess the language popularity in absolute terms computing total percentage\n",
    "of coders using that particular language:"
   ]
  },
  {
   "cell_type": "code",
   "execution_count": null,
   "metadata": {
    "collapsed": false,
    "pycharm": {
     "name": "#%%\n"
    }
   },
   "outputs": [],
   "source": [
    "# computing percentages\n",
    "lpp_15 = LanguagesProficienciesPercentages(lre_15)\n",
    "\n",
    "s_2015_proficiencies_percentages = lpp_15.get_stats()"
   ]
  },
  {
   "cell_type": "code",
   "execution_count": null,
   "metadata": {
    "collapsed": false,
    "pycharm": {
     "name": "#%%\n"
    }
   },
   "outputs": [],
   "source": [
    "s_2015_proficiencies_percentages['proficiency percentages']"
   ]
  },
  {
   "cell_type": "code",
   "execution_count": null,
   "metadata": {
    "collapsed": false,
    "pycharm": {
     "name": "#%%\n"
    }
   },
   "outputs": [],
   "source": [
    "s_2015_proficiencies_percentages['top ten proficiency percentages']"
   ]
  },
  {
   "cell_type": "markdown",
   "metadata": {
    "collapsed": false,
    "pycharm": {
     "name": "#%% md\n"
    }
   },
   "source": [
    "### Histogram of most popular languages in 2015"
   ]
  },
  {
   "cell_type": "markdown",
   "metadata": {
    "collapsed": false,
    "pycharm": {
     "name": "#%% md\n"
    }
   },
   "source": [
    "Mapping languages to related assigned color:\n"
   ]
  },
  {
   "cell_type": "code",
   "execution_count": null,
   "metadata": {
    "collapsed": false,
    "pycharm": {
     "name": "#%%\n"
    }
   },
   "outputs": [],
   "source": [
    "# Savoy Blue\n",
    "languages_palette['Visual Basic'] = \"#0A36AF\""
   ]
  },
  {
   "cell_type": "code",
   "execution_count": null,
   "metadata": {
    "collapsed": false,
    "pycharm": {
     "name": "#%%\n"
    }
   },
   "outputs": [],
   "source": [
    "languages_palette_list = map_languages_to_color_list(languages_palette, s_2015_proficiencies_percentages['top ten proficiency percentages'])"
   ]
  },
  {
   "cell_type": "code",
   "execution_count": null,
   "metadata": {
    "collapsed": false,
    "pycharm": {
     "name": "#%%\n"
    }
   },
   "outputs": [],
   "source": [
    "# plotting data\n",
    "ax_15 = s_2015_proficiencies_percentages['top ten proficiency percentages'].plot.bar(color=languages_palette_list)\n",
    "# annotating values on top of each bar, for readability\n",
    "for p in ax_15.patches:\n",
    "    ax_15.annotate(str(round(p.get_height(), 2)), (p.get_x() * 1.005, p.get_height() * 1.005))"
   ]
  },
  {
   "cell_type": "markdown",
   "metadata": {
    "pycharm": {
     "name": "#%% md\n"
    }
   },
   "source": [
    "Top 5 languages in 2015: <br>\n",
    "1. JavaScript\n",
    "2. Java\n",
    "3. C#\n",
    "4. PHP\n",
    "5. Python\n",
    "\n"
   ]
  },
  {
   "cell_type": "markdown",
   "metadata": {
    "collapsed": false,
    "pycharm": {
     "name": "#%% md\n"
    }
   },
   "source": [
    "Top 5 languages standings, in 2015 was unchanged respect to 2014."
   ]
  },
  {
   "cell_type": "markdown",
   "metadata": {
    "pycharm": {
     "name": "#%% md\n"
    }
   },
   "source": [
    "#### 2016 Results Analysis\n",
    "Now I'll compute the answer to first question, referring to 2016 data:\n"
   ]
  },
  {
   "cell_type": "code",
   "execution_count": null,
   "metadata": {
    "pycharm": {
     "name": "#%%\n"
    }
   },
   "outputs": [],
   "source": [
    "# instantiating  a LanguagesStatsExtractor object\n",
    "lre_16 = LanguagesRankingExtractor(df_surveys_16, columns_selection_criteria=lang_prof_CROI_2016, prefix_to_remove='tech_do: ')\n",
    "\n",
    "# computing languages proficiency ranking in 2013\n",
    "s_2016_proficiencies_stats = lre_16.get_stats()"
   ]
  },
  {
   "cell_type": "code",
   "execution_count": null,
   "metadata": {
    "collapsed": false,
    "pycharm": {
     "name": "#%%\n"
    }
   },
   "outputs": [],
   "source": [
    "s_2016_proficiencies_stats['top ten languages']"
   ]
  },
  {
   "cell_type": "markdown",
   "metadata": {
    "collapsed": false,
    "pycharm": {
     "name": "#%% md\n"
    }
   },
   "source": [
    "[AngularJS](https://en.wikipedia.org/wiki/AngularJS) and [Node.js](https://en.wikipedia.org/wiki/Node.js) are JavaScript-based framework, hence, it should be merged with JavaScript. Let's have a look at full ranking before proceeding to data cleaning parameters initialization:"
   ]
  },
  {
   "cell_type": "code",
   "execution_count": null,
   "metadata": {
    "collapsed": false,
    "pycharm": {
     "name": "#%%\n"
    }
   },
   "outputs": [],
   "source": [
    "s_2016_proficiencies_stats['full ranking']"
   ]
  },
  {
   "cell_type": "code",
   "execution_count": null,
   "metadata": {
    "collapsed": false,
    "pycharm": {
     "name": "#%%\n"
    }
   },
   "outputs": [],
   "source": [
    "exclusion_list = [\"tech_do: LAMP\", \"tech_do: MongoDB\", \"tech_do: Cloud (AWS, GAE, Azure, etc.)\", \"tech_do: iOS\", \"tech_do: Arduino / Raspberry Pi\",\n",
    "                  \"tech_do: Redis\", \"tech_do: Cordova\", \"tech_do: Hadoop\", \"tech_do: Salesforce\", \"tech_do: Cassandra\", \"tech_do: Android\"]\n",
    "entries_merge_list = [(\"JavaScript\", \"AngularJS\"), (\"JavaScript\", \"Node.js\"), (\"JavaScript\", \"ReactJS\")]"
   ]
  },
  {
   "cell_type": "code",
   "execution_count": null,
   "metadata": {
    "collapsed": false,
    "pycharm": {
     "name": "#%%\n"
    }
   },
   "outputs": [],
   "source": [
    "lre_16 = LanguagesRankingExtractor(df_surveys_16, columns_selection_criteria=lang_prof_CROI_2016, prefix_to_remove='tech_do: ', exclusion_list= exclusion_list, entries_merge_list=entries_merge_list)"
   ]
  },
  {
   "cell_type": "code",
   "execution_count": null,
   "metadata": {
    "collapsed": false,
    "pycharm": {
     "name": "#%%\n"
    }
   },
   "outputs": [],
   "source": [
    "s_2016_proficiencies_stats = lre_16.get_stats()"
   ]
  },
  {
   "cell_type": "code",
   "execution_count": null,
   "metadata": {
    "collapsed": false,
    "pycharm": {
     "name": "#%%\n"
    }
   },
   "outputs": [],
   "source": [
    "s_2016_proficiencies_stats['top ten languages']"
   ]
  },
  {
   "cell_type": "markdown",
   "metadata": {
    "collapsed": false,
    "pycharm": {
     "name": "#%% md\n"
    }
   },
   "source": [
    "We can now assess the language popularity in absolute terms computing total percentage\n",
    "of coders using that particular language:"
   ]
  },
  {
   "cell_type": "code",
   "execution_count": null,
   "metadata": {
    "collapsed": false,
    "pycharm": {
     "name": "#%%\n"
    }
   },
   "outputs": [],
   "source": [
    "# computing percentages\n",
    "lpp_16 = LanguagesProficienciesPercentages(lre_16)\n",
    "\n",
    "s_2016_proficiencies_percentages = lpp_16.get_stats()"
   ]
  },
  {
   "cell_type": "code",
   "execution_count": null,
   "metadata": {
    "collapsed": false,
    "pycharm": {
     "name": "#%%\n"
    }
   },
   "outputs": [],
   "source": [
    "s_2016_proficiencies_percentages['proficiency percentages']"
   ]
  },
  {
   "cell_type": "code",
   "execution_count": null,
   "metadata": {
    "collapsed": false,
    "pycharm": {
     "name": "#%%\n"
    }
   },
   "outputs": [],
   "source": [
    "s_2016_proficiencies_percentages['top ten proficiency percentages']"
   ]
  },
  {
   "cell_type": "markdown",
   "metadata": {
    "collapsed": false,
    "pycharm": {
     "name": "#%% md\n"
    }
   },
   "source": [
    "Adding \"CoffeeScript\" language color to palette"
   ]
  },
  {
   "cell_type": "code",
   "execution_count": null,
   "metadata": {
    "collapsed": false,
    "pycharm": {
     "name": "#%%\n"
    }
   },
   "outputs": [],
   "source": [
    "# Coffee Brown color\n",
    "languages_palette['CoffeeScript'] = \"#4a2c2a\""
   ]
  },
  {
   "cell_type": "markdown",
   "metadata": {
    "collapsed": false,
    "pycharm": {
     "name": "#%% md\n"
    }
   },
   "source": [
    "Mapping languages to colors"
   ]
  },
  {
   "cell_type": "code",
   "execution_count": null,
   "metadata": {
    "collapsed": false,
    "pycharm": {
     "name": "#%%\n"
    }
   },
   "outputs": [],
   "source": [
    "languages_palette_list = map_languages_to_color_list(languages_palette, s_2016_proficiencies_percentages['top ten proficiency percentages'])"
   ]
  },
  {
   "cell_type": "markdown",
   "metadata": {
    "collapsed": false,
    "pycharm": {
     "name": "#%% md\n"
    }
   },
   "source": [
    "### Histogram of most popular languages in 2016"
   ]
  },
  {
   "cell_type": "code",
   "execution_count": null,
   "metadata": {
    "collapsed": false,
    "pycharm": {
     "name": "#%%\n"
    }
   },
   "outputs": [],
   "source": [
    "# plotting data\n",
    "ax_16 = s_2016_proficiencies_percentages['top ten proficiency percentages'].plot.bar(color=languages_palette_list)\n",
    "# annotating values on top of each bar, for readability\n",
    "for p in ax_16.patches:\n",
    "    ax_16.annotate(str(round(p.get_height(), 2)), (p.get_x() * 1.005, p.get_height() * 1.005))"
   ]
  },
  {
   "cell_type": "markdown",
   "metadata": {
    "collapsed": false,
    "pycharm": {
     "name": "#%% md\n"
    }
   },
   "source": [
    "Top 5 languages in 2015: <br>\n",
    "1. JavaScript\n",
    "2. Java\n",
    "3. C#\n",
    "4. PHP\n",
    "5. Python\n",
    "\n"
   ]
  },
  {
   "cell_type": "markdown",
   "metadata": {
    "collapsed": false,
    "pycharm": {
     "name": "#%% md\n"
    }
   },
   "source": [
    "Top 5 languages standings, in 2016 was unchanged respect to 2015, some minor changes in other top ten position has occurred, in particular, Visual Basic has been replaced by the new entry CoffeeScript."
   ]
  },
  {
   "cell_type": "markdown",
   "metadata": {
    "pycharm": {
     "name": "#%% md\n"
    }
   },
   "source": [
    "Top 5 languages in 2016: <br>\n",
    "1. JavaScript\n",
    "2. Java\n",
    "3. C#\n",
    "4. PHP\n",
    "5. Python<br>"
   ]
  },
  {
   "cell_type": "markdown",
   "metadata": {
    "pycharm": {
     "name": "#%% md\n"
    }
   },
   "source": [
    "#### 2017 Results Analysis\n",
    "Now I'll compute the answer to first question, referring to 2017 data:\n"
   ]
  },
  {
   "cell_type": "code",
   "execution_count": null,
   "metadata": {
    "collapsed": false,
    "pycharm": {
     "name": "#%%\n"
    }
   },
   "outputs": [],
   "source": [
    "# instantiating  a LanguagesStatsExtractor object\n",
    "lre_17 = LanguagesRankingExtractor(df_surveys_17, columns_selection_criteria=\"HaveWorkedLanguage\", prefix_to_remove='HaveWorkedLanguage: ')\n",
    "\n",
    "# computing languages proficiency ranking in 2017\n",
    "s_2017_proficiencies_stats = lre_17.get_stats()"
   ]
  },
  {
   "cell_type": "code",
   "execution_count": null,
   "metadata": {
    "collapsed": false,
    "pycharm": {
     "name": "#%%\n"
    }
   },
   "outputs": [],
   "source": [
    "s_2017_proficiencies_stats['top ten languages']"
   ]
  },
  {
   "cell_type": "markdown",
   "metadata": {
    "collapsed": false,
    "pycharm": {
     "name": "#%% md\n"
    }
   },
   "source": [
    "[TypeScript](https://en.wikipedia.org/wiki/TypeScript) is a superset of JavaScript, as well as [C++](https://en.wikipedia.org/wiki/C%2B%2B) can be considered a superset of [C](https://en.wikipedia.org/wiki/C_(programming_language)). Therefore, no merging will be done on top ten entries this time."
   ]
  },
  {
   "cell_type": "markdown",
   "metadata": {
    "collapsed": false,
    "pycharm": {
     "name": "#%% md\n"
    }
   },
   "source": [
    "To get an overvies, here follows the full ranking of languages by popularity in 2017:"
   ]
  },
  {
   "cell_type": "code",
   "execution_count": null,
   "metadata": {
    "collapsed": false,
    "pycharm": {
     "name": "#%%\n"
    }
   },
   "outputs": [],
   "source": [
    "s_2017_proficiencies_stats['full ranking']"
   ]
  },
  {
   "cell_type": "markdown",
   "metadata": {
    "collapsed": false,
    "pycharm": {
     "name": "#%% md\n"
    }
   },
   "source": [
    "SQL shall be excluded and, as a consequence, [Swift](https://en.wikipedia.org/wiki/Swift_(programming_language)) will come up in Top Ten."
   ]
  },
  {
   "cell_type": "code",
   "execution_count": null,
   "metadata": {
    "collapsed": false,
    "pycharm": {
     "name": "#%%\n"
    }
   },
   "outputs": [],
   "source": [
    "exclusion_list= [\"HaveWorkedLanguage: SQL\"]"
   ]
  },
  {
   "cell_type": "code",
   "execution_count": null,
   "metadata": {
    "collapsed": false,
    "pycharm": {
     "name": "#%%\n"
    }
   },
   "outputs": [],
   "source": [
    "# instantiating  a LanguagesStatsExtractor object\n",
    "lre_17 = LanguagesRankingExtractor(df_surveys_17, columns_selection_criteria=\"HaveWorkedLanguage\", prefix_to_remove='HaveWorkedLanguage: ', exclusion_list=exclusion_list)\n",
    "\n",
    "# computing languages proficiency ranking in 2017\n",
    "s_2017_proficiencies_stats = lre_17.get_stats()"
   ]
  },
  {
   "cell_type": "code",
   "execution_count": null,
   "metadata": {
    "collapsed": false,
    "pycharm": {
     "name": "#%%\n"
    }
   },
   "outputs": [],
   "source": [
    "s_2017_proficiencies_stats['top ten languages']"
   ]
  },
  {
   "cell_type": "markdown",
   "metadata": {
    "collapsed": false,
    "pycharm": {
     "name": "#%% md\n"
    }
   },
   "source": [
    "We can now assess the language popularity in absolute terms computing total percentage\n",
    "of coders using that particular language:"
   ]
  },
  {
   "cell_type": "code",
   "execution_count": null,
   "metadata": {
    "collapsed": false,
    "pycharm": {
     "name": "#%%\n"
    }
   },
   "outputs": [],
   "source": [
    "# computing percentages\n",
    "lpp_17 = LanguagesProficienciesPercentages(lre_17)\n",
    "\n",
    "s_2017_proficiencies_percentages = lpp_17.get_stats()"
   ]
  },
  {
   "cell_type": "code",
   "execution_count": null,
   "metadata": {
    "collapsed": false,
    "pycharm": {
     "name": "#%%\n"
    }
   },
   "outputs": [],
   "source": [
    "s_2017_proficiencies_percentages['proficiency percentages']"
   ]
  },
  {
   "cell_type": "markdown",
   "metadata": {
    "collapsed": false,
    "pycharm": {
     "name": "#%% md\n"
    }
   },
   "source": [
    "Adding \"TypeScript\" and \"Swift\" languages colors to palette"
   ]
  },
  {
   "cell_type": "code",
   "execution_count": null,
   "metadata": {
    "collapsed": false,
    "pycharm": {
     "name": "#%%\n"
    }
   },
   "outputs": [],
   "source": [
    "# Spindle Tree color\n",
    "languages_palette['TypeScript'] = \"#6D8F3E\"\n",
    "# Dark Orange color\n",
    "languages_palette['Swift'] = \"#ff8c00\""
   ]
  },
  {
   "cell_type": "markdown",
   "metadata": {
    "collapsed": false,
    "pycharm": {
     "name": "#%% md\n"
    }
   },
   "source": [
    "Mapping languages to colors"
   ]
  },
  {
   "cell_type": "code",
   "execution_count": null,
   "metadata": {
    "collapsed": false,
    "pycharm": {
     "name": "#%%\n"
    }
   },
   "outputs": [],
   "source": [
    "languages_palette_list = map_languages_to_color_list(languages_palette, s_2017_proficiencies_percentages['top ten proficiency percentages'])"
   ]
  },
  {
   "cell_type": "markdown",
   "metadata": {
    "collapsed": false,
    "pycharm": {
     "name": "#%% md\n"
    }
   },
   "source": [
    "### Histogram of most popular languages in 2017"
   ]
  },
  {
   "cell_type": "code",
   "execution_count": null,
   "metadata": {
    "collapsed": false,
    "pycharm": {
     "name": "#%%\n"
    }
   },
   "outputs": [],
   "source": [
    "# plotting data\n",
    "ax_17 = s_2017_proficiencies_percentages['top ten proficiency percentages'].plot.bar(color=languages_palette_list)\n",
    "# annotating values on top of each bar, for readability\n",
    "for p in ax_17.patches:\n",
    "    ax_17.annotate(str(round(p.get_height(), 2)), (p.get_x() * 1.005, p.get_height() * 1.005))"
   ]
  },
  {
   "cell_type": "markdown",
   "metadata": {
    "collapsed": false,
    "pycharm": {
     "name": "#%% md\n"
    }
   },
   "source": [
    "Top 5 languages in 2017: <br>\n",
    "1. JavaScript\n",
    "2. Java\n",
    "3. C#\n",
    "4. Python\n",
    "5. PHP\n",
    "\n"
   ]
  },
  {
   "cell_type": "markdown",
   "metadata": {
    "collapsed": false,
    "pycharm": {
     "name": "#%% md\n"
    }
   },
   "source": [
    "This year, three big changes can be spotted:\n",
    "1. Python took over PHP att 4th position;\n",
    "2. TypeScript got to the top ten at 8th position (leaving CoffeeScript out of it);\n",
    "3. Swift joined the top ten at 10th position."
   ]
  },
  {
   "cell_type": "markdown",
   "metadata": {
    "pycharm": {
     "name": "#%% md\n"
    }
   },
   "source": [
    "#### 2018 Results Analysis\n",
    "Now I'll compute the answer to first question, referring to 2018 data:\n"
   ]
  },
  {
   "cell_type": "code",
   "execution_count": null,
   "metadata": {
    "collapsed": false,
    "pycharm": {
     "name": "#%%\n"
    }
   },
   "outputs": [],
   "source": [
    "# instantiating  a LanguagesStatsExtractor object\n",
    "lre_18 = LanguagesRankingExtractor(df_surveys_18, columns_selection_criteria=\"LanguageWorkedWith\", prefix_to_remove='LanguageWorkedWith: ')\n",
    "\n",
    "# computing languages proficiency ranking in 2018\n",
    "s_2018_proficiencies_stats = lre_18.get_stats()"
   ]
  },
  {
   "cell_type": "code",
   "execution_count": null,
   "metadata": {
    "collapsed": false,
    "pycharm": {
     "name": "#%%\n"
    }
   },
   "outputs": [],
   "source": [
    "s_2018_proficiencies_stats['top ten languages']"
   ]
  },
  {
   "attachments": {},
   "cell_type": "markdown",
   "metadata": {},
   "source": [
    "To be noticed: **Bash/Shell** is a very much interesting new entry, but it is to be counted among the \"Domain Specific Languages\", so not to be kept into the analysis."
   ]
  },
  {
   "cell_type": "code",
   "execution_count": null,
   "metadata": {
    "collapsed": false,
    "pycharm": {
     "name": "#%%\n"
    }
   },
   "outputs": [],
   "source": [
    "# instantiating  a LanguagesStatsExtractor object\n",
    "lre_18 = LanguagesRankingExtractor(df_surveys_18, columns_selection_criteria=\"LanguageWorkedWith\", prefix_to_remove='LanguageWorkedWith: ', exclusion_list=['LanguageWorkedWith: HTML', 'LanguageWorkedWith: CSS', 'LanguageWorkedWith: SQL', 'LanguageWorkedWith: Bash/Shell'])\n",
    "# computing languages proficiency ranking in 2018\n",
    "s_2018_proficiencies_stats = lre_18.get_stats()"
   ]
  },
  {
   "cell_type": "code",
   "execution_count": null,
   "metadata": {
    "collapsed": false,
    "pycharm": {
     "name": "#%%\n"
    }
   },
   "outputs": [],
   "source": [
    "# computing percentages\n",
    "lpp_18 = LanguagesProficienciesPercentages(lre_18)\n",
    "\n",
    "s_2018_proficiencies_percentages = lpp_18.get_stats()"
   ]
  },
  {
   "cell_type": "code",
   "execution_count": null,
   "metadata": {
    "collapsed": false,
    "pycharm": {
     "name": "#%%\n"
    }
   },
   "outputs": [],
   "source": [
    "s_2018_proficiencies_percentages['proficiency percentages']"
   ]
  },
  {
   "cell_type": "markdown",
   "metadata": {
    "collapsed": false,
    "pycharm": {
     "name": "#%% md\n"
    }
   },
   "source": [
    "### Histogram of most popular languages in 2018"
   ]
  },
  {
   "cell_type": "code",
   "execution_count": null,
   "metadata": {
    "collapsed": false,
    "pycharm": {
     "name": "#%%\n"
    }
   },
   "outputs": [],
   "source": [
    "# Coffee Brown color\n",
    "#\"languages_palette['Bash/Shell'] = \"#000000\""
   ]
  },
  {
   "cell_type": "markdown",
   "metadata": {
    "collapsed": false,
    "pycharm": {
     "name": "#%% md\n"
    }
   },
   "source": [
    "Mapping languages to colors"
   ]
  },
  {
   "cell_type": "code",
   "execution_count": null,
   "metadata": {
    "collapsed": false,
    "pycharm": {
     "name": "#%%\n"
    }
   },
   "outputs": [],
   "source": [
    "languages_palette_list = map_languages_to_color_list(languages_palette, s_2018_proficiencies_percentages['top ten proficiency percentages'])"
   ]
  },
  {
   "cell_type": "code",
   "execution_count": null,
   "metadata": {
    "collapsed": false,
    "pycharm": {
     "name": "#%%\n"
    }
   },
   "outputs": [],
   "source": [
    "# plotting data\n",
    "ax_18 = s_2018_proficiencies_percentages['top ten proficiency percentages'].plot.bar(color=languages_palette_list)\n",
    "# annotating values on top of each bar, for readability\n",
    "for p in ax_18.patches:\n",
    "    ax_18.annotate(str(round(p.get_height(), 2)), (p.get_x() * 1.005, p.get_height() * 1.005))"
   ]
  },
  {
   "cell_type": "markdown",
   "metadata": {
    "collapsed": false,
    "pycharm": {
     "name": "#%% md\n"
    }
   },
   "source": [
    "Top 5 languages in 2018: <br>\n",
    "1. JavaScript\n",
    "2. Java\n",
    "3. Bash/Shell\n",
    "4. Python\n",
    "5. C#\n",
    "\n"
   ]
  },
  {
   "cell_type": "markdown",
   "metadata": {
    "collapsed": false,
    "pycharm": {
     "name": "#%% md\n"
    }
   },
   "source": [
    "This year, something has changed regarding top ten:\n",
    "1. Bash/Shell language took 3rd position. It is not clear if this (quite old) language is a new entry because previously has not been object of the questionnaire;\n",
    "2. PHP is no more part of the top ten;\n",
    "3. C# has lost 2 position, but it is still in top 5."
   ]
  },
  {
   "cell_type": "markdown",
   "metadata": {
    "pycharm": {
     "name": "#%% md\n"
    }
   },
   "source": [
    "#### 2019 Results Analysis\n",
    "Now I'll compute the answer to first question, referring to 2019 data:"
   ]
  },
  {
   "cell_type": "code",
   "execution_count": null,
   "metadata": {
    "pycharm": {
     "name": "#%%\n"
    }
   },
   "outputs": [],
   "source": [
    "# instantiating  a LanguagesStatsExtractor object\n",
    "lre_19 = LanguagesRankingExtractor(df_surveys_19, columns_selection_criteria=\"LanguageWorkedWith\", prefix_to_remove='LanguageWorkedWith: ')\n",
    "\n",
    "# computing languages proficiency ranking in 2019\n",
    "s_2019_proficiencies_stats = lre_19.get_stats()"
   ]
  },
  {
   "cell_type": "code",
   "execution_count": null,
   "metadata": {},
   "outputs": [],
   "source": [
    "s_2019_proficiencies_stats['top ten languages']"
   ]
  },
  {
   "cell_type": "markdown",
   "metadata": {},
   "source": [
    "Let's see if we have other \"non-language entries\" in the full ranking:"
   ]
  },
  {
   "cell_type": "code",
   "execution_count": null,
   "metadata": {},
   "outputs": [],
   "source": [
    "s_2019_proficiencies_stats['full ranking']"
   ]
  },
  {
   "cell_type": "code",
   "execution_count": null,
   "metadata": {},
   "outputs": [],
   "source": [
    "lre_19 = LanguagesRankingExtractor(df_surveys_19, columns_selection_criteria=\"LanguageWorkedWith\", prefix_to_remove='LanguageWorkedWith: ', exclusion_list=['LanguageWorkedWith: HTML/CSS', 'LanguageWorkedWith: SQL', 'LanguageWorkedWith: Other(s):', 'LanguageWorkedWith: Bash/Shell/PowerShell'])\n",
    "\n",
    "s_2019_proficiencies_stats = lre_19.get_stats()"
   ]
  },
  {
   "cell_type": "code",
   "execution_count": null,
   "metadata": {},
   "outputs": [],
   "source": [
    "s_2019_proficiencies_stats['top ten languages']"
   ]
  },
  {
   "cell_type": "code",
   "execution_count": null,
   "metadata": {
    "collapsed": false,
    "pycharm": {
     "name": "#%%\n"
    }
   },
   "outputs": [],
   "source": [
    "# computing percentages\n",
    "lpp_19 = LanguagesProficienciesPercentages(lre_19)\n",
    "\n",
    "s_2019_proficiencies_percentages = lpp_19.get_stats()"
   ]
  },
  {
   "cell_type": "code",
   "execution_count": null,
   "metadata": {
    "collapsed": false,
    "pycharm": {
     "name": "#%%\n"
    }
   },
   "outputs": [],
   "source": [
    "s_2019_proficiencies_percentages['proficiency percentages']"
   ]
  },
  {
   "cell_type": "markdown",
   "metadata": {
    "collapsed": false,
    "pycharm": {
     "name": "#%% md\n"
    }
   },
   "source": [
    "### Histogram of most popular languages in 2019"
   ]
  },
  {
   "cell_type": "code",
   "execution_count": null,
   "metadata": {
    "collapsed": false,
    "pycharm": {
     "name": "#%%\n"
    }
   },
   "outputs": [],
   "source": [
    "# Coffee Brown color\n",
    "languages_palette['Go'] = \"#08e8de\""
   ]
  },
  {
   "cell_type": "code",
   "execution_count": null,
   "metadata": {
    "collapsed": false,
    "pycharm": {
     "name": "#%%\n"
    }
   },
   "outputs": [],
   "source": [
    "languages_palette_list = map_languages_to_color_list(languages_palette, s_2019_proficiencies_percentages['top ten proficiency percentages'])"
   ]
  },
  {
   "cell_type": "code",
   "execution_count": null,
   "metadata": {
    "collapsed": false,
    "pycharm": {
     "name": "#%%\n"
    }
   },
   "outputs": [],
   "source": [
    "# plotting data\n",
    "ax_19 = s_2019_proficiencies_percentages['top ten proficiency percentages'].plot.bar(color=languages_palette_list)\n",
    "# annotating values on top of each bar, for readability\n",
    "for p in ax_19.patches:\n",
    "    ax_19.annotate(str(round(p.get_height(), 2)), (p.get_x() * 1.005, p.get_height() * 1.005))"
   ]
  },
  {
   "attachments": {},
   "cell_type": "markdown",
   "metadata": {
    "pycharm": {
     "name": "#%% md\n"
    }
   },
   "source": [
    "Top 5 languages in 2019: <br>\n",
    "1. JavaScript\n",
    "2. Python\n",
    "3. Java\n",
    "4. C# \n",
    "5. PHP <br>\n",
    "\n",
    "This year, a couple of noticeable things happened:<br/>\n",
    "**Python** has now surpassed also **Java**, taking 2nd position. **Go**, a language launched by Google in 2009 (so relatively new, for a programming language), just entered the top ten, at the last position."
   ]
  },
  {
   "cell_type": "markdown",
   "metadata": {
    "pycharm": {
     "name": "#%% md\n"
    }
   },
   "source": [
    "#### 2020 Results Analysis\n",
    "Now I'll compute the answer to first question, referring to 2020 data:\n"
   ]
  },
  {
   "cell_type": "code",
   "execution_count": null,
   "metadata": {
    "pycharm": {
     "name": "#%%\n"
    }
   },
   "outputs": [],
   "source": [
    "# instantiating  a LanguagesStatsExtractor object\n",
    "lre_20 = LanguagesRankingExtractor(df_surveys_20, columns_selection_criteria=\"LanguageWorkedWith\", prefix_to_remove='LanguageWorkedWith: ')\n",
    "\n",
    "# computing languages proficiency ranking in 2020\n",
    "s_2020_proficiencies_stats = lre_20.get_stats()"
   ]
  },
  {
   "cell_type": "code",
   "execution_count": null,
   "metadata": {
    "collapsed": false,
    "pycharm": {
     "name": "#%%\n"
    }
   },
   "outputs": [],
   "source": [
    "s_2020_proficiencies_stats['top ten languages']"
   ]
  },
  {
   "attachments": {},
   "cell_type": "markdown",
   "metadata": {},
   "source": [
    "As usual, we find SQL in the top ten, togheter with HTML/CSS."
   ]
  },
  {
   "cell_type": "markdown",
   "metadata": {},
   "source": [
    "Let's see if we have other \"non-language entries\" in the full ranking:"
   ]
  },
  {
   "cell_type": "code",
   "execution_count": null,
   "metadata": {},
   "outputs": [],
   "source": [
    "s_2020_proficiencies_stats['full ranking']"
   ]
  },
  {
   "cell_type": "code",
   "execution_count": null,
   "metadata": {},
   "outputs": [],
   "source": [
    "lre_20 = LanguagesRankingExtractor(df_surveys_20, columns_selection_criteria=\"LanguageWorkedWith\", prefix_to_remove='LanguageWorkedWith: ', exclusion_list=['LanguageWorkedWith: HTML/CSS', 'LanguageWorkedWith: SQL', 'LanguageWorkedWith: Bash/Shell/Powershell'])\n",
    "\n",
    "s_2020_proficiencies_stats = lre_20.get_stats()"
   ]
  },
  {
   "cell_type": "code",
   "execution_count": null,
   "metadata": {},
   "outputs": [],
   "source": [
    "s_2020_proficiencies_stats['top ten languages']"
   ]
  },
  {
   "cell_type": "code",
   "execution_count": null,
   "metadata": {
    "collapsed": false,
    "pycharm": {
     "name": "#%%\n"
    }
   },
   "outputs": [],
   "source": [
    "# computing percentages\n",
    "lpp_20 = LanguagesProficienciesPercentages(lre_20)\n",
    "\n",
    "s_2020_proficiencies_percentages = lpp_20.get_stats()"
   ]
  },
  {
   "cell_type": "code",
   "execution_count": null,
   "metadata": {
    "collapsed": false,
    "pycharm": {
     "name": "#%%\n"
    }
   },
   "outputs": [],
   "source": [
    "s_2020_proficiencies_percentages['proficiency percentages']"
   ]
  },
  {
   "cell_type": "markdown",
   "metadata": {
    "collapsed": false,
    "pycharm": {
     "name": "#%% md\n"
    }
   },
   "source": [
    "### Histogram of most popular languages in 2020"
   ]
  },
  {
   "cell_type": "code",
   "execution_count": null,
   "metadata": {
    "collapsed": false,
    "pycharm": {
     "name": "#%%\n"
    }
   },
   "outputs": [],
   "source": [
    "# Bright Turquoise color\n",
    "languages_palette['Kotlin'] = \"#000000\""
   ]
  },
  {
   "cell_type": "code",
   "execution_count": null,
   "metadata": {
    "collapsed": false,
    "pycharm": {
     "name": "#%%\n"
    }
   },
   "outputs": [],
   "source": [
    "languages_palette_list = map_languages_to_color_list(languages_palette, s_2020_proficiencies_percentages['top ten proficiency percentages'])"
   ]
  },
  {
   "cell_type": "code",
   "execution_count": null,
   "metadata": {
    "collapsed": false,
    "pycharm": {
     "name": "#%%\n"
    }
   },
   "outputs": [],
   "source": [
    "# plotting data\n",
    "ax_20 = s_2020_proficiencies_percentages['top ten proficiency percentages'].plot.bar(color=languages_palette_list)\n",
    "# annotating values on top of each bar, for readability\n",
    "for p in ax_20.patches:\n",
    "    ax_20.annotate(str(round(p.get_height(), 2)), (p.get_x() * 1.005, p.get_height() * 1.005))"
   ]
  },
  {
   "attachments": {},
   "cell_type": "markdown",
   "metadata": {
    "pycharm": {
     "name": "#%% md\n"
    }
   },
   "source": [
    "Top 5 languages in 2020: <br>\n",
    "1. JavaScript\n",
    "2. Python\n",
    "3. Java\n",
    "4. C# \n",
    "5. PHP <br>\n",
    "\n",
    "This year, no big changes in top five positions can be noticed.\n",
    "\n",
    "Two newcomers can be spotted at the last top-ten position:\n",
    "1. **Go**. This language has been around for a decade, but it now starts to get a good amount of popularity. Not sure what is the reason behind the fact that it has finally got a spot in the top 10.\n",
    "2. **Kotlin**. This presence in the top ten is very interesting. The language is not really \"brand new\", since it is out since 2011, but it has probably gained popularity at the expense of the main language for Android development: Java. Obviously, this is just a feeling, but it is quite probable that people approaching Android app development tend to learn Kotlin more than before, hence, most probably, some of them never really learned Java itself (the main language for Android developers for years). A little deeper in this regard, could come comparing how many of those that have declared to have been working in Kotlin has also declared to have been working in Java at some point in time.b"
   ]
  },
  {
   "attachments": {},
   "cell_type": "markdown",
   "metadata": {},
   "source": [
    "I will extract some more targeted statistics, to get a better idea, of the relationship between the two apparently conflicting trends between thest two languages, wich shares such an interesting (for developers and for software related industries) field of application as Android development."
   ]
  },
  {
   "cell_type": "code",
   "execution_count": null,
   "metadata": {},
   "outputs": [],
   "source": [
    "cols_18 = df_surveys_18.columns[df_surveys_18.isin([\"Android\"]).any()]\n",
    "cols_19 = df_surveys_19.columns[df_surveys_19.isin([\"Android\"]).any()]\n",
    "cols_20 = df_surveys_20.columns[df_surveys_20.isin([\"Android\"]).any()]\n",
    "#df_surveys_18[df_surveys_18.eq(\"Android\").any(1)]"
   ]
  },
  {
   "cell_type": "code",
   "execution_count": null,
   "metadata": {},
   "outputs": [],
   "source": [
    "cols_18"
   ]
  },
  {
   "cell_type": "code",
   "execution_count": null,
   "metadata": {},
   "outputs": [],
   "source": [
    "cols_19"
   ]
  },
  {
   "cell_type": "code",
   "execution_count": null,
   "metadata": {},
   "outputs": [],
   "source": [
    "cols_20"
   ]
  },
  {
   "attachments": {},
   "cell_type": "markdown",
   "metadata": {},
   "source": [
    "Defining:\n",
    "$$|(Java \\cup Kotlin) \\cap Android|_{|Android|}"
   ]
  },
  {
   "attachments": {},
   "cell_type": "markdown",
   "metadata": {},
   "source": [
    "Ad the percentage of respondents that have Java or Kotlin experience, and that have declared to have worked on Android platform, and:"
   ]
  },
  {
   "attachments": {},
   "cell_type": "markdown",
   "metadata": {},
   "source": [
    "$$ |Java \\cap Android|_{|Android|}"
   ]
  },
  {
   "attachments": {},
   "cell_type": "markdown",
   "metadata": {},
   "source": [
    "as the percentage of developers with Java and Android experience, among developers who have worked with either Java or Kotlin, and:"
   ]
  },
  {
   "attachments": {},
   "cell_type": "markdown",
   "metadata": {},
   "source": [
    "$$|(Java \\cap Android) \\setminus Kotlin|_{|(Android)|}"
   ]
  },
  {
   "attachments": {},
   "cell_type": "markdown",
   "metadata": {},
   "source": [
    "the percentage of developers with Java on Android experience but no Kotlin experience, among developers who have worked on Android."
   ]
  },
  {
   "attachments": {},
   "cell_type": "markdown",
   "metadata": {},
   "source": [
    "Using those definitions and the related ones (exchanging Java with Kotlin according to the above definiton), I would like to have a look to the following values: "
   ]
  },
  {
   "attachments": {},
   "cell_type": "markdown",
   "metadata": {},
   "source": [
    "$$ |(Java \\cup Kotlin) \\cap Android|_{|Android|};\n",
    "|Java \\cap Android|_{|Android|};\n",
    "|Kotlin \\cap Android|_{|Android|};\n",
    "|(Java \\cap Android) \\setminus Kotlin|_{|(Android)|};\n",
    "|(Kotlin \\cap Android) \\setminus Java|_{|(Android)|}"
   ]
  },
  {
   "attachments": {},
   "cell_type": "markdown",
   "metadata": {},
   "source": [
    "For practical reason, I will call them as follows:"
   ]
  },
  {
   "cell_type": "code",
   "execution_count": null,
   "metadata": {},
   "outputs": [],
   "source": [
    "java_vs_kotlin_experience = [\"Java plus Kotlin Android developers\", \"Java Android Developers\", \"Kotlin Android Developers\", \"Java exlcusive share of Java plus Kotlin Android Developers\", \"Kotlin exlcusive share of Java plus Kotlin Android Developers\"]"
   ]
  },
  {
   "attachments": {},
   "cell_type": "markdown",
   "metadata": {},
   "source": [
    "First we will compute:\n",
    "$$|(Java \\cup Kotlin) \\cap Android|_{|Android|}"
   ]
  },
  {
   "cell_type": "code",
   "execution_count": null,
   "metadata": {},
   "outputs": [],
   "source": [
    "java_plus_kotlin_share_18 = lpp_18.share_percentage_weight(\"LanguageWorkedWith: Java\", \"LanguageWorkedWith: Kotlin\", overall=True, tech_stack=\"Android\")\n",
    "java_plus_kotlin_share_19 = lpp_19.share_percentage_weight(\"LanguageWorkedWith: Java\", \"LanguageWorkedWith: Kotlin\", overall=True, tech_stack=\"Android\")\n",
    "java_plus_kotlin_share_20 = lpp_20.share_percentage_weight(\"LanguageWorkedWith: Java\", \"LanguageWorkedWith: Kotlin\", overall=True, tech_stack=\"Android\")"
   ]
  },
  {
   "attachments": {},
   "cell_type": "markdown",
   "metadata": {},
   "source": [
    "Than we will compute:\n",
    "$$|Java \\cap Android|_{|Android|}"
   ]
  },
  {
   "cell_type": "markdown",
   "metadata": {},
   "source": []
  },
  {
   "cell_type": "code",
   "execution_count": null,
   "metadata": {},
   "outputs": [],
   "source": [
    "java_share_18 = lpp_18.share_percentage_weight(\"LanguageWorkedWith: Java\", \"LanguageWorkedWith: Kotlin\", tech_stack=\"Android\")\n",
    "java_share_19 = lpp_19.share_percentage_weight(\"LanguageWorkedWith: Java\", \"LanguageWorkedWith: Kotlin\", tech_stack=\"Android\")\n",
    "java_share_20 = lpp_20.share_percentage_weight(\"LanguageWorkedWith: Java\", \"LanguageWorkedWith: Kotlin\", tech_stack=\"Android\")"
   ]
  },
  {
   "attachments": {},
   "cell_type": "markdown",
   "metadata": {},
   "source": [
    "Then we compute:\n",
    "$$|Kotlin \\cap Android|_{|(Java \\cap Android )\\cup (Kotlin \\cap Android )|}"
   ]
  },
  {
   "cell_type": "code",
   "execution_count": null,
   "metadata": {},
   "outputs": [],
   "source": [
    "kotlin_share_18 = lpp_18.share_percentage_weight(\"LanguageWorkedWith: Kotlin\", \"LanguageWorkedWith: Java\", tech_stack=\"Android\")\n",
    "kotlin_share_19 = lpp_19.share_percentage_weight(\"LanguageWorkedWith: Kotlin\", \"LanguageWorkedWith: Java\", tech_stack=\"Android\")\n",
    "kotlin_share_20 = lpp_20.share_percentage_weight(\"LanguageWorkedWith: Kotlin\", \"LanguageWorkedWith: Java\", tech_stack=\"Android\")"
   ]
  },
  {
   "attachments": {},
   "cell_type": "markdown",
   "metadata": {},
   "source": [
    "We can now proceed to compute:\n",
    "$$|(Java \\setminus Kotlin) \\cap Android|_{|(Java \\cap Android )\\cup (Kotlin \\cap Android )|}"
   ]
  },
  {
   "cell_type": "code",
   "execution_count": null,
   "metadata": {},
   "outputs": [],
   "source": [
    "java_less_kotlin_share_18 = lpp_18.share_percentage_weight(\"LanguageWorkedWith: Java\", \"LanguageWorkedWith: Kotlin\", difference_set=True, tech_stack=\"Android\")\n",
    "java_less_kotlin_share_19 = lpp_19.share_percentage_weight(\"LanguageWorkedWith: Java\", \"LanguageWorkedWith: Kotlin\", difference_set=True, tech_stack=\"Android\")\n",
    "java_less_kotlin_share_20 = lpp_20.share_percentage_weight(\"LanguageWorkedWith: Java\", \"LanguageWorkedWith: Kotlin\", difference_set=True, tech_stack=\"Android\")"
   ]
  },
  {
   "attachments": {},
   "cell_type": "markdown",
   "metadata": {},
   "source": [
    "And finally compute:\n",
    "$$|(Kotlin \\setminus Java) \\cap Android|_{|(Java \\cap Android )\\cup (Kotlin \\cap Android )|}"
   ]
  },
  {
   "cell_type": "code",
   "execution_count": null,
   "metadata": {},
   "outputs": [],
   "source": [
    "kotlin_less_java_share_18 = lpp_18.share_percentage_weight(\"LanguageWorkedWith: Kotlin\", \"LanguageWorkedWith: Java\", difference_set=True, tech_stack=\"Android\")\n",
    "kotlin_less_java_share_19 = lpp_19.share_percentage_weight(\"LanguageWorkedWith: Kotlin\", \"LanguageWorkedWith: Java\", difference_set=True, tech_stack=\"Android\")\n",
    "kotlin_less_java_share_20 = lpp_20.share_percentage_weight(\"LanguageWorkedWith: Kotlin\", \"LanguageWorkedWith: Java\", difference_set=True, tech_stack=\"Android\")"
   ]
  },
  {
   "cell_type": "code",
   "execution_count": null,
   "metadata": {},
   "outputs": [],
   "source": [
    "import numpy as np"
   ]
  },
  {
   "cell_type": "code",
   "execution_count": null,
   "metadata": {},
   "outputs": [],
   "source": [
    "# putting everythin in arrays, so we can populate a dataframe\n",
    "java_plus_kotlin_share = np.array([java_plus_kotlin_share_18, java_plus_kotlin_share_19, java_plus_kotlin_share_20])\n",
    "java_share = np.array([java_share_18, java_share_19, java_share_20])\n",
    "kotlin_share = np.array([kotlin_share_18, kotlin_share_19, kotlin_share_20])\n",
    "java_less_kotlin_share = np.array([java_less_kotlin_share_18, java_less_kotlin_share_19, java_less_kotlin_share_20])\n",
    "kotlin_less_java_share = np.array([kotlin_less_java_share_18, kotlin_less_java_share_19, kotlin_less_java_share_20])"
   ]
  },
  {
   "cell_type": "code",
   "execution_count": null,
   "metadata": {},
   "outputs": [],
   "source": [
    "java_vs_kotlin_stats =  np.array([java_plus_kotlin_share, java_share, kotlin_share, java_less_kotlin_share, kotlin_less_java_share])"
   ]
  },
  {
   "cell_type": "code",
   "execution_count": null,
   "metadata": {},
   "outputs": [],
   "source": [
    "# here is the dataframe\n",
    "df_java_vs_kotlin_18to20_percentages = pd.DataFrame(index=java_vs_kotlin_experience, data=java_vs_kotlin_stats, columns=[2018, 2019, 2020])"
   ]
  },
  {
   "cell_type": "code",
   "execution_count": null,
   "metadata": {},
   "outputs": [],
   "source": [
    "#df_java_vs_kotlin_18to20_percentages.index.name = 'year'"
   ]
  },
  {
   "cell_type": "code",
   "execution_count": null,
   "metadata": {},
   "outputs": [],
   "source": [
    "df_java_vs_kotlin_18to20_percentages"
   ]
  },
  {
   "attachments": {},
   "cell_type": "markdown",
   "metadata": {},
   "source": [
    "Now we can also plot the data, but first, it is better to change the legend to make it shorter:"
   ]
  },
  {
   "cell_type": "code",
   "execution_count": null,
   "metadata": {},
   "outputs": [],
   "source": [
    "java_vs_kotlin_experience_plot_legend = [\"$|Java \\cup Kotlin|_{|Overall|}$\", \"$|Java|_{|Java \\cup Kotlin|}$\", \"$|Kotlin|_{|Java \\cup Kotlin|}$\",  \\\n",
    "    \"$|Java - Kotlin|_{|Java \\cup Kotlin|}$\", \"$|Kotlin - Java|_{|Java \\cup Kotlin|}$\"]"
   ]
  },
  {
   "cell_type": "code",
   "execution_count": null,
   "metadata": {},
   "outputs": [],
   "source": [
    "df_java_vs_kotlin_18to20_percentages_plot = pd.DataFrame(index=java_vs_kotlin_experience_plot_legend, data=java_vs_kotlin_stats, columns=[2018, 2019, 2020])"
   ]
  },
  {
   "cell_type": "code",
   "execution_count": null,
   "metadata": {},
   "outputs": [],
   "source": [
    "df_java_vs_kotlin_18to20_percentages_plot.plot.bar()\n",
    "plt.legend(loc='center left', bbox_to_anchor=(1.0, 0.5))\n",
    "plt.xticks(rotation=30, horizontalalignment=\"center\")\n",
    "plt.show()"
   ]
  },
  {
   "attachments": {},
   "cell_type": "markdown",
   "metadata": {},
   "source": [
    "Since It seems very likely that the development in the field of Android is moving towards Java then."
   ]
  },
  {
   "attachments": {},
   "cell_type": "markdown",
   "metadata": {},
   "source": [
    "As a conclusion, we can say that is very unlinkely that a consistent percentage of respondents were drawn from Java to Kotlin development. "
   ]
  },
  {
   "cell_type": "markdown",
   "metadata": {
    "pycharm": {
     "name": "#%% md\n"
    }
   },
   "source": [
    "#### 2021 Results Analysis\n",
    "Now I'll compute the answer to first question, referring to 2021 data:\n"
   ]
  },
  {
   "cell_type": "code",
   "execution_count": null,
   "metadata": {
    "pycharm": {
     "name": "#%%\n"
    }
   },
   "outputs": [],
   "source": [
    "# instantiating  a LanguagesStatsExtractor object\n",
    "lre_21 = LanguagesRankingExtractor(df_surveys_21, columns_selection_criteria=\"LanguageHaveWorkedWith\", prefix_to_remove='LanguageHaveWorkedWith: ')\n",
    "\n",
    "# computing languages proficiency ranking in 2021\n",
    "s_2021_proficiencies_stats = lre_21.get_stats()"
   ]
  },
  {
   "cell_type": "code",
   "execution_count": null,
   "metadata": {
    "collapsed": false,
    "pycharm": {
     "name": "#%%\n"
    }
   },
   "outputs": [],
   "source": [
    "s_2021_proficiencies_stats['top ten languages']"
   ]
  },
  {
   "cell_type": "markdown",
   "metadata": {},
   "source": [
    "Let's see if we have other \"non-language entries\" in the full ranking and delete them:"
   ]
  },
  {
   "cell_type": "code",
   "execution_count": null,
   "metadata": {},
   "outputs": [],
   "source": [
    "s_2021_proficiencies_stats['full ranking']"
   ]
  },
  {
   "attachments": {},
   "cell_type": "markdown",
   "metadata": {},
   "source": [
    "From an \"integral\" and \"evolutional\" point of view, **Node.js** is not a language itself, but just a framework. **TypeScript** instead, is somthing like a superset of JavaScript and then deserves an entry in the statistics. "
   ]
  },
  {
   "cell_type": "code",
   "execution_count": null,
   "metadata": {},
   "outputs": [],
   "source": [
    "lre_21 = LanguagesRankingExtractor(df_surveys_21, columns_selection_criteria=\"LanguageHaveWorkedWith\", prefix_to_remove='LanguageHaveWorkedWith: ',\\\n",
    "    exclusion_list=['LanguageHaveWorkedWith: HTML/CSS', 'LanguageHaveWorkedWith: SQL'],\\\n",
    "        entries_merge_list=[('JavaScript', 'Node.js'), ('Bash/Shell', 'PowerShell')])\n",
    "\n",
    "s_2021_proficiencies_stats = lre_21.get_stats()"
   ]
  },
  {
   "cell_type": "code",
   "execution_count": null,
   "metadata": {},
   "outputs": [],
   "source": [
    "s_2021_proficiencies_stats['top ten languages']"
   ]
  },
  {
   "cell_type": "markdown",
   "metadata": {},
   "source": [
    "Now that we have programming languages only, we can analyze related proficiency percentages:"
   ]
  },
  {
   "cell_type": "code",
   "execution_count": null,
   "metadata": {
    "collapsed": false,
    "pycharm": {
     "name": "#%%\n"
    }
   },
   "outputs": [],
   "source": [
    "# computing percentages\n",
    "lpp_21 = LanguagesProficienciesPercentages(lre_21)\n",
    "\n",
    "s_2021_proficiencies_percentages = lpp_21.get_stats()"
   ]
  },
  {
   "cell_type": "code",
   "execution_count": null,
   "metadata": {},
   "outputs": [],
   "source": [
    "s_2021_proficiencies_percentages['top ten proficiency percentages']"
   ]
  },
  {
   "cell_type": "markdown",
   "metadata": {},
   "source": [
    "I will unify **Bash/Shell** with **PowerShell** in the already seen entry **Bash/Shell/PowerShell** for the sake of homegeneous comparison."
   ]
  },
  {
   "cell_type": "code",
   "execution_count": null,
   "metadata": {},
   "outputs": [],
   "source": [
    "s_2021_proficiencies_percentages['top ten proficiency percentages'] = s_2021_proficiencies_percentages['top ten proficiency percentages'].rename({'Bash/Shell': 'Bash/Shell/PowerShell'})"
   ]
  },
  {
   "cell_type": "markdown",
   "metadata": {
    "collapsed": false,
    "pycharm": {
     "name": "#%% md\n"
    }
   },
   "source": [
    "### Histogram of most popular languages in 2021"
   ]
  },
  {
   "cell_type": "code",
   "execution_count": null,
   "metadata": {
    "collapsed": false,
    "pycharm": {
     "name": "#%%\n"
    }
   },
   "outputs": [],
   "source": [
    "languages_palette_list = map_languages_to_color_list(languages_palette, s_2021_proficiencies_percentages['top ten proficiency percentages'])"
   ]
  },
  {
   "cell_type": "code",
   "execution_count": null,
   "metadata": {
    "collapsed": false,
    "pycharm": {
     "name": "#%%\n"
    }
   },
   "outputs": [],
   "source": [
    "# plotting data\n",
    "ax_21 = s_2021_proficiencies_percentages['top ten proficiency percentages'].plot.bar(color=languages_palette_list)\n",
    "# annotating values on top of each bar, for readability\n",
    "for p in ax_21.patches:\n",
    "    ax_21.annotate(str(round(p.get_height(), 2)), (p.get_x() * 1.005, p.get_height() * 1.005))"
   ]
  },
  {
   "attachments": {},
   "cell_type": "markdown",
   "metadata": {
    "pycharm": {
     "name": "#%% md\n"
    }
   },
   "source": [
    "Top 5 languages in 2021: <br>\n",
    "1. JavaScript\n",
    "2. Python\n",
    "3. Java\n",
    "4. Bash/Shell/PowerShell\n",
    "5. TypeScript <br>\n",
    "\n",
    "In 2021, we can see that TypeScript has entered the top five for the first time,establishing itself as a language trying to compete in popularity with its \"parent\" language, i.e. JavaScript. **JavaScript**, **Python**, **Java** and **Bash/Shell/PowerShell** keep their positions. From the 6th to the 10th positions, we should notice how **C++** has surpassed **PHP**. Probably denoting how PHP is been replaced by other web technologies at the time, with C++ keeping its market share steadily."
   ]
  },
  {
   "attachments": {},
   "cell_type": "markdown",
   "metadata": {
    "pycharm": {
     "name": "#%% md\n"
    }
   },
   "source": [
    "#### 2022 Results Analysis\n",
    "Now I'll compute the answer to first question, referring to 2022 data:\n"
   ]
  },
  {
   "cell_type": "code",
   "execution_count": null,
   "metadata": {
    "pycharm": {
     "name": "#%%\n"
    }
   },
   "outputs": [],
   "source": [
    "# instantiating  a LanguagesStatsExtractor object\n",
    "lre_22 = LanguagesRankingExtractor(df_surveys_22, columns_selection_criteria=\"LanguageHaveWorkedWith\", prefix_to_remove='LanguageHaveWorkedWith: ')\n",
    "\n",
    "# computing languages proficiency ranking in 2021\n",
    "s_2022_proficiencies_stats = lre_22.get_stats()"
   ]
  },
  {
   "cell_type": "code",
   "execution_count": null,
   "metadata": {
    "collapsed": false,
    "pycharm": {
     "name": "#%%\n"
    }
   },
   "outputs": [],
   "source": [
    "s_2022_proficiencies_stats['top ten languages']"
   ]
  },
  {
   "cell_type": "markdown",
   "metadata": {},
   "source": [
    "Let's see if we have other \"non-language entries\" in the full ranking and delete them:"
   ]
  },
  {
   "cell_type": "code",
   "execution_count": null,
   "metadata": {},
   "outputs": [],
   "source": [
    "s_2022_proficiencies_stats['full ranking']"
   ]
  },
  {
   "attachments": {},
   "cell_type": "markdown",
   "metadata": {},
   "source": [
    "Merging **Bash/Shell** with **PowerShell** entry, for the sake of homogeneity."
   ]
  },
  {
   "cell_type": "code",
   "execution_count": null,
   "metadata": {},
   "outputs": [],
   "source": [
    "lre_22 = LanguagesRankingExtractor(df_surveys_22, columns_selection_criteria=\"LanguageHaveWorkedWith\", prefix_to_remove='LanguageHaveWorkedWith: ',\\\n",
    "    exclusion_list=['LanguageHaveWorkedWith: HTML/CSS', 'LanguageHaveWorkedWith: SQL'],\\\n",
    "        entries_merge_list=[('Bash/Shell', 'PowerShell')])\n",
    "\n",
    "s_2022_proficiencies_stats = lre_22.get_stats()"
   ]
  },
  {
   "cell_type": "code",
   "execution_count": null,
   "metadata": {},
   "outputs": [],
   "source": [
    "s_2022_proficiencies_stats['top ten languages']"
   ]
  },
  {
   "cell_type": "markdown",
   "metadata": {},
   "source": [
    "Now that we have programming languages only, we can analyze related proficiency percentages:"
   ]
  },
  {
   "cell_type": "code",
   "execution_count": null,
   "metadata": {
    "collapsed": false,
    "pycharm": {
     "name": "#%%\n"
    }
   },
   "outputs": [],
   "source": [
    "# computing percentages\n",
    "lpp_22 = LanguagesProficienciesPercentages(lre_22)\n",
    "\n",
    "s_2022_proficiencies_percentages = lpp_22.get_stats()"
   ]
  },
  {
   "cell_type": "code",
   "execution_count": null,
   "metadata": {},
   "outputs": [],
   "source": [
    "s_2022_proficiencies_percentages['top ten proficiency percentages']"
   ]
  },
  {
   "cell_type": "markdown",
   "metadata": {},
   "source": [
    "I will unify **Bash/Shell** with **PowerShell** in the already seen entry **Bash/Shell/PowerShell** for the sake of homegeneous comparison."
   ]
  },
  {
   "cell_type": "code",
   "execution_count": null,
   "metadata": {},
   "outputs": [],
   "source": [
    "s_2022_proficiencies_percentages['top ten proficiency percentages'] = s_2022_proficiencies_percentages['top ten proficiency percentages'].rename({'Bash/Shell': 'Bash/Shell/PowerShell'})"
   ]
  },
  {
   "attachments": {},
   "cell_type": "markdown",
   "metadata": {
    "collapsed": false,
    "pycharm": {
     "name": "#%% md\n"
    }
   },
   "source": [
    "### Histogram of most popular languages in 2022"
   ]
  },
  {
   "cell_type": "code",
   "execution_count": null,
   "metadata": {
    "collapsed": false,
    "pycharm": {
     "name": "#%%\n"
    }
   },
   "outputs": [],
   "source": [
    "languages_palette_list = map_languages_to_color_list(languages_palette, s_2022_proficiencies_percentages['top ten proficiency percentages'])"
   ]
  },
  {
   "cell_type": "code",
   "execution_count": null,
   "metadata": {
    "collapsed": false,
    "pycharm": {
     "name": "#%%\n"
    }
   },
   "outputs": [],
   "source": [
    "# plotting data\n",
    "ax_22 = s_2022_proficiencies_percentages['top ten proficiency percentages'].plot.bar(color=languages_palette_list)\n",
    "# annotating values on top of each bar, for readability\n",
    "for p in ax_22.patches:\n",
    "    ax_22.annotate(str(round(p.get_height(), 2)), (p.get_x() * 1.005, p.get_height() * 1.005))"
   ]
  },
  {
   "attachments": {},
   "cell_type": "markdown",
   "metadata": {
    "pycharm": {
     "name": "#%% md\n"
    }
   },
   "source": [
    "Top 5 languages in 2022: <br>\n",
    "1. JavaScript\n",
    "2. Python\n",
    "3. Bash/Shell/PowerShell\n",
    "4. TypeScript\n",
    "5. Java <br>\n",
    "\n",
    "In 2022, we can see both **Bash/Shell/PowerShell** and **TypeScript** surpassing **Java**. \n",
    "From the 6th to the 10th positions, last year standings is unchanged."
   ]
  },
  {
   "cell_type": "markdown",
   "metadata": {
    "pycharm": {
     "name": "#%% md\n"
    }
   },
   "source": [
    "Now I'll proceed with trend analysis, in the following notebook.<br/>\n",
    "To do so, once again, I'll need to store data from the current notebook.\n"
   ]
  },
  {
   "cell_type": "code",
   "execution_count": null,
   "metadata": {
    "pycharm": {
     "name": "#%%\n"
    }
   },
   "outputs": [],
   "source": [
    "%store s_2011_proficiencies_stats\n",
    "%store s_2011_proficiencies_percentages\n",
    "%store s_2012_proficiencies_stats\n",
    "%store s_2012_proficiencies_percentages\n",
    "%store s_2013_proficiencies_stats\n",
    "%store s_2013_proficiencies_percentages\n",
    "%store s_2014_proficiencies_stats\n",
    "%store s_2014_proficiencies_percentages\n",
    "%store s_2015_proficiencies_stats\n",
    "%store s_2015_proficiencies_percentages\n",
    "%store s_2016_proficiencies_stats\n",
    "%store s_2016_proficiencies_percentages\n",
    "%store s_2017_proficiencies_stats\n",
    "%store s_2017_proficiencies_percentages\n",
    "%store s_2018_proficiencies_stats\n",
    "%store s_2018_proficiencies_percentages\n",
    "%store s_2019_proficiencies_stats\n",
    "%store s_2019_proficiencies_percentages\n",
    "%store s_2020_proficiencies_stats\n",
    "%store s_2020_proficiencies_percentages\n",
    "%store s_2021_proficiencies_stats\n",
    "%store s_2021_proficiencies_percentages\n",
    "%store s_2022_proficiencies_stats\n",
    "%store s_2022_proficiencies_percentages"
   ]
  },
  {
   "cell_type": "code",
   "execution_count": null,
   "metadata": {},
   "outputs": [],
   "source": []
  }
 ],
 "metadata": {
  "kernelspec": {
   "display_name": "ml-ds",
   "language": "python",
   "name": "python3"
  },
  "language_info": {
   "codemirror_mode": {
    "name": "ipython",
    "version": 3
   },
   "file_extension": ".py",
   "mimetype": "text/x-python",
   "name": "python",
   "nbconvert_exporter": "python",
   "pygments_lexer": "ipython3",
   "version": "3.9.13"
  },
  "vscode": {
   "interpreter": {
    "hash": "6935e08561a651a9baa03a8747a4f428a3e72ad2f76787ca650ea6ebcd957ea9"
   }
  }
 },
 "nbformat": 4,
 "nbformat_minor": 1
}
