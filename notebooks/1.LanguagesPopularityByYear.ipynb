{
 "cells": [
  {
   "cell_type": "markdown",
   "metadata": {
    "pycharm": {
     "name": "#%% md\n"
    }
   },
   "source": [
    "# Languages Popularity by Year\n",
    "# Question N°1\n",
    "This notebook purpose is to answer the First Question: </br>\n",
    "<b><i>\"What languages were the most popular in each year?\"</i></b>\n"
   ]
  },
  {
   "cell_type": "markdown",
   "metadata": {
    "pycharm": {
     "name": "#%% md\n"
    }
   },
   "source": [
    "In order to do so, I would need previously loaded data about surveys."
   ]
  },
  {
   "cell_type": "code",
   "execution_count": 1,
   "metadata": {
    "pycharm": {
     "name": "#%%\n"
    }
   },
   "outputs": [],
   "source": [
    "import pandas\n",
    "import pandas as pd\n",
    "%store -r df_surveys_11_to_21"
   ]
  },
  {
   "cell_type": "markdown",
   "metadata": {
    "pycharm": {
     "name": "#%% md\n"
    }
   },
   "source": [
    "#### Features understanding\n",
    "I will use the following features to produce an answer\n",
    "to the question number 1 :\n",
    "\n",
    "2011. \"Which languages are you proficient in?\"(column 30) to \"Unnamed: 40\" (column 40)\n",
    "2012. \"Which languages are you proficient in?\" (column 22) to \"Unnamed: 34\" (column 34)\n",
    "2013. \"Which of the following languages or technologies have you used significantly in the past year?\" (column 56)\n",
    "to \"Unnamed: 68\" (column 68)\n",
    "2014. \"Which of the following languages or technologies have you used significantly in the past year?\" (column 42)\n",
    "to \"Unnamed: 52\" (column 52)\n",
    "2015. \"Current Lang & Tech <LanguageName>\" columns, (columns from 8 to 49), <LanguageName> would, most of the time,\n",
    "indicate a name of a programming language, sometimes including also more general technology names (e.g. Android).\n",
    "2016. \"tech_do\", \"tech_want\" (columns from 66 to 99)\n",
    "2017. \"HaveWorkedLanguage\", \"WantWorkLanguage\"\n",
    "2018. \"LanguageWorkedWith\", \"LanguageDesireNextYear\"\n",
    "2019. \"LanguageWorkedWith\", \"LanguageDesireNextYear\"\n",
    "2020. \"LanguageWorkedWith\", \"LanguageDesireNextYear\"\n",
    "2021. \"LanguageWorkedWith\", \"LanguageWantToWorkWith\"\n",
    "\n",
    "Before this kind of analysis, it would be better to prepare the data.\n",
    "In order to do so, I will define Columns' Range of Interest in the first 5 dataframe, 2011 to 2015,\n",
    "where language proficiencies' features are already split into columns."
   ]
  },
  {
   "cell_type": "code",
   "execution_count": 2,
   "metadata": {
    "pycharm": {
     "name": "#%%\n"
    }
   },
   "outputs": [],
   "source": [
    "# Language Proficiencies Columns' Range of Interest\n",
    "lang_prof_CROI_2011 = range(30, 41)\n",
    "lang_prof_CROI_2012 = range(22, 35)\n",
    "lang_prof_CROI_2013 = range(56, 69)\n",
    "lang_prof_CROI_2014 = range(42, 53)\n",
    "lang_prof_CROI_2015 = range(8, 50)\n",
    "lang_prof_CROI_2016 = range(66, 99)\n",
    "#lang_prof_CROI_2017 = range(66, 99)"
   ]
  },
  {
   "cell_type": "markdown",
   "metadata": {
    "pycharm": {
     "name": "#%% md\n"
    }
   },
   "source": [
    "## 3. Data Preparation"
   ]
  },
  {
   "cell_type": "markdown",
   "metadata": {
    "pycharm": {
     "name": "#%% md\n"
    }
   },
   "source": [
    "First, I already observed that:\n",
    "1. 2011 to 2014 data has a first non valid data row, containing \"Response\" as value,\n",
    "2. 2015 dataframe heading should be properly fixed:"
   ]
  },
  {
   "cell_type": "code",
   "execution_count": 3,
   "metadata": {
    "pycharm": {
     "name": "#%%\n"
    }
   },
   "outputs": [],
   "source": [
    "from preparation.data_transform import drop_first_row\n",
    "# dropping first row in dataframes containing data from 2011 to 2014\n",
    "drop_first_row(df_surveys_11_to_21, 2011, 2014)\n"
   ]
  },
  {
   "cell_type": "markdown",
   "metadata": {
    "pycharm": {
     "name": "#%% md\n"
    }
   },
   "source": [
    "As said, 2015 data hasn't been correctly loaded, since the header doesn't contain valid feature names.\n",
    "Valid header data is actually in the first dataframe row.\n",
    "So, I will replace it properly:"
   ]
  },
  {
   "cell_type": "code",
   "execution_count": 4,
   "metadata": {
    "pycharm": {
     "name": "#%%\n"
    }
   },
   "outputs": [],
   "source": [
    "new_2015_header = df_surveys_11_to_21[2015].iloc[0]\n",
    "df_surveys_11_to_21[2015] = df_surveys_11_to_21[2015][1:]\n",
    "df_surveys_11_to_21[2015].columns = new_2015_header"
   ]
  },
  {
   "cell_type": "markdown",
   "metadata": {
    "pycharm": {
     "name": "#%% md\n"
    }
   },
   "source": [
    "now I will cross-check the results:"
   ]
  },
  {
   "cell_type": "code",
   "execution_count": 5,
   "metadata": {
    "pycharm": {
     "name": "#%%\n"
    }
   },
   "outputs": [
    {
     "data": {
      "text/html": [
       "<div>\n",
       "<style scoped>\n",
       "    .dataframe tbody tr th:only-of-type {\n",
       "        vertical-align: middle;\n",
       "    }\n",
       "\n",
       "    .dataframe tbody tr th {\n",
       "        vertical-align: top;\n",
       "    }\n",
       "\n",
       "    .dataframe thead th {\n",
       "        text-align: right;\n",
       "    }\n",
       "</style>\n",
       "<table border=\"1\" class=\"dataframe\">\n",
       "  <thead>\n",
       "    <tr style=\"text-align: right;\">\n",
       "      <th></th>\n",
       "      <th>Country</th>\n",
       "      <th>Age</th>\n",
       "      <th>Gender</th>\n",
       "      <th>Tabs or Spaces</th>\n",
       "      <th>Years IT / Programming Experience</th>\n",
       "      <th>Occupation</th>\n",
       "      <th>Desktop Operating System</th>\n",
       "      <th>Desktop Operating System: write-in</th>\n",
       "      <th>Current Lang &amp; Tech: Android</th>\n",
       "      <th>Current Lang &amp; Tech: Arduino</th>\n",
       "      <th>...</th>\n",
       "      <th>Why use Stack Overflow: I don't use Stack Overflow</th>\n",
       "      <th>How often are Stack Overflow's answers helpful</th>\n",
       "      <th>Why answer: Help a programmer in need</th>\n",
       "      <th>Why answer: Help future programmers</th>\n",
       "      <th>Why answer: Demonstrate expertise</th>\n",
       "      <th>Why answer: Self promotion</th>\n",
       "      <th>Why answer: Sense of responsibility to developers</th>\n",
       "      <th>Why answer: No idea</th>\n",
       "      <th>Why answer: I don't answer and I don't want to</th>\n",
       "      <th>Why answer: I don't answer but I want to</th>\n",
       "    </tr>\n",
       "  </thead>\n",
       "  <tbody>\n",
       "    <tr>\n",
       "      <th>1</th>\n",
       "      <td>Croatia</td>\n",
       "      <td>25-29</td>\n",
       "      <td>Male</td>\n",
       "      <td>Tabs</td>\n",
       "      <td>2 - 5 years</td>\n",
       "      <td>Back-end web developer</td>\n",
       "      <td>Ubuntu</td>\n",
       "      <td>NaN</td>\n",
       "      <td>NaN</td>\n",
       "      <td>NaN</td>\n",
       "      <td>...</td>\n",
       "      <td>NaN</td>\n",
       "      <td>Usually</td>\n",
       "      <td>NaN</td>\n",
       "      <td>NaN</td>\n",
       "      <td>It feels good to demonstrate my expertise.</td>\n",
       "      <td>Demonstrating my expertise will benefit me</td>\n",
       "      <td>I feel a sense of responsibility to the develo...</td>\n",
       "      <td>NaN</td>\n",
       "      <td>NaN</td>\n",
       "      <td>NaN</td>\n",
       "    </tr>\n",
       "  </tbody>\n",
       "</table>\n",
       "<p>1 rows × 222 columns</p>\n",
       "</div>"
      ],
      "text/plain": [
       "0  Country    Age Gender Tabs or Spaces Years IT / Programming Experience  \\\n",
       "1  Croatia  25-29   Male           Tabs                       2 - 5 years   \n",
       "\n",
       "0              Occupation Desktop Operating System  \\\n",
       "1  Back-end web developer                   Ubuntu   \n",
       "\n",
       "0 Desktop Operating System: write-in Current Lang & Tech: Android  \\\n",
       "1                                NaN                          NaN   \n",
       "\n",
       "0 Current Lang & Tech: Arduino  ...  \\\n",
       "1                          NaN  ...   \n",
       "\n",
       "0 Why use Stack Overflow: I don't use Stack Overflow  \\\n",
       "1                                                NaN   \n",
       "\n",
       "0 How often are Stack Overflow's answers helpful  \\\n",
       "1                                        Usually   \n",
       "\n",
       "0 Why answer: Help a programmer in need Why answer: Help future programmers  \\\n",
       "1                                   NaN                                 NaN   \n",
       "\n",
       "0           Why answer: Demonstrate expertise  \\\n",
       "1  It feels good to demonstrate my expertise.   \n",
       "\n",
       "0                  Why answer: Self promotion  \\\n",
       "1  Demonstrating my expertise will benefit me   \n",
       "\n",
       "0  Why answer: Sense of responsibility to developers Why answer: No idea  \\\n",
       "1  I feel a sense of responsibility to the develo...                 NaN   \n",
       "\n",
       "0 Why answer: I don't answer and I don't want to  \\\n",
       "1                                            NaN   \n",
       "\n",
       "0 Why answer: I don't answer but I want to  \n",
       "1                                      NaN  \n",
       "\n",
       "[1 rows x 222 columns]"
      ]
     },
     "execution_count": 5,
     "metadata": {},
     "output_type": "execute_result"
    }
   ],
   "source": [
    "df_surveys_11_to_21[2015].head(1)\n"
   ]
  },
  {
   "cell_type": "markdown",
   "metadata": {
    "pycharm": {
     "name": "#%% md\n"
    }
   },
   "source": [
    "Now I'll prepare data to be categorized, so that it could be better suited for analysis about first question <br/>\n",
    "(the categorization could be used for other questions too):\n"
   ]
  },
  {
   "cell_type": "code",
   "execution_count": 6,
   "metadata": {
    "pycharm": {
     "name": "#%%\n"
    }
   },
   "outputs": [],
   "source": [
    "new_column_name_prefix = \"Proficient in\""
   ]
  },
  {
   "cell_type": "markdown",
   "metadata": {
    "pycharm": {
     "name": "#%% md\n"
    }
   },
   "source": [
    "Importing proper preparatory functions:"
   ]
  },
  {
   "cell_type": "code",
   "execution_count": 7,
   "metadata": {
    "pycharm": {
     "name": "#%%\n"
    }
   },
   "outputs": [],
   "source": [
    "from preparation.data_transform import transform_unnamed_cols_base, feature_split"
   ]
  },
  {
   "cell_type": "markdown",
   "metadata": {
    "pycharm": {
     "name": "#%% md\n"
    }
   },
   "source": [
    "Preparing 2011 data:"
   ]
  },
  {
   "cell_type": "code",
   "execution_count": 8,
   "metadata": {
    "collapsed": false,
    "pycharm": {
     "name": "#%%\n"
    }
   },
   "outputs": [],
   "source": [
    "from pathlib import Path\n",
    "import os\n",
    "path = Path(os.getcwd())"
   ]
  },
  {
   "cell_type": "code",
   "execution_count": 9,
   "metadata": {
    "collapsed": false,
    "pycharm": {
     "name": "#%%\n"
    }
   },
   "outputs": [],
   "source": [
    "file_name = \"2011_results_prepared.csv\"\n",
    "complete_file_name = os.path.join(path, \"data\", file_name)"
   ]
  },
  {
   "cell_type": "code",
   "execution_count": 10,
   "metadata": {
    "pycharm": {
     "name": "#%%\n"
    }
   },
   "outputs": [
    {
     "data": {
      "text/html": [
       "<div>\n",
       "<style scoped>\n",
       "    .dataframe tbody tr th:only-of-type {\n",
       "        vertical-align: middle;\n",
       "    }\n",
       "\n",
       "    .dataframe tbody tr th {\n",
       "        vertical-align: top;\n",
       "    }\n",
       "\n",
       "    .dataframe thead th {\n",
       "        text-align: right;\n",
       "    }\n",
       "</style>\n",
       "<table border=\"1\" class=\"dataframe\">\n",
       "  <thead>\n",
       "    <tr style=\"text-align: right;\">\n",
       "      <th></th>\n",
       "      <th>Unnamed: 0</th>\n",
       "      <th>What Country or Region do you live in?</th>\n",
       "      <th>Which US State or Territory do you live in?</th>\n",
       "      <th>How old are you?</th>\n",
       "      <th>How many years of IT/Programming experience do you have?</th>\n",
       "      <th>How would you best describe the industry you work in?</th>\n",
       "      <th>Which best describes the size of your company?</th>\n",
       "      <th>Which of the following best describes your occupation?</th>\n",
       "      <th>How likely is it that a recommendation you make will be acted upon?</th>\n",
       "      <th>What is your involvement in purchasing? You can choose more than 1.</th>\n",
       "      <th>...</th>\n",
       "      <th>Unnamed: 55</th>\n",
       "      <th>Unnamed: 56</th>\n",
       "      <th>Unnamed: 57</th>\n",
       "      <th>Unnamed: 58</th>\n",
       "      <th>Unnamed: 59</th>\n",
       "      <th>Unnamed: 60</th>\n",
       "      <th>Unnamed: 61</th>\n",
       "      <th>Unnamed: 62</th>\n",
       "      <th>In the last 12 months, how much money have you spent on personal technology-related purchases?</th>\n",
       "      <th>Which of our sites do you frequent most?</th>\n",
       "    </tr>\n",
       "  </thead>\n",
       "  <tbody>\n",
       "    <tr>\n",
       "      <th>0</th>\n",
       "      <td>1</td>\n",
       "      <td>Africa</td>\n",
       "      <td>NaN</td>\n",
       "      <td>&lt; 20</td>\n",
       "      <td>&lt;2</td>\n",
       "      <td>Consulting</td>\n",
       "      <td>Start Up (1-25)</td>\n",
       "      <td>Web Application Developer</td>\n",
       "      <td>Not in a million years</td>\n",
       "      <td>NaN</td>\n",
       "      <td>...</td>\n",
       "      <td>NaN</td>\n",
       "      <td>NaN</td>\n",
       "      <td>NaN</td>\n",
       "      <td>NaN</td>\n",
       "      <td>NaN</td>\n",
       "      <td>NaN</td>\n",
       "      <td>NaN</td>\n",
       "      <td>NaN</td>\n",
       "      <td>&lt;$100</td>\n",
       "      <td>NaN</td>\n",
       "    </tr>\n",
       "    <tr>\n",
       "      <th>1</th>\n",
       "      <td>2</td>\n",
       "      <td>Other Europe</td>\n",
       "      <td>NaN</td>\n",
       "      <td>25-29</td>\n",
       "      <td>41310</td>\n",
       "      <td>Software Products</td>\n",
       "      <td>Mature Small Business (25-100)</td>\n",
       "      <td>Server Programmer</td>\n",
       "      <td>It's been known to happen</td>\n",
       "      <td>NaN</td>\n",
       "      <td>...</td>\n",
       "      <td>NaN</td>\n",
       "      <td>NaN</td>\n",
       "      <td>Other netbook</td>\n",
       "      <td>NaN</td>\n",
       "      <td>NaN</td>\n",
       "      <td>NaN</td>\n",
       "      <td>NaN</td>\n",
       "      <td>NaN</td>\n",
       "      <td>$251-$500</td>\n",
       "      <td>Stack Overflow</td>\n",
       "    </tr>\n",
       "    <tr>\n",
       "      <th>2</th>\n",
       "      <td>3</td>\n",
       "      <td>India</td>\n",
       "      <td>NaN</td>\n",
       "      <td>25-29</td>\n",
       "      <td>41435</td>\n",
       "      <td>Software Products</td>\n",
       "      <td>Mid Sized (100-999)</td>\n",
       "      <td>Server Programmer</td>\n",
       "      <td>Unless it's stoopid it gets done</td>\n",
       "      <td>NaN</td>\n",
       "      <td>...</td>\n",
       "      <td>NaN</td>\n",
       "      <td>NaN</td>\n",
       "      <td>NaN</td>\n",
       "      <td>NaN</td>\n",
       "      <td>NaN</td>\n",
       "      <td>NaN</td>\n",
       "      <td>NaN</td>\n",
       "      <td>NaN</td>\n",
       "      <td>NaN</td>\n",
       "      <td>NaN</td>\n",
       "    </tr>\n",
       "  </tbody>\n",
       "</table>\n",
       "<p>3 rows × 66 columns</p>\n",
       "</div>"
      ],
      "text/plain": [
       "   Unnamed: 0 What Country or Region do you live in?  \\\n",
       "0           1                                 Africa   \n",
       "1           2                           Other Europe   \n",
       "2           3                                  India   \n",
       "\n",
       "  Which US State or Territory do you live in? How old are you?  \\\n",
       "0                                         NaN             < 20   \n",
       "1                                         NaN            25-29   \n",
       "2                                         NaN            25-29   \n",
       "\n",
       "  How many years of IT/Programming experience do you have?  \\\n",
       "0                                                 <2         \n",
       "1                                              41310         \n",
       "2                                              41435         \n",
       "\n",
       "  How would you best describe the industry you work in?  \\\n",
       "0                                         Consulting      \n",
       "1                                  Software Products      \n",
       "2                                  Software Products      \n",
       "\n",
       "  Which best describes the size of your company?  \\\n",
       "0                                Start Up (1-25)   \n",
       "1                 Mature Small Business (25-100)   \n",
       "2                            Mid Sized (100-999)   \n",
       "\n",
       "  Which of the following best describes your occupation?  \\\n",
       "0                          Web Application Developer       \n",
       "1                                  Server Programmer       \n",
       "2                                  Server Programmer       \n",
       "\n",
       "  How likely is it that a recommendation you make will be acted upon?  \\\n",
       "0                             Not in a million years                    \n",
       "1                          It's been known to happen                    \n",
       "2                   Unless it's stoopid it gets done                    \n",
       "\n",
       "  What is your involvement in purchasing? You can choose more than 1.  ...  \\\n",
       "0                                                NaN                   ...   \n",
       "1                                                NaN                   ...   \n",
       "2                                                NaN                   ...   \n",
       "\n",
       "  Unnamed: 55 Unnamed: 56    Unnamed: 57 Unnamed: 58 Unnamed: 59 Unnamed: 60  \\\n",
       "0         NaN         NaN            NaN         NaN         NaN         NaN   \n",
       "1         NaN         NaN  Other netbook         NaN         NaN         NaN   \n",
       "2         NaN         NaN            NaN         NaN         NaN         NaN   \n",
       "\n",
       "  Unnamed: 61 Unnamed: 62  \\\n",
       "0         NaN         NaN   \n",
       "1         NaN         NaN   \n",
       "2         NaN         NaN   \n",
       "\n",
       "  In the last 12 months, how much money have you spent on personal technology-related purchases?   \\\n",
       "0                                              <$100                                                \n",
       "1                                          $251-$500                                                \n",
       "2                                                NaN                                                \n",
       "\n",
       "  Which of our sites do you frequent most?  \n",
       "0                                      NaN  \n",
       "1                           Stack Overflow  \n",
       "2                                      NaN  \n",
       "\n",
       "[3 rows x 66 columns]"
      ]
     },
     "execution_count": 10,
     "metadata": {},
     "output_type": "execute_result"
    }
   ],
   "source": [
    "if os.path.isfile(complete_file_name):\n",
    "    df_surveys_11 = pd.read_csv(complete_file_name)\n",
    "else:\n",
    "    starting_column_name = \"Which languages are you proficient in?\"\n",
    "    df_surveys_11 = transform_unnamed_cols_base(df_surveys_11_to_21[2011], starting_column_name,\n",
    "                                                columns_look_ahead=len(lang_prof_CROI_2011),\n",
    "                                                new_column_name_prefix=new_column_name_prefix)\n",
    "    df_surveys_11.to_csv(complete_file_name)\n",
    "df_surveys_11.head(3)"
   ]
  },
  {
   "cell_type": "markdown",
   "metadata": {
    "pycharm": {
     "name": "#%% md\n"
    }
   },
   "source": [
    "the same procedure can be applied to 2012 survey data:"
   ]
  },
  {
   "cell_type": "code",
   "execution_count": 11,
   "metadata": {
    "collapsed": false,
    "pycharm": {
     "name": "#%%\n"
    }
   },
   "outputs": [],
   "source": [
    "file_name = \"2012_results_prepared.csv\"\n",
    "complete_file_name = os.path.join(path, \"data\", file_name)"
   ]
  },
  {
   "cell_type": "code",
   "execution_count": 12,
   "metadata": {
    "pycharm": {
     "name": "#%%\n"
    }
   },
   "outputs": [
    {
     "data": {
      "text/html": [
       "<div>\n",
       "<style scoped>\n",
       "    .dataframe tbody tr th:only-of-type {\n",
       "        vertical-align: middle;\n",
       "    }\n",
       "\n",
       "    .dataframe tbody tr th {\n",
       "        vertical-align: top;\n",
       "    }\n",
       "\n",
       "    .dataframe thead th {\n",
       "        text-align: right;\n",
       "    }\n",
       "</style>\n",
       "<table border=\"1\" class=\"dataframe\">\n",
       "  <thead>\n",
       "    <tr style=\"text-align: right;\">\n",
       "      <th></th>\n",
       "      <th>Unnamed: 0</th>\n",
       "      <th>What Country or Region do you live in?</th>\n",
       "      <th>Which US State or Territory do you live in?</th>\n",
       "      <th>How old are you?</th>\n",
       "      <th>How many years of IT/Programming experience do you have?</th>\n",
       "      <th>How would you best describe the industry you currently work in?</th>\n",
       "      <th>Which best describes the size of your company?</th>\n",
       "      <th>Which of the following best describes your occupation?</th>\n",
       "      <th>What is your involvement in purchasing products or services for the company you work for? (You can choose more than one)</th>\n",
       "      <th>Unnamed: 8</th>\n",
       "      <th>...</th>\n",
       "      <th>Please rate the advertising you've seen on Stack Overflow</th>\n",
       "      <th>Unnamed: 66</th>\n",
       "      <th>Unnamed: 67</th>\n",
       "      <th>Unnamed: 68</th>\n",
       "      <th>Unnamed: 69</th>\n",
       "      <th>Unnamed: 70</th>\n",
       "      <th>What advertisers do you remember seeing on Stack Overflow?</th>\n",
       "      <th>What is your current Stack Overflow reputation?</th>\n",
       "      <th>Which of our sites do you frequent most?</th>\n",
       "      <th>Unnamed: 74</th>\n",
       "    </tr>\n",
       "  </thead>\n",
       "  <tbody>\n",
       "    <tr>\n",
       "      <th>0</th>\n",
       "      <td>1</td>\n",
       "      <td>India</td>\n",
       "      <td>NaN</td>\n",
       "      <td>20-24</td>\n",
       "      <td>&lt;2</td>\n",
       "      <td>Consulting</td>\n",
       "      <td>Fortune 1000 (1,000+)</td>\n",
       "      <td>Server Programmer</td>\n",
       "      <td>Influencer</td>\n",
       "      <td>Recommender</td>\n",
       "      <td>...</td>\n",
       "      <td>NaN</td>\n",
       "      <td>NaN</td>\n",
       "      <td>NaN</td>\n",
       "      <td>NaN</td>\n",
       "      <td>NaN</td>\n",
       "      <td>NaN</td>\n",
       "      <td>NaN</td>\n",
       "      <td>NaN</td>\n",
       "      <td>NaN</td>\n",
       "      <td>NaN</td>\n",
       "    </tr>\n",
       "    <tr>\n",
       "      <th>1</th>\n",
       "      <td>2</td>\n",
       "      <td>Germany</td>\n",
       "      <td>NaN</td>\n",
       "      <td>25-29</td>\n",
       "      <td>&lt;2</td>\n",
       "      <td>Other</td>\n",
       "      <td>Mature Small Business (25-100)</td>\n",
       "      <td>Embedded Application Developer</td>\n",
       "      <td>NaN</td>\n",
       "      <td>Recommender</td>\n",
       "      <td>...</td>\n",
       "      <td>Neutral</td>\n",
       "      <td>Agree</td>\n",
       "      <td>Agree</td>\n",
       "      <td>Strongly Disagree</td>\n",
       "      <td>Strongly Disagree</td>\n",
       "      <td>Disagree</td>\n",
       "      <td>NaN</td>\n",
       "      <td>Don't have an account</td>\n",
       "      <td>Stack Overflow</td>\n",
       "      <td>NaN</td>\n",
       "    </tr>\n",
       "    <tr>\n",
       "      <th>2</th>\n",
       "      <td>3</td>\n",
       "      <td>United Kingdom</td>\n",
       "      <td>NaN</td>\n",
       "      <td>20-24</td>\n",
       "      <td>41070</td>\n",
       "      <td>Finance / Banking</td>\n",
       "      <td>Mature Small Business (25-100)</td>\n",
       "      <td>Web Application Developer</td>\n",
       "      <td>Influencer</td>\n",
       "      <td>Recommender</td>\n",
       "      <td>...</td>\n",
       "      <td>Neutral</td>\n",
       "      <td>Neutral</td>\n",
       "      <td>Neutral</td>\n",
       "      <td>Neutral</td>\n",
       "      <td>Neutral</td>\n",
       "      <td>Strongly Agree</td>\n",
       "      <td>NaN</td>\n",
       "      <td>1</td>\n",
       "      <td>Stack Overflow</td>\n",
       "      <td>NaN</td>\n",
       "    </tr>\n",
       "  </tbody>\n",
       "</table>\n",
       "<p>3 rows × 76 columns</p>\n",
       "</div>"
      ],
      "text/plain": [
       "   Unnamed: 0 What Country or Region do you live in?  \\\n",
       "0           1                                  India   \n",
       "1           2                                Germany   \n",
       "2           3                         United Kingdom   \n",
       "\n",
       "  Which US State or Territory do you live in? How old are you?  \\\n",
       "0                                         NaN            20-24   \n",
       "1                                         NaN            25-29   \n",
       "2                                         NaN            20-24   \n",
       "\n",
       "  How many years of IT/Programming experience do you have?  \\\n",
       "0                                                 <2         \n",
       "1                                                 <2         \n",
       "2                                              41070         \n",
       "\n",
       "  How would you best describe the industry you currently work in?  \\\n",
       "0                                         Consulting                \n",
       "1                                              Other                \n",
       "2                                  Finance / Banking                \n",
       "\n",
       "  Which best describes the size of your company?  \\\n",
       "0                          Fortune 1000 (1,000+)   \n",
       "1                 Mature Small Business (25-100)   \n",
       "2                 Mature Small Business (25-100)   \n",
       "\n",
       "  Which of the following best describes your occupation?  \\\n",
       "0                                  Server Programmer       \n",
       "1                     Embedded Application Developer       \n",
       "2                          Web Application Developer       \n",
       "\n",
       "  What is your involvement in purchasing products or services for the company you work for? (You can choose more than one)  \\\n",
       "0                                         Influencer                                                                         \n",
       "1                                                NaN                                                                         \n",
       "2                                         Influencer                                                                         \n",
       "\n",
       "    Unnamed: 8  ... Please rate the advertising you've seen on Stack Overflow  \\\n",
       "0  Recommender  ...                                                NaN          \n",
       "1  Recommender  ...                                            Neutral          \n",
       "2  Recommender  ...                                            Neutral          \n",
       "\n",
       "  Unnamed: 66 Unnamed: 67        Unnamed: 68        Unnamed: 69  \\\n",
       "0         NaN         NaN                NaN                NaN   \n",
       "1       Agree       Agree  Strongly Disagree  Strongly Disagree   \n",
       "2     Neutral     Neutral            Neutral            Neutral   \n",
       "\n",
       "      Unnamed: 70 What advertisers do you remember seeing on Stack Overflow?  \\\n",
       "0             NaN                                                NaN           \n",
       "1        Disagree                                                NaN           \n",
       "2  Strongly Agree                                                NaN           \n",
       "\n",
       "  What is your current Stack Overflow reputation?  \\\n",
       "0                                             NaN   \n",
       "1                           Don't have an account   \n",
       "2                                               1   \n",
       "\n",
       "  Which of our sites do you frequent most? Unnamed: 74  \n",
       "0                                      NaN         NaN  \n",
       "1                           Stack Overflow         NaN  \n",
       "2                           Stack Overflow         NaN  \n",
       "\n",
       "[3 rows x 76 columns]"
      ]
     },
     "execution_count": 12,
     "metadata": {},
     "output_type": "execute_result"
    }
   ],
   "source": [
    "if os.path.isfile(complete_file_name):\n",
    "    df_surveys_12 = pd.read_csv(complete_file_name)\n",
    "else:\n",
    "    df_surveys_12 = transform_unnamed_cols_base(df_surveys_11_to_21[2012], starting_column_name,\n",
    "                                            columns_look_ahead=len(lang_prof_CROI_2012),\n",
    "                                            new_column_name_prefix=new_column_name_prefix)\n",
    "    df_surveys_12.to_csv(complete_file_name)\n",
    "df_surveys_12.head(3)"
   ]
  },
  {
   "cell_type": "markdown",
   "metadata": {
    "pycharm": {
     "name": "#%% md\n"
    }
   },
   "source": [
    "...to 2013 survey data:\n"
   ]
  },
  {
   "cell_type": "code",
   "execution_count": 13,
   "metadata": {
    "collapsed": false,
    "pycharm": {
     "name": "#%%\n"
    }
   },
   "outputs": [],
   "source": [
    "file_name = \"2013_results_prepared.csv\"\n",
    "complete_file_name = os.path.join(path, \"data\", file_name)"
   ]
  },
  {
   "cell_type": "code",
   "execution_count": 14,
   "metadata": {
    "pycharm": {
     "name": "#%%\n"
    }
   },
   "outputs": [
    {
     "data": {
      "text/html": [
       "<div>\n",
       "<style scoped>\n",
       "    .dataframe tbody tr th:only-of-type {\n",
       "        vertical-align: middle;\n",
       "    }\n",
       "\n",
       "    .dataframe tbody tr th {\n",
       "        vertical-align: top;\n",
       "    }\n",
       "\n",
       "    .dataframe thead th {\n",
       "        text-align: right;\n",
       "    }\n",
       "</style>\n",
       "<table border=\"1\" class=\"dataframe\">\n",
       "  <thead>\n",
       "    <tr style=\"text-align: right;\">\n",
       "      <th></th>\n",
       "      <th>Unnamed: 0</th>\n",
       "      <th>What Country or Region do you live in?</th>\n",
       "      <th>Which US State or Territory do you live in?</th>\n",
       "      <th>How old are you?</th>\n",
       "      <th>How many years of IT/Programming experience do you have?</th>\n",
       "      <th>How would you best describe the industry you currently work in?</th>\n",
       "      <th>How many people work for your company?</th>\n",
       "      <th>Which of the following best describes your occupation?</th>\n",
       "      <th>Including yourself, how many developers are employed at your company?</th>\n",
       "      <th>How large is the team that you work on?</th>\n",
       "      <th>...</th>\n",
       "      <th>Unnamed: 118</th>\n",
       "      <th>Unnamed: 119</th>\n",
       "      <th>Unnamed: 120</th>\n",
       "      <th>Unnamed: 121</th>\n",
       "      <th>What advertisers do you remember seeing on Stack Overflow?</th>\n",
       "      <th>What is your current Stack Overflow reputation?</th>\n",
       "      <th>How do you use Stack Overflow?</th>\n",
       "      <th>Unnamed: 125</th>\n",
       "      <th>Unnamed: 126</th>\n",
       "      <th>Unnamed: 127</th>\n",
       "    </tr>\n",
       "  </thead>\n",
       "  <tbody>\n",
       "    <tr>\n",
       "      <th>0</th>\n",
       "      <td>1</td>\n",
       "      <td>United Kingdom</td>\n",
       "      <td>NaN</td>\n",
       "      <td>35-39</td>\n",
       "      <td>6/10/2013</td>\n",
       "      <td>Finance / Banking</td>\n",
       "      <td>101-999</td>\n",
       "      <td>Enterprise Level Services</td>\n",
       "      <td>100</td>\n",
       "      <td>4/8/2013</td>\n",
       "      <td>...</td>\n",
       "      <td>Neutral</td>\n",
       "      <td>Neutral</td>\n",
       "      <td>Neutral</td>\n",
       "      <td>Neutral</td>\n",
       "      <td>NaN</td>\n",
       "      <td>Don't have an account</td>\n",
       "      <td>Read other people's questions to solve my prob...</td>\n",
       "      <td>NaN</td>\n",
       "      <td>NaN</td>\n",
       "      <td>NaN</td>\n",
       "    </tr>\n",
       "    <tr>\n",
       "      <th>1</th>\n",
       "      <td>2</td>\n",
       "      <td>United States of America</td>\n",
       "      <td>Oregon</td>\n",
       "      <td>25-29</td>\n",
       "      <td>6/10/2013</td>\n",
       "      <td>Retail</td>\n",
       "      <td>101-999</td>\n",
       "      <td>Back-End Web Developer</td>\n",
       "      <td>6/15/2013</td>\n",
       "      <td>4/8/2013</td>\n",
       "      <td>...</td>\n",
       "      <td>Neutral</td>\n",
       "      <td>Agree</td>\n",
       "      <td>Disagree</td>\n",
       "      <td>Neutral</td>\n",
       "      <td>StackOverflow themselves, Careers 2.0 (SO also...</td>\n",
       "      <td>1</td>\n",
       "      <td>Read other people's questions to solve my prob...</td>\n",
       "      <td>Ask questions to solve problems</td>\n",
       "      <td>Answer questions I know the answer to</td>\n",
       "      <td>NaN</td>\n",
       "    </tr>\n",
       "    <tr>\n",
       "      <th>2</th>\n",
       "      <td>3</td>\n",
       "      <td>United States of America</td>\n",
       "      <td>Wisconsin</td>\n",
       "      <td>51-60</td>\n",
       "      <td>11</td>\n",
       "      <td>Software Products</td>\n",
       "      <td>26-100</td>\n",
       "      <td>Enterprise Level Services</td>\n",
       "      <td>6/15/2013</td>\n",
       "      <td>Just me!</td>\n",
       "      <td>...</td>\n",
       "      <td>Neutral</td>\n",
       "      <td>Strongly Disagree</td>\n",
       "      <td>Strongly Disagree</td>\n",
       "      <td>Strongly Disagree</td>\n",
       "      <td>don't recall seeing ads on Stack Overflow</td>\n",
       "      <td>Don't have an account</td>\n",
       "      <td>Read other people's questions to solve my prob...</td>\n",
       "      <td>NaN</td>\n",
       "      <td>NaN</td>\n",
       "      <td>NaN</td>\n",
       "    </tr>\n",
       "  </tbody>\n",
       "</table>\n",
       "<p>3 rows × 129 columns</p>\n",
       "</div>"
      ],
      "text/plain": [
       "   Unnamed: 0 What Country or Region do you live in?  \\\n",
       "0           1                         United Kingdom   \n",
       "1           2               United States of America   \n",
       "2           3               United States of America   \n",
       "\n",
       "  Which US State or Territory do you live in? How old are you?  \\\n",
       "0                                         NaN            35-39   \n",
       "1                                      Oregon            25-29   \n",
       "2                                   Wisconsin            51-60   \n",
       "\n",
       "  How many years of IT/Programming experience do you have?  \\\n",
       "0                                          6/10/2013         \n",
       "1                                          6/10/2013         \n",
       "2                                                 11         \n",
       "\n",
       "  How would you best describe the industry you currently work in?  \\\n",
       "0                                  Finance / Banking                \n",
       "1                                             Retail                \n",
       "2                                  Software Products                \n",
       "\n",
       "  How many people work for your company?  \\\n",
       "0                                101-999   \n",
       "1                                101-999   \n",
       "2                                 26-100   \n",
       "\n",
       "  Which of the following best describes your occupation?  \\\n",
       "0                          Enterprise Level Services       \n",
       "1                             Back-End Web Developer       \n",
       "2                          Enterprise Level Services       \n",
       "\n",
       "  Including yourself, how many developers are employed at your company?  \\\n",
       "0                                                100                      \n",
       "1                                          6/15/2013                      \n",
       "2                                          6/15/2013                      \n",
       "\n",
       "  How large is the team that you work on?  ... Unnamed: 118  \\\n",
       "0                                4/8/2013  ...      Neutral   \n",
       "1                                4/8/2013  ...      Neutral   \n",
       "2                                Just me!  ...      Neutral   \n",
       "\n",
       "        Unnamed: 119       Unnamed: 120       Unnamed: 121  \\\n",
       "0            Neutral            Neutral            Neutral   \n",
       "1              Agree           Disagree            Neutral   \n",
       "2  Strongly Disagree  Strongly Disagree  Strongly Disagree   \n",
       "\n",
       "  What advertisers do you remember seeing on Stack Overflow?  \\\n",
       "0                                                NaN           \n",
       "1  StackOverflow themselves, Careers 2.0 (SO also...           \n",
       "2          don't recall seeing ads on Stack Overflow           \n",
       "\n",
       "  What is your current Stack Overflow reputation?  \\\n",
       "0                           Don't have an account   \n",
       "1                                               1   \n",
       "2                           Don't have an account   \n",
       "\n",
       "                      How do you use Stack Overflow?  \\\n",
       "0  Read other people's questions to solve my prob...   \n",
       "1  Read other people's questions to solve my prob...   \n",
       "2  Read other people's questions to solve my prob...   \n",
       "\n",
       "                      Unnamed: 125                           Unnamed: 126  \\\n",
       "0                              NaN                                    NaN   \n",
       "1  Ask questions to solve problems  Answer questions I know the answer to   \n",
       "2                              NaN                                    NaN   \n",
       "\n",
       "  Unnamed: 127  \n",
       "0          NaN  \n",
       "1          NaN  \n",
       "2          NaN  \n",
       "\n",
       "[3 rows x 129 columns]"
      ]
     },
     "execution_count": 14,
     "metadata": {},
     "output_type": "execute_result"
    }
   ],
   "source": [
    "if os.path.isfile(complete_file_name):\n",
    "    df_surveys_13 = pd.read_csv(complete_file_name)\n",
    "else:\n",
    "    starting_column_name = \"Which of the following languages or technologies have you used significantly in the past year?\"\n",
    "    df_surveys_13 = transform_unnamed_cols_base(df_surveys_11_to_21[2013], starting_column_name,\n",
    "                                            columns_look_ahead=len(lang_prof_CROI_2013),\n",
    "                                            new_column_name_prefix=new_column_name_prefix)\n",
    "    df_surveys_13.to_csv(complete_file_name)\n",
    "df_surveys_13.head(3)\n"
   ]
  },
  {
   "cell_type": "markdown",
   "metadata": {
    "pycharm": {
     "name": "#%% md\n"
    }
   },
   "source": [
    "...to 2014 survey data:\n"
   ]
  },
  {
   "cell_type": "code",
   "execution_count": 15,
   "metadata": {
    "collapsed": false,
    "pycharm": {
     "name": "#%%\n"
    }
   },
   "outputs": [],
   "source": [
    "file_name = \"2014_results_prepared.csv\"\n",
    "complete_file_name = os.path.join(path, \"data\", file_name)"
   ]
  },
  {
   "cell_type": "code",
   "execution_count": 16,
   "metadata": {
    "pycharm": {
     "name": "#%%\n"
    }
   },
   "outputs": [
    {
     "data": {
      "text/html": [
       "<div>\n",
       "<style scoped>\n",
       "    .dataframe tbody tr th:only-of-type {\n",
       "        vertical-align: middle;\n",
       "    }\n",
       "\n",
       "    .dataframe tbody tr th {\n",
       "        vertical-align: top;\n",
       "    }\n",
       "\n",
       "    .dataframe thead th {\n",
       "        text-align: right;\n",
       "    }\n",
       "</style>\n",
       "<table border=\"1\" class=\"dataframe\">\n",
       "  <thead>\n",
       "    <tr style=\"text-align: right;\">\n",
       "      <th></th>\n",
       "      <th>Unnamed: 0</th>\n",
       "      <th>What Country do you live in?</th>\n",
       "      <th>Unnamed: 1</th>\n",
       "      <th>Which US State or Territory do you live in?</th>\n",
       "      <th>How old are you?</th>\n",
       "      <th>What is your gender?</th>\n",
       "      <th>How many years of IT/Programming experience do you have?</th>\n",
       "      <th>Which of the following best describes your occupation?</th>\n",
       "      <th>Including bonus, what is your annual compensation in USD?</th>\n",
       "      <th>How would you best describe the industry you currently work in?</th>\n",
       "      <th>...</th>\n",
       "      <th>Did you participate in the Apptivate contest?</th>\n",
       "      <th>What advertisers do you remember seeing on Stack Overflow?</th>\n",
       "      <th>What is your current Stack Overflow reputation?</th>\n",
       "      <th>How do you use Stack Overflow?</th>\n",
       "      <th>Unnamed: 114</th>\n",
       "      <th>Unnamed: 115</th>\n",
       "      <th>Unnamed: 116</th>\n",
       "      <th>Unnamed: 117</th>\n",
       "      <th>Unnamed: 118</th>\n",
       "      <th>How often do you find solutions to your programming problems on Stack Overflow without asking a new question?</th>\n",
       "    </tr>\n",
       "  </thead>\n",
       "  <tbody>\n",
       "    <tr>\n",
       "      <th>0</th>\n",
       "      <td>1</td>\n",
       "      <td>India</td>\n",
       "      <td>NaN</td>\n",
       "      <td>NaN</td>\n",
       "      <td>30-34</td>\n",
       "      <td>Female</td>\n",
       "      <td>6/10/2014</td>\n",
       "      <td>Back-End Web Developer</td>\n",
       "      <td>$20,000 - $40,000</td>\n",
       "      <td>Finance / Banking</td>\n",
       "      <td>...</td>\n",
       "      <td>No</td>\n",
       "      <td>NaN</td>\n",
       "      <td>500</td>\n",
       "      <td>Read other people's questions to solve my prob...</td>\n",
       "      <td>Ask questions to solve problems</td>\n",
       "      <td>NaN</td>\n",
       "      <td>NaN</td>\n",
       "      <td>NaN</td>\n",
       "      <td>NaN</td>\n",
       "      <td>Almost Always</td>\n",
       "    </tr>\n",
       "    <tr>\n",
       "      <th>1</th>\n",
       "      <td>2</td>\n",
       "      <td>Thailand</td>\n",
       "      <td>NaN</td>\n",
       "      <td>NaN</td>\n",
       "      <td>20-24</td>\n",
       "      <td>Male</td>\n",
       "      <td>&lt;2</td>\n",
       "      <td>Back-End Web Developer</td>\n",
       "      <td>Student / Unemployed</td>\n",
       "      <td>Healthcare</td>\n",
       "      <td>...</td>\n",
       "      <td>NaN</td>\n",
       "      <td>NaN</td>\n",
       "      <td>Don't have an account</td>\n",
       "      <td>Read other people's questions to solve my prob...</td>\n",
       "      <td>NaN</td>\n",
       "      <td>NaN</td>\n",
       "      <td>NaN</td>\n",
       "      <td>NaN</td>\n",
       "      <td>NaN</td>\n",
       "      <td>NaN</td>\n",
       "    </tr>\n",
       "    <tr>\n",
       "      <th>2</th>\n",
       "      <td>3</td>\n",
       "      <td>Iran</td>\n",
       "      <td>NaN</td>\n",
       "      <td>NaN</td>\n",
       "      <td>25-29</td>\n",
       "      <td>Male</td>\n",
       "      <td>6/10/2014</td>\n",
       "      <td>Desktop Software Developer</td>\n",
       "      <td>&lt;$20,000</td>\n",
       "      <td>Not Currently Employed</td>\n",
       "      <td>...</td>\n",
       "      <td>No</td>\n",
       "      <td>Tehcodez</td>\n",
       "      <td>1</td>\n",
       "      <td>Read other people's questions to solve my prob...</td>\n",
       "      <td>NaN</td>\n",
       "      <td>NaN</td>\n",
       "      <td>NaN</td>\n",
       "      <td>NaN</td>\n",
       "      <td>NaN</td>\n",
       "      <td>Almost Always</td>\n",
       "    </tr>\n",
       "  </tbody>\n",
       "</table>\n",
       "<p>3 rows × 121 columns</p>\n",
       "</div>"
      ],
      "text/plain": [
       "   Unnamed: 0 What Country do you live in?  Unnamed: 1  \\\n",
       "0           1                        India         NaN   \n",
       "1           2                     Thailand         NaN   \n",
       "2           3                         Iran         NaN   \n",
       "\n",
       "  Which US State or Territory do you live in? How old are you?  \\\n",
       "0                                         NaN            30-34   \n",
       "1                                         NaN            20-24   \n",
       "2                                         NaN            25-29   \n",
       "\n",
       "  What is your gender?  \\\n",
       "0               Female   \n",
       "1                 Male   \n",
       "2                 Male   \n",
       "\n",
       "  How many years of IT/Programming experience do you have?  \\\n",
       "0                                          6/10/2014         \n",
       "1                                                 <2         \n",
       "2                                          6/10/2014         \n",
       "\n",
       "  Which of the following best describes your occupation?  \\\n",
       "0                             Back-End Web Developer       \n",
       "1                             Back-End Web Developer       \n",
       "2                         Desktop Software Developer       \n",
       "\n",
       "  Including bonus, what is your annual compensation in USD?  \\\n",
       "0                                  $20,000 - $40,000          \n",
       "1                               Student / Unemployed          \n",
       "2                                           <$20,000          \n",
       "\n",
       "  How would you best describe the industry you currently work in?  ...  \\\n",
       "0                                  Finance / Banking               ...   \n",
       "1                                         Healthcare               ...   \n",
       "2                             Not Currently Employed               ...   \n",
       "\n",
       "  Did you participate in the Apptivate contest?  \\\n",
       "0                                            No   \n",
       "1                                           NaN   \n",
       "2                                            No   \n",
       "\n",
       "  What advertisers do you remember seeing on Stack Overflow?  \\\n",
       "0                                                NaN           \n",
       "1                                                NaN           \n",
       "2                                           Tehcodez           \n",
       "\n",
       "  What is your current Stack Overflow reputation?  \\\n",
       "0                                             500   \n",
       "1                           Don't have an account   \n",
       "2                                               1   \n",
       "\n",
       "                      How do you use Stack Overflow?  \\\n",
       "0  Read other people's questions to solve my prob...   \n",
       "1  Read other people's questions to solve my prob...   \n",
       "2  Read other people's questions to solve my prob...   \n",
       "\n",
       "                      Unnamed: 114 Unnamed: 115 Unnamed: 116 Unnamed: 117  \\\n",
       "0  Ask questions to solve problems          NaN          NaN          NaN   \n",
       "1                              NaN          NaN          NaN          NaN   \n",
       "2                              NaN          NaN          NaN          NaN   \n",
       "\n",
       "  Unnamed: 118  \\\n",
       "0          NaN   \n",
       "1          NaN   \n",
       "2          NaN   \n",
       "\n",
       "  How often do you find solutions to your programming problems on Stack Overflow without asking a new question?  \n",
       "0                                      Almost Always                                                             \n",
       "1                                                NaN                                                             \n",
       "2                                      Almost Always                                                             \n",
       "\n",
       "[3 rows x 121 columns]"
      ]
     },
     "execution_count": 16,
     "metadata": {},
     "output_type": "execute_result"
    }
   ],
   "source": [
    "if os.path.isfile(complete_file_name):\n",
    "    df_surveys_14 = pd.read_csv(complete_file_name)\n",
    "else:\n",
    "    starting_column_name = \"Which of the following languages or technologies have you used significantly in the past year?\"\n",
    "    df_surveys_14 = transform_unnamed_cols_base(df_surveys_11_to_21[2014], starting_column_name,\n",
    "                                            columns_look_ahead=len(lang_prof_CROI_2014),\n",
    "                                            new_column_name_prefix=new_column_name_prefix)\n",
    "    df_surveys_14.to_csv(complete_file_name)\n",
    "df_surveys_14.head(3)"
   ]
  },
  {
   "cell_type": "markdown",
   "metadata": {
    "pycharm": {
     "name": "#%% md\n"
    }
   },
   "source": [
    "Now, knowing from exploration phase that 2015 dataset have a different features' layout,\n",
    "I'll use a specific function to prepare the data:"
   ]
  },
  {
   "cell_type": "code",
   "execution_count": 17,
   "metadata": {
    "collapsed": false,
    "pycharm": {
     "name": "#%%\n"
    }
   },
   "outputs": [],
   "source": [
    "file_name = \"2015_results_prepared.csv\"\n",
    "complete_file_name = os.path.join(path, \"data\", file_name)"
   ]
  },
  {
   "cell_type": "code",
   "execution_count": 18,
   "metadata": {
    "pycharm": {
     "name": "#%%\n"
    }
   },
   "outputs": [
    {
     "name": "stderr",
     "output_type": "stream",
     "text": [
      "c:\\Users\\alfon\\.conda\\envs\\mlDaSci\\lib\\site-packages\\IPython\\core\\interactiveshell.py:3397: DtypeWarning: Columns (6,109,122,197,198,199) have mixed types.Specify dtype option on import or set low_memory=False.\n",
      "  exec(code_obj, self.user_global_ns, self.user_ns)\n"
     ]
    },
    {
     "data": {
      "text/html": [
       "<div>\n",
       "<style scoped>\n",
       "    .dataframe tbody tr th:only-of-type {\n",
       "        vertical-align: middle;\n",
       "    }\n",
       "\n",
       "    .dataframe tbody tr th {\n",
       "        vertical-align: top;\n",
       "    }\n",
       "\n",
       "    .dataframe thead th {\n",
       "        text-align: right;\n",
       "    }\n",
       "</style>\n",
       "<table border=\"1\" class=\"dataframe\">\n",
       "  <thead>\n",
       "    <tr style=\"text-align: right;\">\n",
       "      <th></th>\n",
       "      <th>Unnamed: 0</th>\n",
       "      <th>Country</th>\n",
       "      <th>Age</th>\n",
       "      <th>Gender</th>\n",
       "      <th>Tabs or Spaces</th>\n",
       "      <th>Years IT / Programming Experience</th>\n",
       "      <th>Occupation</th>\n",
       "      <th>Desktop Operating System</th>\n",
       "      <th>Desktop Operating System: write-in</th>\n",
       "      <th>Current Lang &amp; Tech: Android</th>\n",
       "      <th>...</th>\n",
       "      <th>Why use Stack Overflow: I don't use Stack Overflow</th>\n",
       "      <th>How often are Stack Overflow's answers helpful</th>\n",
       "      <th>Why answer: Help a programmer in need</th>\n",
       "      <th>Why answer: Help future programmers</th>\n",
       "      <th>Why answer: Demonstrate expertise</th>\n",
       "      <th>Why answer: Self promotion</th>\n",
       "      <th>Why answer: Sense of responsibility to developers</th>\n",
       "      <th>Why answer: No idea</th>\n",
       "      <th>Why answer: I don't answer and I don't want to</th>\n",
       "      <th>Why answer: I don't answer but I want to</th>\n",
       "    </tr>\n",
       "  </thead>\n",
       "  <tbody>\n",
       "    <tr>\n",
       "      <th>0</th>\n",
       "      <td>1</td>\n",
       "      <td>Croatia</td>\n",
       "      <td>25-29</td>\n",
       "      <td>Male</td>\n",
       "      <td>Tabs</td>\n",
       "      <td>2 - 5 years</td>\n",
       "      <td>Back-end web developer</td>\n",
       "      <td>Ubuntu</td>\n",
       "      <td>NaN</td>\n",
       "      <td>0</td>\n",
       "      <td>...</td>\n",
       "      <td>NaN</td>\n",
       "      <td>Usually</td>\n",
       "      <td>NaN</td>\n",
       "      <td>NaN</td>\n",
       "      <td>It feels good to demonstrate my expertise.</td>\n",
       "      <td>Demonstrating my expertise will benefit me</td>\n",
       "      <td>I feel a sense of responsibility to the develo...</td>\n",
       "      <td>NaN</td>\n",
       "      <td>NaN</td>\n",
       "      <td>NaN</td>\n",
       "    </tr>\n",
       "    <tr>\n",
       "      <th>1</th>\n",
       "      <td>2</td>\n",
       "      <td>France</td>\n",
       "      <td>20-24</td>\n",
       "      <td>Male</td>\n",
       "      <td>Spaces</td>\n",
       "      <td>1 - 2 years</td>\n",
       "      <td>Back-end web developer</td>\n",
       "      <td>Windows 7</td>\n",
       "      <td>NaN</td>\n",
       "      <td>0</td>\n",
       "      <td>...</td>\n",
       "      <td>NaN</td>\n",
       "      <td>Usually</td>\n",
       "      <td>NaN</td>\n",
       "      <td>My answer will help lots of people who have th...</td>\n",
       "      <td>It feels good to demonstrate my expertise.</td>\n",
       "      <td>NaN</td>\n",
       "      <td>NaN</td>\n",
       "      <td>NaN</td>\n",
       "      <td>NaN</td>\n",
       "      <td>NaN</td>\n",
       "    </tr>\n",
       "    <tr>\n",
       "      <th>2</th>\n",
       "      <td>3</td>\n",
       "      <td>India</td>\n",
       "      <td>20-24</td>\n",
       "      <td>Male</td>\n",
       "      <td>Tabs</td>\n",
       "      <td>1 - 2 years</td>\n",
       "      <td>Back-end web developer</td>\n",
       "      <td>Windows 7</td>\n",
       "      <td>NaN</td>\n",
       "      <td>0</td>\n",
       "      <td>...</td>\n",
       "      <td>NaN</td>\n",
       "      <td>Rarely</td>\n",
       "      <td>NaN</td>\n",
       "      <td>NaN</td>\n",
       "      <td>NaN</td>\n",
       "      <td>Demonstrating my expertise will benefit me</td>\n",
       "      <td>NaN</td>\n",
       "      <td>NaN</td>\n",
       "      <td>NaN</td>\n",
       "      <td>NaN</td>\n",
       "    </tr>\n",
       "  </tbody>\n",
       "</table>\n",
       "<p>3 rows × 223 columns</p>\n",
       "</div>"
      ],
      "text/plain": [
       "   Unnamed: 0  Country    Age Gender Tabs or Spaces  \\\n",
       "0           1  Croatia  25-29   Male           Tabs   \n",
       "1           2   France  20-24   Male         Spaces   \n",
       "2           3    India  20-24   Male           Tabs   \n",
       "\n",
       "  Years IT / Programming Experience              Occupation  \\\n",
       "0                       2 - 5 years  Back-end web developer   \n",
       "1                       1 - 2 years  Back-end web developer   \n",
       "2                       1 - 2 years  Back-end web developer   \n",
       "\n",
       "  Desktop Operating System Desktop Operating System: write-in  \\\n",
       "0                   Ubuntu                                NaN   \n",
       "1                Windows 7                                NaN   \n",
       "2                Windows 7                                NaN   \n",
       "\n",
       "   Current Lang & Tech: Android  ...  \\\n",
       "0                             0  ...   \n",
       "1                             0  ...   \n",
       "2                             0  ...   \n",
       "\n",
       "   Why use Stack Overflow: I don't use Stack Overflow  \\\n",
       "0                                                NaN    \n",
       "1                                                NaN    \n",
       "2                                                NaN    \n",
       "\n",
       "   How often are Stack Overflow's answers helpful  \\\n",
       "0                                         Usually   \n",
       "1                                         Usually   \n",
       "2                                          Rarely   \n",
       "\n",
       "   Why answer: Help a programmer in need  \\\n",
       "0                                    NaN   \n",
       "1                                    NaN   \n",
       "2                                    NaN   \n",
       "\n",
       "                 Why answer: Help future programmers  \\\n",
       "0                                                NaN   \n",
       "1  My answer will help lots of people who have th...   \n",
       "2                                                NaN   \n",
       "\n",
       "            Why answer: Demonstrate expertise  \\\n",
       "0  It feels good to demonstrate my expertise.   \n",
       "1  It feels good to demonstrate my expertise.   \n",
       "2                                         NaN   \n",
       "\n",
       "                   Why answer: Self promotion  \\\n",
       "0  Demonstrating my expertise will benefit me   \n",
       "1                                         NaN   \n",
       "2  Demonstrating my expertise will benefit me   \n",
       "\n",
       "   Why answer: Sense of responsibility to developers  Why answer: No idea  \\\n",
       "0  I feel a sense of responsibility to the develo...                  NaN   \n",
       "1                                                NaN                  NaN   \n",
       "2                                                NaN                  NaN   \n",
       "\n",
       "   Why answer: I don't answer and I don't want to  \\\n",
       "0                                             NaN   \n",
       "1                                             NaN   \n",
       "2                                             NaN   \n",
       "\n",
       "   Why answer: I don't answer but I want to  \n",
       "0                                       NaN  \n",
       "1                                       NaN  \n",
       "2                                       NaN  \n",
       "\n",
       "[3 rows x 223 columns]"
      ]
     },
     "execution_count": 18,
     "metadata": {},
     "output_type": "execute_result"
    }
   ],
   "source": [
    "from preparation.data_transform import df_2015_survey_preprocessing\n",
    "if os.path.isfile(complete_file_name):\n",
    "    df_surveys_15 = pd.read_csv(complete_file_name)\n",
    "else:\n",
    "    df_surveys_15 = df_2015_survey_preprocessing(df_surveys_11_to_21[2015], lang_prof_CROI_2015)\n",
    "    df_surveys_15.to_csv(complete_file_name)\n",
    "df_surveys_15.head(3)"
   ]
  },
  {
   "cell_type": "markdown",
   "metadata": {
    "pycharm": {
     "name": "#%% md\n"
    }
   },
   "source": [
    "Data from 2016 survey (and successive) on have a different layout, hence it should be processed differently:\n",
    "from the fact that in the input dataframes all the feature categories sits in a single column separated by semicolons,\n",
    "this feature column must be split, in order to obtain a similar layout as in previously described dataframes:"
   ]
  },
  {
   "cell_type": "code",
   "execution_count": 19,
   "metadata": {
    "collapsed": false,
    "pycharm": {
     "name": "#%%\n"
    }
   },
   "outputs": [],
   "source": [
    "file_name = \"2016_results_prepared.csv\"\n",
    "complete_file_name = os.path.join(path, \"data\", file_name)"
   ]
  },
  {
   "cell_type": "code",
   "execution_count": 20,
   "metadata": {
    "pycharm": {
     "name": "#%%\n"
    }
   },
   "outputs": [
    {
     "data": {
      "text/html": [
       "<div>\n",
       "<style scoped>\n",
       "    .dataframe tbody tr th:only-of-type {\n",
       "        vertical-align: middle;\n",
       "    }\n",
       "\n",
       "    .dataframe tbody tr th {\n",
       "        vertical-align: top;\n",
       "    }\n",
       "\n",
       "    .dataframe thead th {\n",
       "        text-align: right;\n",
       "    }\n",
       "</style>\n",
       "<table border=\"1\" class=\"dataframe\">\n",
       "  <thead>\n",
       "    <tr style=\"text-align: right;\">\n",
       "      <th></th>\n",
       "      <th>Unnamed: 0</th>\n",
       "      <th>Unnamed: 0.1</th>\n",
       "      <th>collector</th>\n",
       "      <th>country</th>\n",
       "      <th>un_subregion</th>\n",
       "      <th>so_region</th>\n",
       "      <th>age_range</th>\n",
       "      <th>age_midpoint</th>\n",
       "      <th>gender</th>\n",
       "      <th>self_identification</th>\n",
       "      <th>...</th>\n",
       "      <th>tech_do: Salesforce</th>\n",
       "      <th>tech_do: Scala</th>\n",
       "      <th>tech_do: SharePoint</th>\n",
       "      <th>tech_do: Spark</th>\n",
       "      <th>tech_do: SQL</th>\n",
       "      <th>tech_do: SQL Server</th>\n",
       "      <th>tech_do: Swift</th>\n",
       "      <th>tech_do: Visual Basic</th>\n",
       "      <th>tech_do: Windows Phone</th>\n",
       "      <th>tech_do: WordPress</th>\n",
       "    </tr>\n",
       "  </thead>\n",
       "  <tbody>\n",
       "    <tr>\n",
       "      <th>0</th>\n",
       "      <td>0</td>\n",
       "      <td>1888</td>\n",
       "      <td>Facebook</td>\n",
       "      <td>Afghanistan</td>\n",
       "      <td>Southern Asia</td>\n",
       "      <td>Central Asia</td>\n",
       "      <td>20-24</td>\n",
       "      <td>22.0</td>\n",
       "      <td>Male</td>\n",
       "      <td>Programmer</td>\n",
       "      <td>...</td>\n",
       "      <td>0.0</td>\n",
       "      <td>0.0</td>\n",
       "      <td>0.0</td>\n",
       "      <td>0.0</td>\n",
       "      <td>0.0</td>\n",
       "      <td>0.0</td>\n",
       "      <td>0.0</td>\n",
       "      <td>0.0</td>\n",
       "      <td>0.0</td>\n",
       "      <td>0.0</td>\n",
       "    </tr>\n",
       "    <tr>\n",
       "      <th>1</th>\n",
       "      <td>1</td>\n",
       "      <td>4637</td>\n",
       "      <td>Facebook</td>\n",
       "      <td>Afghanistan</td>\n",
       "      <td>Southern Asia</td>\n",
       "      <td>Central Asia</td>\n",
       "      <td>30-34</td>\n",
       "      <td>32.0</td>\n",
       "      <td>Male</td>\n",
       "      <td>Developer; Engineer; Programmer</td>\n",
       "      <td>...</td>\n",
       "      <td>0.0</td>\n",
       "      <td>0.0</td>\n",
       "      <td>0.0</td>\n",
       "      <td>0.0</td>\n",
       "      <td>0.0</td>\n",
       "      <td>0.0</td>\n",
       "      <td>0.0</td>\n",
       "      <td>0.0</td>\n",
       "      <td>0.0</td>\n",
       "      <td>0.0</td>\n",
       "    </tr>\n",
       "    <tr>\n",
       "      <th>2</th>\n",
       "      <td>2</td>\n",
       "      <td>11164</td>\n",
       "      <td>Facebook</td>\n",
       "      <td>Afghanistan</td>\n",
       "      <td>Southern Asia</td>\n",
       "      <td>Central Asia</td>\n",
       "      <td>0</td>\n",
       "      <td>0.0</td>\n",
       "      <td>0</td>\n",
       "      <td>0</td>\n",
       "      <td>...</td>\n",
       "      <td>0.0</td>\n",
       "      <td>0.0</td>\n",
       "      <td>0.0</td>\n",
       "      <td>0.0</td>\n",
       "      <td>0.0</td>\n",
       "      <td>0.0</td>\n",
       "      <td>0.0</td>\n",
       "      <td>0.0</td>\n",
       "      <td>0.0</td>\n",
       "      <td>0.0</td>\n",
       "    </tr>\n",
       "  </tbody>\n",
       "</table>\n",
       "<p>3 rows × 108 columns</p>\n",
       "</div>"
      ],
      "text/plain": [
       "   Unnamed: 0  Unnamed: 0.1 collector      country   un_subregion  \\\n",
       "0           0          1888  Facebook  Afghanistan  Southern Asia   \n",
       "1           1          4637  Facebook  Afghanistan  Southern Asia   \n",
       "2           2         11164  Facebook  Afghanistan  Southern Asia   \n",
       "\n",
       "      so_region age_range  age_midpoint gender  \\\n",
       "0  Central Asia     20-24          22.0   Male   \n",
       "1  Central Asia     30-34          32.0   Male   \n",
       "2  Central Asia         0           0.0      0   \n",
       "\n",
       "               self_identification  ... tech_do: Salesforce tech_do: Scala  \\\n",
       "0                       Programmer  ...                 0.0            0.0   \n",
       "1  Developer; Engineer; Programmer  ...                 0.0            0.0   \n",
       "2                                0  ...                 0.0            0.0   \n",
       "\n",
       "  tech_do: SharePoint  tech_do: Spark tech_do: SQL  tech_do: SQL Server  \\\n",
       "0                 0.0             0.0          0.0                  0.0   \n",
       "1                 0.0             0.0          0.0                  0.0   \n",
       "2                 0.0             0.0          0.0                  0.0   \n",
       "\n",
       "   tech_do: Swift tech_do: Visual Basic tech_do: Windows Phone  \\\n",
       "0             0.0                   0.0                    0.0   \n",
       "1             0.0                   0.0                    0.0   \n",
       "2             0.0                   0.0                    0.0   \n",
       "\n",
       "   tech_do: WordPress  \n",
       "0                 0.0  \n",
       "1                 0.0  \n",
       "2                 0.0  \n",
       "\n",
       "[3 rows x 108 columns]"
      ]
     },
     "execution_count": 20,
     "metadata": {},
     "output_type": "execute_result"
    }
   ],
   "source": [
    "if os.path.isfile(complete_file_name):\n",
    "    df_surveys_16 = pd.read_csv(complete_file_name)\n",
    "else:\n",
    "    df_surveys_16 = feature_split(df=df_surveys_11_to_21[2016], column_to_split=\"tech_do\", inplace=False)\n",
    "    df_surveys_16.to_csv(complete_file_name)\n",
    "df_surveys_16.head(3)"
   ]
  },
  {
   "cell_type": "markdown",
   "metadata": {
    "pycharm": {
     "name": "#%% md\n"
    }
   },
   "source": [
    "This process will also be applicable to 2017 data:"
   ]
  },
  {
   "cell_type": "code",
   "execution_count": 21,
   "metadata": {
    "collapsed": false,
    "pycharm": {
     "name": "#%%\n"
    }
   },
   "outputs": [],
   "source": [
    "file_name = \"2017_results_prepared.csv\"\n",
    "complete_file_name = os.path.join(path, \"data\", file_name)"
   ]
  },
  {
   "cell_type": "code",
   "execution_count": 22,
   "metadata": {
    "pycharm": {
     "name": "#%%\n"
    }
   },
   "outputs": [
    {
     "data": {
      "text/html": [
       "<div>\n",
       "<style scoped>\n",
       "    .dataframe tbody tr th:only-of-type {\n",
       "        vertical-align: middle;\n",
       "    }\n",
       "\n",
       "    .dataframe tbody tr th {\n",
       "        vertical-align: top;\n",
       "    }\n",
       "\n",
       "    .dataframe thead th {\n",
       "        text-align: right;\n",
       "    }\n",
       "</style>\n",
       "<table border=\"1\" class=\"dataframe\">\n",
       "  <thead>\n",
       "    <tr style=\"text-align: right;\">\n",
       "      <th></th>\n",
       "      <th>Unnamed: 0</th>\n",
       "      <th>Respondent</th>\n",
       "      <th>Professional</th>\n",
       "      <th>ProgramHobby</th>\n",
       "      <th>Country</th>\n",
       "      <th>University</th>\n",
       "      <th>EmploymentStatus</th>\n",
       "      <th>FormalEducation</th>\n",
       "      <th>MajorUndergrad</th>\n",
       "      <th>HomeRemote</th>\n",
       "      <th>...</th>\n",
       "      <th>HaveWorkedLanguage: Lua</th>\n",
       "      <th>HaveWorkedLanguage: VBA</th>\n",
       "      <th>HaveWorkedLanguage: Groovy</th>\n",
       "      <th>HaveWorkedLanguage: Go</th>\n",
       "      <th>HaveWorkedLanguage: Smalltalk</th>\n",
       "      <th>HaveWorkedLanguage: Visual Basic 6</th>\n",
       "      <th>HaveWorkedLanguage: Common Lisp</th>\n",
       "      <th>HaveWorkedLanguage: Dart</th>\n",
       "      <th>HaveWorkedLanguage: Julia</th>\n",
       "      <th>HaveWorkedLanguage: Hack</th>\n",
       "    </tr>\n",
       "  </thead>\n",
       "  <tbody>\n",
       "    <tr>\n",
       "      <th>0</th>\n",
       "      <td>0</td>\n",
       "      <td>1</td>\n",
       "      <td>Student</td>\n",
       "      <td>Yes, both</td>\n",
       "      <td>United States</td>\n",
       "      <td>No</td>\n",
       "      <td>Not employed, and not looking for work</td>\n",
       "      <td>Secondary school</td>\n",
       "      <td>0</td>\n",
       "      <td>0</td>\n",
       "      <td>...</td>\n",
       "      <td>0.0</td>\n",
       "      <td>0.0</td>\n",
       "      <td>0.0</td>\n",
       "      <td>0.0</td>\n",
       "      <td>0.0</td>\n",
       "      <td>0.0</td>\n",
       "      <td>0.0</td>\n",
       "      <td>0.0</td>\n",
       "      <td>0.0</td>\n",
       "      <td>0.0</td>\n",
       "    </tr>\n",
       "    <tr>\n",
       "      <th>1</th>\n",
       "      <td>1</td>\n",
       "      <td>2</td>\n",
       "      <td>Student</td>\n",
       "      <td>Yes, both</td>\n",
       "      <td>United Kingdom</td>\n",
       "      <td>Yes, full-time</td>\n",
       "      <td>Employed part-time</td>\n",
       "      <td>Some college/university study without earning ...</td>\n",
       "      <td>Computer science or software engineering</td>\n",
       "      <td>More than half, but not all, the time</td>\n",
       "      <td>...</td>\n",
       "      <td>0.0</td>\n",
       "      <td>0.0</td>\n",
       "      <td>0.0</td>\n",
       "      <td>0.0</td>\n",
       "      <td>0.0</td>\n",
       "      <td>0.0</td>\n",
       "      <td>0.0</td>\n",
       "      <td>0.0</td>\n",
       "      <td>0.0</td>\n",
       "      <td>0.0</td>\n",
       "    </tr>\n",
       "    <tr>\n",
       "      <th>2</th>\n",
       "      <td>2</td>\n",
       "      <td>3</td>\n",
       "      <td>Professional developer</td>\n",
       "      <td>Yes, both</td>\n",
       "      <td>United Kingdom</td>\n",
       "      <td>No</td>\n",
       "      <td>Employed full-time</td>\n",
       "      <td>Bachelor's degree</td>\n",
       "      <td>Computer science or software engineering</td>\n",
       "      <td>Less than half the time, but at least one day ...</td>\n",
       "      <td>...</td>\n",
       "      <td>0.0</td>\n",
       "      <td>0.0</td>\n",
       "      <td>0.0</td>\n",
       "      <td>0.0</td>\n",
       "      <td>0.0</td>\n",
       "      <td>0.0</td>\n",
       "      <td>0.0</td>\n",
       "      <td>0.0</td>\n",
       "      <td>0.0</td>\n",
       "      <td>0.0</td>\n",
       "    </tr>\n",
       "  </tbody>\n",
       "</table>\n",
       "<p>3 rows × 189 columns</p>\n",
       "</div>"
      ],
      "text/plain": [
       "   Unnamed: 0  Respondent            Professional ProgramHobby  \\\n",
       "0           0           1                 Student    Yes, both   \n",
       "1           1           2                 Student    Yes, both   \n",
       "2           2           3  Professional developer    Yes, both   \n",
       "\n",
       "          Country      University                        EmploymentStatus  \\\n",
       "0   United States              No  Not employed, and not looking for work   \n",
       "1  United Kingdom  Yes, full-time                      Employed part-time   \n",
       "2  United Kingdom              No                      Employed full-time   \n",
       "\n",
       "                                     FormalEducation  \\\n",
       "0                                   Secondary school   \n",
       "1  Some college/university study without earning ...   \n",
       "2                                  Bachelor's degree   \n",
       "\n",
       "                             MajorUndergrad  \\\n",
       "0                                         0   \n",
       "1  Computer science or software engineering   \n",
       "2  Computer science or software engineering   \n",
       "\n",
       "                                          HomeRemote  ...  \\\n",
       "0                                                  0  ...   \n",
       "1              More than half, but not all, the time  ...   \n",
       "2  Less than half the time, but at least one day ...  ...   \n",
       "\n",
       "  HaveWorkedLanguage: Lua HaveWorkedLanguage: VBA HaveWorkedLanguage: Groovy  \\\n",
       "0                     0.0                     0.0                        0.0   \n",
       "1                     0.0                     0.0                        0.0   \n",
       "2                     0.0                     0.0                        0.0   \n",
       "\n",
       "  HaveWorkedLanguage: Go HaveWorkedLanguage: Smalltalk  \\\n",
       "0                    0.0                           0.0   \n",
       "1                    0.0                           0.0   \n",
       "2                    0.0                           0.0   \n",
       "\n",
       "  HaveWorkedLanguage: Visual Basic 6 HaveWorkedLanguage: Common Lisp  \\\n",
       "0                                0.0                             0.0   \n",
       "1                                0.0                             0.0   \n",
       "2                                0.0                             0.0   \n",
       "\n",
       "  HaveWorkedLanguage: Dart HaveWorkedLanguage: Julia  HaveWorkedLanguage: Hack  \n",
       "0                      0.0                       0.0                       0.0  \n",
       "1                      0.0                       0.0                       0.0  \n",
       "2                      0.0                       0.0                       0.0  \n",
       "\n",
       "[3 rows x 189 columns]"
      ]
     },
     "execution_count": 22,
     "metadata": {},
     "output_type": "execute_result"
    }
   ],
   "source": [
    "if os.path.isfile(complete_file_name):\n",
    "    df_surveys_17 = pd.read_csv(complete_file_name)\n",
    "else:\n",
    "    df_surveys_17 = feature_split(df=df_surveys_11_to_21[2017], column_to_split=\"HaveWorkedLanguage\", inplace=False)\n",
    "    df_surveys_17.to_csv(complete_file_name)\n",
    "df_surveys_17.head(3)"
   ]
  },
  {
   "cell_type": "markdown",
   "metadata": {
    "pycharm": {
     "name": "#%% md\n"
    }
   },
   "source": [
    "... 2018 data:"
   ]
  },
  {
   "cell_type": "code",
   "execution_count": 23,
   "metadata": {
    "collapsed": false,
    "pycharm": {
     "name": "#%%\n"
    }
   },
   "outputs": [],
   "source": [
    "file_name = \"2018_results_prepared.csv\"\n",
    "complete_file_name = os.path.join(path, \"data\", file_name)"
   ]
  },
  {
   "cell_type": "code",
   "execution_count": 24,
   "metadata": {
    "pycharm": {
     "name": "#%%\n"
    }
   },
   "outputs": [
    {
     "name": "stderr",
     "output_type": "stream",
     "text": [
      "c:\\Users\\alfon\\.conda\\envs\\mlDaSci\\lib\\site-packages\\IPython\\core\\interactiveshell.py:3397: DtypeWarning: Columns (9,13,14,15,16,17,51,52,53,54,56,57,58,59,60,61,62,63,64,65,66,67,68,69,70,71,72,73,74,75,76,77,78,79,80,81,82,83,84,85,93,94,95,96,97,98,99,100,101,102,103,104,105,106,107,108,109,110,111,112,113,114,115,116,117,118,119,120,121,122,123,124,125,126,127,128) have mixed types.Specify dtype option on import or set low_memory=False.\n",
      "  exec(code_obj, self.user_global_ns, self.user_ns)\n"
     ]
    },
    {
     "data": {
      "text/html": [
       "<div>\n",
       "<style scoped>\n",
       "    .dataframe tbody tr th:only-of-type {\n",
       "        vertical-align: middle;\n",
       "    }\n",
       "\n",
       "    .dataframe tbody tr th {\n",
       "        vertical-align: top;\n",
       "    }\n",
       "\n",
       "    .dataframe thead th {\n",
       "        text-align: right;\n",
       "    }\n",
       "</style>\n",
       "<table border=\"1\" class=\"dataframe\">\n",
       "  <thead>\n",
       "    <tr style=\"text-align: right;\">\n",
       "      <th></th>\n",
       "      <th>Unnamed: 0</th>\n",
       "      <th>Respondent</th>\n",
       "      <th>Hobby</th>\n",
       "      <th>OpenSource</th>\n",
       "      <th>Country</th>\n",
       "      <th>Student</th>\n",
       "      <th>Employment</th>\n",
       "      <th>FormalEducation</th>\n",
       "      <th>UndergradMajor</th>\n",
       "      <th>CompanySize</th>\n",
       "      <th>...</th>\n",
       "      <th>LanguageWorkedWith: Rust</th>\n",
       "      <th>LanguageWorkedWith: Julia</th>\n",
       "      <th>LanguageWorkedWith: VBA</th>\n",
       "      <th>LanguageWorkedWith: Perl</th>\n",
       "      <th>LanguageWorkedWith: Cobol</th>\n",
       "      <th>LanguageWorkedWith: Visual Basic 6</th>\n",
       "      <th>LanguageWorkedWith: Delphi/Object Pascal</th>\n",
       "      <th>LanguageWorkedWith: Hack</th>\n",
       "      <th>LanguageWorkedWith: Clojure</th>\n",
       "      <th>LanguageWorkedWith: Ocaml</th>\n",
       "    </tr>\n",
       "  </thead>\n",
       "  <tbody>\n",
       "    <tr>\n",
       "      <th>0</th>\n",
       "      <td>0</td>\n",
       "      <td>1</td>\n",
       "      <td>Yes</td>\n",
       "      <td>No</td>\n",
       "      <td>Kenya</td>\n",
       "      <td>No</td>\n",
       "      <td>Employed part-time</td>\n",
       "      <td>Bachelorâs degree (BA, BS, B.Eng., etc.)</td>\n",
       "      <td>Mathematics or statistics</td>\n",
       "      <td>20 to 99 employees</td>\n",
       "      <td>...</td>\n",
       "      <td>0.0</td>\n",
       "      <td>0.0</td>\n",
       "      <td>0.0</td>\n",
       "      <td>0.0</td>\n",
       "      <td>0.0</td>\n",
       "      <td>0.0</td>\n",
       "      <td>0.0</td>\n",
       "      <td>0.0</td>\n",
       "      <td>0.0</td>\n",
       "      <td>0.0</td>\n",
       "    </tr>\n",
       "    <tr>\n",
       "      <th>1</th>\n",
       "      <td>1</td>\n",
       "      <td>3</td>\n",
       "      <td>Yes</td>\n",
       "      <td>Yes</td>\n",
       "      <td>United Kingdom</td>\n",
       "      <td>No</td>\n",
       "      <td>Employed full-time</td>\n",
       "      <td>Bachelorâs degree (BA, BS, B.Eng., etc.)</td>\n",
       "      <td>A natural science (ex. biology, chemistry, phy...</td>\n",
       "      <td>10,000 or more employees</td>\n",
       "      <td>...</td>\n",
       "      <td>0.0</td>\n",
       "      <td>0.0</td>\n",
       "      <td>0.0</td>\n",
       "      <td>0.0</td>\n",
       "      <td>0.0</td>\n",
       "      <td>0.0</td>\n",
       "      <td>0.0</td>\n",
       "      <td>0.0</td>\n",
       "      <td>0.0</td>\n",
       "      <td>0.0</td>\n",
       "    </tr>\n",
       "    <tr>\n",
       "      <th>2</th>\n",
       "      <td>2</td>\n",
       "      <td>4</td>\n",
       "      <td>Yes</td>\n",
       "      <td>Yes</td>\n",
       "      <td>United States</td>\n",
       "      <td>No</td>\n",
       "      <td>Employed full-time</td>\n",
       "      <td>Associate degree</td>\n",
       "      <td>Computer science, computer engineering, or sof...</td>\n",
       "      <td>20 to 99 employees</td>\n",
       "      <td>...</td>\n",
       "      <td>0.0</td>\n",
       "      <td>0.0</td>\n",
       "      <td>0.0</td>\n",
       "      <td>0.0</td>\n",
       "      <td>0.0</td>\n",
       "      <td>0.0</td>\n",
       "      <td>0.0</td>\n",
       "      <td>0.0</td>\n",
       "      <td>0.0</td>\n",
       "      <td>0.0</td>\n",
       "    </tr>\n",
       "  </tbody>\n",
       "</table>\n",
       "<p>3 rows × 167 columns</p>\n",
       "</div>"
      ],
      "text/plain": [
       "   Unnamed: 0  Respondent Hobby OpenSource         Country Student  \\\n",
       "0           0           1   Yes         No           Kenya      No   \n",
       "1           1           3   Yes        Yes  United Kingdom      No   \n",
       "2           2           4   Yes        Yes   United States      No   \n",
       "\n",
       "           Employment                             FormalEducation  \\\n",
       "0  Employed part-time  Bachelorâs degree (BA, BS, B.Eng., etc.)   \n",
       "1  Employed full-time  Bachelorâs degree (BA, BS, B.Eng., etc.)   \n",
       "2  Employed full-time                            Associate degree   \n",
       "\n",
       "                                      UndergradMajor  \\\n",
       "0                          Mathematics or statistics   \n",
       "1  A natural science (ex. biology, chemistry, phy...   \n",
       "2  Computer science, computer engineering, or sof...   \n",
       "\n",
       "                CompanySize  ... LanguageWorkedWith: Rust  \\\n",
       "0        20 to 99 employees  ...                      0.0   \n",
       "1  10,000 or more employees  ...                      0.0   \n",
       "2        20 to 99 employees  ...                      0.0   \n",
       "\n",
       "  LanguageWorkedWith: Julia LanguageWorkedWith: VBA LanguageWorkedWith: Perl  \\\n",
       "0                       0.0                     0.0                      0.0   \n",
       "1                       0.0                     0.0                      0.0   \n",
       "2                       0.0                     0.0                      0.0   \n",
       "\n",
       "  LanguageWorkedWith: Cobol LanguageWorkedWith: Visual Basic 6  \\\n",
       "0                       0.0                                0.0   \n",
       "1                       0.0                                0.0   \n",
       "2                       0.0                                0.0   \n",
       "\n",
       "  LanguageWorkedWith: Delphi/Object Pascal LanguageWorkedWith: Hack  \\\n",
       "0                                      0.0                      0.0   \n",
       "1                                      0.0                      0.0   \n",
       "2                                      0.0                      0.0   \n",
       "\n",
       "   LanguageWorkedWith: Clojure  LanguageWorkedWith: Ocaml  \n",
       "0                          0.0                        0.0  \n",
       "1                          0.0                        0.0  \n",
       "2                          0.0                        0.0  \n",
       "\n",
       "[3 rows x 167 columns]"
      ]
     },
     "execution_count": 24,
     "metadata": {},
     "output_type": "execute_result"
    }
   ],
   "source": [
    "if os.path.isfile(complete_file_name):\n",
    "    df_surveys_18 = pd.read_csv(complete_file_name)\n",
    "else:\n",
    "    df_surveys_18 = feature_split(df=df_surveys_11_to_21[2018], column_to_split=\"LanguageWorkedWith\", inplace=False)\n",
    "    df_surveys_18.to_csv(complete_file_name)\n",
    "df_surveys_18.head(3)"
   ]
  },
  {
   "cell_type": "markdown",
   "metadata": {
    "pycharm": {
     "name": "#%% md\n"
    }
   },
   "source": [
    "... 2019 data:"
   ]
  },
  {
   "cell_type": "code",
   "execution_count": 25,
   "metadata": {
    "collapsed": false,
    "pycharm": {
     "name": "#%%\n"
    }
   },
   "outputs": [],
   "source": [
    "file_name = \"2019_results_prepared.csv\"\n",
    "complete_file_name = os.path.join(path, \"data\", file_name)"
   ]
  },
  {
   "cell_type": "code",
   "execution_count": 26,
   "metadata": {
    "pycharm": {
     "name": "#%%\n"
    }
   },
   "outputs": [
    {
     "data": {
      "text/html": [
       "<div>\n",
       "<style scoped>\n",
       "    .dataframe tbody tr th:only-of-type {\n",
       "        vertical-align: middle;\n",
       "    }\n",
       "\n",
       "    .dataframe tbody tr th {\n",
       "        vertical-align: top;\n",
       "    }\n",
       "\n",
       "    .dataframe thead th {\n",
       "        text-align: right;\n",
       "    }\n",
       "</style>\n",
       "<table border=\"1\" class=\"dataframe\">\n",
       "  <thead>\n",
       "    <tr style=\"text-align: right;\">\n",
       "      <th></th>\n",
       "      <th>Unnamed: 0</th>\n",
       "      <th>Respondent</th>\n",
       "      <th>MainBranch</th>\n",
       "      <th>Hobbyist</th>\n",
       "      <th>OpenSourcer</th>\n",
       "      <th>OpenSource</th>\n",
       "      <th>Employment</th>\n",
       "      <th>Country</th>\n",
       "      <th>Student</th>\n",
       "      <th>EdLevel</th>\n",
       "      <th>...</th>\n",
       "      <th>LanguageWorkedWith: Assembly</th>\n",
       "      <th>LanguageWorkedWith: Kotlin</th>\n",
       "      <th>LanguageWorkedWith: Swift</th>\n",
       "      <th>LanguageWorkedWith: Objective-C</th>\n",
       "      <th>LanguageWorkedWith: Elixir</th>\n",
       "      <th>LanguageWorkedWith: Erlang</th>\n",
       "      <th>LanguageWorkedWith: Clojure</th>\n",
       "      <th>LanguageWorkedWith: F#</th>\n",
       "      <th>LanguageWorkedWith: Scala</th>\n",
       "      <th>LanguageWorkedWith: Dart</th>\n",
       "    </tr>\n",
       "  </thead>\n",
       "  <tbody>\n",
       "    <tr>\n",
       "      <th>0</th>\n",
       "      <td>0</td>\n",
       "      <td>1</td>\n",
       "      <td>I am a student who is learning to code</td>\n",
       "      <td>Yes</td>\n",
       "      <td>Never</td>\n",
       "      <td>The quality of OSS and closed source software ...</td>\n",
       "      <td>Not employed, and not looking for work</td>\n",
       "      <td>United Kingdom</td>\n",
       "      <td>No</td>\n",
       "      <td>Primary/elementary school</td>\n",
       "      <td>...</td>\n",
       "      <td>0.0</td>\n",
       "      <td>0.0</td>\n",
       "      <td>0.0</td>\n",
       "      <td>0.0</td>\n",
       "      <td>0.0</td>\n",
       "      <td>0.0</td>\n",
       "      <td>0.0</td>\n",
       "      <td>0.0</td>\n",
       "      <td>0.0</td>\n",
       "      <td>0.0</td>\n",
       "    </tr>\n",
       "    <tr>\n",
       "      <th>1</th>\n",
       "      <td>1</td>\n",
       "      <td>2</td>\n",
       "      <td>I am a student who is learning to code</td>\n",
       "      <td>No</td>\n",
       "      <td>Less than once per year</td>\n",
       "      <td>The quality of OSS and closed source software ...</td>\n",
       "      <td>Not employed, but looking for work</td>\n",
       "      <td>Bosnia and Herzegovina</td>\n",
       "      <td>Yes, full-time</td>\n",
       "      <td>Secondary school (e.g. American high school, G...</td>\n",
       "      <td>...</td>\n",
       "      <td>0.0</td>\n",
       "      <td>0.0</td>\n",
       "      <td>0.0</td>\n",
       "      <td>0.0</td>\n",
       "      <td>0.0</td>\n",
       "      <td>0.0</td>\n",
       "      <td>0.0</td>\n",
       "      <td>0.0</td>\n",
       "      <td>0.0</td>\n",
       "      <td>0.0</td>\n",
       "    </tr>\n",
       "    <tr>\n",
       "      <th>2</th>\n",
       "      <td>2</td>\n",
       "      <td>3</td>\n",
       "      <td>I am not primarily a developer, but I write co...</td>\n",
       "      <td>Yes</td>\n",
       "      <td>Never</td>\n",
       "      <td>The quality of OSS and closed source software ...</td>\n",
       "      <td>Employed full-time</td>\n",
       "      <td>Thailand</td>\n",
       "      <td>No</td>\n",
       "      <td>Bachelorâs degree (BA, BS, B.Eng., etc.)</td>\n",
       "      <td>...</td>\n",
       "      <td>0.0</td>\n",
       "      <td>0.0</td>\n",
       "      <td>0.0</td>\n",
       "      <td>0.0</td>\n",
       "      <td>0.0</td>\n",
       "      <td>0.0</td>\n",
       "      <td>0.0</td>\n",
       "      <td>0.0</td>\n",
       "      <td>0.0</td>\n",
       "      <td>0.0</td>\n",
       "    </tr>\n",
       "  </tbody>\n",
       "</table>\n",
       "<p>3 rows × 113 columns</p>\n",
       "</div>"
      ],
      "text/plain": [
       "   Unnamed: 0  Respondent                                         MainBranch  \\\n",
       "0           0           1             I am a student who is learning to code   \n",
       "1           1           2             I am a student who is learning to code   \n",
       "2           2           3  I am not primarily a developer, but I write co...   \n",
       "\n",
       "  Hobbyist              OpenSourcer  \\\n",
       "0      Yes                    Never   \n",
       "1       No  Less than once per year   \n",
       "2      Yes                    Never   \n",
       "\n",
       "                                          OpenSource  \\\n",
       "0  The quality of OSS and closed source software ...   \n",
       "1  The quality of OSS and closed source software ...   \n",
       "2  The quality of OSS and closed source software ...   \n",
       "\n",
       "                               Employment                 Country  \\\n",
       "0  Not employed, and not looking for work          United Kingdom   \n",
       "1      Not employed, but looking for work  Bosnia and Herzegovina   \n",
       "2                      Employed full-time                Thailand   \n",
       "\n",
       "          Student                                            EdLevel  ...  \\\n",
       "0              No                          Primary/elementary school  ...   \n",
       "1  Yes, full-time  Secondary school (e.g. American high school, G...  ...   \n",
       "2              No         Bachelorâs degree (BA, BS, B.Eng., etc.)  ...   \n",
       "\n",
       "  LanguageWorkedWith: Assembly LanguageWorkedWith: Kotlin  \\\n",
       "0                          0.0                        0.0   \n",
       "1                          0.0                        0.0   \n",
       "2                          0.0                        0.0   \n",
       "\n",
       "  LanguageWorkedWith: Swift LanguageWorkedWith: Objective-C  \\\n",
       "0                       0.0                             0.0   \n",
       "1                       0.0                             0.0   \n",
       "2                       0.0                             0.0   \n",
       "\n",
       "  LanguageWorkedWith: Elixir LanguageWorkedWith: Erlang  \\\n",
       "0                        0.0                        0.0   \n",
       "1                        0.0                        0.0   \n",
       "2                        0.0                        0.0   \n",
       "\n",
       "  LanguageWorkedWith: Clojure LanguageWorkedWith: F#  \\\n",
       "0                         0.0                    0.0   \n",
       "1                         0.0                    0.0   \n",
       "2                         0.0                    0.0   \n",
       "\n",
       "  LanguageWorkedWith: Scala LanguageWorkedWith: Dart  \n",
       "0                       0.0                      0.0  \n",
       "1                       0.0                      0.0  \n",
       "2                       0.0                      0.0  \n",
       "\n",
       "[3 rows x 113 columns]"
      ]
     },
     "execution_count": 26,
     "metadata": {},
     "output_type": "execute_result"
    }
   ],
   "source": [
    "if os.path.isfile(complete_file_name):\n",
    "    df_surveys_19 = pd.read_csv(complete_file_name)\n",
    "else:\n",
    "    df_surveys_19 = feature_split(df=df_surveys_11_to_21[2019], column_to_split=\"LanguageWorkedWith\", inplace=False)\n",
    "    df_surveys_19.to_csv(complete_file_name)\n",
    "df_surveys_19.head(3)"
   ]
  },
  {
   "cell_type": "markdown",
   "metadata": {
    "pycharm": {
     "name": "#%% md\n"
    }
   },
   "source": [
    "... 2020 data:"
   ]
  },
  {
   "cell_type": "code",
   "execution_count": 27,
   "metadata": {
    "collapsed": false,
    "pycharm": {
     "name": "#%%\n"
    }
   },
   "outputs": [],
   "source": [
    "file_name = \"2020_results_prepared.csv\"\n",
    "complete_file_name = os.path.join(path, \"data\", file_name)"
   ]
  },
  {
   "cell_type": "code",
   "execution_count": 28,
   "metadata": {
    "pycharm": {
     "name": "#%%\n"
    }
   },
   "outputs": [
    {
     "data": {
      "text/html": [
       "<div>\n",
       "<style scoped>\n",
       "    .dataframe tbody tr th:only-of-type {\n",
       "        vertical-align: middle;\n",
       "    }\n",
       "\n",
       "    .dataframe tbody tr th {\n",
       "        vertical-align: top;\n",
       "    }\n",
       "\n",
       "    .dataframe thead th {\n",
       "        text-align: right;\n",
       "    }\n",
       "</style>\n",
       "<table border=\"1\" class=\"dataframe\">\n",
       "  <thead>\n",
       "    <tr style=\"text-align: right;\">\n",
       "      <th></th>\n",
       "      <th>Unnamed: 0</th>\n",
       "      <th>Respondent</th>\n",
       "      <th>MainBranch</th>\n",
       "      <th>Hobbyist</th>\n",
       "      <th>Age</th>\n",
       "      <th>Age1stCode</th>\n",
       "      <th>CompFreq</th>\n",
       "      <th>CompTotal</th>\n",
       "      <th>ConvertedComp</th>\n",
       "      <th>Country</th>\n",
       "      <th>...</th>\n",
       "      <th>LanguageWorkedWith: VBA</th>\n",
       "      <th>LanguageWorkedWith: Perl</th>\n",
       "      <th>LanguageWorkedWith: Scala</th>\n",
       "      <th>LanguageWorkedWith: C++</th>\n",
       "      <th>LanguageWorkedWith: Go</th>\n",
       "      <th>LanguageWorkedWith: Haskell</th>\n",
       "      <th>LanguageWorkedWith: Rust</th>\n",
       "      <th>LanguageWorkedWith: Dart</th>\n",
       "      <th>LanguageWorkedWith: Julia</th>\n",
       "      <th>LanguageWorkedWith: Assembly</th>\n",
       "    </tr>\n",
       "  </thead>\n",
       "  <tbody>\n",
       "    <tr>\n",
       "      <th>0</th>\n",
       "      <td>0</td>\n",
       "      <td>1</td>\n",
       "      <td>I am a developer by profession</td>\n",
       "      <td>Yes</td>\n",
       "      <td>0.0</td>\n",
       "      <td>13</td>\n",
       "      <td>Monthly</td>\n",
       "      <td>0.0</td>\n",
       "      <td>0.0</td>\n",
       "      <td>Germany</td>\n",
       "      <td>...</td>\n",
       "      <td>0.0</td>\n",
       "      <td>0.0</td>\n",
       "      <td>0.0</td>\n",
       "      <td>0.0</td>\n",
       "      <td>0.0</td>\n",
       "      <td>0.0</td>\n",
       "      <td>0.0</td>\n",
       "      <td>0.0</td>\n",
       "      <td>0.0</td>\n",
       "      <td>0.0</td>\n",
       "    </tr>\n",
       "    <tr>\n",
       "      <th>1</th>\n",
       "      <td>1</td>\n",
       "      <td>2</td>\n",
       "      <td>I am a developer by profession</td>\n",
       "      <td>No</td>\n",
       "      <td>0.0</td>\n",
       "      <td>19</td>\n",
       "      <td>0</td>\n",
       "      <td>0.0</td>\n",
       "      <td>0.0</td>\n",
       "      <td>United Kingdom</td>\n",
       "      <td>...</td>\n",
       "      <td>0.0</td>\n",
       "      <td>0.0</td>\n",
       "      <td>0.0</td>\n",
       "      <td>0.0</td>\n",
       "      <td>0.0</td>\n",
       "      <td>0.0</td>\n",
       "      <td>0.0</td>\n",
       "      <td>0.0</td>\n",
       "      <td>0.0</td>\n",
       "      <td>0.0</td>\n",
       "    </tr>\n",
       "    <tr>\n",
       "      <th>2</th>\n",
       "      <td>2</td>\n",
       "      <td>3</td>\n",
       "      <td>I code primarily as a hobby</td>\n",
       "      <td>Yes</td>\n",
       "      <td>0.0</td>\n",
       "      <td>15</td>\n",
       "      <td>0</td>\n",
       "      <td>0.0</td>\n",
       "      <td>0.0</td>\n",
       "      <td>Russian Federation</td>\n",
       "      <td>...</td>\n",
       "      <td>0.0</td>\n",
       "      <td>0.0</td>\n",
       "      <td>0.0</td>\n",
       "      <td>0.0</td>\n",
       "      <td>0.0</td>\n",
       "      <td>0.0</td>\n",
       "      <td>0.0</td>\n",
       "      <td>0.0</td>\n",
       "      <td>0.0</td>\n",
       "      <td>0.0</td>\n",
       "    </tr>\n",
       "  </tbody>\n",
       "</table>\n",
       "<p>3 rows × 86 columns</p>\n",
       "</div>"
      ],
      "text/plain": [
       "   Unnamed: 0  Respondent                      MainBranch Hobbyist  Age  \\\n",
       "0           0           1  I am a developer by profession      Yes  0.0   \n",
       "1           1           2  I am a developer by profession       No  0.0   \n",
       "2           2           3     I code primarily as a hobby      Yes  0.0   \n",
       "\n",
       "  Age1stCode CompFreq  CompTotal  ConvertedComp             Country  ...  \\\n",
       "0         13  Monthly        0.0            0.0             Germany  ...   \n",
       "1         19        0        0.0            0.0      United Kingdom  ...   \n",
       "2         15        0        0.0            0.0  Russian Federation  ...   \n",
       "\n",
       "  LanguageWorkedWith: VBA LanguageWorkedWith: Perl LanguageWorkedWith: Scala  \\\n",
       "0                     0.0                      0.0                       0.0   \n",
       "1                     0.0                      0.0                       0.0   \n",
       "2                     0.0                      0.0                       0.0   \n",
       "\n",
       "  LanguageWorkedWith: C++ LanguageWorkedWith: Go LanguageWorkedWith: Haskell  \\\n",
       "0                     0.0                    0.0                         0.0   \n",
       "1                     0.0                    0.0                         0.0   \n",
       "2                     0.0                    0.0                         0.0   \n",
       "\n",
       "  LanguageWorkedWith: Rust LanguageWorkedWith: Dart LanguageWorkedWith: Julia  \\\n",
       "0                      0.0                      0.0                       0.0   \n",
       "1                      0.0                      0.0                       0.0   \n",
       "2                      0.0                      0.0                       0.0   \n",
       "\n",
       "  LanguageWorkedWith: Assembly  \n",
       "0                          0.0  \n",
       "1                          0.0  \n",
       "2                          0.0  \n",
       "\n",
       "[3 rows x 86 columns]"
      ]
     },
     "execution_count": 28,
     "metadata": {},
     "output_type": "execute_result"
    }
   ],
   "source": [
    "if os.path.isfile(complete_file_name):\n",
    "    df_surveys_20 = pd.read_csv(complete_file_name)\n",
    "else:\n",
    "    df_surveys_20 = feature_split(df=df_surveys_11_to_21[2020], column_to_split=\"LanguageWorkedWith\", inplace=False)\n",
    "    df_surveys_20.to_csv(complete_file_name)\n",
    "df_surveys_20.head(3)"
   ]
  },
  {
   "cell_type": "markdown",
   "metadata": {
    "pycharm": {
     "name": "#%% md\n"
    }
   },
   "source": [
    "...And 2021 data:"
   ]
  },
  {
   "cell_type": "code",
   "execution_count": 29,
   "metadata": {
    "collapsed": false,
    "pycharm": {
     "name": "#%%\n"
    }
   },
   "outputs": [],
   "source": [
    "file_name = \"2021_results_prepared.csv\"\n",
    "complete_file_name = os.path.join(path, \"data\", file_name)"
   ]
  },
  {
   "cell_type": "code",
   "execution_count": 30,
   "metadata": {
    "pycharm": {
     "name": "#%%\n"
    }
   },
   "outputs": [
    {
     "data": {
      "text/html": [
       "<div>\n",
       "<style scoped>\n",
       "    .dataframe tbody tr th:only-of-type {\n",
       "        vertical-align: middle;\n",
       "    }\n",
       "\n",
       "    .dataframe tbody tr th {\n",
       "        vertical-align: top;\n",
       "    }\n",
       "\n",
       "    .dataframe thead th {\n",
       "        text-align: right;\n",
       "    }\n",
       "</style>\n",
       "<table border=\"1\" class=\"dataframe\">\n",
       "  <thead>\n",
       "    <tr style=\"text-align: right;\">\n",
       "      <th></th>\n",
       "      <th>Unnamed: 0</th>\n",
       "      <th>ResponseId</th>\n",
       "      <th>MainBranch</th>\n",
       "      <th>Employment</th>\n",
       "      <th>Country</th>\n",
       "      <th>US_State</th>\n",
       "      <th>UK_Country</th>\n",
       "      <th>EdLevel</th>\n",
       "      <th>Age1stCode</th>\n",
       "      <th>LearnCode</th>\n",
       "      <th>...</th>\n",
       "      <th>LanguageHaveWorkedWith: VBA</th>\n",
       "      <th>LanguageHaveWorkedWith: Groovy</th>\n",
       "      <th>LanguageHaveWorkedWith: Clojure</th>\n",
       "      <th>LanguageHaveWorkedWith: APL</th>\n",
       "      <th>LanguageHaveWorkedWith: LISP</th>\n",
       "      <th>LanguageHaveWorkedWith: F#</th>\n",
       "      <th>LanguageHaveWorkedWith: Elixir</th>\n",
       "      <th>LanguageHaveWorkedWith: Erlang</th>\n",
       "      <th>LanguageHaveWorkedWith: Crystal</th>\n",
       "      <th>LanguageHaveWorkedWith: COBOL</th>\n",
       "    </tr>\n",
       "  </thead>\n",
       "  <tbody>\n",
       "    <tr>\n",
       "      <th>0</th>\n",
       "      <td>0</td>\n",
       "      <td>1</td>\n",
       "      <td>I am a developer by profession</td>\n",
       "      <td>Independent contractor, freelancer, or self-em...</td>\n",
       "      <td>Slovakia</td>\n",
       "      <td>0</td>\n",
       "      <td>0</td>\n",
       "      <td>Secondary school (e.g. American high school, G...</td>\n",
       "      <td>18 - 24 years</td>\n",
       "      <td>Coding Bootcamp;Other online resources (ex: vi...</td>\n",
       "      <td>...</td>\n",
       "      <td>0.0</td>\n",
       "      <td>0.0</td>\n",
       "      <td>0.0</td>\n",
       "      <td>0.0</td>\n",
       "      <td>0.0</td>\n",
       "      <td>0.0</td>\n",
       "      <td>0.0</td>\n",
       "      <td>0.0</td>\n",
       "      <td>0.0</td>\n",
       "      <td>0.0</td>\n",
       "    </tr>\n",
       "    <tr>\n",
       "      <th>1</th>\n",
       "      <td>1</td>\n",
       "      <td>2</td>\n",
       "      <td>I am a student who is learning to code</td>\n",
       "      <td>Student, full-time</td>\n",
       "      <td>Netherlands</td>\n",
       "      <td>0</td>\n",
       "      <td>0</td>\n",
       "      <td>Bachelorâs degree (B.A., B.S., B.Eng., etc.)</td>\n",
       "      <td>11 - 17 years</td>\n",
       "      <td>Other online resources (ex: videos, blogs, etc...</td>\n",
       "      <td>...</td>\n",
       "      <td>0.0</td>\n",
       "      <td>0.0</td>\n",
       "      <td>0.0</td>\n",
       "      <td>0.0</td>\n",
       "      <td>0.0</td>\n",
       "      <td>0.0</td>\n",
       "      <td>0.0</td>\n",
       "      <td>0.0</td>\n",
       "      <td>0.0</td>\n",
       "      <td>0.0</td>\n",
       "    </tr>\n",
       "    <tr>\n",
       "      <th>2</th>\n",
       "      <td>2</td>\n",
       "      <td>3</td>\n",
       "      <td>I am not primarily a developer, but I write co...</td>\n",
       "      <td>Student, full-time</td>\n",
       "      <td>Russian Federation</td>\n",
       "      <td>0</td>\n",
       "      <td>0</td>\n",
       "      <td>Bachelorâs degree (B.A., B.S., B.Eng., etc.)</td>\n",
       "      <td>11 - 17 years</td>\n",
       "      <td>Other online resources (ex: videos, blogs, etc...</td>\n",
       "      <td>...</td>\n",
       "      <td>0.0</td>\n",
       "      <td>0.0</td>\n",
       "      <td>0.0</td>\n",
       "      <td>0.0</td>\n",
       "      <td>0.0</td>\n",
       "      <td>0.0</td>\n",
       "      <td>0.0</td>\n",
       "      <td>0.0</td>\n",
       "      <td>0.0</td>\n",
       "      <td>0.0</td>\n",
       "    </tr>\n",
       "    <tr>\n",
       "      <th>3</th>\n",
       "      <td>3</td>\n",
       "      <td>4</td>\n",
       "      <td>I am a developer by profession</td>\n",
       "      <td>Employed full-time</td>\n",
       "      <td>Austria</td>\n",
       "      <td>0</td>\n",
       "      <td>0</td>\n",
       "      <td>Masterâs degree (M.A., M.S., M.Eng., MBA, etc.)</td>\n",
       "      <td>11 - 17 years</td>\n",
       "      <td>0</td>\n",
       "      <td>...</td>\n",
       "      <td>0.0</td>\n",
       "      <td>0.0</td>\n",
       "      <td>0.0</td>\n",
       "      <td>0.0</td>\n",
       "      <td>0.0</td>\n",
       "      <td>0.0</td>\n",
       "      <td>0.0</td>\n",
       "      <td>0.0</td>\n",
       "      <td>0.0</td>\n",
       "      <td>0.0</td>\n",
       "    </tr>\n",
       "    <tr>\n",
       "      <th>4</th>\n",
       "      <td>4</td>\n",
       "      <td>5</td>\n",
       "      <td>I am a developer by profession</td>\n",
       "      <td>Independent contractor, freelancer, or self-em...</td>\n",
       "      <td>United Kingdom of Great Britain and Northern I...</td>\n",
       "      <td>0</td>\n",
       "      <td>England</td>\n",
       "      <td>Masterâs degree (M.A., M.S., M.Eng., MBA, etc.)</td>\n",
       "      <td>5 - 10 years</td>\n",
       "      <td>Friend or family member</td>\n",
       "      <td>...</td>\n",
       "      <td>0.0</td>\n",
       "      <td>0.0</td>\n",
       "      <td>0.0</td>\n",
       "      <td>0.0</td>\n",
       "      <td>0.0</td>\n",
       "      <td>0.0</td>\n",
       "      <td>0.0</td>\n",
       "      <td>0.0</td>\n",
       "      <td>0.0</td>\n",
       "      <td>0.0</td>\n",
       "    </tr>\n",
       "  </tbody>\n",
       "</table>\n",
       "<p>5 rows × 86 columns</p>\n",
       "</div>"
      ],
      "text/plain": [
       "   Unnamed: 0  ResponseId                                         MainBranch  \\\n",
       "0           0           1                     I am a developer by profession   \n",
       "1           1           2             I am a student who is learning to code   \n",
       "2           2           3  I am not primarily a developer, but I write co...   \n",
       "3           3           4                     I am a developer by profession   \n",
       "4           4           5                     I am a developer by profession   \n",
       "\n",
       "                                          Employment  \\\n",
       "0  Independent contractor, freelancer, or self-em...   \n",
       "1                                 Student, full-time   \n",
       "2                                 Student, full-time   \n",
       "3                                 Employed full-time   \n",
       "4  Independent contractor, freelancer, or self-em...   \n",
       "\n",
       "                                             Country US_State UK_Country  \\\n",
       "0                                           Slovakia        0          0   \n",
       "1                                        Netherlands        0          0   \n",
       "2                                 Russian Federation        0          0   \n",
       "3                                            Austria        0          0   \n",
       "4  United Kingdom of Great Britain and Northern I...        0    England   \n",
       "\n",
       "                                             EdLevel     Age1stCode  \\\n",
       "0  Secondary school (e.g. American high school, G...  18 - 24 years   \n",
       "1     Bachelorâs degree (B.A., B.S., B.Eng., etc.)  11 - 17 years   \n",
       "2     Bachelorâs degree (B.A., B.S., B.Eng., etc.)  11 - 17 years   \n",
       "3  Masterâs degree (M.A., M.S., M.Eng., MBA, etc.)  11 - 17 years   \n",
       "4  Masterâs degree (M.A., M.S., M.Eng., MBA, etc.)   5 - 10 years   \n",
       "\n",
       "                                           LearnCode  ...  \\\n",
       "0  Coding Bootcamp;Other online resources (ex: vi...  ...   \n",
       "1  Other online resources (ex: videos, blogs, etc...  ...   \n",
       "2  Other online resources (ex: videos, blogs, etc...  ...   \n",
       "3                                                  0  ...   \n",
       "4                            Friend or family member  ...   \n",
       "\n",
       "  LanguageHaveWorkedWith: VBA LanguageHaveWorkedWith: Groovy  \\\n",
       "0                         0.0                            0.0   \n",
       "1                         0.0                            0.0   \n",
       "2                         0.0                            0.0   \n",
       "3                         0.0                            0.0   \n",
       "4                         0.0                            0.0   \n",
       "\n",
       "  LanguageHaveWorkedWith: Clojure LanguageHaveWorkedWith: APL  \\\n",
       "0                             0.0                         0.0   \n",
       "1                             0.0                         0.0   \n",
       "2                             0.0                         0.0   \n",
       "3                             0.0                         0.0   \n",
       "4                             0.0                         0.0   \n",
       "\n",
       "  LanguageHaveWorkedWith: LISP  LanguageHaveWorkedWith: F#  \\\n",
       "0                          0.0                         0.0   \n",
       "1                          0.0                         0.0   \n",
       "2                          0.0                         0.0   \n",
       "3                          0.0                         0.0   \n",
       "4                          0.0                         0.0   \n",
       "\n",
       "  LanguageHaveWorkedWith: Elixir LanguageHaveWorkedWith: Erlang  \\\n",
       "0                            0.0                            0.0   \n",
       "1                            0.0                            0.0   \n",
       "2                            0.0                            0.0   \n",
       "3                            0.0                            0.0   \n",
       "4                            0.0                            0.0   \n",
       "\n",
       "  LanguageHaveWorkedWith: Crystal LanguageHaveWorkedWith: COBOL  \n",
       "0                             0.0                           0.0  \n",
       "1                             0.0                           0.0  \n",
       "2                             0.0                           0.0  \n",
       "3                             0.0                           0.0  \n",
       "4                             0.0                           0.0  \n",
       "\n",
       "[5 rows x 86 columns]"
      ]
     },
     "execution_count": 30,
     "metadata": {},
     "output_type": "execute_result"
    }
   ],
   "source": [
    "if os.path.isfile(complete_file_name):\n",
    "    df_surveys_21 = pd.read_csv(complete_file_name)\n",
    "else:\n",
    "    df_surveys_21 = feature_split(df=df_surveys_11_to_21[2021], column_to_split=\"LanguageHaveWorkedWith\", inplace=False)\n",
    "    df_surveys_21.to_csv(complete_file_name)\n",
    "df_surveys_21.head()"
   ]
  },
  {
   "cell_type": "markdown",
   "metadata": {
    "pycharm": {
     "name": "#%% md\n"
    }
   },
   "source": [
    "Now, results from modeling phase will be analyzed."
   ]
  },
  {
   "cell_type": "markdown",
   "metadata": {
    "pycharm": {
     "name": "#%% md\n"
    }
   },
   "source": [
    "## 5. Results Analysis\n",
    "In this section, I will analyze results. In order to do so, I'll compute language usage percentages for each reference year."
   ]
  },
  {
   "cell_type": "markdown",
   "metadata": {
    "pycharm": {
     "name": "#%% md\n"
    }
   },
   "source": [
    "Before that, I need to do some plotting related instruction."
   ]
  },
  {
   "cell_type": "code",
   "execution_count": 31,
   "metadata": {
    "pycharm": {
     "name": "#%%\n"
    }
   },
   "outputs": [],
   "source": [
    "\n",
    "# importing libraries for plotting and vectors manipulation\n",
    "import matplotlib.pyplot as plt"
   ]
  },
  {
   "cell_type": "code",
   "execution_count": 32,
   "metadata": {
    "pycharm": {
     "name": "#%%\n"
    }
   },
   "outputs": [],
   "source": [
    "# setting figure size in matplotlib global parameters\n",
    "plt.rcParams[\"figure.figsize\"] = (20, 10)\n"
   ]
  },
  {
   "cell_type": "code",
   "execution_count": 33,
   "metadata": {
    "pycharm": {
     "name": "#%%\n"
    }
   },
   "outputs": [],
   "source": [
    "# changing font of plot strings, for readability purposes\n",
    "font = {'weight': 'bold',\n",
    "        'size': 22}\n",
    "plt.rc('font', **font)"
   ]
  },
  {
   "cell_type": "markdown",
   "metadata": {
    "pycharm": {
     "name": "#%% md\n"
    }
   },
   "source": [
    "#### 2011 Results Analysis"
   ]
  },
  {
   "cell_type": "markdown",
   "metadata": {
    "collapsed": false,
    "pycharm": {
     "name": "#%% md\n"
    }
   },
   "source": [
    "Here I'll proceed to result analysis through data visualization.\n",
    "First I need to extract meaningful data from data dataframes:"
   ]
  },
  {
   "cell_type": "markdown",
   "metadata": {
    "collapsed": false,
    "pycharm": {
     "name": "#%% md\n"
    }
   },
   "source": []
  },
  {
   "cell_type": "code",
   "execution_count": 34,
   "metadata": {
    "collapsed": false,
    "pycharm": {
     "name": "#%%\n"
    }
   },
   "outputs": [],
   "source": [
    "# slicing features columns containing language proficiencies data:\n",
    "proficiency_columns_range_2011 = range(30, 41)"
   ]
  },
  {
   "cell_type": "markdown",
   "metadata": {
    "collapsed": false,
    "pycharm": {
     "name": "#%% md\n"
    }
   },
   "source": [
    "In order to obtain popularity values, I have to compute cumulative count of proficiencies per language:"
   ]
  },
  {
   "cell_type": "code",
   "execution_count": 35,
   "metadata": {
    "collapsed": false,
    "pycharm": {
     "name": "#%%\n"
    }
   },
   "outputs": [],
   "source": [
    "from preparation.data_stats import LanguagesRankingExtractor, LanguagesProficienciesPercentages\n",
    "\n",
    "# instantiating  a LanguagesStatsExtractor object\n",
    "lre_11 = LanguagesRankingExtractor(df_surveys_11, columns_selection_criteria=proficiency_columns_range_2011, prefix_to_remove='Proficient in ')\n",
    "# computing languages proficiency ranking in 2011\n",
    "s_2011_proficiencies_stats = lre_11.get_stats()"
   ]
  },
  {
   "cell_type": "code",
   "execution_count": 36,
   "metadata": {
    "collapsed": false,
    "pycharm": {
     "name": "#%%\n"
    }
   },
   "outputs": [
    {
     "data": {
      "text/plain": [
       "SQL           1613\n",
       "JavaScript    1419\n",
       "CSS           1356\n",
       "C#            1352\n",
       "Java           861\n",
       "PHP            788\n",
       "C              741\n",
       "C++            740\n",
       "Python         575\n",
       "Ruby           285\n",
       "dtype: int64"
      ]
     },
     "execution_count": 36,
     "metadata": {},
     "output_type": "execute_result"
    }
   ],
   "source": [
    "# having a look at top ten most popular languages in 2011\n",
    "s_2011_proficiencies_top_10 = s_2011_proficiencies_stats['top ten languages']\n",
    "s_2011_proficiencies_top_10"
   ]
  },
  {
   "cell_type": "markdown",
   "metadata": {
    "collapsed": false,
    "pycharm": {
     "name": "#%% md\n"
    }
   },
   "source": [
    "Clearly, most used language in 2011 was SQL, followed by JavaScript and CSS.\n",
    "Anyway, to be fair, SQL and CSS are not exactly programming languages, so it would be more correct\n",
    "to indicate JavaScript as the most popular language in 2011, followed by C#.\n",
    "Let's have a look to full ranking to see if there are other occurrences of \"non programming\" languages:"
   ]
  },
  {
   "cell_type": "code",
   "execution_count": 37,
   "metadata": {
    "collapsed": false,
    "pycharm": {
     "name": "#%%\n"
    }
   },
   "outputs": [
    {
     "data": {
      "text/plain": [
       "Proficient in SQL           1613\n",
       "Proficient in JavaScript    1419\n",
       "Proficient in CSS           1356\n",
       "Proficient in C#            1352\n",
       "Proficient in Java           861\n",
       "Proficient in PHP            788\n",
       "Proficient in C              741\n",
       "Proficient in C++            740\n",
       "Proficient in Python         575\n",
       "Proficient in Ruby           285\n",
       "dtype: int64"
      ]
     },
     "execution_count": 37,
     "metadata": {},
     "output_type": "execute_result"
    }
   ],
   "source": [
    "s_2011_proficiencies_stats[\"full ranking\"]"
   ]
  },
  {
   "cell_type": "markdown",
   "metadata": {
    "collapsed": false,
    "pycharm": {
     "name": "#%% md\n"
    }
   },
   "source": [
    "##### Computing top ten languages on clean data:\n",
    "Proficiencies from Clean Data"
   ]
  },
  {
   "cell_type": "code",
   "execution_count": 38,
   "metadata": {
    "collapsed": false,
    "pycharm": {
     "name": "#%%\n"
    }
   },
   "outputs": [],
   "source": [
    "lre_11 = LanguagesRankingExtractor(df_surveys_11, columns_selection_criteria=proficiency_columns_range_2011, exclusion_list = [\"Proficient in SQL\", \"Proficient in CSS\"], prefix_to_remove='Proficient in ')\n",
    "s_2011_proficiencies_stats = lre_11.get_stats()"
   ]
  },
  {
   "cell_type": "code",
   "execution_count": 39,
   "metadata": {},
   "outputs": [
    {
     "data": {
      "text/plain": [
       "JavaScript    1419\n",
       "C#            1352\n",
       "Java           861\n",
       "PHP            788\n",
       "C              741\n",
       "C++            740\n",
       "Python         575\n",
       "Ruby           285\n",
       "dtype: int64"
      ]
     },
     "execution_count": 39,
     "metadata": {},
     "output_type": "execute_result"
    }
   ],
   "source": [
    "# having a look at top ten most popular languages in 2011\n",
    "s_2011_proficiencies_top_10 = s_2011_proficiencies_stats['top ten languages']\n",
    "s_2011_proficiencies_top_10"
   ]
  },
  {
   "cell_type": "markdown",
   "metadata": {
    "collapsed": false,
    "pycharm": {
     "name": "#%% md\n"
    }
   },
   "source": [
    "We can assess the language popularity in absolute terms computing total percentage of coders using that\n",
    "particular language:\n"
   ]
  },
  {
   "cell_type": "code",
   "execution_count": 40,
   "metadata": {
    "collapsed": false,
    "pycharm": {
     "name": "#%%\n"
    }
   },
   "outputs": [],
   "source": [
    "# computing percentages\n",
    "lpp_11 = LanguagesProficienciesPercentages(lre_11)\n",
    "\n",
    "s_2011_proficiencies_percentages = lpp_11.get_stats()"
   ]
  },
  {
   "cell_type": "code",
   "execution_count": 41,
   "metadata": {
    "collapsed": false,
    "pycharm": {
     "name": "#%%\n"
    }
   },
   "outputs": [
    {
     "data": {
      "text/plain": [
       "Proficient in JavaScript    50.444365\n",
       "Proficient in C#            48.062567\n",
       "Proficient in Java          30.607892\n",
       "Proficient in PHP           28.012798\n",
       "Proficient in C             26.341984\n",
       "Proficient in C++           26.306434\n",
       "Proficient in Python        20.440811\n",
       "Proficient in Ruby          10.131532\n",
       "dtype: float64"
      ]
     },
     "execution_count": 41,
     "metadata": {},
     "output_type": "execute_result"
    }
   ],
   "source": [
    "# printing percentages about all languages\n",
    "s_2011_proficiencies_percentages['proficiency percentages']"
   ]
  },
  {
   "cell_type": "code",
   "execution_count": 42,
   "metadata": {
    "collapsed": false,
    "pycharm": {
     "name": "#%%\n"
    }
   },
   "outputs": [
    {
     "data": {
      "text/plain": [
       "JavaScript    50.444365\n",
       "C#            48.062567\n",
       "Java          30.607892\n",
       "PHP           28.012798\n",
       "C             26.341984\n",
       "C++           26.306434\n",
       "Python        20.440811\n",
       "Ruby          10.131532\n",
       "dtype: float64"
      ]
     },
     "execution_count": 42,
     "metadata": {},
     "output_type": "execute_result"
    }
   ],
   "source": [
    "# printing percentages about top ten languages\n",
    "s_2011_proficiencies_percentages['top ten proficiency percentages']"
   ]
  },
  {
   "cell_type": "markdown",
   "metadata": {
    "collapsed": false,
    "pycharm": {
     "name": "#%% md\n"
    }
   },
   "source": [
    "##### Histogram of most popular languages in 2011\n"
   ]
  },
  {
   "cell_type": "markdown",
   "metadata": {
    "collapsed": false,
    "pycharm": {
     "name": "#%% md\n"
    }
   },
   "source": [
    "###### Definition of Results Color Palette"
   ]
  },
  {
   "cell_type": "markdown",
   "metadata": {
    "collapsed": false,
    "pycharm": {
     "name": "#%% md\n"
    }
   },
   "source": [
    "Here I'll define a languages color palette, useful to keep same color throughout the different plots\n",
    "\n"
   ]
  },
  {
   "cell_type": "code",
   "execution_count": 43,
   "metadata": {
    "collapsed": false,
    "pycharm": {
     "name": "#%%\n"
    }
   },
   "outputs": [],
   "source": [
    "languages_palette = {\n",
    "    'C':'yellow',\n",
    "    'C++':'orange',\n",
    "    'Python':'green',\n",
    "    'PHP':'purple',\n",
    "    'Ruby':'pink',\n",
    "    'JavaScript' : 'grey',\n",
    "    'C#' : 'blue',\n",
    "    'Java' : 'brown',\n",
    "    'Perl' : '#add8e6'\n",
    "    }\n"
   ]
  },
  {
   "cell_type": "code",
   "execution_count": 44,
   "metadata": {
    "collapsed": false,
    "pycharm": {
     "name": "#%%\n"
    }
   },
   "outputs": [],
   "source": [
    "# importing a useful function to map languages to colors\n",
    "from preparation.utils import map_languages_to_color_list\n",
    "\n",
    "languages_palette_list = map_languages_to_color_list(languages_palette, s_2011_proficiencies_percentages['top ten proficiency percentages'])\n"
   ]
  },
  {
   "cell_type": "code",
   "execution_count": 45,
   "metadata": {
    "collapsed": false,
    "pycharm": {
     "name": "#%%\n"
    }
   },
   "outputs": [
    {
     "data": {
      "image/png": "[encoded data removed]",
      "text/plain": [
       "<Figure size 1440x720 with 1 Axes>"
      ]
     },
     "metadata": {
      "needs_background": "light"
     },
     "output_type": "display_data"
    }
   ],
   "source": [
    "# plotting data\n",
    "ax = s_2011_proficiencies_percentages['top ten proficiency percentages'].plot(kind=\"bar\", color=languages_palette_list)\n",
    "\n",
    "# annotating values on top of each bar, for readability\n",
    "for p in ax.patches:\n",
    "    ax.annotate(str(round(p.get_height(), 2)), (p.get_x() * 1.005, p.get_height() * 1.005))\n"
   ]
  },
  {
   "cell_type": "markdown",
   "metadata": {
    "collapsed": false,
    "pycharm": {
     "name": "#%% md\n"
    }
   },
   "source": [
    "Hence, 2011 top 5 ranking would be:\n",
    "1. JavaScript\n",
    "2. C#\n",
    "3. Java\n",
    "4. PHP\n",
    "5. C\n"
   ]
  },
  {
   "cell_type": "markdown",
   "metadata": {
    "collapsed": false,
    "pycharm": {
     "name": "#%% md\n"
    }
   },
   "source": [
    "#### 2012 Results Analysis\n",
    "Now I'll compute the answer to first question, referring to 2012 data:\n"
   ]
  },
  {
   "cell_type": "markdown",
   "metadata": {
    "collapsed": false,
    "pycharm": {
     "name": "#%% md\n"
    }
   },
   "source": [
    "##### Proficiencies from Raw Data\n",
    "Computing top ten languages on raw data:"
   ]
  },
  {
   "cell_type": "code",
   "execution_count": 46,
   "metadata": {
    "collapsed": false,
    "pycharm": {
     "name": "#%%\n"
    }
   },
   "outputs": [],
   "source": [
    "proficiency_columns_range_2012 = range(22,35)\n",
    "\n",
    "# instantiating  a LanguagesStatsExtractor object\n",
    "lre_12 = LanguagesRankingExtractor(df_surveys_12, columns_selection_criteria=proficiency_columns_range_2012, prefix_to_remove='Proficient in ')\n",
    "# computing languages proficiency ranking in 2011\n",
    "s_2012_proficiencies_stats = lre_12.get_stats()"
   ]
  },
  {
   "cell_type": "code",
   "execution_count": 47,
   "metadata": {
    "collapsed": false,
    "pycharm": {
     "name": "#%%\n"
    }
   },
   "outputs": [
    {
     "data": {
      "text/plain": [
       "SQL            3294\n",
       "JavaScript     3127\n",
       "CSS            2824\n",
       "C#             2468\n",
       "Java           2348\n",
       "PHP            1925\n",
       "C++            1526\n",
       "C              1484\n",
       "Python         1210\n",
       "Objective-C     605\n",
       "dtype: int64"
      ]
     },
     "execution_count": 47,
     "metadata": {},
     "output_type": "execute_result"
    }
   ],
   "source": [
    "# having a look at top ten most popular languages in 2011\n",
    "s_2012_proficiencies_top_10 = s_2012_proficiencies_stats['top ten languages']\n",
    "s_2012_proficiencies_top_10"
   ]
  },
  {
   "cell_type": "markdown",
   "metadata": {
    "collapsed": false,
    "pycharm": {
     "name": "#%% md\n"
    }
   },
   "source": [
    "Since we observed a few \"non programming\" languages in our top ten, we'd better look at the full ranking in order to spot and eliminate all of this kind of occurrence from the data:"
   ]
  },
  {
   "cell_type": "code",
   "execution_count": 48,
   "metadata": {
    "collapsed": false,
    "pycharm": {
     "name": "#%%\n"
    }
   },
   "outputs": [
    {
     "data": {
      "text/plain": [
       "Proficient in SQL            3294\n",
       "Proficient in JavaScript     3127\n",
       "Proficient in CSS            2824\n",
       "Proficient in C#             2468\n",
       "Proficient in Java           2348\n",
       "Proficient in PHP            1925\n",
       "Proficient in C++            1526\n",
       "Proficient in C              1484\n",
       "Proficient in Python         1210\n",
       "Proficient in Objective-C     605\n",
       "Proficient in Ruby            577\n",
       "Proficient in Perl            461\n",
       "dtype: int64"
      ]
     },
     "execution_count": 48,
     "metadata": {},
     "output_type": "execute_result"
    }
   ],
   "source": [
    "s_2012_proficiencies_stats[\"full ranking\"]"
   ]
  },
  {
   "cell_type": "markdown",
   "metadata": {
    "collapsed": false,
    "pycharm": {
     "name": "#%% md\n"
    }
   },
   "source": [
    "##### Proficiencies from Clean Data\n",
    "Computing top ten languages on clean data:"
   ]
  },
  {
   "cell_type": "markdown",
   "metadata": {
    "collapsed": false,
    "pycharm": {
     "name": "#%% md\n"
    }
   },
   "source": [
    "Again in top 10 we have SQL, CSS and HTML5 that are not programming languages and shall be removed from the top ten."
   ]
  },
  {
   "cell_type": "code",
   "execution_count": 49,
   "metadata": {
    "collapsed": false,
    "pycharm": {
     "name": "#%%\n"
    }
   },
   "outputs": [],
   "source": [
    "# dropping SQL and CSS from results\n",
    "exclusion_list = [\"Proficient in SQL\", \"Proficient in CSS\"]\n",
    "# computing top ten languages by proficiency in 2012\n",
    "\n",
    "lre_12 = LanguagesRankingExtractor(df_surveys_12, columns_selection_criteria=proficiency_columns_range_2012, prefix_to_remove='Proficient in ', exclusion_list=exclusion_list)\n",
    "# computing languages proficiency ranking in 2012\n",
    "s_2012_proficiencies_stats = lre_12.get_stats()"
   ]
  },
  {
   "cell_type": "markdown",
   "metadata": {
    "collapsed": false,
    "pycharm": {
     "name": "#%% md\n"
    }
   },
   "source": [
    "Looking again at top proficiencies:"
   ]
  },
  {
   "cell_type": "code",
   "execution_count": 50,
   "metadata": {
    "collapsed": false,
    "pycharm": {
     "name": "#%%\n"
    }
   },
   "outputs": [
    {
     "data": {
      "text/plain": [
       "JavaScript    1419\n",
       "C#            1352\n",
       "Java           861\n",
       "PHP            788\n",
       "C              741\n",
       "C++            740\n",
       "Python         575\n",
       "Ruby           285\n",
       "dtype: int64"
      ]
     },
     "execution_count": 50,
     "metadata": {},
     "output_type": "execute_result"
    }
   ],
   "source": [
    "# having a look at top ten most popular languages in 2011\n",
    "s_2012_proficiencies_top_10 = s_2011_proficiencies_stats['top ten languages']\n",
    "s_2012_proficiencies_top_10"
   ]
  },
  {
   "cell_type": "markdown",
   "metadata": {
    "collapsed": false,
    "pycharm": {
     "name": "#%% md\n"
    }
   },
   "source": [
    "We can now assess the language popularity in absolute terms computing total percentage of coders using that\n",
    "particular language:\n"
   ]
  },
  {
   "cell_type": "code",
   "execution_count": 51,
   "metadata": {
    "collapsed": false,
    "pycharm": {
     "name": "#%%\n"
    }
   },
   "outputs": [],
   "source": [
    "# computing percentages\n",
    "lpp_12 = LanguagesProficienciesPercentages(lre_12)\n",
    "\n",
    "s_2012_proficiencies_percentages = lpp_12.get_stats()"
   ]
  },
  {
   "cell_type": "code",
   "execution_count": 52,
   "metadata": {
    "collapsed": false,
    "pycharm": {
     "name": "#%%\n"
    }
   },
   "outputs": [
    {
     "data": {
      "text/plain": [
       "Proficient in JavaScript     50.088099\n",
       "Proficient in C#             39.532276\n",
       "Proficient in Java           37.610123\n",
       "Proficient in PHP            30.834535\n",
       "Proficient in C++            24.443377\n",
       "Proficient in C              23.770623\n",
       "Proficient in Python         19.381708\n",
       "Proficient in Objective-C     9.690854\n",
       "Proficient in Ruby            9.242351\n",
       "Proficient in Perl            7.384270\n",
       "dtype: float64"
      ]
     },
     "execution_count": 52,
     "metadata": {},
     "output_type": "execute_result"
    }
   ],
   "source": [
    "s_2012_proficiencies_percentages['proficiency percentages']"
   ]
  },
  {
   "cell_type": "code",
   "execution_count": 53,
   "metadata": {
    "collapsed": false,
    "pycharm": {
     "name": "#%%\n"
    }
   },
   "outputs": [
    {
     "data": {
      "text/plain": [
       "JavaScript     50.088099\n",
       "C#             39.532276\n",
       "Java           37.610123\n",
       "PHP            30.834535\n",
       "C++            24.443377\n",
       "C              23.770623\n",
       "Python         19.381708\n",
       "Objective-C     9.690854\n",
       "Ruby            9.242351\n",
       "Perl            7.384270\n",
       "dtype: float64"
      ]
     },
     "execution_count": 53,
     "metadata": {},
     "output_type": "execute_result"
    }
   ],
   "source": [
    "s_2012_proficiencies_percentages['top ten proficiency percentages']"
   ]
  },
  {
   "cell_type": "markdown",
   "metadata": {
    "collapsed": false,
    "pycharm": {
     "name": "#%% md\n"
    }
   },
   "source": [
    "##### Histogram of most popular languages in 2012"
   ]
  },
  {
   "cell_type": "markdown",
   "metadata": {
    "collapsed": false,
    "pycharm": {
     "name": "#%% md\n"
    }
   },
   "source": [
    "###### Color Palette integration"
   ]
  },
  {
   "cell_type": "markdown",
   "metadata": {
    "collapsed": false,
    "pycharm": {
     "name": "#%% md\n"
    }
   },
   "source": [
    "Now I'll add missing languages to palette dictionary:"
   ]
  },
  {
   "cell_type": "code",
   "execution_count": 54,
   "metadata": {
    "collapsed": false,
    "pycharm": {
     "name": "#%%\n"
    }
   },
   "outputs": [
    {
     "data": {
      "text/plain": [
       "{'C': 'yellow',\n",
       " 'C++': 'orange',\n",
       " 'Python': 'green',\n",
       " 'PHP': 'purple',\n",
       " 'Ruby': 'pink',\n",
       " 'JavaScript': 'grey',\n",
       " 'C#': 'blue',\n",
       " 'Java': 'brown',\n",
       " 'Perl': '#add8e6'}"
      ]
     },
     "execution_count": 54,
     "metadata": {},
     "output_type": "execute_result"
    }
   ],
   "source": [
    "languages_palette"
   ]
  },
  {
   "cell_type": "code",
   "execution_count": 55,
   "metadata": {
    "collapsed": false,
    "pycharm": {
     "name": "#%%\n"
    }
   },
   "outputs": [],
   "source": [
    "languages_palette['Objective-C'] = \"#6699cc\""
   ]
  },
  {
   "cell_type": "markdown",
   "metadata": {
    "collapsed": false,
    "pycharm": {
     "name": "#%% md\n"
    }
   },
   "source": [
    "Mapping languages to related assigned color:\n"
   ]
  },
  {
   "cell_type": "code",
   "execution_count": 56,
   "metadata": {
    "collapsed": false,
    "pycharm": {
     "name": "#%%\n"
    }
   },
   "outputs": [],
   "source": [
    "languages_palette_list = map_languages_to_color_list(languages_palette, s_2012_proficiencies_percentages['top ten proficiency percentages'])"
   ]
  },
  {
   "cell_type": "code",
   "execution_count": 57,
   "metadata": {
    "collapsed": false,
    "pycharm": {
     "name": "#%%\n"
    }
   },
   "outputs": [
    {
     "data": {
      "image/png": "[encoded data removed]",
      "text/plain": [
       "<Figure size 1440x720 with 1 Axes>"
      ]
     },
     "metadata": {
      "needs_background": "light"
     },
     "output_type": "display_data"
    }
   ],
   "source": [
    "# plotting data\n",
    "ax_12 = s_2012_proficiencies_percentages['top ten proficiency percentages'].plot.bar(color=languages_palette_list)\n",
    "# annotating values on top of each bar, for readability\n",
    "for p in ax_12.patches:\n",
    "    ax_12.annotate(str(round(p.get_height(), 2)), (p.get_x() * 1.005, p.get_height() * 1.005))"
   ]
  },
  {
   "cell_type": "markdown",
   "metadata": {
    "collapsed": false,
    "pycharm": {
     "name": "#%% md\n"
    }
   },
   "source": [
    "Top 5 languages in 2012 are:\n",
    "1. JavaScript\n",
    "2. C#\n",
    "3. Java\n",
    "4. PHP\n",
    "5. C++"
   ]
  },
  {
   "cell_type": "markdown",
   "metadata": {
    "collapsed": false,
    "pycharm": {
     "name": "#%% md\n"
    }
   },
   "source": [
    "Three main facts can be noted from this year results analysis:\n",
    "1. C++ just overtook its \"father\" language C at 5th place\n",
    "2. C# is not as popular as it was in 2011 respect to JavaScript\n",
    "3. Objective-C has gained its first top ten appearance"
   ]
  },
  {
   "cell_type": "markdown",
   "metadata": {
    "pycharm": {
     "name": "#%% md\n"
    }
   },
   "source": [
    "#### 2013 Results Analysis\n",
    "Now I'll compute the answer to first question, referring to 2013 data:"
   ]
  },
  {
   "cell_type": "code",
   "execution_count": 58,
   "metadata": {
    "pycharm": {
     "name": "#%%\n"
    }
   },
   "outputs": [],
   "source": [
    "proficiency_columns_range_2013 = range(56,69)\n",
    "\n",
    "# instantiating  a LanguagesStatsExtractor object\n",
    "lre_13 = LanguagesRankingExtractor(df_surveys_13, columns_selection_criteria=proficiency_columns_range_2013, prefix_to_remove='Proficient in ')\n",
    "# computing languages proficiency ranking in 2013\n",
    "s_2013_proficiencies_stats = lre_13.get_stats()\n"
   ]
  },
  {
   "cell_type": "markdown",
   "metadata": {
    "collapsed": false,
    "pycharm": {
     "name": "#%% md\n"
    }
   },
   "source": [
    "Looking at top ten languages in 2013"
   ]
  },
  {
   "cell_type": "code",
   "execution_count": 59,
   "metadata": {
    "collapsed": false,
    "pycharm": {
     "name": "#%%\n"
    }
   },
   "outputs": [
    {
     "data": {
      "text/plain": [
       "JavaScript     4735\n",
       "jQuery         4109\n",
       "C#             3027\n",
       "Java           3020\n",
       "PHP            2324\n",
       "Python         1880\n",
       "C++            1696\n",
       "C              1436\n",
       "Objective-C     955\n",
       "Ruby            794\n",
       "dtype: int64"
      ]
     },
     "execution_count": 59,
     "metadata": {},
     "output_type": "execute_result"
    }
   ],
   "source": [
    "# having a look at top ten most popular languages in 2013\n",
    "s_2013_proficiencies_top_10 = s_2013_proficiencies_stats['top ten languages']\n",
    "s_2013_proficiencies_top_10"
   ]
  },
  {
   "cell_type": "code",
   "execution_count": 60,
   "metadata": {
    "collapsed": false,
    "pycharm": {
     "name": "#%%\n"
    }
   },
   "outputs": [
    {
     "data": {
      "text/plain": [
       "Proficient in JavaScript     4735\n",
       "Proficient in jQuery         4109\n",
       "Proficient in C#             3027\n",
       "Proficient in Java           3020\n",
       "Proficient in PHP            2324\n",
       "Proficient in Python         1880\n",
       "Proficient in C++            1696\n",
       "Proficient in C              1436\n",
       "Proficient in Objective-C     955\n",
       "Proficient in Ruby            794\n",
       "Proficient in Node.js         599\n",
       "Proficient in JQuery          239\n",
       "dtype: int64"
      ]
     },
     "execution_count": 60,
     "metadata": {},
     "output_type": "execute_result"
    }
   ],
   "source": [
    "s_2013_proficiencies_stats[\"full ranking\"]"
   ]
  },
  {
   "cell_type": "markdown",
   "metadata": {
    "collapsed": false,
    "pycharm": {
     "name": "#%% md\n"
    }
   },
   "source": [
    "I have to merge jQuery (which is actually a library) and Node.js to JavaScript,\n",
    "in order to have a clean view on data:"
   ]
  },
  {
   "cell_type": "code",
   "execution_count": 61,
   "metadata": {
    "collapsed": false,
    "pycharm": {
     "name": "#%%\n"
    }
   },
   "outputs": [
    {
     "name": "stderr",
     "output_type": "stream",
     "text": [
      "c:\\Users\\alfon\\.conda\\envs\\mlDaSci\\lib\\site-packages\\pandas\\core\\indexing.py:1773: SettingWithCopyWarning: \n",
      "A value is trying to be set on a copy of a slice from a DataFrame.\n",
      "Try using .loc[row_indexer,col_indexer] = value instead\n",
      "\n",
      "See the caveats in the documentation: https://pandas.pydata.org/pandas-docs/stable/user_guide/indexing.html#returning-a-view-versus-a-copy\n",
      "  self._setitem_single_column(ilocs[0], value, pi)\n",
      "c:\\Users\\alfon\\.conda\\envs\\mlDaSci\\lib\\site-packages\\pandas\\core\\frame.py:4906: SettingWithCopyWarning: \n",
      "A value is trying to be set on a copy of a slice from a DataFrame\n",
      "\n",
      "See the caveats in the documentation: https://pandas.pydata.org/pandas-docs/stable/user_guide/indexing.html#returning-a-view-versus-a-copy\n",
      "  return super().drop(\n"
     ]
    }
   ],
   "source": [
    "# merge list\n",
    "entries_merge_list = [(\"JavaScript\", \"jQuery\"), (\"JavaScript\", \"Node.js\"), (\"JavaScript\", \"JQuery\")]\n",
    "# instantiating  a LanguagesStatsExtractor object\n",
    "lre_13 = LanguagesRankingExtractor(df_surveys_13, columns_selection_criteria=lang_prof_CROI_2013, prefix_to_remove='Proficient in ', entries_merge_list=entries_merge_list)\n",
    "# computing languages proficiency ranking in 2013\n",
    "s_2013_proficiencies_stats = lre_13.get_stats()"
   ]
  },
  {
   "cell_type": "markdown",
   "metadata": {
    "collapsed": false,
    "pycharm": {
     "name": "#%% md\n"
    }
   },
   "source": [
    "Looking at clean top ten data from 2013:"
   ]
  },
  {
   "cell_type": "code",
   "execution_count": 62,
   "metadata": {
    "collapsed": false,
    "pycharm": {
     "name": "#%%\n"
    }
   },
   "outputs": [
    {
     "data": {
      "text/plain": [
       "JavaScript     5149\n",
       "C#             3027\n",
       "Java           3020\n",
       "PHP            2324\n",
       "Python         1880\n",
       "C++            1696\n",
       "C              1436\n",
       "Objective-C     955\n",
       "Ruby            794\n",
       "dtype: int64"
      ]
     },
     "execution_count": 62,
     "metadata": {},
     "output_type": "execute_result"
    }
   ],
   "source": [
    "# having a look at top ten most popular languages in 2013\n",
    "s_2013_proficiencies_top_10 = s_2013_proficiencies_stats['top ten languages']\n",
    "s_2013_proficiencies_top_10"
   ]
  },
  {
   "cell_type": "markdown",
   "metadata": {
    "collapsed": false,
    "pycharm": {
     "name": "#%% md\n"
    }
   },
   "source": [
    "We can assess the language popularity in absolute terms computing total percentage of coders using that\n",
    "particular language:\n"
   ]
  },
  {
   "cell_type": "code",
   "execution_count": 63,
   "metadata": {
    "collapsed": false,
    "pycharm": {
     "name": "#%%\n"
    }
   },
   "outputs": [],
   "source": [
    "# computing percentages\n",
    "lpp_13 = LanguagesProficienciesPercentages(lre_13)\n",
    "\n",
    "s_2013_proficiencies_percentages = lpp_13.get_stats()"
   ]
  },
  {
   "cell_type": "code",
   "execution_count": 64,
   "metadata": {
    "collapsed": false,
    "pycharm": {
     "name": "#%%\n"
    }
   },
   "outputs": [
    {
     "data": {
      "text/plain": [
       "Proficient in JavaScript     52.853623\n",
       "Proficient in C#             31.071649\n",
       "Proficient in Java           30.999795\n",
       "Proficient in PHP            23.855471\n",
       "Proficient in Python         19.297885\n",
       "Proficient in C++            17.409156\n",
       "Proficient in C              14.740300\n",
       "Proficient in Objective-C     9.802915\n",
       "Proficient in Ruby            8.150277\n",
       "dtype: float64"
      ]
     },
     "execution_count": 64,
     "metadata": {},
     "output_type": "execute_result"
    }
   ],
   "source": [
    "s_2013_proficiencies_percentages['proficiency percentages']"
   ]
  },
  {
   "cell_type": "code",
   "execution_count": 65,
   "metadata": {
    "collapsed": false,
    "pycharm": {
     "name": "#%%\n"
    }
   },
   "outputs": [
    {
     "data": {
      "text/plain": [
       "JavaScript     52.853623\n",
       "C#             31.071649\n",
       "Java           30.999795\n",
       "PHP            23.855471\n",
       "Python         19.297885\n",
       "C++            17.409156\n",
       "C              14.740300\n",
       "Objective-C     9.802915\n",
       "Ruby            8.150277\n",
       "dtype: float64"
      ]
     },
     "execution_count": 65,
     "metadata": {},
     "output_type": "execute_result"
    }
   ],
   "source": [
    "s_2013_proficiencies_percentages['top ten proficiency percentages']"
   ]
  },
  {
   "cell_type": "markdown",
   "metadata": {
    "pycharm": {
     "is_executing": true,
     "name": "#%% md\n"
    }
   },
   "source": [
    "Mapping languages to related assigned color:\n"
   ]
  },
  {
   "cell_type": "code",
   "execution_count": 66,
   "metadata": {
    "collapsed": false,
    "pycharm": {
     "name": "#%%\n"
    }
   },
   "outputs": [],
   "source": [
    "languages_palette_list = map_languages_to_color_list(languages_palette, s_2013_proficiencies_percentages['top ten proficiency percentages'])"
   ]
  },
  {
   "cell_type": "markdown",
   "metadata": {
    "collapsed": false,
    "pycharm": {
     "name": "#%% md\n"
    }
   },
   "source": [
    "### Histogram of most popular languages in 2013"
   ]
  },
  {
   "cell_type": "code",
   "execution_count": 67,
   "metadata": {
    "collapsed": false,
    "pycharm": {
     "name": "#%%\n"
    }
   },
   "outputs": [
    {
     "data": {
      "image/png": "[encoded data removed]",
      "text/plain": [
       "<Figure size 1440x720 with 1 Axes>"
      ]
     },
     "metadata": {
      "needs_background": "light"
     },
     "output_type": "display_data"
    }
   ],
   "source": [
    "# plotting data\n",
    "\n",
    "ax_13 = s_2013_proficiencies_percentages['top ten proficiency percentages'].plot.bar(color=languages_palette_list)\n",
    "# annotating values on top of each bar, for readability\n",
    "for p in ax_13.patches:\n",
    "    ax_13.annotate(str(round(p.get_height(), 2)), (p.get_x() * 1.005, p.get_height() * 1.005))"
   ]
  },
  {
   "cell_type": "markdown",
   "metadata": {
    "pycharm": {
     "name": "#%% md\n"
    }
   },
   "source": [
    "Top 5 languages in 2013: <br>\n",
    "1. JavaScript\n",
    "2. C#\n",
    "3. Java\n",
    "4. PHP\n",
    "5. Python <br>"
   ]
  },
  {
   "cell_type": "markdown",
   "metadata": {
    "collapsed": false,
    "pycharm": {
     "name": "#%% md\n"
    }
   },
   "source": [
    "Once more, in 2013 JavaScript was the most used language. Considering jQuery and Node.js as additional JavaScript proficiencies, about half of the respondents knows JavaScript. Following (but not so close) we can find C# and Java <br> (they're almost tied)."
   ]
  },
  {
   "cell_type": "markdown",
   "metadata": {
    "pycharm": {
     "name": "#%% md\n"
    }
   },
   "source": [
    "#### 2014 Results Analysis\n",
    "Now I'll compute the answer to first question, referring to 2014 data:\n"
   ]
  },
  {
   "cell_type": "code",
   "execution_count": 68,
   "metadata": {
    "pycharm": {
     "name": "#%%\n"
    }
   },
   "outputs": [],
   "source": [
    "proficiency_columns_range_2014 = range(42,53)\n",
    "\n",
    "# instantiating  a LanguagesStatsExtractor object\n",
    "lre_14 = LanguagesRankingExtractor(df_surveys_14, columns_selection_criteria=proficiency_columns_range_2014, prefix_to_remove='Proficient in ')\n",
    "# computing languages proficiency ranking in 2014\n",
    "s_2014_proficiencies_stats = lre_14.get_stats()"
   ]
  },
  {
   "cell_type": "code",
   "execution_count": 69,
   "metadata": {
    "collapsed": false,
    "pycharm": {
     "name": "#%%\n"
    }
   },
   "outputs": [
    {
     "data": {
      "text/plain": [
       "JavaScript     3783\n",
       "Java           2479\n",
       "C#             2378\n",
       "PHP            1710\n",
       "Python         1473\n",
       "C++            1418\n",
       "C              1174\n",
       "Objective-C     675\n",
       "Node.js         641\n",
       "Ruby            593\n",
       "dtype: int64"
      ]
     },
     "execution_count": 69,
     "metadata": {},
     "output_type": "execute_result"
    }
   ],
   "source": [
    "# having a look at top ten most popular languages in 2013\n",
    "s_2014_proficiencies_top_10 = s_2014_proficiencies_stats['top ten languages']\n",
    "s_2014_proficiencies_top_10"
   ]
  },
  {
   "cell_type": "markdown",
   "metadata": {
    "collapsed": false,
    "pycharm": {
     "name": "#%% md\n"
    }
   },
   "source": [
    "Clearly, SQL and Node.js should be removed/merged with other entries. Let's have a look at full ranking before populating exclusion list."
   ]
  },
  {
   "cell_type": "code",
   "execution_count": 70,
   "metadata": {
    "collapsed": false,
    "pycharm": {
     "name": "#%%\n"
    }
   },
   "outputs": [
    {
     "data": {
      "text/plain": [
       "Proficient in JavaScript     3783\n",
       "Proficient in Java           2479\n",
       "Proficient in C#             2378\n",
       "Proficient in PHP            1710\n",
       "Proficient in Python         1473\n",
       "Proficient in C++            1418\n",
       "Proficient in C              1174\n",
       "Proficient in Objective-C     675\n",
       "Proficient in Node.js         641\n",
       "Proficient in Ruby            593\n",
       "dtype: int64"
      ]
     },
     "execution_count": 70,
     "metadata": {},
     "output_type": "execute_result"
    }
   ],
   "source": [
    "s_2014_proficiencies_stats['full ranking']"
   ]
  },
  {
   "cell_type": "code",
   "execution_count": 71,
   "metadata": {
    "collapsed": false,
    "pycharm": {
     "name": "#%%\n"
    }
   },
   "outputs": [],
   "source": [
    "entries_merge_list = [('JavaScript', 'Node.js')]"
   ]
  },
  {
   "cell_type": "code",
   "execution_count": 72,
   "metadata": {
    "collapsed": false,
    "pycharm": {
     "name": "#%%\n"
    }
   },
   "outputs": [],
   "source": [
    "exclusion_list = ['Proficient in SQL']"
   ]
  },
  {
   "cell_type": "code",
   "execution_count": 73,
   "metadata": {
    "collapsed": false,
    "pycharm": {
     "name": "#%%\n"
    }
   },
   "outputs": [
    {
     "name": "stdout",
     "output_type": "stream",
     "text": [
      "error finding feature in axis\n"
     ]
    }
   ],
   "source": [
    "# computing top ten languages by proficiency in 2013\n",
    "# instantiating  a LanguagesStatsExtractor object\n",
    "\n",
    "\n",
    "lre_14 = LanguagesRankingExtractor(df_surveys_14, columns_selection_criteria=proficiency_columns_range_2014, prefix_to_remove='Proficient in ', exclusion_list=exclusion_list, entries_merge_list=entries_merge_list)\n",
    "# computing languages proficiency ranking in 2014\n",
    "s_2014_proficiencies_stats = lre_14.get_stats()"
   ]
  },
  {
   "cell_type": "code",
   "execution_count": 74,
   "metadata": {
    "collapsed": false,
    "pycharm": {
     "name": "#%%\n"
    }
   },
   "outputs": [
    {
     "data": {
      "text/plain": [
       "JavaScript     3836\n",
       "Java           2479\n",
       "C#             2378\n",
       "PHP            1710\n",
       "Python         1473\n",
       "C++            1418\n",
       "C              1174\n",
       "Objective-C     675\n",
       "Ruby            593\n",
       "dtype: int64"
      ]
     },
     "execution_count": 74,
     "metadata": {},
     "output_type": "execute_result"
    }
   ],
   "source": [
    "# having a look at top ten most popular languages in 2014\n",
    "s_2014_proficiencies_stats['top ten languages']"
   ]
  },
  {
   "cell_type": "markdown",
   "metadata": {
    "collapsed": false,
    "pycharm": {
     "name": "#%% md\n"
    }
   },
   "source": [
    "We can assess the language popularity in absolute terms computing total percentage of coders using that\n",
    "particular language:\n"
   ]
  },
  {
   "cell_type": "code",
   "execution_count": 75,
   "metadata": {
    "collapsed": false,
    "pycharm": {
     "name": "#%%\n"
    }
   },
   "outputs": [
    {
     "name": "stdout",
     "output_type": "stream",
     "text": [
      "error finding feature in axis\n"
     ]
    }
   ],
   "source": [
    "# computing percentages\n",
    "lpp_14 = LanguagesProficienciesPercentages(lre_14)\n",
    "\n",
    "s_2014_proficiencies_percentages = lpp_14.get_stats()"
   ]
  },
  {
   "cell_type": "code",
   "execution_count": 76,
   "metadata": {
    "collapsed": false,
    "pycharm": {
     "name": "#%%\n"
    }
   },
   "outputs": [
    {
     "data": {
      "text/plain": [
       "Proficient in JavaScript     50.189716\n",
       "Proficient in Java           32.434908\n",
       "Proficient in C#             31.113437\n",
       "Proficient in PHP            22.373414\n",
       "Proficient in Python         19.272537\n",
       "Proficient in C++            18.552924\n",
       "Proficient in C              15.360461\n",
       "Proficient in Objective-C     8.831611\n",
       "Proficient in Ruby            7.758733\n",
       "dtype: float64"
      ]
     },
     "execution_count": 76,
     "metadata": {},
     "output_type": "execute_result"
    }
   ],
   "source": [
    "s_2014_proficiencies_percentages['proficiency percentages']"
   ]
  },
  {
   "cell_type": "code",
   "execution_count": 77,
   "metadata": {
    "collapsed": false,
    "pycharm": {
     "name": "#%%\n"
    }
   },
   "outputs": [
    {
     "data": {
      "text/plain": [
       "JavaScript     50.189716\n",
       "Java           32.434908\n",
       "C#             31.113437\n",
       "PHP            22.373414\n",
       "Python         19.272537\n",
       "C++            18.552924\n",
       "C              15.360461\n",
       "Objective-C     8.831611\n",
       "Ruby            7.758733\n",
       "dtype: float64"
      ]
     },
     "execution_count": 77,
     "metadata": {},
     "output_type": "execute_result"
    }
   ],
   "source": [
    "s_2014_proficiencies_percentages['top ten proficiency percentages']"
   ]
  },
  {
   "cell_type": "markdown",
   "metadata": {
    "collapsed": false,
    "pycharm": {
     "name": "#%% md\n"
    }
   },
   "source": [
    "Mapping languages to related assigned color:\n"
   ]
  },
  {
   "cell_type": "code",
   "execution_count": 78,
   "metadata": {
    "collapsed": false,
    "pycharm": {
     "name": "#%%\n"
    }
   },
   "outputs": [],
   "source": [
    "languages_palette_list = map_languages_to_color_list(languages_palette, s_2014_proficiencies_percentages['top ten proficiency percentages'])"
   ]
  },
  {
   "cell_type": "markdown",
   "metadata": {
    "collapsed": false,
    "pycharm": {
     "name": "#%% md\n"
    }
   },
   "source": [
    "### Histogram of most popular languages in 2014"
   ]
  },
  {
   "cell_type": "code",
   "execution_count": 79,
   "metadata": {
    "collapsed": false,
    "pycharm": {
     "name": "#%%\n"
    }
   },
   "outputs": [
    {
     "data": {
      "image/png": "[encoded data removed]",
      "text/plain": [
       "<Figure size 1440x720 with 1 Axes>"
      ]
     },
     "metadata": {
      "needs_background": "light"
     },
     "output_type": "display_data"
    }
   ],
   "source": [
    "# plotting data\n",
    "\n",
    "ax_14 = s_2014_proficiencies_percentages['top ten proficiency percentages'].plot.bar(color=languages_palette_list)\n",
    "# annotating values on top of each bar, for readability\n",
    "for p in ax_14.patches:\n",
    "    ax_14.annotate(str(round(p.get_height(), 2)), (p.get_x() * 1.005, p.get_height() * 1.005))\n"
   ]
  },
  {
   "cell_type": "markdown",
   "metadata": {
    "pycharm": {
     "name": "#%% md\n"
    }
   },
   "source": [
    "Top 5 languages in 2014: <br>\n",
    "1. JavaScript\n",
    "2. Java\n",
    "3. C#\n",
    "4. PHP\n",
    "5. Python"
   ]
  },
  {
   "cell_type": "markdown",
   "metadata": {
    "pycharm": {
     "name": "#%% md\n"
    }
   },
   "source": [
    "#### 2015 Results Analysis\n",
    "Now I'll compute the answer to first question, referring to 2015 data:"
   ]
  },
  {
   "cell_type": "code",
   "execution_count": 80,
   "metadata": {
    "pycharm": {
     "name": "#%%\n"
    }
   },
   "outputs": [],
   "source": [
    "# instantiating  a LanguagesStatsExtractor object\n",
    "lre_15 = LanguagesRankingExtractor(df_surveys_15, columns_selection_criteria=lang_prof_CROI_2015, prefix_to_remove='Current Lang & Tech: ')\n",
    "# computing languages proficiency ranking in 2013\n",
    "s_2015_proficiencies_stats = lre_15.get_stats()"
   ]
  },
  {
   "cell_type": "code",
   "execution_count": 81,
   "metadata": {
    "collapsed": false,
    "pycharm": {
     "name": "#%%\n"
    }
   },
   "outputs": [
    {
     "data": {
      "text/plain": [
       "JavaScript    11962\n",
       "SQL            9439\n",
       "Java           8219\n",
       "C#             6949\n",
       "PHP            6529\n",
       "Python         5238\n",
       "C++            4529\n",
       "SQL Server     4129\n",
       "Android        4110\n",
       "C              3612\n",
       "dtype: int64"
      ]
     },
     "execution_count": 81,
     "metadata": {},
     "output_type": "execute_result"
    }
   ],
   "source": [
    "# having a look at top ten most popular languages in 2015\n",
    "s_2015_proficiencies_top_10 = s_2015_proficiencies_stats['top ten languages']\n",
    "s_2015_proficiencies_top_10"
   ]
  },
  {
   "cell_type": "markdown",
   "metadata": {
    "collapsed": false,
    "pycharm": {
     "name": "#%% md\n"
    }
   },
   "source": [
    "SQL, SQL Server and Android are not programming languages  and have to be excluded from computations:"
   ]
  },
  {
   "cell_type": "markdown",
   "metadata": {
    "collapsed": false,
    "pycharm": {
     "name": "#%% md\n"
    }
   },
   "source": [
    "From the moment we may have other non-languages involved, let's have a look at full ranking before compiling exclusion list:"
   ]
  },
  {
   "cell_type": "code",
   "execution_count": 82,
   "metadata": {
    "collapsed": false,
    "pycharm": {
     "name": "#%%\n"
    }
   },
   "outputs": [
    {
     "data": {
      "text/plain": [
       "Current Lang & Tech: JavaScript       11962\n",
       "Current Lang & Tech: SQL               9439\n",
       "Current Lang & Tech: Java              8219\n",
       "Current Lang & Tech: C#                6949\n",
       "Current Lang & Tech: PHP               6529\n",
       "Current Lang & Tech: Python            5238\n",
       "Current Lang & Tech: C++               4529\n",
       "Current Lang & Tech: SQL Server        4129\n",
       "Current Lang & Tech: Android           4110\n",
       "Current Lang & Tech: C                 3612\n",
       "Current Lang & Tech: Node.js           2919\n",
       "Current Lang & Tech: AngularJS         2913\n",
       "Current Lang & Tech: iOS               1956\n",
       "Current Lang & Tech: LAMP              1926\n",
       "Current Lang & Tech: C++11             1851\n",
       "Current Lang & Tech: Ruby              1765\n",
       "Current Lang & Tech: MongoDB           1745\n",
       "Current Lang & Tech: Objective-C       1719\n",
       "Current Lang & Tech: Visual Basic      1701\n",
       "Current Lang & Tech: Arduino           1626\n",
       "Current Lang & Tech: Cloud             1410\n",
       "Current Lang & Tech: Redis              873\n",
       "Current Lang & Tech: Matlab             860\n",
       "Current Lang & Tech: CoffeeScript       783\n",
       "Current Lang & Tech: Swift              759\n",
       "Current Lang & Tech: R                  755\n",
       "Current Lang & Tech: Perl               738\n",
       "Current Lang & Tech: Cordova            628\n",
       "Current Lang & Tech: Windows Phone      570\n",
       "Current Lang & Tech: Scala              538\n",
       "Current Lang & Tech: Go                 462\n",
       "Current Lang & Tech: Haskell            357\n",
       "Current Lang & Tech: Sharepoint         349\n",
       "Current Lang & Tech: Hadoop             342\n",
       "Current Lang & Tech: Cassandra          202\n",
       "Current Lang & Tech: Clojure            176\n",
       "Current Lang & Tech: F#                 174\n",
       "Current Lang & Tech: Salesforce         153\n",
       "Current Lang & Tech: Dart               109\n",
       "Current Lang & Tech: Spark              104\n",
       "Current Lang & Tech: Rust               103\n",
       "dtype: int64"
      ]
     },
     "execution_count": 82,
     "metadata": {},
     "output_type": "execute_result"
    }
   ],
   "source": [
    "s_2015_proficiencies_stats['full ranking']"
   ]
  },
  {
   "cell_type": "code",
   "execution_count": 83,
   "metadata": {
    "collapsed": false,
    "pycharm": {
     "name": "#%%\n"
    }
   },
   "outputs": [],
   "source": [
    "exclusion_list = [\"Current Lang & Tech: SQL\", \"Current Lang & Tech: SQL Server\", \"Current Lang & Tech: Android\",\n",
    "                  \"Current Lang & Tech: iOS\", \"Current Lang & Tech: LAMP\", \"Current Lang & Tech: C++11\", \"Current Lang & Tech: MongoDB\",\n",
    "                  \"Current Lang & Tech: Arduino\", \"Current Lang & Tech: Cloud\", \"Current Lang & Tech: Redis\", \"Current Lang & Tech: Cordova\",\n",
    "                  \"Current Lang & Tech: Windows Phone\", \"Current Lang & Tech: Sharepoint\", \"Current Lang & Tech: Hadoop\", \"Current Lang & Tech: Cassandra\",\n",
    "                  \"Current Lang & Tech: Salesforce\", \"Current Lang & Tech: Spark\"]\n",
    "\n",
    "entries_merge_list = [(\"JavaScript\", \"Node.js\"), (\"JavaScript\", \"AngularJS\")]"
   ]
  },
  {
   "cell_type": "code",
   "execution_count": 84,
   "metadata": {
    "collapsed": false,
    "pycharm": {
     "name": "#%%\n"
    }
   },
   "outputs": [],
   "source": [
    "# instantiating  a LanguagesStatsExtractor object\n",
    "lre_15 = LanguagesRankingExtractor(df_surveys_15, columns_selection_criteria=lang_prof_CROI_2015, exclusion_list=exclusion_list, prefix_to_remove='Current Lang & Tech: ', entries_merge_list=entries_merge_list)\n",
    "# computing languages proficiency ranking in 2013\n",
    "s_2015_proficiencies_stats = lre_15.get_stats()"
   ]
  },
  {
   "cell_type": "code",
   "execution_count": 85,
   "metadata": {
    "collapsed": false,
    "pycharm": {
     "name": "#%%\n"
    }
   },
   "outputs": [
    {
     "data": {
      "text/plain": [
       "JavaScript      12433\n",
       "Java             8219\n",
       "C#               6949\n",
       "PHP              6529\n",
       "Python           5238\n",
       "C++              4529\n",
       "C                3612\n",
       "Ruby             1765\n",
       "Objective-C      1719\n",
       "Visual Basic     1701\n",
       "dtype: int64"
      ]
     },
     "execution_count": 85,
     "metadata": {},
     "output_type": "execute_result"
    }
   ],
   "source": [
    "# having a look at top ten most popular languages in 2015\n",
    "s_2015_proficiencies_top_10 = s_2015_proficiencies_stats['top ten languages']\n",
    "s_2015_proficiencies_top_10"
   ]
  },
  {
   "cell_type": "markdown",
   "metadata": {
    "collapsed": false,
    "pycharm": {
     "name": "#%% md\n"
    }
   },
   "source": [
    "We can now assess the language popularity in absolute terms computing total percentage\n",
    "of coders using that particular language:"
   ]
  },
  {
   "cell_type": "code",
   "execution_count": 86,
   "metadata": {
    "collapsed": false,
    "pycharm": {
     "name": "#%%\n"
    }
   },
   "outputs": [],
   "source": [
    "# computing percentages\n",
    "lpp_15 = LanguagesProficienciesPercentages(lre_15)\n",
    "\n",
    "s_2015_proficiencies_percentages = lpp_15.get_stats()"
   ]
  },
  {
   "cell_type": "code",
   "execution_count": 87,
   "metadata": {
    "collapsed": false,
    "pycharm": {
     "name": "#%%\n"
    }
   },
   "outputs": [
    {
     "data": {
      "text/plain": [
       "Current Lang & Tech: JavaScript      47.661581\n",
       "Current Lang & Tech: Java            31.507322\n",
       "Current Lang & Tech: C#              26.638810\n",
       "Current Lang & Tech: PHP             25.028751\n",
       "Current Lang & Tech: Python          20.079736\n",
       "Current Lang & Tech: C++             17.361803\n",
       "Current Lang & Tech: C               13.846508\n",
       "Current Lang & Tech: Ruby             6.766081\n",
       "Current Lang & Tech: Objective-C      6.589742\n",
       "Current Lang & Tech: Visual Basic     6.520739\n",
       "Current Lang & Tech: Matlab           3.296788\n",
       "Current Lang & Tech: CoffeeScript     3.001610\n",
       "Current Lang & Tech: Swift            2.909607\n",
       "Current Lang & Tech: R                2.894273\n",
       "Current Lang & Tech: Perl             2.829104\n",
       "Current Lang & Tech: Scala            2.062409\n",
       "Current Lang & Tech: Go               1.771065\n",
       "Current Lang & Tech: Haskell          1.368550\n",
       "Current Lang & Tech: Clojure          0.674691\n",
       "Current Lang & Tech: F#               0.667024\n",
       "Current Lang & Tech: Dart             0.417849\n",
       "Current Lang & Tech: Rust             0.394848\n",
       "dtype: float64"
      ]
     },
     "execution_count": 87,
     "metadata": {},
     "output_type": "execute_result"
    }
   ],
   "source": [
    "s_2015_proficiencies_percentages['proficiency percentages']"
   ]
  },
  {
   "cell_type": "code",
   "execution_count": 88,
   "metadata": {
    "collapsed": false,
    "pycharm": {
     "name": "#%%\n"
    }
   },
   "outputs": [
    {
     "data": {
      "text/plain": [
       "JavaScript      47.661581\n",
       "Java            31.507322\n",
       "C#              26.638810\n",
       "PHP             25.028751\n",
       "Python          20.079736\n",
       "C++             17.361803\n",
       "C               13.846508\n",
       "Ruby             6.766081\n",
       "Objective-C      6.589742\n",
       "Visual Basic     6.520739\n",
       "dtype: float64"
      ]
     },
     "execution_count": 88,
     "metadata": {},
     "output_type": "execute_result"
    }
   ],
   "source": [
    "s_2015_proficiencies_percentages['top ten proficiency percentages']"
   ]
  },
  {
   "cell_type": "markdown",
   "metadata": {
    "collapsed": false,
    "pycharm": {
     "name": "#%% md\n"
    }
   },
   "source": [
    "### Histogram of most popular languages in 2015"
   ]
  },
  {
   "cell_type": "markdown",
   "metadata": {
    "collapsed": false,
    "pycharm": {
     "name": "#%% md\n"
    }
   },
   "source": [
    "Mapping languages to related assigned color:\n"
   ]
  },
  {
   "cell_type": "code",
   "execution_count": 89,
   "metadata": {
    "collapsed": false,
    "pycharm": {
     "name": "#%%\n"
    }
   },
   "outputs": [],
   "source": [
    "# Savoy Blue\n",
    "languages_palette['Visual Basic'] = \"#0A36AF\""
   ]
  },
  {
   "cell_type": "code",
   "execution_count": 90,
   "metadata": {
    "collapsed": false,
    "pycharm": {
     "name": "#%%\n"
    }
   },
   "outputs": [],
   "source": [
    "languages_palette_list = map_languages_to_color_list(languages_palette, s_2015_proficiencies_percentages['top ten proficiency percentages'])"
   ]
  },
  {
   "cell_type": "code",
   "execution_count": 91,
   "metadata": {
    "collapsed": false,
    "pycharm": {
     "name": "#%%\n"
    }
   },
   "outputs": [
    {
     "data": {
      "image/png": "[encoded data removed]",
      "text/plain": [
       "<Figure size 1440x720 with 1 Axes>"
      ]
     },
     "metadata": {
      "needs_background": "light"
     },
     "output_type": "display_data"
    }
   ],
   "source": [
    "# plotting data\n",
    "ax_15 = s_2015_proficiencies_percentages['top ten proficiency percentages'].plot.bar(color=languages_palette_list)\n",
    "# annotating values on top of each bar, for readability\n",
    "for p in ax_15.patches:\n",
    "    ax_15.annotate(str(round(p.get_height(), 2)), (p.get_x() * 1.005, p.get_height() * 1.005))"
   ]
  },
  {
   "cell_type": "markdown",
   "metadata": {
    "pycharm": {
     "name": "#%% md\n"
    }
   },
   "source": [
    "Top 5 languages in 2015: <br>\n",
    "1. JavaScript\n",
    "2. Java\n",
    "3. C#\n",
    "4. PHP\n",
    "5. Python\n",
    "\n"
   ]
  },
  {
   "cell_type": "markdown",
   "metadata": {
    "collapsed": false,
    "pycharm": {
     "name": "#%% md\n"
    }
   },
   "source": [
    "Top 5 languages standings, in 2015 was unchanged respect to 2014."
   ]
  },
  {
   "cell_type": "markdown",
   "metadata": {
    "pycharm": {
     "name": "#%% md\n"
    }
   },
   "source": [
    "#### 2016 Results Analysis\n",
    "Now I'll compute the answer to first question, referring to 2016 data:\n"
   ]
  },
  {
   "cell_type": "code",
   "execution_count": 92,
   "metadata": {
    "pycharm": {
     "name": "#%%\n"
    }
   },
   "outputs": [],
   "source": [
    "# instantiating  a LanguagesStatsExtractor object\n",
    "lre_16 = LanguagesRankingExtractor(df_surveys_16, columns_selection_criteria=lang_prof_CROI_2016, prefix_to_remove='tech_do: ')\n",
    "\n",
    "# computing languages proficiency ranking in 2013\n",
    "s_2016_proficiencies_stats = lre_16.get_stats()"
   ]
  },
  {
   "cell_type": "code",
   "execution_count": 93,
   "metadata": {
    "collapsed": false,
    "pycharm": {
     "name": "#%%\n"
    }
   },
   "outputs": [
    {
     "data": {
      "text/plain": [
       "JavaScript    27385.0\n",
       "Java          17942.0\n",
       "C#            15283.0\n",
       "PHP           12780.0\n",
       "Python        12282.0\n",
       "C++            9589.0\n",
       "AngularJS      8823.0\n",
       "Android        8601.0\n",
       "Node.js        8509.0\n",
       "C              7678.0\n",
       "dtype: float64"
      ]
     },
     "execution_count": 93,
     "metadata": {},
     "output_type": "execute_result"
    }
   ],
   "source": [
    "s_2016_proficiencies_stats['top ten languages']"
   ]
  },
  {
   "cell_type": "markdown",
   "metadata": {
    "collapsed": false,
    "pycharm": {
     "name": "#%% md\n"
    }
   },
   "source": [
    "[AngularJS](https://en.wikipedia.org/wiki/AngularJS) and [Node.js](https://en.wikipedia.org/wiki/Node.js) are JavaScript-based framework, hence, it should be merged with JavaScript. Let's have a look at full ranking before proceeding to data cleaning parameters initialization:"
   ]
  },
  {
   "cell_type": "code",
   "execution_count": 94,
   "metadata": {
    "collapsed": false,
    "pycharm": {
     "name": "#%%\n"
    }
   },
   "outputs": [
    {
     "data": {
      "text/plain": [
       "tech_do: JavaScript                       27385.0\n",
       "tech_do: Java                             17942.0\n",
       "tech_do: C#                               15283.0\n",
       "tech_do: PHP                              12780.0\n",
       "tech_do: Python                           12282.0\n",
       "tech_do: C++                               9589.0\n",
       "tech_do: AngularJS                         8823.0\n",
       "tech_do: Android                           8601.0\n",
       "tech_do: Node.js                           8509.0\n",
       "tech_do: C                                 7678.0\n",
       "tech_do: LAMP                              4821.0\n",
       "tech_do: MongoDB                           4780.0\n",
       "tech_do: Cloud (AWS, GAE, Azure, etc.)     4629.0\n",
       "tech_do: iOS                               4498.0\n",
       "tech_do: Ruby                              4383.0\n",
       "tech_do: Arduino / Raspberry Pi            3797.0\n",
       "tech_do: Objective-C                       3202.0\n",
       "tech_do: Redis                             2862.0\n",
       "tech_do: ReactJS                           2541.0\n",
       "tech_do: CoffeeScript                      1662.0\n",
       "tech_do: Cordova                           1651.0\n",
       "tech_do: R                                 1632.0\n",
       "tech_do: Perl                              1624.0\n",
       "tech_do: Matlab                            1602.0\n",
       "tech_do: Go                                1547.0\n",
       "tech_do: Hadoop                            1012.0\n",
       "tech_do: Haskell                            813.0\n",
       "tech_do: Salesforce                         665.0\n",
       "tech_do: Cassandra                          663.0\n",
       "tech_do: Clojure                            556.0\n",
       "tech_do: F#                                 484.0\n",
       "tech_do: Rust                               436.0\n",
       "tech_do: Dart                               222.0\n",
       "dtype: float64"
      ]
     },
     "execution_count": 94,
     "metadata": {},
     "output_type": "execute_result"
    }
   ],
   "source": [
    "s_2016_proficiencies_stats['full ranking']"
   ]
  },
  {
   "cell_type": "code",
   "execution_count": 95,
   "metadata": {
    "collapsed": false,
    "pycharm": {
     "name": "#%%\n"
    }
   },
   "outputs": [],
   "source": [
    "exclusion_list = [\"tech_do: LAMP\", \"tech_do: MongoDB\", \"tech_do: Cloud (AWS, GAE, Azure, etc.)\", \"tech_do: iOS\", \"tech_do: Arduino / Raspberry Pi\",\n",
    "                  \"tech_do: Redis\", \"tech_do: Cordova\", \"tech_do: Hadoop\", \"tech_do: Salesforce\", \"tech_do: Cassandra\", \"tech_do: Android\"]\n",
    "entries_merge_list = [(\"JavaScript\", \"AngularJS\"), (\"JavaScript\", \"Node.js\"), (\"JavaScript\", \"ReactJS\")]"
   ]
  },
  {
   "cell_type": "code",
   "execution_count": 96,
   "metadata": {
    "collapsed": false,
    "pycharm": {
     "name": "#%%\n"
    }
   },
   "outputs": [],
   "source": [
    "lre_16 = LanguagesRankingExtractor(df_surveys_16, columns_selection_criteria=lang_prof_CROI_2016, prefix_to_remove='tech_do: ', exclusion_list= exclusion_list, entries_merge_list=entries_merge_list)"
   ]
  },
  {
   "cell_type": "code",
   "execution_count": 97,
   "metadata": {
    "collapsed": false,
    "pycharm": {
     "name": "#%%\n"
    }
   },
   "outputs": [],
   "source": [
    "s_2016_proficiencies_stats = lre_16.get_stats()"
   ]
  },
  {
   "cell_type": "code",
   "execution_count": 98,
   "metadata": {
    "collapsed": false,
    "pycharm": {
     "name": "#%%\n"
    }
   },
   "outputs": [
    {
     "data": {
      "text/plain": [
       "JavaScript      28904.0\n",
       "Java            17942.0\n",
       "C#              15283.0\n",
       "PHP             12780.0\n",
       "Python          12282.0\n",
       "C++              9589.0\n",
       "C                7678.0\n",
       "Ruby             4383.0\n",
       "Objective-C      3202.0\n",
       "CoffeeScript     1662.0\n",
       "dtype: float64"
      ]
     },
     "execution_count": 98,
     "metadata": {},
     "output_type": "execute_result"
    }
   ],
   "source": [
    "s_2016_proficiencies_stats['top ten languages']"
   ]
  },
  {
   "cell_type": "markdown",
   "metadata": {
    "collapsed": false,
    "pycharm": {
     "name": "#%% md\n"
    }
   },
   "source": [
    "We can now assess the language popularity in absolute terms computing total percentage\n",
    "of coders using that particular language:"
   ]
  },
  {
   "cell_type": "code",
   "execution_count": 99,
   "metadata": {
    "collapsed": false,
    "pycharm": {
     "name": "#%%\n"
    }
   },
   "outputs": [],
   "source": [
    "# computing percentages\n",
    "lpp_16 = LanguagesProficienciesPercentages(lre_16)\n",
    "\n",
    "s_2016_proficiencies_percentages = lpp_16.get_stats()"
   ]
  },
  {
   "cell_type": "code",
   "execution_count": 100,
   "metadata": {
    "collapsed": false,
    "pycharm": {
     "name": "#%%\n"
    }
   },
   "outputs": [
    {
     "data": {
      "text/plain": [
       "tech_do: JavaScript      51.586650\n",
       "tech_do: Java            32.022131\n",
       "tech_do: C#              27.276459\n",
       "tech_do: PHP             22.809209\n",
       "tech_do: Python          21.920400\n",
       "tech_do: C++             17.114046\n",
       "tech_do: C               13.703373\n",
       "tech_do: Ruby             7.822595\n",
       "tech_do: Objective-C      5.714796\n",
       "tech_do: CoffeeScript     2.966268\n",
       "tech_do: R                2.912725\n",
       "tech_do: Perl             2.898447\n",
       "tech_do: Matlab           2.859183\n",
       "tech_do: Go               2.761021\n",
       "tech_do: Haskell          1.451008\n",
       "tech_do: Clojure          0.992326\n",
       "tech_do: F#               0.863823\n",
       "tech_do: Rust             0.778155\n",
       "tech_do: Dart             0.396216\n",
       "dtype: float64"
      ]
     },
     "execution_count": 100,
     "metadata": {},
     "output_type": "execute_result"
    }
   ],
   "source": [
    "s_2016_proficiencies_percentages['proficiency percentages']"
   ]
  },
  {
   "cell_type": "code",
   "execution_count": 101,
   "metadata": {
    "collapsed": false,
    "pycharm": {
     "name": "#%%\n"
    }
   },
   "outputs": [
    {
     "data": {
      "text/plain": [
       "JavaScript      51.586650\n",
       "Java            32.022131\n",
       "C#              27.276459\n",
       "PHP             22.809209\n",
       "Python          21.920400\n",
       "C++             17.114046\n",
       "C               13.703373\n",
       "Ruby             7.822595\n",
       "Objective-C      5.714796\n",
       "CoffeeScript     2.966268\n",
       "dtype: float64"
      ]
     },
     "execution_count": 101,
     "metadata": {},
     "output_type": "execute_result"
    }
   ],
   "source": [
    "s_2016_proficiencies_percentages['top ten proficiency percentages']"
   ]
  },
  {
   "cell_type": "markdown",
   "metadata": {
    "collapsed": false,
    "pycharm": {
     "name": "#%% md\n"
    }
   },
   "source": [
    "Adding \"CoffeeScript\" language color to palette"
   ]
  },
  {
   "cell_type": "code",
   "execution_count": 102,
   "metadata": {
    "collapsed": false,
    "pycharm": {
     "name": "#%%\n"
    }
   },
   "outputs": [],
   "source": [
    "# Coffee Brown color\n",
    "languages_palette['CoffeeScript'] = \"#4a2c2a\""
   ]
  },
  {
   "cell_type": "markdown",
   "metadata": {
    "collapsed": false,
    "pycharm": {
     "name": "#%% md\n"
    }
   },
   "source": [
    "Mapping languages to colors"
   ]
  },
  {
   "cell_type": "code",
   "execution_count": 103,
   "metadata": {
    "collapsed": false,
    "pycharm": {
     "name": "#%%\n"
    }
   },
   "outputs": [],
   "source": [
    "languages_palette_list = map_languages_to_color_list(languages_palette, s_2016_proficiencies_percentages['top ten proficiency percentages'])"
   ]
  },
  {
   "cell_type": "markdown",
   "metadata": {
    "collapsed": false,
    "pycharm": {
     "name": "#%% md\n"
    }
   },
   "source": [
    "### Histogram of most popular languages in 2016"
   ]
  },
  {
   "cell_type": "code",
   "execution_count": 104,
   "metadata": {
    "collapsed": false,
    "pycharm": {
     "name": "#%%\n"
    }
   },
   "outputs": [
    {
     "data": {
      "image/png": "[encoded data removed]",
      "text/plain": [
       "<Figure size 1440x720 with 1 Axes>"
      ]
     },
     "metadata": {
      "needs_background": "light"
     },
     "output_type": "display_data"
    }
   ],
   "source": [
    "# plotting data\n",
    "ax_16 = s_2016_proficiencies_percentages['top ten proficiency percentages'].plot.bar(color=languages_palette_list)\n",
    "# annotating values on top of each bar, for readability\n",
    "for p in ax_16.patches:\n",
    "    ax_16.annotate(str(round(p.get_height(), 2)), (p.get_x() * 1.005, p.get_height() * 1.005))"
   ]
  },
  {
   "cell_type": "markdown",
   "metadata": {
    "collapsed": false,
    "pycharm": {
     "name": "#%% md\n"
    }
   },
   "source": [
    "Top 5 languages in 2015: <br>\n",
    "1. JavaScript\n",
    "2. Java\n",
    "3. C#\n",
    "4. PHP\n",
    "5. Python\n",
    "\n"
   ]
  },
  {
   "cell_type": "markdown",
   "metadata": {
    "collapsed": false,
    "pycharm": {
     "name": "#%% md\n"
    }
   },
   "source": [
    "Top 5 languages standings, in 2016 was unchanged respect to 2015, some minor changes in other top ten position has occurred, in particular, Visual Basic has been replaced by the new entry CoffeeScript."
   ]
  },
  {
   "cell_type": "markdown",
   "metadata": {
    "pycharm": {
     "name": "#%% md\n"
    }
   },
   "source": [
    "Top 5 languages in 2016: <br>\n",
    "1. JavaScript\n",
    "2. Java\n",
    "3. C#\n",
    "4. PHP\n",
    "5. Python<br>"
   ]
  },
  {
   "cell_type": "markdown",
   "metadata": {
    "pycharm": {
     "name": "#%% md\n"
    }
   },
   "source": [
    "#### 2017 Results Analysis\n",
    "Now I'll compute the answer to first question, referring to 2017 data:\n"
   ]
  },
  {
   "cell_type": "code",
   "execution_count": 105,
   "metadata": {
    "collapsed": false,
    "pycharm": {
     "name": "#%%\n"
    }
   },
   "outputs": [],
   "source": [
    "# instantiating  a LanguagesStatsExtractor object\n",
    "lre_17 = LanguagesRankingExtractor(df_surveys_17, columns_selection_criteria=\"HaveWorkedLanguage\", prefix_to_remove='HaveWorkedLanguage: ')\n",
    "\n",
    "# computing languages proficiency ranking in 2017\n",
    "s_2017_proficiencies_stats = lre_17.get_stats()"
   ]
  },
  {
   "cell_type": "code",
   "execution_count": 106,
   "metadata": {
    "collapsed": false,
    "pycharm": {
     "name": "#%%\n"
    }
   },
   "outputs": [
    {
     "data": {
      "text/plain": [
       "JavaScript    22875.0\n",
       "SQL           18754.0\n",
       "Java          14524.0\n",
       "C#            12476.0\n",
       "Python        11704.0\n",
       "PHP           10290.0\n",
       "C++            8155.0\n",
       "C              6974.0\n",
       "TypeScript     3488.0\n",
       "Ruby           3324.0\n",
       "dtype: float64"
      ]
     },
     "execution_count": 106,
     "metadata": {},
     "output_type": "execute_result"
    }
   ],
   "source": [
    "s_2017_proficiencies_stats['top ten languages']"
   ]
  },
  {
   "cell_type": "markdown",
   "metadata": {
    "collapsed": false,
    "pycharm": {
     "name": "#%% md\n"
    }
   },
   "source": [
    "[TypeScript](https://en.wikipedia.org/wiki/TypeScript) is a superset of JavaScript, as well as [C++](https://en.wikipedia.org/wiki/C%2B%2B) can be considered a superset of [C](https://en.wikipedia.org/wiki/C_(programming_language)). Therefore, no merging will be done on top ten entries this time."
   ]
  },
  {
   "cell_type": "markdown",
   "metadata": {
    "collapsed": false,
    "pycharm": {
     "name": "#%% md\n"
    }
   },
   "source": [
    "To get an overvies, here follows the full ranking of languages by popularity in 2017:"
   ]
  },
  {
   "cell_type": "code",
   "execution_count": 107,
   "metadata": {
    "collapsed": false,
    "pycharm": {
     "name": "#%%\n"
    }
   },
   "outputs": [
    {
     "data": {
      "text/plain": [
       "HaveWorkedLanguage: JavaScript        22875.0\n",
       "HaveWorkedLanguage: SQL               18754.0\n",
       "HaveWorkedLanguage: Java              14524.0\n",
       "HaveWorkedLanguage: C#                12476.0\n",
       "HaveWorkedLanguage: Python            11704.0\n",
       "HaveWorkedLanguage: PHP               10290.0\n",
       "HaveWorkedLanguage: C++                8155.0\n",
       "HaveWorkedLanguage: C                  6974.0\n",
       "HaveWorkedLanguage: TypeScript         3488.0\n",
       "HaveWorkedLanguage: Ruby               3324.0\n",
       "HaveWorkedLanguage: Swift              2368.0\n",
       "HaveWorkedLanguage: Objective-C        2349.0\n",
       "HaveWorkedLanguage: VB.NET             2273.0\n",
       "HaveWorkedLanguage: Assembly           1823.0\n",
       "HaveWorkedLanguage: R                  1634.0\n",
       "HaveWorkedLanguage: Perl               1585.0\n",
       "HaveWorkedLanguage: VBA                1574.0\n",
       "HaveWorkedLanguage: Matlab             1569.0\n",
       "HaveWorkedLanguage: Go                 1557.0\n",
       "HaveWorkedLanguage: Scala              1309.0\n",
       "HaveWorkedLanguage: Groovy             1193.0\n",
       "HaveWorkedLanguage: CoffeeScript       1192.0\n",
       "HaveWorkedLanguage: Visual Basic 6     1071.0\n",
       "HaveWorkedLanguage: Lua                1039.0\n",
       "HaveWorkedLanguage: Haskell             649.0\n",
       "HaveWorkedLanguage: F#                  457.0\n",
       "HaveWorkedLanguage: Rust                416.0\n",
       "HaveWorkedLanguage: Clojure             391.0\n",
       "HaveWorkedLanguage: Elixir              380.0\n",
       "HaveWorkedLanguage: Smalltalk           327.0\n",
       "HaveWorkedLanguage: Erlang              281.0\n",
       "HaveWorkedLanguage: Common Lisp         273.0\n",
       "HaveWorkedLanguage: Dart                145.0\n",
       "HaveWorkedLanguage: Julia               138.0\n",
       "HaveWorkedLanguage: Hack                107.0\n",
       "dtype: float64"
      ]
     },
     "execution_count": 107,
     "metadata": {},
     "output_type": "execute_result"
    }
   ],
   "source": [
    "s_2017_proficiencies_stats['full ranking']"
   ]
  },
  {
   "cell_type": "markdown",
   "metadata": {
    "collapsed": false,
    "pycharm": {
     "name": "#%% md\n"
    }
   },
   "source": [
    "SQL shall be excluded and, as a consequence, [Swift](https://en.wikipedia.org/wiki/Swift_(programming_language)) will come up in Top Ten."
   ]
  },
  {
   "cell_type": "code",
   "execution_count": 108,
   "metadata": {
    "collapsed": false,
    "pycharm": {
     "name": "#%%\n"
    }
   },
   "outputs": [],
   "source": [
    "exclusion_list= [\"HaveWorkedLanguage: SQL\"]"
   ]
  },
  {
   "cell_type": "code",
   "execution_count": 109,
   "metadata": {
    "collapsed": false,
    "pycharm": {
     "name": "#%%\n"
    }
   },
   "outputs": [],
   "source": [
    "# instantiating  a LanguagesStatsExtractor object\n",
    "lre_17 = LanguagesRankingExtractor(df_surveys_17, columns_selection_criteria=\"HaveWorkedLanguage\", prefix_to_remove='HaveWorkedLanguage: ', exclusion_list=exclusion_list)\n",
    "\n",
    "# computing languages proficiency ranking in 2017\n",
    "s_2017_proficiencies_stats = lre_17.get_stats()"
   ]
  },
  {
   "cell_type": "code",
   "execution_count": 110,
   "metadata": {
    "collapsed": false,
    "pycharm": {
     "name": "#%%\n"
    }
   },
   "outputs": [
    {
     "data": {
      "text/plain": [
       "JavaScript    22875.0\n",
       "Java          14524.0\n",
       "C#            12476.0\n",
       "Python        11704.0\n",
       "PHP           10290.0\n",
       "C++            8155.0\n",
       "C              6974.0\n",
       "TypeScript     3488.0\n",
       "Ruby           3324.0\n",
       "Swift          2368.0\n",
       "dtype: float64"
      ]
     },
     "execution_count": 110,
     "metadata": {},
     "output_type": "execute_result"
    }
   ],
   "source": [
    "s_2017_proficiencies_stats['top ten languages']"
   ]
  },
  {
   "cell_type": "markdown",
   "metadata": {
    "collapsed": false,
    "pycharm": {
     "name": "#%% md\n"
    }
   },
   "source": [
    "We can now assess the language popularity in absolute terms computing total percentage\n",
    "of coders using that particular language:"
   ]
  },
  {
   "cell_type": "code",
   "execution_count": 111,
   "metadata": {
    "collapsed": false,
    "pycharm": {
     "name": "#%%\n"
    }
   },
   "outputs": [],
   "source": [
    "# computing percentages\n",
    "lpp_17 = LanguagesProficienciesPercentages(lre_17)\n",
    "\n",
    "s_2017_proficiencies_percentages = lpp_17.get_stats()"
   ]
  },
  {
   "cell_type": "code",
   "execution_count": 112,
   "metadata": {
    "collapsed": false,
    "pycharm": {
     "name": "#%%\n"
    }
   },
   "outputs": [
    {
     "data": {
      "text/plain": [
       "HaveWorkedLanguage: JavaScript        44.510819\n",
       "HaveWorkedLanguage: Java              28.261208\n",
       "HaveWorkedLanguage: C#                24.276152\n",
       "HaveWorkedLanguage: Python            22.773973\n",
       "HaveWorkedLanguage: PHP               20.022572\n",
       "HaveWorkedLanguage: C++               15.868229\n",
       "HaveWorkedLanguage: C                 13.570205\n",
       "HaveWorkedLanguage: TypeScript         6.787049\n",
       "HaveWorkedLanguage: Ruby               6.467933\n",
       "HaveWorkedLanguage: Swift              4.607721\n",
       "HaveWorkedLanguage: Objective-C        4.570750\n",
       "HaveWorkedLanguage: VB.NET             4.422867\n",
       "HaveWorkedLanguage: Assembly           3.547245\n",
       "HaveWorkedLanguage: R                  3.179483\n",
       "HaveWorkedLanguage: Perl               3.084138\n",
       "HaveWorkedLanguage: VBA                3.062733\n",
       "HaveWorkedLanguage: Matlab             3.053004\n",
       "HaveWorkedLanguage: Go                 3.029654\n",
       "HaveWorkedLanguage: Scala              2.547089\n",
       "HaveWorkedLanguage: Groovy             2.321373\n",
       "HaveWorkedLanguage: CoffeeScript       2.319427\n",
       "HaveWorkedLanguage: Visual Basic 6     2.083982\n",
       "HaveWorkedLanguage: Lua                2.021715\n",
       "HaveWorkedLanguage: Haskell            1.262842\n",
       "HaveWorkedLanguage: F#                 0.889243\n",
       "HaveWorkedLanguage: Rust               0.809465\n",
       "HaveWorkedLanguage: Clojure            0.760819\n",
       "HaveWorkedLanguage: Elixir             0.739415\n",
       "HaveWorkedLanguage: Smalltalk          0.636286\n",
       "HaveWorkedLanguage: Erlang             0.546778\n",
       "HaveWorkedLanguage: Common Lisp        0.531211\n",
       "HaveWorkedLanguage: Dart               0.282145\n",
       "HaveWorkedLanguage: Julia              0.268524\n",
       "HaveWorkedLanguage: Hack               0.208204\n",
       "dtype: float64"
      ]
     },
     "execution_count": 112,
     "metadata": {},
     "output_type": "execute_result"
    }
   ],
   "source": [
    "s_2017_proficiencies_percentages['proficiency percentages']"
   ]
  },
  {
   "cell_type": "markdown",
   "metadata": {
    "collapsed": false,
    "pycharm": {
     "name": "#%% md\n"
    }
   },
   "source": [
    "Adding \"TypeScript\" and \"Swift\" languages colors to palette"
   ]
  },
  {
   "cell_type": "code",
   "execution_count": 113,
   "metadata": {
    "collapsed": false,
    "pycharm": {
     "name": "#%%\n"
    }
   },
   "outputs": [],
   "source": [
    "# Spindle Tree color\n",
    "languages_palette['TypeScript'] = \"#6D8F3E\"\n",
    "# Dark Orange color\n",
    "languages_palette['Swift'] = \"#ff8c00\""
   ]
  },
  {
   "cell_type": "markdown",
   "metadata": {
    "collapsed": false,
    "pycharm": {
     "name": "#%% md\n"
    }
   },
   "source": [
    "Mapping languages to colors"
   ]
  },
  {
   "cell_type": "code",
   "execution_count": 114,
   "metadata": {
    "collapsed": false,
    "pycharm": {
     "name": "#%%\n"
    }
   },
   "outputs": [],
   "source": [
    "languages_palette_list = map_languages_to_color_list(languages_palette, s_2017_proficiencies_percentages['top ten proficiency percentages'])"
   ]
  },
  {
   "cell_type": "markdown",
   "metadata": {
    "collapsed": false,
    "pycharm": {
     "name": "#%% md\n"
    }
   },
   "source": [
    "### Histogram of most popular languages in 2017"
   ]
  },
  {
   "cell_type": "code",
   "execution_count": 115,
   "metadata": {
    "collapsed": false,
    "pycharm": {
     "name": "#%%\n"
    }
   },
   "outputs": [
    {
     "data": {
      "image/png": "[encoded data removed]",
      "text/plain": [
       "<Figure size 1440x720 with 1 Axes>"
      ]
     },
     "metadata": {
      "needs_background": "light"
     },
     "output_type": "display_data"
    }
   ],
   "source": [
    "# plotting data\n",
    "ax_17 = s_2017_proficiencies_percentages['top ten proficiency percentages'].plot.bar(color=languages_palette_list)\n",
    "# annotating values on top of each bar, for readability\n",
    "for p in ax_17.patches:\n",
    "    ax_17.annotate(str(round(p.get_height(), 2)), (p.get_x() * 1.005, p.get_height() * 1.005))"
   ]
  },
  {
   "cell_type": "markdown",
   "metadata": {
    "collapsed": false,
    "pycharm": {
     "name": "#%% md\n"
    }
   },
   "source": [
    "Top 5 languages in 2015: <br>\n",
    "1. JavaScript\n",
    "2. Java\n",
    "3. C#\n",
    "4. Python\n",
    "5. PHP\n",
    "\n"
   ]
  },
  {
   "cell_type": "markdown",
   "metadata": {
    "collapsed": false,
    "pycharm": {
     "name": "#%% md\n"
    }
   },
   "source": [
    "This year, three big changes can be spotted:\n",
    "1. Python took over PHP att 4th position;\n",
    "2. TypeScript got to the top ten at 8th position (leaving CoffeeScript out of it);\n",
    "3. Swift joined the top ten at 10th position."
   ]
  },
  {
   "cell_type": "markdown",
   "metadata": {
    "pycharm": {
     "name": "#%% md\n"
    }
   },
   "source": [
    "#### 2018 Results Analysis\n",
    "Now I'll compute the answer to first question, referring to 2018 data:\n"
   ]
  },
  {
   "cell_type": "code",
   "execution_count": 116,
   "metadata": {
    "collapsed": false,
    "pycharm": {
     "name": "#%%\n"
    }
   },
   "outputs": [],
   "source": [
    "# instantiating  a LanguagesStatsExtractor object\n",
    "lre_18 = LanguagesRankingExtractor(df_surveys_18, columns_selection_criteria=\"LanguageWorkedWith\", prefix_to_remove='LanguageWorkedWith: ')\n",
    "\n",
    "# computing languages proficiency ranking in 2018\n",
    "s_2018_proficiencies_stats = lre_18.get_stats()"
   ]
  },
  {
   "cell_type": "code",
   "execution_count": 117,
   "metadata": {
    "collapsed": false,
    "pycharm": {
     "name": "#%%\n"
    }
   },
   "outputs": [
    {
     "data": {
      "text/plain": [
       "JavaScript    54686.0\n",
       "HTML          53628.0\n",
       "CSS           50979.0\n",
       "SQL           44670.0\n",
       "Java          35521.0\n",
       "Bash/Shell    31172.0\n",
       "Python        30359.0\n",
       "C#            26954.0\n",
       "PHP           24071.0\n",
       "C++           19872.0\n",
       "dtype: float64"
      ]
     },
     "execution_count": 117,
     "metadata": {},
     "output_type": "execute_result"
    }
   ],
   "source": [
    "s_2018_proficiencies_stats['top ten languages']"
   ]
  },
  {
   "cell_type": "code",
   "execution_count": 118,
   "metadata": {
    "collapsed": false,
    "pycharm": {
     "name": "#%%\n"
    }
   },
   "outputs": [],
   "source": [
    "# instantiating  a LanguagesStatsExtractor object\n",
    "lre_18 = LanguagesRankingExtractor(df_surveys_18, columns_selection_criteria=\"LanguageWorkedWith\", prefix_to_remove='LanguageWorkedWith: ', exclusion_list=['LanguageWorkedWith: HTML', 'LanguageWorkedWith: CSS', 'LanguageWorkedWith: SQL'])\n",
    "# computing languages proficiency ranking in 2018\n",
    "s_2018_proficiencies_stats = lre_18.get_stats()"
   ]
  },
  {
   "cell_type": "code",
   "execution_count": 119,
   "metadata": {
    "collapsed": false,
    "pycharm": {
     "name": "#%%\n"
    }
   },
   "outputs": [],
   "source": [
    "# computing percentages\n",
    "lpp_18 = LanguagesProficienciesPercentages(lre_18)\n",
    "\n",
    "s_2018_proficiencies_percentages = lpp_18.get_stats()"
   ]
  },
  {
   "cell_type": "code",
   "execution_count": 120,
   "metadata": {
    "collapsed": false,
    "pycharm": {
     "name": "#%%\n"
    }
   },
   "outputs": [
    {
     "data": {
      "text/plain": [
       "LanguageWorkedWith: JavaScript              55.319407\n",
       "LanguageWorkedWith: Java                    35.932426\n",
       "LanguageWorkedWith: Bash/Shell              31.533053\n",
       "LanguageWorkedWith: Python                  30.710637\n",
       "LanguageWorkedWith: C#                      27.266198\n",
       "LanguageWorkedWith: PHP                     24.349805\n",
       "LanguageWorkedWith: C++                     20.102170\n",
       "LanguageWorkedWith: C                       18.250974\n",
       "LanguageWorkedWith: TypeScript              13.783825\n",
       "LanguageWorkedWith: Ruby                     8.002630\n",
       "LanguageWorkedWith: Swift                    6.383086\n",
       "LanguageWorkedWith: Assembly                 5.826716\n",
       "LanguageWorkedWith: Go                       5.596075\n",
       "LanguageWorkedWith: Objective-C              5.573820\n",
       "LanguageWorkedWith: VB.NET                   5.314855\n",
       "LanguageWorkedWith: R                        4.868747\n",
       "LanguageWorkedWith: Matlab                   4.616863\n",
       "LanguageWorkedWith: VBA                      3.854130\n",
       "LanguageWorkedWith: Kotlin                   3.548632\n",
       "LanguageWorkedWith: Scala                    3.459613\n",
       "LanguageWorkedWith: Groovy                   3.412068\n",
       "LanguageWorkedWith: Perl                     3.317991\n",
       "LanguageWorkedWith: Visual Basic 6           3.122756\n",
       "LanguageWorkedWith: Lua                      2.764655\n",
       "LanguageWorkedWith: CoffeeScript             2.633150\n",
       "LanguageWorkedWith: Delphi/Object Pascal     2.048455\n",
       "LanguageWorkedWith: Haskell                  1.983714\n",
       "LanguageWorkedWith: Rust                     1.878509\n",
       "LanguageWorkedWith: F#                       1.127915\n",
       "LanguageWorkedWith: Clojure                  1.043953\n",
       "LanguageWorkedWith: Erlang                   0.896262\n",
       "LanguageWorkedWith: Cobol                    0.596834\n",
       "LanguageWorkedWith: Ocaml                    0.475444\n",
       "LanguageWorkedWith: Julia                    0.434981\n",
       "LanguageWorkedWith: Hack                     0.256942\n",
       "dtype: float64"
      ]
     },
     "execution_count": 120,
     "metadata": {},
     "output_type": "execute_result"
    }
   ],
   "source": [
    "s_2018_proficiencies_percentages['proficiency percentages']"
   ]
  },
  {
   "cell_type": "markdown",
   "metadata": {
    "collapsed": false,
    "pycharm": {
     "name": "#%% md\n"
    }
   },
   "source": [
    "### Histogram of most popular languages in 2018"
   ]
  },
  {
   "cell_type": "code",
   "execution_count": 121,
   "metadata": {
    "collapsed": false,
    "pycharm": {
     "name": "#%%\n"
    }
   },
   "outputs": [
    {
     "data": {
      "image/png": "[encoded data removed]",
      "text/plain": [
       "<Figure size 1440x720 with 1 Axes>"
      ]
     },
     "metadata": {
      "needs_background": "light"
     },
     "output_type": "display_data"
    }
   ],
   "source": [
    "# plotting data\n",
    "ax_18 = s_2018_proficiencies_percentages['top ten proficiency percentages'].plot.bar(color=languages_palette_list)\n",
    "# annotating values on top of each bar, for readability\n",
    "for p in ax_18.patches:\n",
    "    ax_18.annotate(str(round(p.get_height(), 2)), (p.get_x() * 1.005, p.get_height() * 1.005))"
   ]
  },
  {
   "cell_type": "markdown",
   "metadata": {
    "collapsed": false,
    "pycharm": {
     "name": "#%% md\n"
    }
   },
   "source": [
    "Top 5 languages in 2018: <br>\n",
    "1. JavaScript\n",
    "2. Java\n",
    "3. Bash/Shell\n",
    "4. Python\n",
    "5. C#\n",
    "\n"
   ]
  },
  {
   "cell_type": "markdown",
   "metadata": {
    "collapsed": false,
    "pycharm": {
     "name": "#%% md\n"
    }
   },
   "source": [
    "This year, something has changed regarding top ten:\n",
    "1. Bash/Shell language has took 3rd position. It is not clear if this (quite old) language is a new entry because previously has not been object of the questionnaire;\n",
    "2. PHP is no more part of the top ten;\n",
    "3. C# has lost 2 position in top 5."
   ]
  },
  {
   "cell_type": "markdown",
   "metadata": {
    "pycharm": {
     "name": "#%% md\n"
    }
   },
   "source": [
    "#### 2019 Results Analysis\n",
    "Now I'll compute the answer to first question, referring to 2019 data:"
   ]
  },
  {
   "cell_type": "code",
   "execution_count": 122,
   "metadata": {
    "pycharm": {
     "name": "#%%\n"
    }
   },
   "outputs": [],
   "source": [
    "# instantiating  a LanguagesStatsExtractor object\n",
    "lre_19 = LanguagesRankingExtractor(df_surveys_19, columns_selection_criteria=\"LanguageWorkedWith\", prefix_to_remove='LanguageWorkedWith: ')\n",
    "\n",
    "# computing languages proficiency ranking in 2019\n",
    "s_2019_proficiencies_stats = lre_19.get_stats()"
   ]
  },
  {
   "cell_type": "code",
   "execution_count": 123,
   "metadata": {},
   "outputs": [
    {
     "data": {
      "text/plain": [
       "JavaScript               59219.0\n",
       "HTML/CSS                 55466.0\n",
       "SQL                      47544.0\n",
       "Python                   36443.0\n",
       "Java                     35917.0\n",
       "Bash/Shell/PowerShell    31991.0\n",
       "C#                       27097.0\n",
       "PHP                      23030.0\n",
       "C++                      20524.0\n",
       "TypeScript               18523.0\n",
       "dtype: float64"
      ]
     },
     "execution_count": 123,
     "metadata": {},
     "output_type": "execute_result"
    }
   ],
   "source": [
    "s_2019_proficiencies_stats['top ten languages']"
   ]
  },
  {
   "cell_type": "markdown",
   "metadata": {},
   "source": [
    "Let's see if we have other \"non-language entries\" in the full ranking:"
   ]
  },
  {
   "cell_type": "code",
   "execution_count": 124,
   "metadata": {},
   "outputs": [
    {
     "data": {
      "text/plain": [
       "LanguageWorkedWith: JavaScript               59219.0\n",
       "LanguageWorkedWith: HTML/CSS                 55466.0\n",
       "LanguageWorkedWith: SQL                      47544.0\n",
       "LanguageWorkedWith: Python                   36443.0\n",
       "LanguageWorkedWith: Java                     35917.0\n",
       "LanguageWorkedWith: Bash/Shell/PowerShell    31991.0\n",
       "LanguageWorkedWith: C#                       27097.0\n",
       "LanguageWorkedWith: PHP                      23030.0\n",
       "LanguageWorkedWith: C++                      20524.0\n",
       "LanguageWorkedWith: TypeScript               18523.0\n",
       "LanguageWorkedWith: C                        18017.0\n",
       "LanguageWorkedWith: Other(s):                 7920.0\n",
       "LanguageWorkedWith: Ruby                      7331.0\n",
       "LanguageWorkedWith: Go                        7201.0\n",
       "LanguageWorkedWith: Assembly                  5833.0\n",
       "LanguageWorkedWith: Swift                     5744.0\n",
       "LanguageWorkedWith: Kotlin                    5620.0\n",
       "LanguageWorkedWith: R                         5048.0\n",
       "LanguageWorkedWith: VBA                       4781.0\n",
       "LanguageWorkedWith: Objective-C               4191.0\n",
       "LanguageWorkedWith: Scala                     3309.0\n",
       "LanguageWorkedWith: Rust                      2794.0\n",
       "LanguageWorkedWith: Dart                      1683.0\n",
       "LanguageWorkedWith: Elixir                    1260.0\n",
       "LanguageWorkedWith: Clojure                   1254.0\n",
       "LanguageWorkedWith: WebAssembly               1015.0\n",
       "LanguageWorkedWith: F#                         973.0\n",
       "LanguageWorkedWith: Erlang                     777.0\n",
       "dtype: float64"
      ]
     },
     "execution_count": 124,
     "metadata": {},
     "output_type": "execute_result"
    }
   ],
   "source": [
    "s_2019_proficiencies_stats['full ranking']"
   ]
  },
  {
   "cell_type": "code",
   "execution_count": 125,
   "metadata": {},
   "outputs": [],
   "source": [
    "lre_19 = LanguagesRankingExtractor(df_surveys_19, columns_selection_criteria=\"LanguageWorkedWith\", prefix_to_remove='LanguageWorkedWith: ', exclusion_list=['LanguageWorkedWith: HTML/CSS', 'LanguageWorkedWith: SQL', 'LanguageWorkedWith: Other(s):'])\n",
    "\n",
    "s_2019_proficiencies_stats = lre_19.get_stats()"
   ]
  },
  {
   "cell_type": "code",
   "execution_count": 126,
   "metadata": {},
   "outputs": [
    {
     "data": {
      "text/plain": [
       "JavaScript               59219.0\n",
       "Python                   36443.0\n",
       "Java                     35917.0\n",
       "Bash/Shell/PowerShell    31991.0\n",
       "C#                       27097.0\n",
       "PHP                      23030.0\n",
       "C++                      20524.0\n",
       "TypeScript               18523.0\n",
       "C                        18017.0\n",
       "Ruby                      7331.0\n",
       "dtype: float64"
      ]
     },
     "execution_count": 126,
     "metadata": {},
     "output_type": "execute_result"
    }
   ],
   "source": [
    "s_2019_proficiencies_stats['top ten languages']"
   ]
  },
  {
   "cell_type": "code",
   "execution_count": 127,
   "metadata": {
    "collapsed": false,
    "pycharm": {
     "name": "#%%\n"
    }
   },
   "outputs": [],
   "source": [
    "# computing percentages\n",
    "lpp_19 = LanguagesProficienciesPercentages(lre_19)\n",
    "\n",
    "s_2019_proficiencies_percentages = lpp_19.get_stats()"
   ]
  },
  {
   "cell_type": "code",
   "execution_count": 128,
   "metadata": {
    "collapsed": false,
    "pycharm": {
     "name": "#%%\n"
    }
   },
   "outputs": [
    {
     "data": {
      "text/plain": [
       "LanguageWorkedWith: JavaScript               66.625789\n",
       "LanguageWorkedWith: Python                   41.001091\n",
       "LanguageWorkedWith: Java                     40.409302\n",
       "LanguageWorkedWith: Bash/Shell/PowerShell    35.992259\n",
       "LanguageWorkedWith: C#                       30.486145\n",
       "LanguageWorkedWith: PHP                      25.910467\n",
       "LanguageWorkedWith: C++                      23.091030\n",
       "LanguageWorkedWith: TypeScript               20.839756\n",
       "LanguageWorkedWith: C                        20.270468\n",
       "LanguageWorkedWith: Ruby                      8.247921\n",
       "LanguageWorkedWith: Go                        8.101662\n",
       "LanguageWorkedWith: Assembly                  6.562560\n",
       "LanguageWorkedWith: Swift                     6.462428\n",
       "LanguageWorkedWith: Kotlin                    6.322919\n",
       "LanguageWorkedWith: R                         5.679376\n",
       "LanguageWorkedWith: VBA                       5.378981\n",
       "LanguageWorkedWith: Objective-C               4.715187\n",
       "LanguageWorkedWith: Scala                     3.722872\n",
       "LanguageWorkedWith: Rust                      3.143458\n",
       "LanguageWorkedWith: Dart                      1.893500\n",
       "LanguageWorkedWith: Elixir                    1.417594\n",
       "LanguageWorkedWith: Clojure                   1.410843\n",
       "LanguageWorkedWith: WebAssembly               1.141951\n",
       "LanguageWorkedWith: F#                        1.094698\n",
       "LanguageWorkedWith: Erlang                    0.874183\n",
       "dtype: float64"
      ]
     },
     "execution_count": 128,
     "metadata": {},
     "output_type": "execute_result"
    }
   ],
   "source": [
    "s_2019_proficiencies_percentages['proficiency percentages']"
   ]
  },
  {
   "cell_type": "markdown",
   "metadata": {
    "collapsed": false,
    "pycharm": {
     "name": "#%% md\n"
    }
   },
   "source": [
    "### Histogram of most popular languages in 2019"
   ]
  },
  {
   "cell_type": "code",
   "execution_count": 129,
   "metadata": {
    "collapsed": false,
    "pycharm": {
     "name": "#%%\n"
    }
   },
   "outputs": [
    {
     "data": {
      "image/png": "[encoded data removed]",
      "text/plain": [
       "<Figure size 1440x720 with 1 Axes>"
      ]
     },
     "metadata": {
      "needs_background": "light"
     },
     "output_type": "display_data"
    }
   ],
   "source": [
    "# plotting data\n",
    "ax_19 = s_2019_proficiencies_percentages['top ten proficiency percentages'].plot.bar(color=languages_palette_list)\n",
    "# annotating values on top of each bar, for readability\n",
    "for p in ax_19.patches:\n",
    "    ax_19.annotate(str(round(p.get_height(), 2)), (p.get_x() * 1.005, p.get_height() * 1.005))"
   ]
  },
  {
   "cell_type": "markdown",
   "metadata": {
    "pycharm": {
     "name": "#%% md\n"
    }
   },
   "source": [
    "Top 5 languages in 2019: <br>\n",
    "1. JavaScript\n",
    "2. Python\n",
    "3. Java\n",
    "4. Bash/Shell/PowerShell\n",
    "5. C# <br>\n",
    "\n",
    "This year, a couple of noticeable things happened:<br/>\n",
    "Python has surpassed both Java and Shell scripting languages at the second place but, interestingly, Bash/Shell/PowerShell scripting has consolidated its presence in top at 5 languages."
   ]
  },
  {
   "cell_type": "markdown",
   "metadata": {
    "pycharm": {
     "name": "#%% md\n"
    }
   },
   "source": [
    "#### 2020 Results Analysis\n",
    "Now I'll compute the answer to first question, referring to 2020 data:\n"
   ]
  },
  {
   "cell_type": "code",
   "execution_count": 138,
   "metadata": {
    "pycharm": {
     "name": "#%%\n"
    }
   },
   "outputs": [],
   "source": [
    "# instantiating  a LanguagesStatsExtractor object\n",
    "lre_20 = LanguagesRankingExtractor(df_surveys_20, columns_selection_criteria=\"LanguageWorkedWith\", prefix_to_remove='LanguageWorkedWith: ')\n",
    "\n",
    "# computing languages proficiency ranking in 2020\n",
    "s_2020_proficiencies_stats = lre_20.get_stats()"
   ]
  },
  {
   "cell_type": "code",
   "execution_count": 139,
   "metadata": {
    "collapsed": false,
    "pycharm": {
     "name": "#%%\n"
    }
   },
   "outputs": [
    {
     "data": {
      "text/plain": [
       "JavaScript               38822.0\n",
       "HTML/CSS                 36181.0\n",
       "SQL                      31413.0\n",
       "Python                   25287.0\n",
       "Java                     23074.0\n",
       "Bash/Shell/PowerShell    18980.0\n",
       "C#                       18041.0\n",
       "PHP                      15007.0\n",
       "TypeScript               14578.0\n",
       "C++                      13707.0\n",
       "dtype: float64"
      ]
     },
     "execution_count": 139,
     "metadata": {},
     "output_type": "execute_result"
    }
   ],
   "source": [
    "s_2020_proficiencies_stats['top ten languages']"
   ]
  },
  {
   "cell_type": "markdown",
   "metadata": {},
   "source": [
    "Let's see if we have other \"non-language entries\" in the full ranking:"
   ]
  },
  {
   "cell_type": "code",
   "execution_count": 140,
   "metadata": {},
   "outputs": [
    {
     "data": {
      "text/plain": [
       "LanguageWorkedWith: JavaScript               38822.0\n",
       "LanguageWorkedWith: HTML/CSS                 36181.0\n",
       "LanguageWorkedWith: SQL                      31413.0\n",
       "LanguageWorkedWith: Python                   25287.0\n",
       "LanguageWorkedWith: Java                     23074.0\n",
       "LanguageWorkedWith: Bash/Shell/PowerShell    18980.0\n",
       "LanguageWorkedWith: C#                       18041.0\n",
       "LanguageWorkedWith: PHP                      15007.0\n",
       "LanguageWorkedWith: TypeScript               14578.0\n",
       "LanguageWorkedWith: C++                      13707.0\n",
       "LanguageWorkedWith: C                        12487.0\n",
       "LanguageWorkedWith: Go                        5038.0\n",
       "LanguageWorkedWith: Kotlin                    4468.0\n",
       "LanguageWorkedWith: Ruby                      4046.0\n",
       "LanguageWorkedWith: Assembly                  3553.0\n",
       "LanguageWorkedWith: VBA                       3499.0\n",
       "LanguageWorkedWith: Swift                     3397.0\n",
       "LanguageWorkedWith: R                         3288.0\n",
       "LanguageWorkedWith: Rust                      2929.0\n",
       "LanguageWorkedWith: Objective-C               2340.0\n",
       "LanguageWorkedWith: Dart                      2280.0\n",
       "LanguageWorkedWith: Scala                     2052.0\n",
       "LanguageWorkedWith: Perl                      1796.0\n",
       "LanguageWorkedWith: Haskell                   1222.0\n",
       "LanguageWorkedWith: Julia                      519.0\n",
       "dtype: float64"
      ]
     },
     "execution_count": 140,
     "metadata": {},
     "output_type": "execute_result"
    }
   ],
   "source": [
    "s_2020_proficiencies_stats['full ranking']"
   ]
  },
  {
   "cell_type": "code",
   "execution_count": 141,
   "metadata": {},
   "outputs": [],
   "source": [
    "lre_20 = LanguagesRankingExtractor(df_surveys_20, columns_selection_criteria=\"LanguageWorkedWith\", prefix_to_remove='LanguageWorkedWith: ', exclusion_list=['LanguageWorkedWith: HTML/CSS', 'LanguageWorkedWith: SQL'])\n",
    "\n",
    "s_2020_proficiencies_stats = lre_20.get_stats()"
   ]
  },
  {
   "cell_type": "code",
   "execution_count": 142,
   "metadata": {},
   "outputs": [
    {
     "data": {
      "text/plain": [
       "JavaScript               38822.0\n",
       "Python                   25287.0\n",
       "Java                     23074.0\n",
       "Bash/Shell/PowerShell    18980.0\n",
       "C#                       18041.0\n",
       "PHP                      15007.0\n",
       "TypeScript               14578.0\n",
       "C++                      13707.0\n",
       "C                        12487.0\n",
       "Go                        5038.0\n",
       "dtype: float64"
      ]
     },
     "execution_count": 142,
     "metadata": {},
     "output_type": "execute_result"
    }
   ],
   "source": [
    "s_2020_proficiencies_stats['top ten languages']"
   ]
  },
  {
   "cell_type": "code",
   "execution_count": 143,
   "metadata": {
    "collapsed": false,
    "pycharm": {
     "name": "#%%\n"
    }
   },
   "outputs": [],
   "source": [
    "# computing percentages\n",
    "lpp_20 = LanguagesProficienciesPercentages(lre_20)\n",
    "\n",
    "s_2020_proficiencies_percentages = lpp_20.get_stats()"
   ]
  },
  {
   "cell_type": "code",
   "execution_count": 144,
   "metadata": {
    "collapsed": false,
    "pycharm": {
     "name": "#%%\n"
    }
   },
   "outputs": [
    {
     "data": {
      "text/plain": [
       "LanguageWorkedWith: JavaScript               60.225563\n",
       "LanguageWorkedWith: Python                   39.228371\n",
       "LanguageWorkedWith: Java                     35.795287\n",
       "LanguageWorkedWith: Bash/Shell/PowerShell    29.444160\n",
       "LanguageWorkedWith: C#                       27.987465\n",
       "LanguageWorkedWith: PHP                      23.280743\n",
       "LanguageWorkedWith: TypeScript               22.615225\n",
       "LanguageWorkedWith: C++                      21.264020\n",
       "LanguageWorkedWith: C                        19.371403\n",
       "LanguageWorkedWith: Go                        7.815578\n",
       "LanguageWorkedWith: Kotlin                    6.931323\n",
       "LanguageWorkedWith: Ruby                      6.276663\n",
       "LanguageWorkedWith: Assembly                  5.511860\n",
       "LanguageWorkedWith: VBA                       5.428088\n",
       "LanguageWorkedWith: Swift                     5.269853\n",
       "LanguageWorkedWith: R                         5.100759\n",
       "LanguageWorkedWith: Rust                      4.543833\n",
       "LanguageWorkedWith: Objective-C               3.630102\n",
       "LanguageWorkedWith: Dart                      3.537022\n",
       "LanguageWorkedWith: Scala                     3.183320\n",
       "LanguageWorkedWith: Perl                      2.786181\n",
       "LanguageWorkedWith: Haskell                   1.895720\n",
       "LanguageWorkedWith: Julia                     0.805138\n",
       "dtype: float64"
      ]
     },
     "execution_count": 144,
     "metadata": {},
     "output_type": "execute_result"
    }
   ],
   "source": [
    "s_2020_proficiencies_percentages['proficiency percentages']"
   ]
  },
  {
   "cell_type": "markdown",
   "metadata": {
    "collapsed": false,
    "pycharm": {
     "name": "#%% md\n"
    }
   },
   "source": [
    "### Histogram of most popular languages in 2020"
   ]
  },
  {
   "cell_type": "code",
   "execution_count": 145,
   "metadata": {
    "collapsed": false,
    "pycharm": {
     "name": "#%%\n"
    }
   },
   "outputs": [
    {
     "data": {
      "image/png": "[encoded data removed]",
      "text/plain": [
       "<Figure size 1440x720 with 1 Axes>"
      ]
     },
     "metadata": {
      "needs_background": "light"
     },
     "output_type": "display_data"
    }
   ],
   "source": [
    "# plotting data\n",
    "ax_20 = s_2020_proficiencies_percentages['top ten proficiency percentages'].plot.bar(color=languages_palette_list)\n",
    "# annotating values on top of each bar, for readability\n",
    "for p in ax_20.patches:\n",
    "    ax_20.annotate(str(round(p.get_height(), 2)), (p.get_x() * 1.005, p.get_height() * 1.005))"
   ]
  },
  {
   "cell_type": "markdown",
   "metadata": {
    "pycharm": {
     "name": "#%% md\n"
    }
   },
   "source": [
    "Top 5 languages in 2020: <br>\n",
    "1. JavaScript\n",
    "2. Python\n",
    "3. Java\n",
    "4. Bash/Shell/PowerShell\n",
    "5. C# <br>\n",
    "\n",
    "This year, no big changes in top five can be noticed.\n",
    "A newcomer signals at the last top-ten position: Go."
   ]
  },
  {
   "cell_type": "markdown",
   "metadata": {
    "pycharm": {
     "name": "#%% md\n"
    }
   },
   "source": [
    "#### 2021 Results Analysis\n",
    "Now I'll compute the answer to first question, referring to 2021 data:\n"
   ]
  },
  {
   "cell_type": "code",
   "execution_count": 149,
   "metadata": {
    "pycharm": {
     "name": "#%%\n"
    }
   },
   "outputs": [],
   "source": [
    "# instantiating  a LanguagesStatsExtractor object\n",
    "lre_21 = LanguagesRankingExtractor(df_surveys_21, columns_selection_criteria=\"LanguageHaveWorkedWith\", prefix_to_remove='LanguageHaveWorkedWith: ')\n",
    "\n",
    "# computing languages proficiency ranking in 2021\n",
    "s_2021_proficiencies_stats = lre_21.get_stats()"
   ]
  },
  {
   "cell_type": "code",
   "execution_count": 150,
   "metadata": {
    "collapsed": false,
    "pycharm": {
     "name": "#%%\n"
    }
   },
   "outputs": [
    {
     "data": {
      "text/plain": [
       "JavaScript    53587.0\n",
       "HTML/CSS      46259.0\n",
       "Python        39792.0\n",
       "SQL           38835.0\n",
       "Java          29162.0\n",
       "Node.js       27975.0\n",
       "TypeScript    24909.0\n",
       "C#            22984.0\n",
       "Bash/Shell    22385.0\n",
       "C++           20057.0\n",
       "dtype: float64"
      ]
     },
     "execution_count": 150,
     "metadata": {},
     "output_type": "execute_result"
    }
   ],
   "source": [
    "s_2021_proficiencies_stats['top ten languages']"
   ]
  },
  {
   "cell_type": "markdown",
   "metadata": {},
   "source": [
    "Let's see if we have other \"non-language entries\" in the full ranking:"
   ]
  },
  {
   "cell_type": "code",
   "execution_count": 152,
   "metadata": {},
   "outputs": [
    {
     "data": {
      "text/plain": [
       "LanguageHaveWorkedWith: JavaScript     53587.0\n",
       "LanguageHaveWorkedWith: HTML/CSS       46259.0\n",
       "LanguageHaveWorkedWith: Python         39792.0\n",
       "LanguageHaveWorkedWith: SQL            38835.0\n",
       "LanguageHaveWorkedWith: Java           29162.0\n",
       "LanguageHaveWorkedWith: Node.js        27975.0\n",
       "LanguageHaveWorkedWith: TypeScript     24909.0\n",
       "LanguageHaveWorkedWith: C#             22984.0\n",
       "LanguageHaveWorkedWith: Bash/Shell     22385.0\n",
       "LanguageHaveWorkedWith: C++            20057.0\n",
       "LanguageHaveWorkedWith: PHP            18130.0\n",
       "LanguageHaveWorkedWith: C              17329.0\n",
       "LanguageHaveWorkedWith: PowerShell      8871.0\n",
       "LanguageHaveWorkedWith: Go              7879.0\n",
       "LanguageHaveWorkedWith: Kotlin          6866.0\n",
       "LanguageHaveWorkedWith: Rust            5799.0\n",
       "LanguageHaveWorkedWith: Ruby            5569.0\n",
       "LanguageHaveWorkedWith: Dart            4965.0\n",
       "LanguageHaveWorkedWith: Assembly        4632.0\n",
       "LanguageHaveWorkedWith: Swift           4204.0\n",
       "LanguageHaveWorkedWith: R               4185.0\n",
       "LanguageHaveWorkedWith: VBA             3847.0\n",
       "LanguageHaveWorkedWith: Matlab          3846.0\n",
       "LanguageHaveWorkedWith: Groovy          2479.0\n",
       "LanguageHaveWorkedWith: Objective-C     2310.0\n",
       "LanguageHaveWorkedWith: Scala           2148.0\n",
       "LanguageHaveWorkedWith: Perl            2028.0\n",
       "LanguageHaveWorkedWith: Haskell         1749.0\n",
       "LanguageHaveWorkedWith: Delphi          1731.0\n",
       "LanguageHaveWorkedWith: Clojure         1552.0\n",
       "LanguageHaveWorkedWith: Elixir          1438.0\n",
       "LanguageHaveWorkedWith: LISP            1096.0\n",
       "LanguageHaveWorkedWith: Julia           1068.0\n",
       "LanguageHaveWorkedWith: F#               804.0\n",
       "LanguageHaveWorkedWith: Erlang           651.0\n",
       "LanguageHaveWorkedWith: APL              536.0\n",
       "LanguageHaveWorkedWith: Crystal          466.0\n",
       "LanguageHaveWorkedWith: COBOL            437.0\n",
       "dtype: float64"
      ]
     },
     "execution_count": 152,
     "metadata": {},
     "output_type": "execute_result"
    }
   ],
   "source": [
    "s_2021_proficiencies_stats['full ranking']"
   ]
  },
  {
   "cell_type": "code",
   "execution_count": 155,
   "metadata": {},
   "outputs": [],
   "source": [
    "lre_21 = LanguagesRankingExtractor(df_surveys_21, columns_selection_criteria=\"LanguageHaveWorkedWith\", prefix_to_remove='LanguageHaveWorkedWith: ', exclusion_list=['LanguageHaveWorkedWith: HTML/CSS', 'LanguageHaveWorkedWith: SQL'])\n",
    "\n",
    "s_2021_proficiencies_stats = lre_21.get_stats()"
   ]
  },
  {
   "cell_type": "code",
   "execution_count": 156,
   "metadata": {},
   "outputs": [
    {
     "data": {
      "text/plain": [
       "JavaScript    53587.0\n",
       "Python        39792.0\n",
       "Java          29162.0\n",
       "Node.js       27975.0\n",
       "TypeScript    24909.0\n",
       "C#            22984.0\n",
       "Bash/Shell    22385.0\n",
       "C++           20057.0\n",
       "PHP           18130.0\n",
       "C             17329.0\n",
       "dtype: float64"
      ]
     },
     "execution_count": 156,
     "metadata": {},
     "output_type": "execute_result"
    }
   ],
   "source": [
    "s_2021_proficiencies_stats['top ten languages']"
   ]
  },
  {
   "cell_type": "markdown",
   "metadata": {},
   "source": [
    "Now that we have programming languages only, we can analyze related proficiency percentages:"
   ]
  },
  {
   "cell_type": "code",
   "execution_count": 157,
   "metadata": {
    "collapsed": false,
    "pycharm": {
     "name": "#%%\n"
    }
   },
   "outputs": [],
   "source": [
    "# computing percentages\n",
    "lpp_21 = LanguagesProficienciesPercentages(lre_21)\n",
    "\n",
    "s_2021_proficiencies_percentages = lpp_21.get_stats()"
   ]
  },
  {
   "cell_type": "code",
   "execution_count": 158,
   "metadata": {},
   "outputs": [
    {
     "data": {
      "text/plain": [
       "JavaScript    64.222965\n",
       "Python        47.689929\n",
       "Java          34.950083\n",
       "Node.js       33.527487\n",
       "TypeScript    29.852946\n",
       "C#            27.545872\n",
       "Bash/Shell    26.827982\n",
       "C++           24.037920\n",
       "PHP           21.728448\n",
       "C             20.768466\n",
       "dtype: float64"
      ]
     },
     "execution_count": 158,
     "metadata": {},
     "output_type": "execute_result"
    }
   ],
   "source": [
    "s_2021_proficiencies_percentages['top ten proficiency percentages']"
   ]
  },
  {
   "cell_type": "markdown",
   "metadata": {
    "collapsed": false,
    "pycharm": {
     "name": "#%% md\n"
    }
   },
   "source": [
    "### Histogram of most popular languages in 2021"
   ]
  },
  {
   "cell_type": "code",
   "execution_count": 159,
   "metadata": {
    "collapsed": false,
    "pycharm": {
     "name": "#%%\n"
    }
   },
   "outputs": [
    {
     "data": {
      "image/png": "[encoded data removed]",
      "text/plain": [
       "<Figure size 1440x720 with 1 Axes>"
      ]
     },
     "metadata": {
      "needs_background": "light"
     },
     "output_type": "display_data"
    }
   ],
   "source": [
    "# plotting data\n",
    "ax_21 = s_2021_proficiencies_percentages['top ten proficiency percentages'].plot.bar(color=languages_palette_list)\n",
    "# annotating values on top of each bar, for readability\n",
    "for p in ax_21.patches:\n",
    "    ax_21.annotate(str(round(p.get_height(), 2)), (p.get_x() * 1.005, p.get_height() * 1.005))"
   ]
  },
  {
   "cell_type": "markdown",
   "metadata": {
    "pycharm": {
     "name": "#%% md\n"
    }
   },
   "source": [
    "Top 5 languages in 2021: <br>\n",
    "1. JavaScript\n",
    "2. Python\n",
    "3. Java\n",
    "4. Node.js\n",
    "5. TypeScript <br>\n",
    "\n",
    "In 2021, Node.js breaks into the top ten, achieving a position in the top 5 and settling in fourth place. <br/>\n",
    "TypeScript, meanwhile, reached the fifth position, establishing itself as a language trying to compete in popularityu with its \"parent\" language, i.e. JavaScript, who still is the most popular language this year and clearly consolidates its position as the most popular language opf of the decade.  "
   ]
  },
  {
   "cell_type": "markdown",
   "metadata": {
    "pycharm": {
     "name": "#%% md\n"
    }
   },
   "source": [
    "Now I'll proceed with trend analysis, in the following notebook.<br/>\n",
    "To do so, once again, I'll need to store data from the current notebook.\n"
   ]
  },
  {
   "cell_type": "code",
   "execution_count": 160,
   "metadata": {
    "pycharm": {
     "name": "#%%\n"
    }
   },
   "outputs": [
    {
     "name": "stderr",
     "output_type": "stream",
     "text": [
      "UsageError: Unknown variable 's_2011_proficiencies'\n"
     ]
    }
   ],
   "source": [
    "%store s_2011_proficiencies\n",
    "%store s_2012_proficiencies\n",
    "%store s_2013_proficiencies\n",
    "%store s_2014_proficiencies\n",
    "%store s_2015_proficiencies\n",
    "%store s_2016_proficiencies\n",
    "%store s_2017_proficiencies\n",
    "%store s_2018_proficiencies\n",
    "%store s_2019_proficiencies\n",
    "%store s_2020_proficiencies\n",
    "%store s_2021_proficiencies"
   ]
  },
  {
   "cell_type": "code",
   "execution_count": null,
   "metadata": {},
   "outputs": [],
   "source": []
  }
 ],
 "metadata": {
  "interpreter": {
   "hash": "bd277283790f13d3f1fcc8a68e9e3d35ea8b3a9d5fb7a50ad45fa2b22b824c41"
  },
  "kernelspec": {
   "display_name": "Python 3.8.10 ('mlDaSci')",
   "language": "python",
   "name": "python3"
  },
  "language_info": {
   "codemirror_mode": {
    "name": "ipython",
    "version": 3
   },
   "file_extension": ".py",
   "mimetype": "text/x-python",
   "name": "python",
   "nbconvert_exporter": "python",
   "pygments_lexer": "ipython3",
   "version": "3.8.10"
  }
 },
 "nbformat": 4,
 "nbformat_minor": 1
}
