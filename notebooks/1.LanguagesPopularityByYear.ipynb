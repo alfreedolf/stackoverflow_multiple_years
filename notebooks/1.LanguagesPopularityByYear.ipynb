{
 "cells": [
  {
   "cell_type": "markdown",
   "metadata": {},
   "source": [
    "# Languages Popularity by Year\n",
    "# Question N°1\n",
    "This notebook purpose is to answer the First Question: </br>\n",
    "<b><i>\"What languages were the most popular in each year?\"</i></b>\n"
   ]
  },
  {
   "cell_type": "markdown",
   "metadata": {},
   "source": [
    "In order to do so, I would need previously loaded data about surveys."
   ]
  },
  {
   "cell_type": "code",
   "execution_count": 1,
   "metadata": {
    "pycharm": {
     "name": "#%%\n"
    }
   },
   "outputs": [],
   "source": [
    "%store -r df_surveys_11_to_21"
   ]
  },
  {
   "cell_type": "markdown",
   "metadata": {},
   "source": [
    "#### Features understanding\n",
    "I will use the following features to produce an answer\n",
    "to the question number 1 :\n",
    "\n",
    "2011. \"Which languages are you proficient in?\"(column 30) to \"Unnamed: 40\" (column 40)\n",
    "2012. \"Which languages are you proficient in?\" (column 22) to \"Unnamed: 34\" (column 34)\n",
    "2013. \"Which of the following languages or technologies have you used significantly in the past year?\" (column 56)\n",
    "to \"Unnamed: 68\" (column 68)\n",
    "2014. \"Which of the following languages or technologies have you used significantly in the past year?\" (column 42)\n",
    "to \"Unnamed: 52\" (column 52)\n",
    "2015. \"Current Lang & Tech <LanguageName>\" columns, (columns from 8 to 49), <LanguageName> would, most of the time,\n",
    "indicate a name of a programming language, sometimes including also more general technology names (e.g. Android).\n",
    "2016. \"tech_do\", \"tech_want\"\n",
    "2017. \"HaveWorkedLanguage\", \"WantWorkLanguage\"\n",
    "2018. \"LanguageWorkedWith\", \"LanguageDesireNextYear\"\n",
    "2019. \"LanguageWorkedWith\", \"LanguageDesireNextYear\"\n",
    "2020. \"LanguageWorkedWith\", \"LanguageDesireNextYear\"\n",
    "2021. \"LanguageWorkedWith\", \"LanguageWantToWorkWith\"\n",
    "\n",
    "Before this kind of analysis, it would be better to prepare the data.\n",
    "In order to do so, I will define Columns' Range of Interest in the first 5 dataframe, 2011 to 2015,\n",
    "where language proficiencies' features are already split into columns."
   ]
  },
  {
   "cell_type": "code",
   "execution_count": 2,
   "metadata": {
    "pycharm": {
     "name": "#%%\n"
    }
   },
   "outputs": [],
   "source": [
    "# Language Proficiencies Columns' Range of Interest\n",
    "lang_prof_CROI_2011 = range(30, 41)\n",
    "lang_prof_CROI_2012 = range(22, 35)\n",
    "lang_prof_CROI_2013 = range(56, 69)\n",
    "lang_prof_CROI_2014 = range(42, 53)\n",
    "lang_prof_CROI_2015 = range(8, 50)"
   ]
  },
  {
   "cell_type": "markdown",
   "metadata": {},
   "source": [
    "## 3. Data Preparation"
   ]
  },
  {
   "cell_type": "markdown",
   "metadata": {},
   "source": [
    "First, I already observed that:\n",
    "1. 2011 to 2014 data has a first non valid data row, containing \"Response\" as value,\n",
    "2. 2015 dataframe heading should be properly fixed:"
   ]
  },
  {
   "cell_type": "code",
   "execution_count": 3,
   "metadata": {
    "pycharm": {
     "name": "#%%\n"
    }
   },
   "outputs": [],
   "source": [
    "from preparation.data_transform import drop_first_row\n",
    "# dropping first row in dataframes containing data from 2011 to 2014\n",
    "drop_first_row(df_surveys_11_to_21, 2011, 2014)\n"
   ]
  },
  {
   "cell_type": "markdown",
   "metadata": {},
   "source": [
    "As said, 2015 data hasn't been correctly loaded, since the header doesn't contain valid feature names.\n",
    "Valid header data is actually in the first dataframe row.\n",
    "So, I will replace it properly:"
   ]
  },
  {
   "cell_type": "code",
   "execution_count": 4,
   "metadata": {
    "pycharm": {
     "name": "#%%\n"
    }
   },
   "outputs": [],
   "source": [
    "new_2015_header = df_surveys_11_to_21[2015].iloc[0]\n",
    "df_surveys_11_to_21[2015] = df_surveys_11_to_21[2015][1:]\n",
    "df_surveys_11_to_21[2015].columns = new_2015_header"
   ]
  },
  {
   "cell_type": "markdown",
   "metadata": {},
   "source": [
    "now I will cross-check the results:"
   ]
  },
  {
   "cell_type": "code",
   "execution_count": 5,
   "metadata": {
    "pycharm": {
     "name": "#%%\n"
    }
   },
   "outputs": [
    {
     "data": {
      "text/plain": "0  Country    Age Gender Tabs or Spaces Years IT / Programming Experience  \\\n1  Croatia  25-29   Male           Tabs                       2 - 5 years   \n\n0              Occupation Desktop Operating System  \\\n1  Back-end web developer                   Ubuntu   \n\n0 Desktop Operating System: write-in Current Lang & Tech: Android  \\\n1                                NaN                          NaN   \n\n0 Current Lang & Tech: Arduino  ...  \\\n1                          NaN  ...   \n\n0 Why use Stack Overflow: I don't use Stack Overflow  \\\n1                                                NaN   \n\n0 How often are Stack Overflow's answers helpful  \\\n1                                        Usually   \n\n0 Why answer: Help a programmer in need Why answer: Help future programmers  \\\n1                                   NaN                                 NaN   \n\n0           Why answer: Demonstrate expertise  \\\n1  It feels good to demonstrate my expertise.   \n\n0                  Why answer: Self promotion  \\\n1  Demonstrating my expertise will benefit me   \n\n0  Why answer: Sense of responsibility to developers Why answer: No idea  \\\n1  I feel a sense of responsibility to the develo...                 NaN   \n\n0 Why answer: I don't answer and I don't want to  \\\n1                                            NaN   \n\n0 Why answer: I don't answer but I want to  \n1                                      NaN  \n\n[1 rows x 222 columns]",
      "text/html": "<div>\n<style scoped>\n    .dataframe tbody tr th:only-of-type {\n        vertical-align: middle;\n    }\n\n    .dataframe tbody tr th {\n        vertical-align: top;\n    }\n\n    .dataframe thead th {\n        text-align: right;\n    }\n</style>\n<table border=\"1\" class=\"dataframe\">\n  <thead>\n    <tr style=\"text-align: right;\">\n      <th></th>\n      <th>Country</th>\n      <th>Age</th>\n      <th>Gender</th>\n      <th>Tabs or Spaces</th>\n      <th>Years IT / Programming Experience</th>\n      <th>Occupation</th>\n      <th>Desktop Operating System</th>\n      <th>Desktop Operating System: write-in</th>\n      <th>Current Lang &amp; Tech: Android</th>\n      <th>Current Lang &amp; Tech: Arduino</th>\n      <th>...</th>\n      <th>Why use Stack Overflow: I don't use Stack Overflow</th>\n      <th>How often are Stack Overflow's answers helpful</th>\n      <th>Why answer: Help a programmer in need</th>\n      <th>Why answer: Help future programmers</th>\n      <th>Why answer: Demonstrate expertise</th>\n      <th>Why answer: Self promotion</th>\n      <th>Why answer: Sense of responsibility to developers</th>\n      <th>Why answer: No idea</th>\n      <th>Why answer: I don't answer and I don't want to</th>\n      <th>Why answer: I don't answer but I want to</th>\n    </tr>\n  </thead>\n  <tbody>\n    <tr>\n      <th>1</th>\n      <td>Croatia</td>\n      <td>25-29</td>\n      <td>Male</td>\n      <td>Tabs</td>\n      <td>2 - 5 years</td>\n      <td>Back-end web developer</td>\n      <td>Ubuntu</td>\n      <td>NaN</td>\n      <td>NaN</td>\n      <td>NaN</td>\n      <td>...</td>\n      <td>NaN</td>\n      <td>Usually</td>\n      <td>NaN</td>\n      <td>NaN</td>\n      <td>It feels good to demonstrate my expertise.</td>\n      <td>Demonstrating my expertise will benefit me</td>\n      <td>I feel a sense of responsibility to the develo...</td>\n      <td>NaN</td>\n      <td>NaN</td>\n      <td>NaN</td>\n    </tr>\n  </tbody>\n</table>\n<p>1 rows × 222 columns</p>\n</div>"
     },
     "execution_count": 5,
     "metadata": {},
     "output_type": "execute_result"
    }
   ],
   "source": [
    "df_surveys_11_to_21[2015].head(1)\n"
   ]
  },
  {
   "cell_type": "markdown",
   "metadata": {},
   "source": [
    "Now I'll prepare data to be categorized, so that it could be better suited for analysis about first question <br/>\n",
    "(the categorization could be used for other questions too):\n"
   ]
  },
  {
   "cell_type": "code",
   "execution_count": 6,
   "metadata": {
    "pycharm": {
     "name": "#%%\n"
    }
   },
   "outputs": [],
   "source": [
    "new_column_name_prefix = \"Proficient in\""
   ]
  },
  {
   "cell_type": "markdown",
   "metadata": {},
   "source": [
    "Importing proper preparatory functions:"
   ]
  },
  {
   "cell_type": "code",
   "execution_count": 7,
   "metadata": {
    "pycharm": {
     "name": "#%%\n"
    }
   },
   "outputs": [],
   "source": [
    "from preparation.data_transform import transform_unnamed_cols_base, feature_split"
   ]
  },
  {
   "cell_type": "markdown",
   "metadata": {},
   "source": [
    "Preparing 2011 data:"
   ]
  },
  {
   "cell_type": "code",
   "execution_count": 8,
   "metadata": {
    "pycharm": {
     "name": "#%%\n"
    }
   },
   "outputs": [
    {
     "data": {
      "text/plain": "  What Country or Region do you live in?  \\\n1                                 Africa   \n2                           Other Europe   \n3                                  India   \n\n  Which US State or Territory do you live in? How old are you?  \\\n1                                         NaN             < 20   \n2                                         NaN            25-29   \n3                                         NaN            25-29   \n\n  How many years of IT/Programming experience do you have?  \\\n1                                                 <2         \n2                                              41310         \n3                                              41435         \n\n  How would you best describe the industry you work in?  \\\n1                                         Consulting      \n2                                  Software Products      \n3                                  Software Products      \n\n  Which best describes the size of your company?  \\\n1                                Start Up (1-25)   \n2                 Mature Small Business (25-100)   \n3                            Mid Sized (100-999)   \n\n  Which of the following best describes your occupation?  \\\n1                          Web Application Developer       \n2                                  Server Programmer       \n3                                  Server Programmer       \n\n  How likely is it that a recommendation you make will be acted upon?  \\\n1                             Not in a million years                    \n2                          It's been known to happen                    \n3                   Unless it's stoopid it gets done                    \n\n  What is your involvement in purchasing? You can choose more than 1.  \\\n1                                                NaN                    \n2                                                NaN                    \n3                                                NaN                    \n\n  Unnamed: 9  ... Unnamed: 55 Unnamed: 56    Unnamed: 57 Unnamed: 58  \\\n1        NaN  ...         NaN         NaN            NaN         NaN   \n2        NaN  ...         NaN         NaN  Other netbook         NaN   \n3        NaN  ...         NaN         NaN            NaN         NaN   \n\n  Unnamed: 59 Unnamed: 60 Unnamed: 61 Unnamed: 62  \\\n1         NaN         NaN         NaN         NaN   \n2         NaN         NaN         NaN         NaN   \n3         NaN         NaN         NaN         NaN   \n\n  In the last 12 months, how much money have you spent on personal technology-related purchases?   \\\n1                                              <$100                                                \n2                                          $251-$500                                                \n3                                                NaN                                                \n\n  Which of our sites do you frequent most?  \n1                                      NaN  \n2                           Stack Overflow  \n3                                      NaN  \n\n[3 rows x 65 columns]",
      "text/html": "<div>\n<style scoped>\n    .dataframe tbody tr th:only-of-type {\n        vertical-align: middle;\n    }\n\n    .dataframe tbody tr th {\n        vertical-align: top;\n    }\n\n    .dataframe thead th {\n        text-align: right;\n    }\n</style>\n<table border=\"1\" class=\"dataframe\">\n  <thead>\n    <tr style=\"text-align: right;\">\n      <th></th>\n      <th>What Country or Region do you live in?</th>\n      <th>Which US State or Territory do you live in?</th>\n      <th>How old are you?</th>\n      <th>How many years of IT/Programming experience do you have?</th>\n      <th>How would you best describe the industry you work in?</th>\n      <th>Which best describes the size of your company?</th>\n      <th>Which of the following best describes your occupation?</th>\n      <th>How likely is it that a recommendation you make will be acted upon?</th>\n      <th>What is your involvement in purchasing? You can choose more than 1.</th>\n      <th>Unnamed: 9</th>\n      <th>...</th>\n      <th>Unnamed: 55</th>\n      <th>Unnamed: 56</th>\n      <th>Unnamed: 57</th>\n      <th>Unnamed: 58</th>\n      <th>Unnamed: 59</th>\n      <th>Unnamed: 60</th>\n      <th>Unnamed: 61</th>\n      <th>Unnamed: 62</th>\n      <th>In the last 12 months, how much money have you spent on personal technology-related purchases?</th>\n      <th>Which of our sites do you frequent most?</th>\n    </tr>\n  </thead>\n  <tbody>\n    <tr>\n      <th>1</th>\n      <td>Africa</td>\n      <td>NaN</td>\n      <td>&lt; 20</td>\n      <td>&lt;2</td>\n      <td>Consulting</td>\n      <td>Start Up (1-25)</td>\n      <td>Web Application Developer</td>\n      <td>Not in a million years</td>\n      <td>NaN</td>\n      <td>NaN</td>\n      <td>...</td>\n      <td>NaN</td>\n      <td>NaN</td>\n      <td>NaN</td>\n      <td>NaN</td>\n      <td>NaN</td>\n      <td>NaN</td>\n      <td>NaN</td>\n      <td>NaN</td>\n      <td>&lt;$100</td>\n      <td>NaN</td>\n    </tr>\n    <tr>\n      <th>2</th>\n      <td>Other Europe</td>\n      <td>NaN</td>\n      <td>25-29</td>\n      <td>41310</td>\n      <td>Software Products</td>\n      <td>Mature Small Business (25-100)</td>\n      <td>Server Programmer</td>\n      <td>It's been known to happen</td>\n      <td>NaN</td>\n      <td>NaN</td>\n      <td>...</td>\n      <td>NaN</td>\n      <td>NaN</td>\n      <td>Other netbook</td>\n      <td>NaN</td>\n      <td>NaN</td>\n      <td>NaN</td>\n      <td>NaN</td>\n      <td>NaN</td>\n      <td>$251-$500</td>\n      <td>Stack Overflow</td>\n    </tr>\n    <tr>\n      <th>3</th>\n      <td>India</td>\n      <td>NaN</td>\n      <td>25-29</td>\n      <td>41435</td>\n      <td>Software Products</td>\n      <td>Mid Sized (100-999)</td>\n      <td>Server Programmer</td>\n      <td>Unless it's stoopid it gets done</td>\n      <td>NaN</td>\n      <td>NaN</td>\n      <td>...</td>\n      <td>NaN</td>\n      <td>NaN</td>\n      <td>NaN</td>\n      <td>NaN</td>\n      <td>NaN</td>\n      <td>NaN</td>\n      <td>NaN</td>\n      <td>NaN</td>\n      <td>NaN</td>\n      <td>NaN</td>\n    </tr>\n  </tbody>\n</table>\n<p>3 rows × 65 columns</p>\n</div>"
     },
     "execution_count": 8,
     "metadata": {},
     "output_type": "execute_result"
    }
   ],
   "source": [
    "starting_column_name = \"Which languages are you proficient in?\"\n",
    "df_surveys_11 = transform_unnamed_cols_base(df_surveys_11_to_21[2011], starting_column_name,\n",
    "                                            columns_look_ahead=len(lang_prof_CROI_2011),\n",
    "                                            new_column_name_prefix=new_column_name_prefix)\n",
    "df_surveys_11.head(3)"
   ]
  },
  {
   "cell_type": "markdown",
   "metadata": {},
   "source": [
    "the same procedure can be applied to 2012 survey data:"
   ]
  },
  {
   "cell_type": "code",
   "execution_count": 9,
   "metadata": {
    "pycharm": {
     "name": "#%%\n"
    }
   },
   "outputs": [
    {
     "data": {
      "text/plain": "  What Country or Region do you live in?  \\\n1                                  India   \n2                                Germany   \n3                         United Kingdom   \n\n  Which US State or Territory do you live in? How old are you?  \\\n1                                         NaN            20-24   \n2                                         NaN            25-29   \n3                                         NaN            20-24   \n\n  How many years of IT/Programming experience do you have?  \\\n1                                                 <2         \n2                                                 <2         \n3                                              41070         \n\n  How would you best describe the industry you currently work in?  \\\n1                                         Consulting                \n2                                              Other                \n3                                  Finance / Banking                \n\n  Which best describes the size of your company?  \\\n1                          Fortune 1000 (1,000+)   \n2                 Mature Small Business (25-100)   \n3                 Mature Small Business (25-100)   \n\n  Which of the following best describes your occupation?  \\\n1                                  Server Programmer       \n2                     Embedded Application Developer       \n3                          Web Application Developer       \n\n  What is your involvement in purchasing products or services for the company you work for? (You can choose more than one)  \\\n1                                         Influencer                                                                         \n2                                                NaN                                                                         \n3                                         Influencer                                                                         \n\n    Unnamed: 8 Unnamed: 9  ...  \\\n1  Recommender        NaN  ...   \n2  Recommender        NaN  ...   \n3  Recommender        NaN  ...   \n\n  Please rate the advertising you've seen on Stack Overflow Unnamed: 66  \\\n1                                                NaN                NaN   \n2                                            Neutral              Agree   \n3                                            Neutral            Neutral   \n\n  Unnamed: 67        Unnamed: 68        Unnamed: 69     Unnamed: 70  \\\n1         NaN                NaN                NaN             NaN   \n2       Agree  Strongly Disagree  Strongly Disagree        Disagree   \n3     Neutral            Neutral            Neutral  Strongly Agree   \n\n  What advertisers do you remember seeing on Stack Overflow?  \\\n1                                                NaN           \n2                                                NaN           \n3                                                NaN           \n\n  What is your current Stack Overflow reputation?  \\\n1                                             NaN   \n2                           Don't have an account   \n3                                               1   \n\n  Which of our sites do you frequent most? Unnamed: 74  \n1                                      NaN         NaN  \n2                           Stack Overflow         NaN  \n3                           Stack Overflow         NaN  \n\n[3 rows x 75 columns]",
      "text/html": "<div>\n<style scoped>\n    .dataframe tbody tr th:only-of-type {\n        vertical-align: middle;\n    }\n\n    .dataframe tbody tr th {\n        vertical-align: top;\n    }\n\n    .dataframe thead th {\n        text-align: right;\n    }\n</style>\n<table border=\"1\" class=\"dataframe\">\n  <thead>\n    <tr style=\"text-align: right;\">\n      <th></th>\n      <th>What Country or Region do you live in?</th>\n      <th>Which US State or Territory do you live in?</th>\n      <th>How old are you?</th>\n      <th>How many years of IT/Programming experience do you have?</th>\n      <th>How would you best describe the industry you currently work in?</th>\n      <th>Which best describes the size of your company?</th>\n      <th>Which of the following best describes your occupation?</th>\n      <th>What is your involvement in purchasing products or services for the company you work for? (You can choose more than one)</th>\n      <th>Unnamed: 8</th>\n      <th>Unnamed: 9</th>\n      <th>...</th>\n      <th>Please rate the advertising you've seen on Stack Overflow</th>\n      <th>Unnamed: 66</th>\n      <th>Unnamed: 67</th>\n      <th>Unnamed: 68</th>\n      <th>Unnamed: 69</th>\n      <th>Unnamed: 70</th>\n      <th>What advertisers do you remember seeing on Stack Overflow?</th>\n      <th>What is your current Stack Overflow reputation?</th>\n      <th>Which of our sites do you frequent most?</th>\n      <th>Unnamed: 74</th>\n    </tr>\n  </thead>\n  <tbody>\n    <tr>\n      <th>1</th>\n      <td>India</td>\n      <td>NaN</td>\n      <td>20-24</td>\n      <td>&lt;2</td>\n      <td>Consulting</td>\n      <td>Fortune 1000 (1,000+)</td>\n      <td>Server Programmer</td>\n      <td>Influencer</td>\n      <td>Recommender</td>\n      <td>NaN</td>\n      <td>...</td>\n      <td>NaN</td>\n      <td>NaN</td>\n      <td>NaN</td>\n      <td>NaN</td>\n      <td>NaN</td>\n      <td>NaN</td>\n      <td>NaN</td>\n      <td>NaN</td>\n      <td>NaN</td>\n      <td>NaN</td>\n    </tr>\n    <tr>\n      <th>2</th>\n      <td>Germany</td>\n      <td>NaN</td>\n      <td>25-29</td>\n      <td>&lt;2</td>\n      <td>Other</td>\n      <td>Mature Small Business (25-100)</td>\n      <td>Embedded Application Developer</td>\n      <td>NaN</td>\n      <td>Recommender</td>\n      <td>NaN</td>\n      <td>...</td>\n      <td>Neutral</td>\n      <td>Agree</td>\n      <td>Agree</td>\n      <td>Strongly Disagree</td>\n      <td>Strongly Disagree</td>\n      <td>Disagree</td>\n      <td>NaN</td>\n      <td>Don't have an account</td>\n      <td>Stack Overflow</td>\n      <td>NaN</td>\n    </tr>\n    <tr>\n      <th>3</th>\n      <td>United Kingdom</td>\n      <td>NaN</td>\n      <td>20-24</td>\n      <td>41070</td>\n      <td>Finance / Banking</td>\n      <td>Mature Small Business (25-100)</td>\n      <td>Web Application Developer</td>\n      <td>Influencer</td>\n      <td>Recommender</td>\n      <td>NaN</td>\n      <td>...</td>\n      <td>Neutral</td>\n      <td>Neutral</td>\n      <td>Neutral</td>\n      <td>Neutral</td>\n      <td>Neutral</td>\n      <td>Strongly Agree</td>\n      <td>NaN</td>\n      <td>1</td>\n      <td>Stack Overflow</td>\n      <td>NaN</td>\n    </tr>\n  </tbody>\n</table>\n<p>3 rows × 75 columns</p>\n</div>"
     },
     "execution_count": 9,
     "metadata": {},
     "output_type": "execute_result"
    }
   ],
   "source": [
    "\n",
    "df_surveys_12 = transform_unnamed_cols_base(df_surveys_11_to_21[2012], starting_column_name,\n",
    "                                            columns_look_ahead=len(lang_prof_CROI_2012),\n",
    "                                            new_column_name_prefix=new_column_name_prefix)\n",
    "df_surveys_12.head(3)"
   ]
  },
  {
   "cell_type": "markdown",
   "metadata": {},
   "source": [
    "...to 2013 survey data:\n"
   ]
  },
  {
   "cell_type": "code",
   "execution_count": 10,
   "metadata": {
    "pycharm": {
     "name": "#%%\n"
    }
   },
   "outputs": [
    {
     "data": {
      "text/plain": "  What Country or Region do you live in?  \\\n1                         United Kingdom   \n2               United States of America   \n3               United States of America   \n\n  Which US State or Territory do you live in? How old are you?  \\\n1                                         NaN            35-39   \n2                                      Oregon            25-29   \n3                                   Wisconsin            51-60   \n\n  How many years of IT/Programming experience do you have?  \\\n1                                          6/10/2013         \n2                                          6/10/2013         \n3                                                 11         \n\n  How would you best describe the industry you currently work in?  \\\n1                                  Finance / Banking                \n2                                             Retail                \n3                                  Software Products                \n\n  How many people work for your company?  \\\n1                                101-999   \n2                                101-999   \n3                                 26-100   \n\n  Which of the following best describes your occupation?  \\\n1                          Enterprise Level Services       \n2                             Back-End Web Developer       \n3                          Enterprise Level Services       \n\n  Including yourself, how many developers are employed at your company?  \\\n1                                                100                      \n2                                          6/15/2013                      \n3                                          6/15/2013                      \n\n  How large is the team that you work on?  \\\n1                                4/8/2013   \n2                                4/8/2013   \n3                                Just me!   \n\n  What other departments / roles do you interact with regularly?  ...  \\\n1                              System Administrators              ...   \n2                              System Administrators              ...   \n3                              System Administrators              ...   \n\n  Unnamed: 118       Unnamed: 119       Unnamed: 120       Unnamed: 121  \\\n1      Neutral            Neutral            Neutral            Neutral   \n2      Neutral              Agree           Disagree            Neutral   \n3      Neutral  Strongly Disagree  Strongly Disagree  Strongly Disagree   \n\n  What advertisers do you remember seeing on Stack Overflow?  \\\n1                                                NaN           \n2  StackOverflow themselves, Careers 2.0 (SO also...           \n3          don't recall seeing ads on Stack Overflow           \n\n  What is your current Stack Overflow reputation?  \\\n1                           Don't have an account   \n2                                               1   \n3                           Don't have an account   \n\n                      How do you use Stack Overflow?  \\\n1  Read other people's questions to solve my prob...   \n2  Read other people's questions to solve my prob...   \n3  Read other people's questions to solve my prob...   \n\n                      Unnamed: 125                           Unnamed: 126  \\\n1                              NaN                                    NaN   \n2  Ask questions to solve problems  Answer questions I know the answer to   \n3                              NaN                                    NaN   \n\n  Unnamed: 127  \n1          NaN  \n2          NaN  \n3          NaN  \n\n[3 rows x 128 columns]",
      "text/html": "<div>\n<style scoped>\n    .dataframe tbody tr th:only-of-type {\n        vertical-align: middle;\n    }\n\n    .dataframe tbody tr th {\n        vertical-align: top;\n    }\n\n    .dataframe thead th {\n        text-align: right;\n    }\n</style>\n<table border=\"1\" class=\"dataframe\">\n  <thead>\n    <tr style=\"text-align: right;\">\n      <th></th>\n      <th>What Country or Region do you live in?</th>\n      <th>Which US State or Territory do you live in?</th>\n      <th>How old are you?</th>\n      <th>How many years of IT/Programming experience do you have?</th>\n      <th>How would you best describe the industry you currently work in?</th>\n      <th>How many people work for your company?</th>\n      <th>Which of the following best describes your occupation?</th>\n      <th>Including yourself, how many developers are employed at your company?</th>\n      <th>How large is the team that you work on?</th>\n      <th>What other departments / roles do you interact with regularly?</th>\n      <th>...</th>\n      <th>Unnamed: 118</th>\n      <th>Unnamed: 119</th>\n      <th>Unnamed: 120</th>\n      <th>Unnamed: 121</th>\n      <th>What advertisers do you remember seeing on Stack Overflow?</th>\n      <th>What is your current Stack Overflow reputation?</th>\n      <th>How do you use Stack Overflow?</th>\n      <th>Unnamed: 125</th>\n      <th>Unnamed: 126</th>\n      <th>Unnamed: 127</th>\n    </tr>\n  </thead>\n  <tbody>\n    <tr>\n      <th>1</th>\n      <td>United Kingdom</td>\n      <td>NaN</td>\n      <td>35-39</td>\n      <td>6/10/2013</td>\n      <td>Finance / Banking</td>\n      <td>101-999</td>\n      <td>Enterprise Level Services</td>\n      <td>100</td>\n      <td>4/8/2013</td>\n      <td>System Administrators</td>\n      <td>...</td>\n      <td>Neutral</td>\n      <td>Neutral</td>\n      <td>Neutral</td>\n      <td>Neutral</td>\n      <td>NaN</td>\n      <td>Don't have an account</td>\n      <td>Read other people's questions to solve my prob...</td>\n      <td>NaN</td>\n      <td>NaN</td>\n      <td>NaN</td>\n    </tr>\n    <tr>\n      <th>2</th>\n      <td>United States of America</td>\n      <td>Oregon</td>\n      <td>25-29</td>\n      <td>6/10/2013</td>\n      <td>Retail</td>\n      <td>101-999</td>\n      <td>Back-End Web Developer</td>\n      <td>6/15/2013</td>\n      <td>4/8/2013</td>\n      <td>System Administrators</td>\n      <td>...</td>\n      <td>Neutral</td>\n      <td>Agree</td>\n      <td>Disagree</td>\n      <td>Neutral</td>\n      <td>StackOverflow themselves, Careers 2.0 (SO also...</td>\n      <td>1</td>\n      <td>Read other people's questions to solve my prob...</td>\n      <td>Ask questions to solve problems</td>\n      <td>Answer questions I know the answer to</td>\n      <td>NaN</td>\n    </tr>\n    <tr>\n      <th>3</th>\n      <td>United States of America</td>\n      <td>Wisconsin</td>\n      <td>51-60</td>\n      <td>11</td>\n      <td>Software Products</td>\n      <td>26-100</td>\n      <td>Enterprise Level Services</td>\n      <td>6/15/2013</td>\n      <td>Just me!</td>\n      <td>System Administrators</td>\n      <td>...</td>\n      <td>Neutral</td>\n      <td>Strongly Disagree</td>\n      <td>Strongly Disagree</td>\n      <td>Strongly Disagree</td>\n      <td>don't recall seeing ads on Stack Overflow</td>\n      <td>Don't have an account</td>\n      <td>Read other people's questions to solve my prob...</td>\n      <td>NaN</td>\n      <td>NaN</td>\n      <td>NaN</td>\n    </tr>\n  </tbody>\n</table>\n<p>3 rows × 128 columns</p>\n</div>"
     },
     "execution_count": 10,
     "metadata": {},
     "output_type": "execute_result"
    }
   ],
   "source": [
    "starting_column_name = \"Which of the following languages or technologies have you used significantly in the past year?\"\n",
    "df_surveys_13 = transform_unnamed_cols_base(df_surveys_11_to_21[2013], starting_column_name,\n",
    "                                            columns_look_ahead=len(lang_prof_CROI_2013),\n",
    "                                            new_column_name_prefix=new_column_name_prefix)\n",
    "df_surveys_13.head(3)\n"
   ]
  },
  {
   "cell_type": "markdown",
   "metadata": {},
   "source": [
    "...to 2014 survey data:\n"
   ]
  },
  {
   "cell_type": "code",
   "execution_count": 11,
   "metadata": {
    "pycharm": {
     "name": "#%%\n"
    }
   },
   "outputs": [
    {
     "data": {
      "text/plain": "  What Country do you live in? Unnamed: 1  \\\n1                        India        NaN   \n2                     Thailand        NaN   \n3                         Iran        NaN   \n\n  Which US State or Territory do you live in? How old are you?  \\\n1                                         NaN            30-34   \n2                                         NaN            20-24   \n3                                         NaN            25-29   \n\n  What is your gender?  \\\n1               Female   \n2                 Male   \n3                 Male   \n\n  How many years of IT/Programming experience do you have?  \\\n1                                          6/10/2014         \n2                                                 <2         \n3                                          6/10/2014         \n\n  Which of the following best describes your occupation?  \\\n1                             Back-End Web Developer       \n2                             Back-End Web Developer       \n3                         Desktop Software Developer       \n\n  Including bonus, what is your annual compensation in USD?  \\\n1                                  $20,000 - $40,000          \n2                               Student / Unemployed          \n3                                           <$20,000          \n\n  How would you best describe the industry you currently work in?  \\\n1                                  Finance / Banking                \n2                                         Healthcare                \n3                             Not Currently Employed                \n\n  How many developers are employed at your company?  ...  \\\n1                                               100  ...   \n2                                               NaN  ...   \n3                                          1/5/2014  ...   \n\n  Did you participate in the Apptivate contest?  \\\n1                                            No   \n2                                           NaN   \n3                                            No   \n\n  What advertisers do you remember seeing on Stack Overflow?  \\\n1                                                NaN           \n2                                                NaN           \n3                                           Tehcodez           \n\n  What is your current Stack Overflow reputation?  \\\n1                                             500   \n2                           Don't have an account   \n3                                               1   \n\n                      How do you use Stack Overflow?  \\\n1  Read other people's questions to solve my prob...   \n2  Read other people's questions to solve my prob...   \n3  Read other people's questions to solve my prob...   \n\n                      Unnamed: 114 Unnamed: 115 Unnamed: 116 Unnamed: 117  \\\n1  Ask questions to solve problems          NaN          NaN          NaN   \n2                              NaN          NaN          NaN          NaN   \n3                              NaN          NaN          NaN          NaN   \n\n  Unnamed: 118  \\\n1          NaN   \n2          NaN   \n3          NaN   \n\n  How often do you find solutions to your programming problems on Stack Overflow without asking a new question?  \n1                                      Almost Always                                                             \n2                                                NaN                                                             \n3                                      Almost Always                                                             \n\n[3 rows x 120 columns]",
      "text/html": "<div>\n<style scoped>\n    .dataframe tbody tr th:only-of-type {\n        vertical-align: middle;\n    }\n\n    .dataframe tbody tr th {\n        vertical-align: top;\n    }\n\n    .dataframe thead th {\n        text-align: right;\n    }\n</style>\n<table border=\"1\" class=\"dataframe\">\n  <thead>\n    <tr style=\"text-align: right;\">\n      <th></th>\n      <th>What Country do you live in?</th>\n      <th>Unnamed: 1</th>\n      <th>Which US State or Territory do you live in?</th>\n      <th>How old are you?</th>\n      <th>What is your gender?</th>\n      <th>How many years of IT/Programming experience do you have?</th>\n      <th>Which of the following best describes your occupation?</th>\n      <th>Including bonus, what is your annual compensation in USD?</th>\n      <th>How would you best describe the industry you currently work in?</th>\n      <th>How many developers are employed at your company?</th>\n      <th>...</th>\n      <th>Did you participate in the Apptivate contest?</th>\n      <th>What advertisers do you remember seeing on Stack Overflow?</th>\n      <th>What is your current Stack Overflow reputation?</th>\n      <th>How do you use Stack Overflow?</th>\n      <th>Unnamed: 114</th>\n      <th>Unnamed: 115</th>\n      <th>Unnamed: 116</th>\n      <th>Unnamed: 117</th>\n      <th>Unnamed: 118</th>\n      <th>How often do you find solutions to your programming problems on Stack Overflow without asking a new question?</th>\n    </tr>\n  </thead>\n  <tbody>\n    <tr>\n      <th>1</th>\n      <td>India</td>\n      <td>NaN</td>\n      <td>NaN</td>\n      <td>30-34</td>\n      <td>Female</td>\n      <td>6/10/2014</td>\n      <td>Back-End Web Developer</td>\n      <td>$20,000 - $40,000</td>\n      <td>Finance / Banking</td>\n      <td>100</td>\n      <td>...</td>\n      <td>No</td>\n      <td>NaN</td>\n      <td>500</td>\n      <td>Read other people's questions to solve my prob...</td>\n      <td>Ask questions to solve problems</td>\n      <td>NaN</td>\n      <td>NaN</td>\n      <td>NaN</td>\n      <td>NaN</td>\n      <td>Almost Always</td>\n    </tr>\n    <tr>\n      <th>2</th>\n      <td>Thailand</td>\n      <td>NaN</td>\n      <td>NaN</td>\n      <td>20-24</td>\n      <td>Male</td>\n      <td>&lt;2</td>\n      <td>Back-End Web Developer</td>\n      <td>Student / Unemployed</td>\n      <td>Healthcare</td>\n      <td>NaN</td>\n      <td>...</td>\n      <td>NaN</td>\n      <td>NaN</td>\n      <td>Don't have an account</td>\n      <td>Read other people's questions to solve my prob...</td>\n      <td>NaN</td>\n      <td>NaN</td>\n      <td>NaN</td>\n      <td>NaN</td>\n      <td>NaN</td>\n      <td>NaN</td>\n    </tr>\n    <tr>\n      <th>3</th>\n      <td>Iran</td>\n      <td>NaN</td>\n      <td>NaN</td>\n      <td>25-29</td>\n      <td>Male</td>\n      <td>6/10/2014</td>\n      <td>Desktop Software Developer</td>\n      <td>&lt;$20,000</td>\n      <td>Not Currently Employed</td>\n      <td>1/5/2014</td>\n      <td>...</td>\n      <td>No</td>\n      <td>Tehcodez</td>\n      <td>1</td>\n      <td>Read other people's questions to solve my prob...</td>\n      <td>NaN</td>\n      <td>NaN</td>\n      <td>NaN</td>\n      <td>NaN</td>\n      <td>NaN</td>\n      <td>Almost Always</td>\n    </tr>\n  </tbody>\n</table>\n<p>3 rows × 120 columns</p>\n</div>"
     },
     "execution_count": 11,
     "metadata": {},
     "output_type": "execute_result"
    }
   ],
   "source": [
    "#starting_column_name = \"Which of the following languages or technologies have you used significantly in the past year?\"\n",
    "df_surveys_14 = transform_unnamed_cols_base(df_surveys_11_to_21[2014], starting_column_name,\n",
    "                                            columns_look_ahead=len(lang_prof_CROI_2014),\n",
    "                                            new_column_name_prefix=new_column_name_prefix)\n",
    "df_surveys_14.head(3)"
   ]
  },
  {
   "cell_type": "markdown",
   "metadata": {},
   "source": [
    "Now, knowing from exploration phase that 2015 dataset have a different features' layout,\n",
    "I'll use a specific function to prepare the data:"
   ]
  },
  {
   "cell_type": "code",
   "execution_count": 12,
   "metadata": {
    "pycharm": {
     "name": "#%%\n"
    }
   },
   "outputs": [
    {
     "data": {
      "text/plain": "0  Country    Age Gender Tabs or Spaces Years IT / Programming Experience  \\\n1  Croatia  25-29   Male           Tabs                       2 - 5 years   \n2   France  20-24   Male         Spaces                       1 - 2 years   \n3    India  20-24   Male           Tabs                       1 - 2 years   \n\n0              Occupation Desktop Operating System  \\\n1  Back-end web developer                   Ubuntu   \n2  Back-end web developer                Windows 7   \n3  Back-end web developer                Windows 7   \n\n0 Desktop Operating System: write-in  Current Lang & Tech: Android  \\\n1                                NaN                             0   \n2                                NaN                             0   \n3                                NaN                             0   \n\n0  Current Lang & Tech: Arduino  ...  \\\n1                             0  ...   \n2                             0  ...   \n3                             0  ...   \n\n0  Why use Stack Overflow: I don't use Stack Overflow  \\\n1                                                NaN    \n2                                                NaN    \n3                                                NaN    \n\n0  How often are Stack Overflow's answers helpful  \\\n1                                         Usually   \n2                                         Usually   \n3                                          Rarely   \n\n0  Why answer: Help a programmer in need  \\\n1                                    NaN   \n2                                    NaN   \n3                                    NaN   \n\n0                Why answer: Help future programmers  \\\n1                                                NaN   \n2  My answer will help lots of people who have th...   \n3                                                NaN   \n\n0           Why answer: Demonstrate expertise  \\\n1  It feels good to demonstrate my expertise.   \n2  It feels good to demonstrate my expertise.   \n3                                         NaN   \n\n0                  Why answer: Self promotion  \\\n1  Demonstrating my expertise will benefit me   \n2                                         NaN   \n3  Demonstrating my expertise will benefit me   \n\n0  Why answer: Sense of responsibility to developers  Why answer: No idea  \\\n1  I feel a sense of responsibility to the develo...                  NaN   \n2                                                NaN                  NaN   \n3                                                NaN                  NaN   \n\n0  Why answer: I don't answer and I don't want to  \\\n1                                             NaN   \n2                                             NaN   \n3                                             NaN   \n\n0  Why answer: I don't answer but I want to  \n1                                       NaN  \n2                                       NaN  \n3                                       NaN  \n\n[3 rows x 222 columns]",
      "text/html": "<div>\n<style scoped>\n    .dataframe tbody tr th:only-of-type {\n        vertical-align: middle;\n    }\n\n    .dataframe tbody tr th {\n        vertical-align: top;\n    }\n\n    .dataframe thead th {\n        text-align: right;\n    }\n</style>\n<table border=\"1\" class=\"dataframe\">\n  <thead>\n    <tr style=\"text-align: right;\">\n      <th></th>\n      <th>Country</th>\n      <th>Age</th>\n      <th>Gender</th>\n      <th>Tabs or Spaces</th>\n      <th>Years IT / Programming Experience</th>\n      <th>Occupation</th>\n      <th>Desktop Operating System</th>\n      <th>Desktop Operating System: write-in</th>\n      <th>Current Lang &amp; Tech: Android</th>\n      <th>Current Lang &amp; Tech: Arduino</th>\n      <th>...</th>\n      <th>Why use Stack Overflow: I don't use Stack Overflow</th>\n      <th>How often are Stack Overflow's answers helpful</th>\n      <th>Why answer: Help a programmer in need</th>\n      <th>Why answer: Help future programmers</th>\n      <th>Why answer: Demonstrate expertise</th>\n      <th>Why answer: Self promotion</th>\n      <th>Why answer: Sense of responsibility to developers</th>\n      <th>Why answer: No idea</th>\n      <th>Why answer: I don't answer and I don't want to</th>\n      <th>Why answer: I don't answer but I want to</th>\n    </tr>\n  </thead>\n  <tbody>\n    <tr>\n      <th>1</th>\n      <td>Croatia</td>\n      <td>25-29</td>\n      <td>Male</td>\n      <td>Tabs</td>\n      <td>2 - 5 years</td>\n      <td>Back-end web developer</td>\n      <td>Ubuntu</td>\n      <td>NaN</td>\n      <td>0</td>\n      <td>0</td>\n      <td>...</td>\n      <td>NaN</td>\n      <td>Usually</td>\n      <td>NaN</td>\n      <td>NaN</td>\n      <td>It feels good to demonstrate my expertise.</td>\n      <td>Demonstrating my expertise will benefit me</td>\n      <td>I feel a sense of responsibility to the develo...</td>\n      <td>NaN</td>\n      <td>NaN</td>\n      <td>NaN</td>\n    </tr>\n    <tr>\n      <th>2</th>\n      <td>France</td>\n      <td>20-24</td>\n      <td>Male</td>\n      <td>Spaces</td>\n      <td>1 - 2 years</td>\n      <td>Back-end web developer</td>\n      <td>Windows 7</td>\n      <td>NaN</td>\n      <td>0</td>\n      <td>0</td>\n      <td>...</td>\n      <td>NaN</td>\n      <td>Usually</td>\n      <td>NaN</td>\n      <td>My answer will help lots of people who have th...</td>\n      <td>It feels good to demonstrate my expertise.</td>\n      <td>NaN</td>\n      <td>NaN</td>\n      <td>NaN</td>\n      <td>NaN</td>\n      <td>NaN</td>\n    </tr>\n    <tr>\n      <th>3</th>\n      <td>India</td>\n      <td>20-24</td>\n      <td>Male</td>\n      <td>Tabs</td>\n      <td>1 - 2 years</td>\n      <td>Back-end web developer</td>\n      <td>Windows 7</td>\n      <td>NaN</td>\n      <td>0</td>\n      <td>0</td>\n      <td>...</td>\n      <td>NaN</td>\n      <td>Rarely</td>\n      <td>NaN</td>\n      <td>NaN</td>\n      <td>NaN</td>\n      <td>Demonstrating my expertise will benefit me</td>\n      <td>NaN</td>\n      <td>NaN</td>\n      <td>NaN</td>\n      <td>NaN</td>\n    </tr>\n  </tbody>\n</table>\n<p>3 rows × 222 columns</p>\n</div>"
     },
     "execution_count": 12,
     "metadata": {},
     "output_type": "execute_result"
    }
   ],
   "source": [
    "from preparation.data_transform import df_2015_survey_preprocessing\n",
    "df_surveys_15 = df_2015_survey_preprocessing(df_surveys_11_to_21[2015], lang_prof_CROI_2015)\n",
    "df_surveys_15.head(3)"
   ]
  },
  {
   "cell_type": "markdown",
   "metadata": {},
   "source": [
    "Data from 2016 survey (and successive) on have a different layout, hence it should be processed differently:\n",
    "from the fact that in the input dataframes all the feature categories sits in a single column separated by semicolons,\n",
    "this feature column must be split, in order to obtain a similar layout as in previously described dataframes:"
   ]
  },
  {
   "cell_type": "code",
   "execution_count": 13,
   "metadata": {
    "pycharm": {
     "name": "#%%\n"
    }
   },
   "outputs": [
    {
     "data": {
      "text/plain": "   Unnamed: 0 collector      country   un_subregion     so_region age_range  \\\n0        1888  Facebook  Afghanistan  Southern Asia  Central Asia     20-24   \n1        4637  Facebook  Afghanistan  Southern Asia  Central Asia     30-34   \n2       11164  Facebook  Afghanistan  Southern Asia  Central Asia         0   \n\n   age_midpoint gender              self_identification  \\\n0          22.0   Male                       Programmer   \n1          32.0   Male  Developer; Engineer; Programmer   \n2           0.0      0                                0   \n\n               occupation  ... tech_do: Salesforce tech_do: Scala  \\\n0                       0  ...                 0.0            0.0   \n1  Mobile developer - iOS  ...                 0.0            0.0   \n2                       0  ...                 0.0            0.0   \n\n   tech_do: SharePoint tech_do: Spark  tech_do: SQL  tech_do: SQL Server  \\\n0                  0.0            0.0           0.0                  0.0   \n1                  0.0            0.0           0.0                  0.0   \n2                  0.0            0.0           0.0                  0.0   \n\n  tech_do: Swift tech_do: Visual Basic  tech_do: Windows Phone  \\\n0            0.0                   0.0                     0.0   \n1            0.0                   0.0                     0.0   \n2            0.0                   0.0                     0.0   \n\n  tech_do: WordPress  \n0                0.0  \n1                0.0  \n2                0.0  \n\n[3 rows x 107 columns]",
      "text/html": "<div>\n<style scoped>\n    .dataframe tbody tr th:only-of-type {\n        vertical-align: middle;\n    }\n\n    .dataframe tbody tr th {\n        vertical-align: top;\n    }\n\n    .dataframe thead th {\n        text-align: right;\n    }\n</style>\n<table border=\"1\" class=\"dataframe\">\n  <thead>\n    <tr style=\"text-align: right;\">\n      <th></th>\n      <th>Unnamed: 0</th>\n      <th>collector</th>\n      <th>country</th>\n      <th>un_subregion</th>\n      <th>so_region</th>\n      <th>age_range</th>\n      <th>age_midpoint</th>\n      <th>gender</th>\n      <th>self_identification</th>\n      <th>occupation</th>\n      <th>...</th>\n      <th>tech_do: Salesforce</th>\n      <th>tech_do: Scala</th>\n      <th>tech_do: SharePoint</th>\n      <th>tech_do: Spark</th>\n      <th>tech_do: SQL</th>\n      <th>tech_do: SQL Server</th>\n      <th>tech_do: Swift</th>\n      <th>tech_do: Visual Basic</th>\n      <th>tech_do: Windows Phone</th>\n      <th>tech_do: WordPress</th>\n    </tr>\n  </thead>\n  <tbody>\n    <tr>\n      <th>0</th>\n      <td>1888</td>\n      <td>Facebook</td>\n      <td>Afghanistan</td>\n      <td>Southern Asia</td>\n      <td>Central Asia</td>\n      <td>20-24</td>\n      <td>22.0</td>\n      <td>Male</td>\n      <td>Programmer</td>\n      <td>0</td>\n      <td>...</td>\n      <td>0.0</td>\n      <td>0.0</td>\n      <td>0.0</td>\n      <td>0.0</td>\n      <td>0.0</td>\n      <td>0.0</td>\n      <td>0.0</td>\n      <td>0.0</td>\n      <td>0.0</td>\n      <td>0.0</td>\n    </tr>\n    <tr>\n      <th>1</th>\n      <td>4637</td>\n      <td>Facebook</td>\n      <td>Afghanistan</td>\n      <td>Southern Asia</td>\n      <td>Central Asia</td>\n      <td>30-34</td>\n      <td>32.0</td>\n      <td>Male</td>\n      <td>Developer; Engineer; Programmer</td>\n      <td>Mobile developer - iOS</td>\n      <td>...</td>\n      <td>0.0</td>\n      <td>0.0</td>\n      <td>0.0</td>\n      <td>0.0</td>\n      <td>0.0</td>\n      <td>0.0</td>\n      <td>0.0</td>\n      <td>0.0</td>\n      <td>0.0</td>\n      <td>0.0</td>\n    </tr>\n    <tr>\n      <th>2</th>\n      <td>11164</td>\n      <td>Facebook</td>\n      <td>Afghanistan</td>\n      <td>Southern Asia</td>\n      <td>Central Asia</td>\n      <td>0</td>\n      <td>0.0</td>\n      <td>0</td>\n      <td>0</td>\n      <td>0</td>\n      <td>...</td>\n      <td>0.0</td>\n      <td>0.0</td>\n      <td>0.0</td>\n      <td>0.0</td>\n      <td>0.0</td>\n      <td>0.0</td>\n      <td>0.0</td>\n      <td>0.0</td>\n      <td>0.0</td>\n      <td>0.0</td>\n    </tr>\n  </tbody>\n</table>\n<p>3 rows × 107 columns</p>\n</div>"
     },
     "execution_count": 13,
     "metadata": {},
     "output_type": "execute_result"
    }
   ],
   "source": [
    "df_surveys_16 = feature_split(df=df_surveys_11_to_21[2016], column_to_split=\"tech_do\", inplace=False)\n",
    "df_surveys_16.head(3)"
   ]
  },
  {
   "cell_type": "markdown",
   "metadata": {},
   "source": [
    "This process will also be applicable to 2017 data:"
   ]
  },
  {
   "cell_type": "code",
   "execution_count": 14,
   "metadata": {
    "pycharm": {
     "name": "#%%\n"
    }
   },
   "outputs": [
    {
     "data": {
      "text/plain": "   Respondent            Professional ProgramHobby         Country  \\\n0           1                 Student    Yes, both   United States   \n1           2                 Student    Yes, both  United Kingdom   \n2           3  Professional developer    Yes, both  United Kingdom   \n\n       University                        EmploymentStatus  \\\n0              No  Not employed, and not looking for work   \n1  Yes, full-time                      Employed part-time   \n2              No                      Employed full-time   \n\n                                     FormalEducation  \\\n0                                   Secondary school   \n1  Some college/university study without earning ...   \n2                                  Bachelor's degree   \n\n                             MajorUndergrad  \\\n0                                         0   \n1  Computer science or software engineering   \n2  Computer science or software engineering   \n\n                                          HomeRemote  \\\n0                                                  0   \n1              More than half, but not all, the time   \n2  Less than half the time, but at least one day ...   \n\n                CompanySize  ... HaveWorkedLanguage: Lua  \\\n0                         0  ...                     0.0   \n1        20 to 99 employees  ...                     0.0   \n2  10,000 or more employees  ...                     0.0   \n\n  HaveWorkedLanguage: VBA HaveWorkedLanguage: Groovy HaveWorkedLanguage: Go  \\\n0                     0.0                        0.0                    0.0   \n1                     0.0                        0.0                    0.0   \n2                     0.0                        0.0                    0.0   \n\n  HaveWorkedLanguage: Smalltalk HaveWorkedLanguage: Visual Basic 6  \\\n0                           0.0                                0.0   \n1                           0.0                                0.0   \n2                           0.0                                0.0   \n\n  HaveWorkedLanguage: Common Lisp HaveWorkedLanguage: Dart  \\\n0                             0.0                      0.0   \n1                             0.0                      0.0   \n2                             0.0                      0.0   \n\n   HaveWorkedLanguage: Julia  HaveWorkedLanguage: Hack  \n0                        0.0                       0.0  \n1                        0.0                       0.0  \n2                        0.0                       0.0  \n\n[3 rows x 188 columns]",
      "text/html": "<div>\n<style scoped>\n    .dataframe tbody tr th:only-of-type {\n        vertical-align: middle;\n    }\n\n    .dataframe tbody tr th {\n        vertical-align: top;\n    }\n\n    .dataframe thead th {\n        text-align: right;\n    }\n</style>\n<table border=\"1\" class=\"dataframe\">\n  <thead>\n    <tr style=\"text-align: right;\">\n      <th></th>\n      <th>Respondent</th>\n      <th>Professional</th>\n      <th>ProgramHobby</th>\n      <th>Country</th>\n      <th>University</th>\n      <th>EmploymentStatus</th>\n      <th>FormalEducation</th>\n      <th>MajorUndergrad</th>\n      <th>HomeRemote</th>\n      <th>CompanySize</th>\n      <th>...</th>\n      <th>HaveWorkedLanguage: Lua</th>\n      <th>HaveWorkedLanguage: VBA</th>\n      <th>HaveWorkedLanguage: Groovy</th>\n      <th>HaveWorkedLanguage: Go</th>\n      <th>HaveWorkedLanguage: Smalltalk</th>\n      <th>HaveWorkedLanguage: Visual Basic 6</th>\n      <th>HaveWorkedLanguage: Common Lisp</th>\n      <th>HaveWorkedLanguage: Dart</th>\n      <th>HaveWorkedLanguage: Julia</th>\n      <th>HaveWorkedLanguage: Hack</th>\n    </tr>\n  </thead>\n  <tbody>\n    <tr>\n      <th>0</th>\n      <td>1</td>\n      <td>Student</td>\n      <td>Yes, both</td>\n      <td>United States</td>\n      <td>No</td>\n      <td>Not employed, and not looking for work</td>\n      <td>Secondary school</td>\n      <td>0</td>\n      <td>0</td>\n      <td>0</td>\n      <td>...</td>\n      <td>0.0</td>\n      <td>0.0</td>\n      <td>0.0</td>\n      <td>0.0</td>\n      <td>0.0</td>\n      <td>0.0</td>\n      <td>0.0</td>\n      <td>0.0</td>\n      <td>0.0</td>\n      <td>0.0</td>\n    </tr>\n    <tr>\n      <th>1</th>\n      <td>2</td>\n      <td>Student</td>\n      <td>Yes, both</td>\n      <td>United Kingdom</td>\n      <td>Yes, full-time</td>\n      <td>Employed part-time</td>\n      <td>Some college/university study without earning ...</td>\n      <td>Computer science or software engineering</td>\n      <td>More than half, but not all, the time</td>\n      <td>20 to 99 employees</td>\n      <td>...</td>\n      <td>0.0</td>\n      <td>0.0</td>\n      <td>0.0</td>\n      <td>0.0</td>\n      <td>0.0</td>\n      <td>0.0</td>\n      <td>0.0</td>\n      <td>0.0</td>\n      <td>0.0</td>\n      <td>0.0</td>\n    </tr>\n    <tr>\n      <th>2</th>\n      <td>3</td>\n      <td>Professional developer</td>\n      <td>Yes, both</td>\n      <td>United Kingdom</td>\n      <td>No</td>\n      <td>Employed full-time</td>\n      <td>Bachelor's degree</td>\n      <td>Computer science or software engineering</td>\n      <td>Less than half the time, but at least one day ...</td>\n      <td>10,000 or more employees</td>\n      <td>...</td>\n      <td>0.0</td>\n      <td>0.0</td>\n      <td>0.0</td>\n      <td>0.0</td>\n      <td>0.0</td>\n      <td>0.0</td>\n      <td>0.0</td>\n      <td>0.0</td>\n      <td>0.0</td>\n      <td>0.0</td>\n    </tr>\n  </tbody>\n</table>\n<p>3 rows × 188 columns</p>\n</div>"
     },
     "execution_count": 14,
     "metadata": {},
     "output_type": "execute_result"
    }
   ],
   "source": [
    "df_surveys_17 = feature_split(df=df_surveys_11_to_21[2017], column_to_split=\"HaveWorkedLanguage\", inplace=False)\n",
    "df_surveys_17.head(3)"
   ]
  },
  {
   "cell_type": "markdown",
   "metadata": {},
   "source": [
    "... 2018 data:"
   ]
  },
  {
   "cell_type": "code",
   "execution_count": 15,
   "metadata": {
    "pycharm": {
     "name": "#%%\n"
    }
   },
   "outputs": [
    {
     "data": {
      "text/plain": "   Respondent Hobby OpenSource         Country Student          Employment  \\\n0           1   Yes         No           Kenya      No  Employed part-time   \n1           3   Yes        Yes  United Kingdom      No  Employed full-time   \n2           4   Yes        Yes   United States      No  Employed full-time   \n\n                              FormalEducation  \\\n0  Bachelorâs degree (BA, BS, B.Eng., etc.)   \n1  Bachelorâs degree (BA, BS, B.Eng., etc.)   \n2                            Associate degree   \n\n                                      UndergradMajor  \\\n0                          Mathematics or statistics   \n1  A natural science (ex. biology, chemistry, phy...   \n2  Computer science, computer engineering, or sof...   \n\n                CompanySize  \\\n0        20 to 99 employees   \n1  10,000 or more employees   \n2        20 to 99 employees   \n\n                                             DevType  ...  \\\n0                               Full-stack developer  ...   \n1  Database administrator;DevOps specialist;Full-...  ...   \n2           Engineering manager;Full-stack developer  ...   \n\n  LanguageWorkedWith: Rust LanguageWorkedWith: Julia LanguageWorkedWith: VBA  \\\n0                      0.0                       0.0                     0.0   \n1                      0.0                       0.0                     0.0   \n2                      0.0                       0.0                     0.0   \n\n  LanguageWorkedWith: Perl LanguageWorkedWith: Cobol  \\\n0                      0.0                       0.0   \n1                      0.0                       0.0   \n2                      0.0                       0.0   \n\n  LanguageWorkedWith: Visual Basic 6 LanguageWorkedWith: Delphi/Object Pascal  \\\n0                                0.0                                      0.0   \n1                                0.0                                      0.0   \n2                                0.0                                      0.0   \n\n   LanguageWorkedWith: Hack  LanguageWorkedWith: Clojure  \\\n0                       0.0                          0.0   \n1                       0.0                          0.0   \n2                       0.0                          0.0   \n\n   LanguageWorkedWith: Ocaml  \n0                        0.0  \n1                        0.0  \n2                        0.0  \n\n[3 rows x 166 columns]",
      "text/html": "<div>\n<style scoped>\n    .dataframe tbody tr th:only-of-type {\n        vertical-align: middle;\n    }\n\n    .dataframe tbody tr th {\n        vertical-align: top;\n    }\n\n    .dataframe thead th {\n        text-align: right;\n    }\n</style>\n<table border=\"1\" class=\"dataframe\">\n  <thead>\n    <tr style=\"text-align: right;\">\n      <th></th>\n      <th>Respondent</th>\n      <th>Hobby</th>\n      <th>OpenSource</th>\n      <th>Country</th>\n      <th>Student</th>\n      <th>Employment</th>\n      <th>FormalEducation</th>\n      <th>UndergradMajor</th>\n      <th>CompanySize</th>\n      <th>DevType</th>\n      <th>...</th>\n      <th>LanguageWorkedWith: Rust</th>\n      <th>LanguageWorkedWith: Julia</th>\n      <th>LanguageWorkedWith: VBA</th>\n      <th>LanguageWorkedWith: Perl</th>\n      <th>LanguageWorkedWith: Cobol</th>\n      <th>LanguageWorkedWith: Visual Basic 6</th>\n      <th>LanguageWorkedWith: Delphi/Object Pascal</th>\n      <th>LanguageWorkedWith: Hack</th>\n      <th>LanguageWorkedWith: Clojure</th>\n      <th>LanguageWorkedWith: Ocaml</th>\n    </tr>\n  </thead>\n  <tbody>\n    <tr>\n      <th>0</th>\n      <td>1</td>\n      <td>Yes</td>\n      <td>No</td>\n      <td>Kenya</td>\n      <td>No</td>\n      <td>Employed part-time</td>\n      <td>Bachelorâs degree (BA, BS, B.Eng., etc.)</td>\n      <td>Mathematics or statistics</td>\n      <td>20 to 99 employees</td>\n      <td>Full-stack developer</td>\n      <td>...</td>\n      <td>0.0</td>\n      <td>0.0</td>\n      <td>0.0</td>\n      <td>0.0</td>\n      <td>0.0</td>\n      <td>0.0</td>\n      <td>0.0</td>\n      <td>0.0</td>\n      <td>0.0</td>\n      <td>0.0</td>\n    </tr>\n    <tr>\n      <th>1</th>\n      <td>3</td>\n      <td>Yes</td>\n      <td>Yes</td>\n      <td>United Kingdom</td>\n      <td>No</td>\n      <td>Employed full-time</td>\n      <td>Bachelorâs degree (BA, BS, B.Eng., etc.)</td>\n      <td>A natural science (ex. biology, chemistry, phy...</td>\n      <td>10,000 or more employees</td>\n      <td>Database administrator;DevOps specialist;Full-...</td>\n      <td>...</td>\n      <td>0.0</td>\n      <td>0.0</td>\n      <td>0.0</td>\n      <td>0.0</td>\n      <td>0.0</td>\n      <td>0.0</td>\n      <td>0.0</td>\n      <td>0.0</td>\n      <td>0.0</td>\n      <td>0.0</td>\n    </tr>\n    <tr>\n      <th>2</th>\n      <td>4</td>\n      <td>Yes</td>\n      <td>Yes</td>\n      <td>United States</td>\n      <td>No</td>\n      <td>Employed full-time</td>\n      <td>Associate degree</td>\n      <td>Computer science, computer engineering, or sof...</td>\n      <td>20 to 99 employees</td>\n      <td>Engineering manager;Full-stack developer</td>\n      <td>...</td>\n      <td>0.0</td>\n      <td>0.0</td>\n      <td>0.0</td>\n      <td>0.0</td>\n      <td>0.0</td>\n      <td>0.0</td>\n      <td>0.0</td>\n      <td>0.0</td>\n      <td>0.0</td>\n      <td>0.0</td>\n    </tr>\n  </tbody>\n</table>\n<p>3 rows × 166 columns</p>\n</div>"
     },
     "execution_count": 15,
     "metadata": {},
     "output_type": "execute_result"
    }
   ],
   "source": [
    "df_surveys_18 = feature_split(df=df_surveys_11_to_21[2018], column_to_split=\"LanguageWorkedWith\", inplace=False)\n",
    "df_surveys_18.head(3)"
   ]
  },
  {
   "cell_type": "markdown",
   "metadata": {},
   "source": [
    "... 2019 data:"
   ]
  },
  {
   "cell_type": "code",
   "execution_count": 16,
   "metadata": {
    "pycharm": {
     "name": "#%%\n"
    }
   },
   "outputs": [
    {
     "data": {
      "text/plain": "   Respondent                                         MainBranch Hobbyist  \\\n0           1             I am a student who is learning to code      Yes   \n1           2             I am a student who is learning to code       No   \n2           3  I am not primarily a developer, but I write co...      Yes   \n\n               OpenSourcer                                         OpenSource  \\\n0                    Never  The quality of OSS and closed source software ...   \n1  Less than once per year  The quality of OSS and closed source software ...   \n2                    Never  The quality of OSS and closed source software ...   \n\n                               Employment                 Country  \\\n0  Not employed, and not looking for work          United Kingdom   \n1      Not employed, but looking for work  Bosnia and Herzegovina   \n2                      Employed full-time                Thailand   \n\n          Student                                            EdLevel  \\\n0              No                          Primary/elementary school   \n1  Yes, full-time  Secondary school (e.g. American high school, G...   \n2              No         Bachelorâs degree (BA, BS, B.Eng., etc.)   \n\n                  UndergradMajor  ... LanguageWorkedWith: Assembly  \\\n0                              0  ...                          0.0   \n1                              0  ...                          0.0   \n2  Web development or web design  ...                          0.0   \n\n  LanguageWorkedWith: Kotlin LanguageWorkedWith: Swift  \\\n0                        0.0                       0.0   \n1                        0.0                       0.0   \n2                        0.0                       0.0   \n\n  LanguageWorkedWith: Objective-C LanguageWorkedWith: Elixir  \\\n0                             0.0                        0.0   \n1                             0.0                        0.0   \n2                             0.0                        0.0   \n\n  LanguageWorkedWith: Erlang LanguageWorkedWith: Clojure  \\\n0                        0.0                         0.0   \n1                        0.0                         0.0   \n2                        0.0                         0.0   \n\n  LanguageWorkedWith: F# LanguageWorkedWith: Scala LanguageWorkedWith: Dart  \n0                    0.0                       0.0                      0.0  \n1                    0.0                       0.0                      0.0  \n2                    0.0                       0.0                      0.0  \n\n[3 rows x 112 columns]",
      "text/html": "<div>\n<style scoped>\n    .dataframe tbody tr th:only-of-type {\n        vertical-align: middle;\n    }\n\n    .dataframe tbody tr th {\n        vertical-align: top;\n    }\n\n    .dataframe thead th {\n        text-align: right;\n    }\n</style>\n<table border=\"1\" class=\"dataframe\">\n  <thead>\n    <tr style=\"text-align: right;\">\n      <th></th>\n      <th>Respondent</th>\n      <th>MainBranch</th>\n      <th>Hobbyist</th>\n      <th>OpenSourcer</th>\n      <th>OpenSource</th>\n      <th>Employment</th>\n      <th>Country</th>\n      <th>Student</th>\n      <th>EdLevel</th>\n      <th>UndergradMajor</th>\n      <th>...</th>\n      <th>LanguageWorkedWith: Assembly</th>\n      <th>LanguageWorkedWith: Kotlin</th>\n      <th>LanguageWorkedWith: Swift</th>\n      <th>LanguageWorkedWith: Objective-C</th>\n      <th>LanguageWorkedWith: Elixir</th>\n      <th>LanguageWorkedWith: Erlang</th>\n      <th>LanguageWorkedWith: Clojure</th>\n      <th>LanguageWorkedWith: F#</th>\n      <th>LanguageWorkedWith: Scala</th>\n      <th>LanguageWorkedWith: Dart</th>\n    </tr>\n  </thead>\n  <tbody>\n    <tr>\n      <th>0</th>\n      <td>1</td>\n      <td>I am a student who is learning to code</td>\n      <td>Yes</td>\n      <td>Never</td>\n      <td>The quality of OSS and closed source software ...</td>\n      <td>Not employed, and not looking for work</td>\n      <td>United Kingdom</td>\n      <td>No</td>\n      <td>Primary/elementary school</td>\n      <td>0</td>\n      <td>...</td>\n      <td>0.0</td>\n      <td>0.0</td>\n      <td>0.0</td>\n      <td>0.0</td>\n      <td>0.0</td>\n      <td>0.0</td>\n      <td>0.0</td>\n      <td>0.0</td>\n      <td>0.0</td>\n      <td>0.0</td>\n    </tr>\n    <tr>\n      <th>1</th>\n      <td>2</td>\n      <td>I am a student who is learning to code</td>\n      <td>No</td>\n      <td>Less than once per year</td>\n      <td>The quality of OSS and closed source software ...</td>\n      <td>Not employed, but looking for work</td>\n      <td>Bosnia and Herzegovina</td>\n      <td>Yes, full-time</td>\n      <td>Secondary school (e.g. American high school, G...</td>\n      <td>0</td>\n      <td>...</td>\n      <td>0.0</td>\n      <td>0.0</td>\n      <td>0.0</td>\n      <td>0.0</td>\n      <td>0.0</td>\n      <td>0.0</td>\n      <td>0.0</td>\n      <td>0.0</td>\n      <td>0.0</td>\n      <td>0.0</td>\n    </tr>\n    <tr>\n      <th>2</th>\n      <td>3</td>\n      <td>I am not primarily a developer, but I write co...</td>\n      <td>Yes</td>\n      <td>Never</td>\n      <td>The quality of OSS and closed source software ...</td>\n      <td>Employed full-time</td>\n      <td>Thailand</td>\n      <td>No</td>\n      <td>Bachelorâs degree (BA, BS, B.Eng., etc.)</td>\n      <td>Web development or web design</td>\n      <td>...</td>\n      <td>0.0</td>\n      <td>0.0</td>\n      <td>0.0</td>\n      <td>0.0</td>\n      <td>0.0</td>\n      <td>0.0</td>\n      <td>0.0</td>\n      <td>0.0</td>\n      <td>0.0</td>\n      <td>0.0</td>\n    </tr>\n  </tbody>\n</table>\n<p>3 rows × 112 columns</p>\n</div>"
     },
     "execution_count": 16,
     "metadata": {},
     "output_type": "execute_result"
    }
   ],
   "source": [
    "df_surveys_19 = feature_split(df=df_surveys_11_to_21[2019], column_to_split=\"LanguageWorkedWith\", inplace=False)\n",
    "df_surveys_19.head(3)"
   ]
  },
  {
   "cell_type": "markdown",
   "metadata": {},
   "source": [
    "... 2020 data:"
   ]
  },
  {
   "cell_type": "code",
   "execution_count": 17,
   "metadata": {
    "pycharm": {
     "name": "#%%\n"
    }
   },
   "outputs": [
    {
     "data": {
      "text/plain": "   Respondent                      MainBranch Hobbyist  Age Age1stCode  \\\n0           1  I am a developer by profession      Yes  0.0         13   \n1           2  I am a developer by profession       No  0.0         19   \n2           3     I code primarily as a hobby      Yes  0.0         15   \n\n  CompFreq  CompTotal  ConvertedComp             Country    CurrencyDesc  ...  \\\n0  Monthly        0.0            0.0             Germany   European Euro  ...   \n1        0        0.0            0.0      United Kingdom  Pound sterling  ...   \n2        0        0.0            0.0  Russian Federation               0  ...   \n\n  LanguageWorkedWith: VBA LanguageWorkedWith: Perl LanguageWorkedWith: Scala  \\\n0                     0.0                      0.0                       0.0   \n1                     0.0                      0.0                       0.0   \n2                     0.0                      0.0                       0.0   \n\n  LanguageWorkedWith: C++ LanguageWorkedWith: Go LanguageWorkedWith: Haskell  \\\n0                     0.0                    0.0                         0.0   \n1                     0.0                    0.0                         0.0   \n2                     0.0                    0.0                         0.0   \n\n  LanguageWorkedWith: Rust LanguageWorkedWith: Dart LanguageWorkedWith: Julia  \\\n0                      0.0                      0.0                       0.0   \n1                      0.0                      0.0                       0.0   \n2                      0.0                      0.0                       0.0   \n\n  LanguageWorkedWith: Assembly  \n0                          0.0  \n1                          0.0  \n2                          0.0  \n\n[3 rows x 85 columns]",
      "text/html": "<div>\n<style scoped>\n    .dataframe tbody tr th:only-of-type {\n        vertical-align: middle;\n    }\n\n    .dataframe tbody tr th {\n        vertical-align: top;\n    }\n\n    .dataframe thead th {\n        text-align: right;\n    }\n</style>\n<table border=\"1\" class=\"dataframe\">\n  <thead>\n    <tr style=\"text-align: right;\">\n      <th></th>\n      <th>Respondent</th>\n      <th>MainBranch</th>\n      <th>Hobbyist</th>\n      <th>Age</th>\n      <th>Age1stCode</th>\n      <th>CompFreq</th>\n      <th>CompTotal</th>\n      <th>ConvertedComp</th>\n      <th>Country</th>\n      <th>CurrencyDesc</th>\n      <th>...</th>\n      <th>LanguageWorkedWith: VBA</th>\n      <th>LanguageWorkedWith: Perl</th>\n      <th>LanguageWorkedWith: Scala</th>\n      <th>LanguageWorkedWith: C++</th>\n      <th>LanguageWorkedWith: Go</th>\n      <th>LanguageWorkedWith: Haskell</th>\n      <th>LanguageWorkedWith: Rust</th>\n      <th>LanguageWorkedWith: Dart</th>\n      <th>LanguageWorkedWith: Julia</th>\n      <th>LanguageWorkedWith: Assembly</th>\n    </tr>\n  </thead>\n  <tbody>\n    <tr>\n      <th>0</th>\n      <td>1</td>\n      <td>I am a developer by profession</td>\n      <td>Yes</td>\n      <td>0.0</td>\n      <td>13</td>\n      <td>Monthly</td>\n      <td>0.0</td>\n      <td>0.0</td>\n      <td>Germany</td>\n      <td>European Euro</td>\n      <td>...</td>\n      <td>0.0</td>\n      <td>0.0</td>\n      <td>0.0</td>\n      <td>0.0</td>\n      <td>0.0</td>\n      <td>0.0</td>\n      <td>0.0</td>\n      <td>0.0</td>\n      <td>0.0</td>\n      <td>0.0</td>\n    </tr>\n    <tr>\n      <th>1</th>\n      <td>2</td>\n      <td>I am a developer by profession</td>\n      <td>No</td>\n      <td>0.0</td>\n      <td>19</td>\n      <td>0</td>\n      <td>0.0</td>\n      <td>0.0</td>\n      <td>United Kingdom</td>\n      <td>Pound sterling</td>\n      <td>...</td>\n      <td>0.0</td>\n      <td>0.0</td>\n      <td>0.0</td>\n      <td>0.0</td>\n      <td>0.0</td>\n      <td>0.0</td>\n      <td>0.0</td>\n      <td>0.0</td>\n      <td>0.0</td>\n      <td>0.0</td>\n    </tr>\n    <tr>\n      <th>2</th>\n      <td>3</td>\n      <td>I code primarily as a hobby</td>\n      <td>Yes</td>\n      <td>0.0</td>\n      <td>15</td>\n      <td>0</td>\n      <td>0.0</td>\n      <td>0.0</td>\n      <td>Russian Federation</td>\n      <td>0</td>\n      <td>...</td>\n      <td>0.0</td>\n      <td>0.0</td>\n      <td>0.0</td>\n      <td>0.0</td>\n      <td>0.0</td>\n      <td>0.0</td>\n      <td>0.0</td>\n      <td>0.0</td>\n      <td>0.0</td>\n      <td>0.0</td>\n    </tr>\n  </tbody>\n</table>\n<p>3 rows × 85 columns</p>\n</div>"
     },
     "execution_count": 17,
     "metadata": {},
     "output_type": "execute_result"
    }
   ],
   "source": [
    "df_surveys_20 = feature_split(df=df_surveys_11_to_21[2020], column_to_split=\"LanguageWorkedWith\", inplace=False)\n",
    "df_surveys_20.head(3)"
   ]
  },
  {
   "cell_type": "markdown",
   "metadata": {},
   "source": [
    "...And 2021 data:"
   ]
  },
  {
   "cell_type": "code",
   "execution_count": 18,
   "metadata": {
    "pycharm": {
     "name": "#%%\n"
    }
   },
   "outputs": [
    {
     "data": {
      "text/plain": "   ResponseId                                         MainBranch  \\\n0           1                     I am a developer by profession   \n1           2             I am a student who is learning to code   \n2           3  I am not primarily a developer, but I write co...   \n3           4                     I am a developer by profession   \n4           5                     I am a developer by profession   \n\n                                          Employment  \\\n0  Independent contractor, freelancer, or self-em...   \n1                                 Student, full-time   \n2                                 Student, full-time   \n3                                 Employed full-time   \n4  Independent contractor, freelancer, or self-em...   \n\n                                             Country US_State UK_Country  \\\n0                                           Slovakia        0          0   \n1                                        Netherlands        0          0   \n2                                 Russian Federation        0          0   \n3                                            Austria        0          0   \n4  United Kingdom of Great Britain and Northern I...        0    England   \n\n                                             EdLevel     Age1stCode  \\\n0  Secondary school (e.g. American high school, G...  18 - 24 years   \n1     Bachelorâs degree (B.A., B.S., B.Eng., etc.)  11 - 17 years   \n2     Bachelorâs degree (B.A., B.S., B.Eng., etc.)  11 - 17 years   \n3  Masterâs degree (M.A., M.S., M.Eng., MBA, etc.)  11 - 17 years   \n4  Masterâs degree (M.A., M.S., M.Eng., MBA, etc.)   5 - 10 years   \n\n                                           LearnCode YearsCode  ...  \\\n0  Coding Bootcamp;Other online resources (ex: vi...         0  ...   \n1  Other online resources (ex: videos, blogs, etc...         7  ...   \n2  Other online resources (ex: videos, blogs, etc...         0  ...   \n3                                                  0         0  ...   \n4                            Friend or family member        17  ...   \n\n  LanguageHaveWorkedWith: VBA LanguageHaveWorkedWith: Groovy  \\\n0                         0.0                            0.0   \n1                         0.0                            0.0   \n2                         0.0                            0.0   \n3                         0.0                            0.0   \n4                         0.0                            0.0   \n\n  LanguageHaveWorkedWith: Clojure LanguageHaveWorkedWith: APL  \\\n0                             0.0                         0.0   \n1                             0.0                         0.0   \n2                             0.0                         0.0   \n3                             0.0                         0.0   \n4                             0.0                         0.0   \n\n   LanguageHaveWorkedWith: LISP LanguageHaveWorkedWith: F#  \\\n0                           0.0                        0.0   \n1                           0.0                        0.0   \n2                           0.0                        0.0   \n3                           0.0                        0.0   \n4                           0.0                        0.0   \n\n  LanguageHaveWorkedWith: Elixir LanguageHaveWorkedWith: Erlang  \\\n0                            0.0                            0.0   \n1                            0.0                            0.0   \n2                            0.0                            0.0   \n3                            0.0                            0.0   \n4                            0.0                            0.0   \n\n  LanguageHaveWorkedWith: Crystal LanguageHaveWorkedWith: COBOL  \n0                             0.0                           0.0  \n1                             0.0                           0.0  \n2                             0.0                           0.0  \n3                             0.0                           0.0  \n4                             0.0                           0.0  \n\n[5 rows x 85 columns]",
      "text/html": "<div>\n<style scoped>\n    .dataframe tbody tr th:only-of-type {\n        vertical-align: middle;\n    }\n\n    .dataframe tbody tr th {\n        vertical-align: top;\n    }\n\n    .dataframe thead th {\n        text-align: right;\n    }\n</style>\n<table border=\"1\" class=\"dataframe\">\n  <thead>\n    <tr style=\"text-align: right;\">\n      <th></th>\n      <th>ResponseId</th>\n      <th>MainBranch</th>\n      <th>Employment</th>\n      <th>Country</th>\n      <th>US_State</th>\n      <th>UK_Country</th>\n      <th>EdLevel</th>\n      <th>Age1stCode</th>\n      <th>LearnCode</th>\n      <th>YearsCode</th>\n      <th>...</th>\n      <th>LanguageHaveWorkedWith: VBA</th>\n      <th>LanguageHaveWorkedWith: Groovy</th>\n      <th>LanguageHaveWorkedWith: Clojure</th>\n      <th>LanguageHaveWorkedWith: APL</th>\n      <th>LanguageHaveWorkedWith: LISP</th>\n      <th>LanguageHaveWorkedWith: F#</th>\n      <th>LanguageHaveWorkedWith: Elixir</th>\n      <th>LanguageHaveWorkedWith: Erlang</th>\n      <th>LanguageHaveWorkedWith: Crystal</th>\n      <th>LanguageHaveWorkedWith: COBOL</th>\n    </tr>\n  </thead>\n  <tbody>\n    <tr>\n      <th>0</th>\n      <td>1</td>\n      <td>I am a developer by profession</td>\n      <td>Independent contractor, freelancer, or self-em...</td>\n      <td>Slovakia</td>\n      <td>0</td>\n      <td>0</td>\n      <td>Secondary school (e.g. American high school, G...</td>\n      <td>18 - 24 years</td>\n      <td>Coding Bootcamp;Other online resources (ex: vi...</td>\n      <td>0</td>\n      <td>...</td>\n      <td>0.0</td>\n      <td>0.0</td>\n      <td>0.0</td>\n      <td>0.0</td>\n      <td>0.0</td>\n      <td>0.0</td>\n      <td>0.0</td>\n      <td>0.0</td>\n      <td>0.0</td>\n      <td>0.0</td>\n    </tr>\n    <tr>\n      <th>1</th>\n      <td>2</td>\n      <td>I am a student who is learning to code</td>\n      <td>Student, full-time</td>\n      <td>Netherlands</td>\n      <td>0</td>\n      <td>0</td>\n      <td>Bachelorâs degree (B.A., B.S., B.Eng., etc.)</td>\n      <td>11 - 17 years</td>\n      <td>Other online resources (ex: videos, blogs, etc...</td>\n      <td>7</td>\n      <td>...</td>\n      <td>0.0</td>\n      <td>0.0</td>\n      <td>0.0</td>\n      <td>0.0</td>\n      <td>0.0</td>\n      <td>0.0</td>\n      <td>0.0</td>\n      <td>0.0</td>\n      <td>0.0</td>\n      <td>0.0</td>\n    </tr>\n    <tr>\n      <th>2</th>\n      <td>3</td>\n      <td>I am not primarily a developer, but I write co...</td>\n      <td>Student, full-time</td>\n      <td>Russian Federation</td>\n      <td>0</td>\n      <td>0</td>\n      <td>Bachelorâs degree (B.A., B.S., B.Eng., etc.)</td>\n      <td>11 - 17 years</td>\n      <td>Other online resources (ex: videos, blogs, etc...</td>\n      <td>0</td>\n      <td>...</td>\n      <td>0.0</td>\n      <td>0.0</td>\n      <td>0.0</td>\n      <td>0.0</td>\n      <td>0.0</td>\n      <td>0.0</td>\n      <td>0.0</td>\n      <td>0.0</td>\n      <td>0.0</td>\n      <td>0.0</td>\n    </tr>\n    <tr>\n      <th>3</th>\n      <td>4</td>\n      <td>I am a developer by profession</td>\n      <td>Employed full-time</td>\n      <td>Austria</td>\n      <td>0</td>\n      <td>0</td>\n      <td>Masterâs degree (M.A., M.S., M.Eng., MBA, etc.)</td>\n      <td>11 - 17 years</td>\n      <td>0</td>\n      <td>0</td>\n      <td>...</td>\n      <td>0.0</td>\n      <td>0.0</td>\n      <td>0.0</td>\n      <td>0.0</td>\n      <td>0.0</td>\n      <td>0.0</td>\n      <td>0.0</td>\n      <td>0.0</td>\n      <td>0.0</td>\n      <td>0.0</td>\n    </tr>\n    <tr>\n      <th>4</th>\n      <td>5</td>\n      <td>I am a developer by profession</td>\n      <td>Independent contractor, freelancer, or self-em...</td>\n      <td>United Kingdom of Great Britain and Northern I...</td>\n      <td>0</td>\n      <td>England</td>\n      <td>Masterâs degree (M.A., M.S., M.Eng., MBA, etc.)</td>\n      <td>5 - 10 years</td>\n      <td>Friend or family member</td>\n      <td>17</td>\n      <td>...</td>\n      <td>0.0</td>\n      <td>0.0</td>\n      <td>0.0</td>\n      <td>0.0</td>\n      <td>0.0</td>\n      <td>0.0</td>\n      <td>0.0</td>\n      <td>0.0</td>\n      <td>0.0</td>\n      <td>0.0</td>\n    </tr>\n  </tbody>\n</table>\n<p>5 rows × 85 columns</p>\n</div>"
     },
     "execution_count": 18,
     "metadata": {},
     "output_type": "execute_result"
    }
   ],
   "source": [
    "df_surveys_21 = feature_split(df=df_surveys_11_to_21[2021], column_to_split=\"LanguageHaveWorkedWith\", inplace=False)\n",
    "df_surveys_21.head()"
   ]
  },
  {
   "cell_type": "markdown",
   "metadata": {},
   "source": [
    "Now, results from modeling phase will be analyzed."
   ]
  },
  {
   "cell_type": "markdown",
   "metadata": {},
   "source": [
    "## 5. Results Analysis\n",
    "In this section, I will analyze modelling phase results, computing language usage percentages for each reference year."
   ]
  },
  {
   "cell_type": "markdown",
   "metadata": {
    "pycharm": {
     "name": "#%% md\n"
    }
   },
   "source": [
    "Before that, I will set a few global plotting parameters."
   ]
  },
  {
   "cell_type": "code",
   "execution_count": 19,
   "metadata": {
    "pycharm": {
     "name": "#%%\n"
    }
   },
   "outputs": [],
   "source": [
    "# setting variables and stuff about plotting\n",
    "import matplotlib.pyplot as plt\n",
    "import numpy as np"
   ]
  },
  {
   "cell_type": "code",
   "execution_count": 20,
   "metadata": {
    "pycharm": {
     "name": "#%%\n"
    }
   },
   "outputs": [],
   "source": [
    "#print(\"Before, figure default size is: \", plt.rcParams[\"figure.figsize\"])\n",
    "plt.rcParams[\"figure.figsize\"] = (20, 10)\n",
    "#print(\"After, figure default size is: \", plt.rcParams[\"figure.figsize\"])"
   ]
  },
  {
   "cell_type": "code",
   "execution_count": 21,
   "metadata": {
    "pycharm": {
     "name": "#%%\n"
    }
   },
   "outputs": [],
   "source": [
    "# changing plot font, for readability\n",
    "font = {'weight': 'bold',\n",
    "        'size': 22}\n",
    "plt.rc('font', **font)"
   ]
  },
  {
   "cell_type": "markdown",
   "metadata": {},
   "source": [
    "#### 2011 Results Analysis"
   ]
  },
  {
   "cell_type": "code",
   "execution_count": 22,
   "metadata": {
    "pycharm": {
     "name": "#%%\n"
    }
   },
   "outputs": [],
   "source": [
    "# selecting features column related to language proficiencies:\n",
    "proficiency_columns_range_2011 = range(30, 41)\n",
    "df_2011_proficiencies = df_surveys_11.iloc[:, proficiency_columns_range_2011]"
   ]
  },
  {
   "cell_type": "markdown",
   "source": [
    "In order to obtain popularity values, I will compute cumulative count of proficiencies per language:"
   ],
   "metadata": {
    "collapsed": false,
    "pycharm": {
     "name": "#%% md\n"
    }
   }
  },
  {
   "cell_type": "code",
   "execution_count": 23,
   "outputs": [],
   "source": [
    "s_2011_proficiencies = df_2011_proficiencies.sum(axis=0)\n",
    "\n",
    "# sorting values by popularity\n",
    "s_2011_proficiencies.sort_values(ascending=False, inplace=True)"
   ],
   "metadata": {
    "collapsed": false,
    "pycharm": {
     "name": "#%%\n"
    }
   }
  },
  {
   "cell_type": "code",
   "execution_count": 24,
   "metadata": {
    "pycharm": {
     "name": "#%%\n"
    }
   },
   "outputs": [],
   "source": [
    "# storing top ten elements by popularity in a dedicated pandas series\n",
    "s_2011_proficiencies_top_10 = s_2011_proficiencies.head(10)"
   ]
  },
  {
   "cell_type": "code",
   "execution_count": 25,
   "metadata": {
    "pycharm": {
     "name": "#%%\n"
    }
   },
   "outputs": [
    {
     "data": {
      "text/plain": "Proficient in SQL           1613\nProficient in JavaScript    1419\nProficient in CSS           1356\nProficient in C#            1352\nProficient in Java           861\nProficient in PHP            788\nProficient in C              741\nProficient in C++            740\nProficient in Python         575\nProficient in Ruby           285\ndtype: int64"
     },
     "execution_count": 25,
     "metadata": {},
     "output_type": "execute_result"
    }
   ],
   "source": [
    "# having a look at top ten most popular languages in 2011\n",
    "s_2011_proficiencies_top_10"
   ]
  },
  {
   "cell_type": "markdown",
   "metadata": {
    "pycharm": {
     "name": "#%% md\n"
    }
   },
   "source": [
    "Clearly, most used language in 2011 was SQL, followed by JavaScript and CSS.\n",
    "Anyway, to be fair, SQL and CSS are not exactly programming languages, so it would be more correct\n",
    "to indicate JavaScript as the most popular language in 2011, followed by C#.\n"
   ]
  },
  {
   "cell_type": "code",
   "execution_count": 26,
   "metadata": {
    "pycharm": {
     "name": "#%%\n"
    }
   },
   "outputs": [],
   "source": [
    "# dropping SQL and CSS from results\n",
    "df_2011_proficiencies_clean = df_2011_proficiencies.drop(\"Proficient in SQL\", axis=1)\n",
    "df_2011_proficiencies_clean = df_2011_proficiencies_clean.drop(\"Proficient in CSS\", axis=1)"
   ]
  },
  {
   "cell_type": "code",
   "execution_count": 27,
   "metadata": {
    "pycharm": {
     "name": "#%%\n"
    }
   },
   "outputs": [],
   "source": [
    "# computing total proficiencies once again\n",
    "s_2011_proficiencies_clean_sum = df_2011_proficiencies_clean.sum(axis=0)\n"
   ]
  },
  {
   "cell_type": "markdown",
   "metadata": {
    "pycharm": {
     "name": "#%% md\n"
    }
   },
   "source": [
    "We can assess the language popularity in absolute terms computing total percentage of coders using that\n",
    "particular language:\n"
   ]
  },
  {
   "cell_type": "code",
   "execution_count": 28,
   "metadata": {
    "pycharm": {
     "name": "#%%\n"
    }
   },
   "outputs": [],
   "source": [
    "# computing percentages\n",
    "s_2011_proficiencies_percentages = (s_2011_proficiencies_clean_sum/df_2011_proficiencies_clean.shape[0])*100\n",
    "# renaming each row for simplicity\n",
    "s_2011_proficiencies_percentages.index = s_2011_proficiencies_percentages.index.str.replace(\"Proficient in \", \"\")"
   ]
  },
  {
   "cell_type": "code",
   "execution_count": 81,
   "metadata": {
    "pycharm": {
     "name": "#%%\n"
    }
   },
   "outputs": [],
   "source": [
    "languages_palette = {\n",
    "    'C':'blue',\n",
    "    'C++':'orange',\n",
    "           'Python':'green',\n",
    "           'PHP':'purple',\n",
    "           'Ruby':'pink',\n",
    "           }\n",
    "\n"
   ]
  },
  {
   "cell_type": "markdown",
   "metadata": {},
   "source": [
    "Top 5 languages by proficiency in 2011:"
   ]
  },
  {
   "cell_type": "code",
   "execution_count": 90,
   "metadata": {
    "pycharm": {
     "name": "#%%\n"
    }
   },
   "outputs": [
    {
     "ename": "ValueError",
     "evalue": "Invalid RGBA argument: 'C++'",
     "output_type": "error",
     "traceback": [
      "\u001B[0;31m---------------------------------------------------------------------------\u001B[0m",
      "\u001B[0;31mValueError\u001B[0m                                Traceback (most recent call last)",
      "\u001B[0;32m<ipython-input-90-3684c03c14e1>\u001B[0m in \u001B[0;36m<module>\u001B[0;34m\u001B[0m\n\u001B[1;32m      3\u001B[0m \u001B[0;34m\u001B[0m\u001B[0m\n\u001B[1;32m      4\u001B[0m \u001B[0;31m# plotting data\u001B[0m\u001B[0;34m\u001B[0m\u001B[0;34m\u001B[0m\u001B[0;34m\u001B[0m\u001B[0m\n\u001B[0;32m----> 5\u001B[0;31m \u001B[0max\u001B[0m \u001B[0;34m=\u001B[0m \u001B[0ms_2011_proficiencies_percentages\u001B[0m\u001B[0;34m.\u001B[0m\u001B[0mplot\u001B[0m\u001B[0;34m(\u001B[0m\u001B[0mkind\u001B[0m\u001B[0;34m=\u001B[0m\u001B[0;34m\"bar\"\u001B[0m\u001B[0;34m,\u001B[0m \u001B[0mcolor\u001B[0m\u001B[0;34m=\u001B[0m\u001B[0mlanguages_palette\u001B[0m\u001B[0;34m)\u001B[0m\u001B[0;34m\u001B[0m\u001B[0;34m\u001B[0m\u001B[0m\n\u001B[0m\u001B[1;32m      6\u001B[0m \u001B[0;31m# ax = s_2011_proficiencies_clean_sum.plot.bar(color=s_2011_proficiencies_percentages.replace(languages_palette))\u001B[0m\u001B[0;34m\u001B[0m\u001B[0;34m\u001B[0m\u001B[0;34m\u001B[0m\u001B[0m\n\u001B[1;32m      7\u001B[0m \u001B[0;31m# annotating values on top of each bar, for readability\u001B[0m\u001B[0;34m\u001B[0m\u001B[0;34m\u001B[0m\u001B[0;34m\u001B[0m\u001B[0m\n",
      "\u001B[0;32m~/anaconda3/envs/ml-ds/lib/python3.9/site-packages/pandas/plotting/_core.py\u001B[0m in \u001B[0;36m__call__\u001B[0;34m(self, *args, **kwargs)\u001B[0m\n\u001B[1;32m    970\u001B[0m                     \u001B[0mdata\u001B[0m\u001B[0;34m.\u001B[0m\u001B[0mcolumns\u001B[0m \u001B[0;34m=\u001B[0m \u001B[0mlabel_name\u001B[0m\u001B[0;34m\u001B[0m\u001B[0;34m\u001B[0m\u001B[0m\n\u001B[1;32m    971\u001B[0m \u001B[0;34m\u001B[0m\u001B[0m\n\u001B[0;32m--> 972\u001B[0;31m         \u001B[0;32mreturn\u001B[0m \u001B[0mplot_backend\u001B[0m\u001B[0;34m.\u001B[0m\u001B[0mplot\u001B[0m\u001B[0;34m(\u001B[0m\u001B[0mdata\u001B[0m\u001B[0;34m,\u001B[0m \u001B[0mkind\u001B[0m\u001B[0;34m=\u001B[0m\u001B[0mkind\u001B[0m\u001B[0;34m,\u001B[0m \u001B[0;34m**\u001B[0m\u001B[0mkwargs\u001B[0m\u001B[0;34m)\u001B[0m\u001B[0;34m\u001B[0m\u001B[0;34m\u001B[0m\u001B[0m\n\u001B[0m\u001B[1;32m    973\u001B[0m \u001B[0;34m\u001B[0m\u001B[0m\n\u001B[1;32m    974\u001B[0m     \u001B[0m__call__\u001B[0m\u001B[0;34m.\u001B[0m\u001B[0m__doc__\u001B[0m \u001B[0;34m=\u001B[0m \u001B[0m__doc__\u001B[0m\u001B[0;34m\u001B[0m\u001B[0;34m\u001B[0m\u001B[0m\n",
      "\u001B[0;32m~/anaconda3/envs/ml-ds/lib/python3.9/site-packages/pandas/plotting/_matplotlib/__init__.py\u001B[0m in \u001B[0;36mplot\u001B[0;34m(data, kind, **kwargs)\u001B[0m\n\u001B[1;32m     69\u001B[0m             \u001B[0mkwargs\u001B[0m\u001B[0;34m[\u001B[0m\u001B[0;34m\"ax\"\u001B[0m\u001B[0;34m]\u001B[0m \u001B[0;34m=\u001B[0m \u001B[0mgetattr\u001B[0m\u001B[0;34m(\u001B[0m\u001B[0max\u001B[0m\u001B[0;34m,\u001B[0m \u001B[0;34m\"left_ax\"\u001B[0m\u001B[0;34m,\u001B[0m \u001B[0max\u001B[0m\u001B[0;34m)\u001B[0m\u001B[0;34m\u001B[0m\u001B[0;34m\u001B[0m\u001B[0m\n\u001B[1;32m     70\u001B[0m     \u001B[0mplot_obj\u001B[0m \u001B[0;34m=\u001B[0m \u001B[0mPLOT_CLASSES\u001B[0m\u001B[0;34m[\u001B[0m\u001B[0mkind\u001B[0m\u001B[0;34m]\u001B[0m\u001B[0;34m(\u001B[0m\u001B[0mdata\u001B[0m\u001B[0;34m,\u001B[0m \u001B[0;34m**\u001B[0m\u001B[0mkwargs\u001B[0m\u001B[0;34m)\u001B[0m\u001B[0;34m\u001B[0m\u001B[0;34m\u001B[0m\u001B[0m\n\u001B[0;32m---> 71\u001B[0;31m     \u001B[0mplot_obj\u001B[0m\u001B[0;34m.\u001B[0m\u001B[0mgenerate\u001B[0m\u001B[0;34m(\u001B[0m\u001B[0;34m)\u001B[0m\u001B[0;34m\u001B[0m\u001B[0;34m\u001B[0m\u001B[0m\n\u001B[0m\u001B[1;32m     72\u001B[0m     \u001B[0mplot_obj\u001B[0m\u001B[0;34m.\u001B[0m\u001B[0mdraw\u001B[0m\u001B[0;34m(\u001B[0m\u001B[0;34m)\u001B[0m\u001B[0;34m\u001B[0m\u001B[0;34m\u001B[0m\u001B[0m\n\u001B[1;32m     73\u001B[0m     \u001B[0;32mreturn\u001B[0m \u001B[0mplot_obj\u001B[0m\u001B[0;34m.\u001B[0m\u001B[0mresult\u001B[0m\u001B[0;34m\u001B[0m\u001B[0;34m\u001B[0m\u001B[0m\n",
      "\u001B[0;32m~/anaconda3/envs/ml-ds/lib/python3.9/site-packages/pandas/plotting/_matplotlib/core.py\u001B[0m in \u001B[0;36mgenerate\u001B[0;34m(self)\u001B[0m\n\u001B[1;32m    286\u001B[0m         \u001B[0mself\u001B[0m\u001B[0;34m.\u001B[0m\u001B[0m_compute_plot_data\u001B[0m\u001B[0;34m(\u001B[0m\u001B[0;34m)\u001B[0m\u001B[0;34m\u001B[0m\u001B[0;34m\u001B[0m\u001B[0m\n\u001B[1;32m    287\u001B[0m         \u001B[0mself\u001B[0m\u001B[0;34m.\u001B[0m\u001B[0m_setup_subplots\u001B[0m\u001B[0;34m(\u001B[0m\u001B[0;34m)\u001B[0m\u001B[0;34m\u001B[0m\u001B[0;34m\u001B[0m\u001B[0m\n\u001B[0;32m--> 288\u001B[0;31m         \u001B[0mself\u001B[0m\u001B[0;34m.\u001B[0m\u001B[0m_make_plot\u001B[0m\u001B[0;34m(\u001B[0m\u001B[0;34m)\u001B[0m\u001B[0;34m\u001B[0m\u001B[0;34m\u001B[0m\u001B[0m\n\u001B[0m\u001B[1;32m    289\u001B[0m         \u001B[0mself\u001B[0m\u001B[0;34m.\u001B[0m\u001B[0m_add_table\u001B[0m\u001B[0;34m(\u001B[0m\u001B[0;34m)\u001B[0m\u001B[0;34m\u001B[0m\u001B[0;34m\u001B[0m\u001B[0m\n\u001B[1;32m    290\u001B[0m         \u001B[0mself\u001B[0m\u001B[0;34m.\u001B[0m\u001B[0m_make_legend\u001B[0m\u001B[0;34m(\u001B[0m\u001B[0;34m)\u001B[0m\u001B[0;34m\u001B[0m\u001B[0;34m\u001B[0m\u001B[0m\n",
      "\u001B[0;32m~/anaconda3/envs/ml-ds/lib/python3.9/site-packages/pandas/plotting/_matplotlib/core.py\u001B[0m in \u001B[0;36m_make_plot\u001B[0;34m(self)\u001B[0m\n\u001B[1;32m   1507\u001B[0m             \u001B[0;32melse\u001B[0m\u001B[0;34m:\u001B[0m\u001B[0;34m\u001B[0m\u001B[0;34m\u001B[0m\u001B[0m\n\u001B[1;32m   1508\u001B[0m                 \u001B[0mw\u001B[0m \u001B[0;34m=\u001B[0m \u001B[0mself\u001B[0m\u001B[0;34m.\u001B[0m\u001B[0mbar_width\u001B[0m \u001B[0;34m/\u001B[0m \u001B[0mK\u001B[0m\u001B[0;34m\u001B[0m\u001B[0;34m\u001B[0m\u001B[0m\n\u001B[0;32m-> 1509\u001B[0;31m                 rect = self._plot(\n\u001B[0m\u001B[1;32m   1510\u001B[0m                     \u001B[0max\u001B[0m\u001B[0;34m,\u001B[0m\u001B[0;34m\u001B[0m\u001B[0;34m\u001B[0m\u001B[0m\n\u001B[1;32m   1511\u001B[0m                     \u001B[0mself\u001B[0m\u001B[0;34m.\u001B[0m\u001B[0max_pos\u001B[0m \u001B[0;34m+\u001B[0m \u001B[0;34m(\u001B[0m\u001B[0mi\u001B[0m \u001B[0;34m+\u001B[0m \u001B[0;36m0.5\u001B[0m\u001B[0;34m)\u001B[0m \u001B[0;34m*\u001B[0m \u001B[0mw\u001B[0m\u001B[0;34m,\u001B[0m\u001B[0;34m\u001B[0m\u001B[0;34m\u001B[0m\u001B[0m\n",
      "\u001B[0;32m~/anaconda3/envs/ml-ds/lib/python3.9/site-packages/pandas/plotting/_matplotlib/core.py\u001B[0m in \u001B[0;36m_plot\u001B[0;34m(cls, ax, x, y, w, start, log, **kwds)\u001B[0m\n\u001B[1;32m   1437\u001B[0m     \u001B[0;34m@\u001B[0m\u001B[0mclassmethod\u001B[0m\u001B[0;34m\u001B[0m\u001B[0;34m\u001B[0m\u001B[0m\n\u001B[1;32m   1438\u001B[0m     \u001B[0;32mdef\u001B[0m \u001B[0m_plot\u001B[0m\u001B[0;34m(\u001B[0m\u001B[0mcls\u001B[0m\u001B[0;34m,\u001B[0m \u001B[0max\u001B[0m\u001B[0;34m:\u001B[0m \u001B[0mAxes\u001B[0m\u001B[0;34m,\u001B[0m \u001B[0mx\u001B[0m\u001B[0;34m,\u001B[0m \u001B[0my\u001B[0m\u001B[0;34m,\u001B[0m \u001B[0mw\u001B[0m\u001B[0;34m,\u001B[0m \u001B[0mstart\u001B[0m\u001B[0;34m=\u001B[0m\u001B[0;36m0\u001B[0m\u001B[0;34m,\u001B[0m \u001B[0mlog\u001B[0m\u001B[0;34m=\u001B[0m\u001B[0;32mFalse\u001B[0m\u001B[0;34m,\u001B[0m \u001B[0;34m**\u001B[0m\u001B[0mkwds\u001B[0m\u001B[0;34m)\u001B[0m\u001B[0;34m:\u001B[0m\u001B[0;34m\u001B[0m\u001B[0;34m\u001B[0m\u001B[0m\n\u001B[0;32m-> 1439\u001B[0;31m         \u001B[0;32mreturn\u001B[0m \u001B[0max\u001B[0m\u001B[0;34m.\u001B[0m\u001B[0mbar\u001B[0m\u001B[0;34m(\u001B[0m\u001B[0mx\u001B[0m\u001B[0;34m,\u001B[0m \u001B[0my\u001B[0m\u001B[0;34m,\u001B[0m \u001B[0mw\u001B[0m\u001B[0;34m,\u001B[0m \u001B[0mbottom\u001B[0m\u001B[0;34m=\u001B[0m\u001B[0mstart\u001B[0m\u001B[0;34m,\u001B[0m \u001B[0mlog\u001B[0m\u001B[0;34m=\u001B[0m\u001B[0mlog\u001B[0m\u001B[0;34m,\u001B[0m \u001B[0;34m**\u001B[0m\u001B[0mkwds\u001B[0m\u001B[0;34m)\u001B[0m\u001B[0;34m\u001B[0m\u001B[0;34m\u001B[0m\u001B[0m\n\u001B[0m\u001B[1;32m   1440\u001B[0m \u001B[0;34m\u001B[0m\u001B[0m\n\u001B[1;32m   1441\u001B[0m     \u001B[0;34m@\u001B[0m\u001B[0mproperty\u001B[0m\u001B[0;34m\u001B[0m\u001B[0;34m\u001B[0m\u001B[0m\n",
      "\u001B[0;32m~/anaconda3/envs/ml-ds/lib/python3.9/site-packages/matplotlib/__init__.py\u001B[0m in \u001B[0;36minner\u001B[0;34m(ax, data, *args, **kwargs)\u001B[0m\n\u001B[1;32m   1359\u001B[0m     \u001B[0;32mdef\u001B[0m \u001B[0minner\u001B[0m\u001B[0;34m(\u001B[0m\u001B[0max\u001B[0m\u001B[0;34m,\u001B[0m \u001B[0;34m*\u001B[0m\u001B[0margs\u001B[0m\u001B[0;34m,\u001B[0m \u001B[0mdata\u001B[0m\u001B[0;34m=\u001B[0m\u001B[0;32mNone\u001B[0m\u001B[0;34m,\u001B[0m \u001B[0;34m**\u001B[0m\u001B[0mkwargs\u001B[0m\u001B[0;34m)\u001B[0m\u001B[0;34m:\u001B[0m\u001B[0;34m\u001B[0m\u001B[0;34m\u001B[0m\u001B[0m\n\u001B[1;32m   1360\u001B[0m         \u001B[0;32mif\u001B[0m \u001B[0mdata\u001B[0m \u001B[0;32mis\u001B[0m \u001B[0;32mNone\u001B[0m\u001B[0;34m:\u001B[0m\u001B[0;34m\u001B[0m\u001B[0;34m\u001B[0m\u001B[0m\n\u001B[0;32m-> 1361\u001B[0;31m             \u001B[0;32mreturn\u001B[0m \u001B[0mfunc\u001B[0m\u001B[0;34m(\u001B[0m\u001B[0max\u001B[0m\u001B[0;34m,\u001B[0m \u001B[0;34m*\u001B[0m\u001B[0mmap\u001B[0m\u001B[0;34m(\u001B[0m\u001B[0msanitize_sequence\u001B[0m\u001B[0;34m,\u001B[0m \u001B[0margs\u001B[0m\u001B[0;34m)\u001B[0m\u001B[0;34m,\u001B[0m \u001B[0;34m**\u001B[0m\u001B[0mkwargs\u001B[0m\u001B[0;34m)\u001B[0m\u001B[0;34m\u001B[0m\u001B[0;34m\u001B[0m\u001B[0m\n\u001B[0m\u001B[1;32m   1362\u001B[0m \u001B[0;34m\u001B[0m\u001B[0m\n\u001B[1;32m   1363\u001B[0m         \u001B[0mbound\u001B[0m \u001B[0;34m=\u001B[0m \u001B[0mnew_sig\u001B[0m\u001B[0;34m.\u001B[0m\u001B[0mbind\u001B[0m\u001B[0;34m(\u001B[0m\u001B[0max\u001B[0m\u001B[0;34m,\u001B[0m \u001B[0;34m*\u001B[0m\u001B[0margs\u001B[0m\u001B[0;34m,\u001B[0m \u001B[0;34m**\u001B[0m\u001B[0mkwargs\u001B[0m\u001B[0;34m)\u001B[0m\u001B[0;34m\u001B[0m\u001B[0;34m\u001B[0m\u001B[0m\n",
      "\u001B[0;32m~/anaconda3/envs/ml-ds/lib/python3.9/site-packages/matplotlib/axes/_axes.py\u001B[0m in \u001B[0;36mbar\u001B[0;34m(self, x, height, width, bottom, align, **kwargs)\u001B[0m\n\u001B[1;32m   2316\u001B[0m         \u001B[0mlinewidth\u001B[0m \u001B[0;34m=\u001B[0m \u001B[0mitertools\u001B[0m\u001B[0;34m.\u001B[0m\u001B[0mcycle\u001B[0m\u001B[0;34m(\u001B[0m\u001B[0mnp\u001B[0m\u001B[0;34m.\u001B[0m\u001B[0matleast_1d\u001B[0m\u001B[0;34m(\u001B[0m\u001B[0mlinewidth\u001B[0m\u001B[0;34m)\u001B[0m\u001B[0;34m)\u001B[0m\u001B[0;34m\u001B[0m\u001B[0;34m\u001B[0m\u001B[0m\n\u001B[1;32m   2317\u001B[0m         \u001B[0mhatch\u001B[0m \u001B[0;34m=\u001B[0m \u001B[0mitertools\u001B[0m\u001B[0;34m.\u001B[0m\u001B[0mcycle\u001B[0m\u001B[0;34m(\u001B[0m\u001B[0mnp\u001B[0m\u001B[0;34m.\u001B[0m\u001B[0matleast_1d\u001B[0m\u001B[0;34m(\u001B[0m\u001B[0mhatch\u001B[0m\u001B[0;34m)\u001B[0m\u001B[0;34m)\u001B[0m\u001B[0;34m\u001B[0m\u001B[0;34m\u001B[0m\u001B[0m\n\u001B[0;32m-> 2318\u001B[0;31m         color = itertools.chain(itertools.cycle(mcolors.to_rgba_array(color)),\n\u001B[0m\u001B[1;32m   2319\u001B[0m                                 \u001B[0;31m# Fallback if color == \"none\".\u001B[0m\u001B[0;34m\u001B[0m\u001B[0;34m\u001B[0m\u001B[0;34m\u001B[0m\u001B[0m\n\u001B[1;32m   2320\u001B[0m                                 itertools.repeat('none'))\n",
      "\u001B[0;32m~/anaconda3/envs/ml-ds/lib/python3.9/site-packages/matplotlib/colors.py\u001B[0m in \u001B[0;36mto_rgba_array\u001B[0;34m(c, alpha)\u001B[0m\n\u001B[1;32m    383\u001B[0m             \u001B[0mrgba\u001B[0m \u001B[0;34m=\u001B[0m \u001B[0mnp\u001B[0m\u001B[0;34m.\u001B[0m\u001B[0marray\u001B[0m\u001B[0;34m(\u001B[0m\u001B[0;34m[\u001B[0m\u001B[0mto_rgba\u001B[0m\u001B[0;34m(\u001B[0m\u001B[0mcc\u001B[0m\u001B[0;34m)\u001B[0m \u001B[0;32mfor\u001B[0m \u001B[0mcc\u001B[0m \u001B[0;32min\u001B[0m \u001B[0mc\u001B[0m\u001B[0;34m]\u001B[0m\u001B[0;34m)\u001B[0m\u001B[0;34m\u001B[0m\u001B[0;34m\u001B[0m\u001B[0m\n\u001B[1;32m    384\u001B[0m     \u001B[0;32melse\u001B[0m\u001B[0;34m:\u001B[0m\u001B[0;34m\u001B[0m\u001B[0;34m\u001B[0m\u001B[0m\n\u001B[0;32m--> 385\u001B[0;31m         \u001B[0mrgba\u001B[0m \u001B[0;34m=\u001B[0m \u001B[0mnp\u001B[0m\u001B[0;34m.\u001B[0m\u001B[0marray\u001B[0m\u001B[0;34m(\u001B[0m\u001B[0;34m[\u001B[0m\u001B[0mto_rgba\u001B[0m\u001B[0;34m(\u001B[0m\u001B[0mcc\u001B[0m\u001B[0;34m)\u001B[0m \u001B[0;32mfor\u001B[0m \u001B[0mcc\u001B[0m \u001B[0;32min\u001B[0m \u001B[0mc\u001B[0m\u001B[0;34m]\u001B[0m\u001B[0;34m)\u001B[0m\u001B[0;34m\u001B[0m\u001B[0;34m\u001B[0m\u001B[0m\n\u001B[0m\u001B[1;32m    386\u001B[0m \u001B[0;34m\u001B[0m\u001B[0m\n\u001B[1;32m    387\u001B[0m     \u001B[0;32mif\u001B[0m \u001B[0malpha\u001B[0m \u001B[0;32mis\u001B[0m \u001B[0;32mnot\u001B[0m \u001B[0;32mNone\u001B[0m\u001B[0;34m:\u001B[0m\u001B[0;34m\u001B[0m\u001B[0;34m\u001B[0m\u001B[0m\n",
      "\u001B[0;32m~/anaconda3/envs/ml-ds/lib/python3.9/site-packages/matplotlib/colors.py\u001B[0m in \u001B[0;36m<listcomp>\u001B[0;34m(.0)\u001B[0m\n\u001B[1;32m    383\u001B[0m             \u001B[0mrgba\u001B[0m \u001B[0;34m=\u001B[0m \u001B[0mnp\u001B[0m\u001B[0;34m.\u001B[0m\u001B[0marray\u001B[0m\u001B[0;34m(\u001B[0m\u001B[0;34m[\u001B[0m\u001B[0mto_rgba\u001B[0m\u001B[0;34m(\u001B[0m\u001B[0mcc\u001B[0m\u001B[0;34m)\u001B[0m \u001B[0;32mfor\u001B[0m \u001B[0mcc\u001B[0m \u001B[0;32min\u001B[0m \u001B[0mc\u001B[0m\u001B[0;34m]\u001B[0m\u001B[0;34m)\u001B[0m\u001B[0;34m\u001B[0m\u001B[0;34m\u001B[0m\u001B[0m\n\u001B[1;32m    384\u001B[0m     \u001B[0;32melse\u001B[0m\u001B[0;34m:\u001B[0m\u001B[0;34m\u001B[0m\u001B[0;34m\u001B[0m\u001B[0m\n\u001B[0;32m--> 385\u001B[0;31m         \u001B[0mrgba\u001B[0m \u001B[0;34m=\u001B[0m \u001B[0mnp\u001B[0m\u001B[0;34m.\u001B[0m\u001B[0marray\u001B[0m\u001B[0;34m(\u001B[0m\u001B[0;34m[\u001B[0m\u001B[0mto_rgba\u001B[0m\u001B[0;34m(\u001B[0m\u001B[0mcc\u001B[0m\u001B[0;34m)\u001B[0m \u001B[0;32mfor\u001B[0m \u001B[0mcc\u001B[0m \u001B[0;32min\u001B[0m \u001B[0mc\u001B[0m\u001B[0;34m]\u001B[0m\u001B[0;34m)\u001B[0m\u001B[0;34m\u001B[0m\u001B[0;34m\u001B[0m\u001B[0m\n\u001B[0m\u001B[1;32m    386\u001B[0m \u001B[0;34m\u001B[0m\u001B[0m\n\u001B[1;32m    387\u001B[0m     \u001B[0;32mif\u001B[0m \u001B[0malpha\u001B[0m \u001B[0;32mis\u001B[0m \u001B[0;32mnot\u001B[0m \u001B[0;32mNone\u001B[0m\u001B[0;34m:\u001B[0m\u001B[0;34m\u001B[0m\u001B[0;34m\u001B[0m\u001B[0m\n",
      "\u001B[0;32m~/anaconda3/envs/ml-ds/lib/python3.9/site-packages/matplotlib/colors.py\u001B[0m in \u001B[0;36mto_rgba\u001B[0;34m(c, alpha)\u001B[0m\n\u001B[1;32m    204\u001B[0m         \u001B[0mrgba\u001B[0m \u001B[0;34m=\u001B[0m \u001B[0;32mNone\u001B[0m\u001B[0;34m\u001B[0m\u001B[0;34m\u001B[0m\u001B[0m\n\u001B[1;32m    205\u001B[0m     \u001B[0;32mif\u001B[0m \u001B[0mrgba\u001B[0m \u001B[0;32mis\u001B[0m \u001B[0;32mNone\u001B[0m\u001B[0;34m:\u001B[0m  \u001B[0;31m# Suppress exception chaining of cache lookup failure.\u001B[0m\u001B[0;34m\u001B[0m\u001B[0;34m\u001B[0m\u001B[0m\n\u001B[0;32m--> 206\u001B[0;31m         \u001B[0mrgba\u001B[0m \u001B[0;34m=\u001B[0m \u001B[0m_to_rgba_no_colorcycle\u001B[0m\u001B[0;34m(\u001B[0m\u001B[0mc\u001B[0m\u001B[0;34m,\u001B[0m \u001B[0malpha\u001B[0m\u001B[0;34m)\u001B[0m\u001B[0;34m\u001B[0m\u001B[0;34m\u001B[0m\u001B[0m\n\u001B[0m\u001B[1;32m    207\u001B[0m         \u001B[0;32mtry\u001B[0m\u001B[0;34m:\u001B[0m\u001B[0;34m\u001B[0m\u001B[0;34m\u001B[0m\u001B[0m\n\u001B[1;32m    208\u001B[0m             \u001B[0m_colors_full_map\u001B[0m\u001B[0;34m.\u001B[0m\u001B[0mcache\u001B[0m\u001B[0;34m[\u001B[0m\u001B[0mc\u001B[0m\u001B[0;34m,\u001B[0m \u001B[0malpha\u001B[0m\u001B[0;34m]\u001B[0m \u001B[0;34m=\u001B[0m \u001B[0mrgba\u001B[0m\u001B[0;34m\u001B[0m\u001B[0;34m\u001B[0m\u001B[0m\n",
      "\u001B[0;32m~/anaconda3/envs/ml-ds/lib/python3.9/site-packages/matplotlib/colors.py\u001B[0m in \u001B[0;36m_to_rgba_no_colorcycle\u001B[0;34m(c, alpha)\u001B[0m\n\u001B[1;32m    275\u001B[0m                     f\"Value must be within 0-1 range\")\n\u001B[1;32m    276\u001B[0m             \u001B[0;32mreturn\u001B[0m \u001B[0mc\u001B[0m\u001B[0;34m,\u001B[0m \u001B[0mc\u001B[0m\u001B[0;34m,\u001B[0m \u001B[0mc\u001B[0m\u001B[0;34m,\u001B[0m \u001B[0malpha\u001B[0m \u001B[0;32mif\u001B[0m \u001B[0malpha\u001B[0m \u001B[0;32mis\u001B[0m \u001B[0;32mnot\u001B[0m \u001B[0;32mNone\u001B[0m \u001B[0;32melse\u001B[0m \u001B[0;36m1.\u001B[0m\u001B[0;34m\u001B[0m\u001B[0;34m\u001B[0m\u001B[0m\n\u001B[0;32m--> 277\u001B[0;31m         \u001B[0;32mraise\u001B[0m \u001B[0mValueError\u001B[0m\u001B[0;34m(\u001B[0m\u001B[0;34mf\"Invalid RGBA argument: {orig_c!r}\"\u001B[0m\u001B[0;34m)\u001B[0m\u001B[0;34m\u001B[0m\u001B[0;34m\u001B[0m\u001B[0m\n\u001B[0m\u001B[1;32m    278\u001B[0m     \u001B[0;31m# turn 2-D array into 1-D array\u001B[0m\u001B[0;34m\u001B[0m\u001B[0;34m\u001B[0m\u001B[0;34m\u001B[0m\u001B[0m\n\u001B[1;32m    279\u001B[0m     \u001B[0;32mif\u001B[0m \u001B[0misinstance\u001B[0m\u001B[0;34m(\u001B[0m\u001B[0mc\u001B[0m\u001B[0;34m,\u001B[0m \u001B[0mnp\u001B[0m\u001B[0;34m.\u001B[0m\u001B[0mndarray\u001B[0m\u001B[0;34m)\u001B[0m\u001B[0;34m:\u001B[0m\u001B[0;34m\u001B[0m\u001B[0;34m\u001B[0m\u001B[0m\n",
      "\u001B[0;31mValueError\u001B[0m: Invalid RGBA argument: 'C++'"
     ]
    },
    {
     "data": {
      "text/plain": "<Figure size 1440x720 with 1 Axes>",
      "image/png": "[encoded data removed]"
     },
     "metadata": {
      "needs_background": "light"
     },
     "output_type": "display_data"
    }
   ],
   "source": [
    "# sorting data to keep most popular languages first, left to right\n",
    "s_2011_proficiencies_percentages.sort_index(inplace=True)\n",
    "\n",
    "# plotting data\n",
    "ax = s_2011_proficiencies_percentages.plot(kind=\"bar\", color=languages_palette)\n",
    "# ax = s_2011_proficiencies_clean_sum.plot.bar(color=s_2011_proficiencies_percentages.replace(languages_palette))\n",
    "# annotating values on top of each bar, for readability\n",
    "for p in ax.patches:\n",
    "    ax.annotate(str(round(p.get_height(), 2)), (p.get_x() * 1.005, p.get_height() * 1.005))"
   ]
  },
  {
   "cell_type": "code",
   "execution_count": null,
   "metadata": {
    "pycharm": {
     "name": "#%%\n",
     "is_executing": true
    }
   },
   "outputs": [],
   "source": [
    "# sns.histplot(data=s_2011_proficiencies_percentages, x=palette=palette)"
   ]
  },
  {
   "cell_type": "markdown",
   "metadata": {
    "pycharm": {
     "name": "#%% md\n"
    }
   },
   "source": [
    "Hence, 2011 ranking would be:\n",
    "1. JavaScript\n",
    "2. C#\n",
    "3. Java\n",
    "4. PHP\n",
    "5. C <br>\n"
   ]
  },
  {
   "cell_type": "markdown",
   "metadata": {},
   "source": [
    "#### 2012 Results Analysis\n",
    "Now I'll compute the answer to first question, referring to 2012 data:\n"
   ]
  },
  {
   "cell_type": "code",
   "execution_count": null,
   "metadata": {
    "pycharm": {
     "name": "#%%\n",
     "is_executing": true
    }
   },
   "outputs": [],
   "source": [
    "proficiency_columns_range_2012 = range(22,35)\n",
    "df_2012_proficiencies = df_surveys_12.iloc[:, proficiency_columns_range_2012]\n",
    "s_2012_proficiencies = df_2012_proficiencies.sum(axis=0)\n",
    "s_2012_proficiencies.sort_values(ascending=False).head(10)\n",
    "s_2012_proficiencies.sort_values(ascending=False, inplace=True)"
   ]
  },
  {
   "cell_type": "code",
   "execution_count": null,
   "metadata": {
    "pycharm": {
     "name": "#%%\n",
     "is_executing": true
    }
   },
   "outputs": [],
   "source": [
    "s_2012_proficiencies_top_10 = s_2012_proficiencies.head(10)"
   ]
  },
  {
   "cell_type": "code",
   "execution_count": null,
   "metadata": {
    "pycharm": {
     "name": "#%%\n",
     "is_executing": true
    }
   },
   "outputs": [],
   "source": [
    "s_2012_proficiencies_top_10"
   ]
  },
  {
   "cell_type": "markdown",
   "source": [
    "Again in top 10 we have SQL, CSS and HTML5 that are not programming languages and shall be removed from the top ten."
   ],
   "metadata": {
    "collapsed": false,
    "pycharm": {
     "name": "#%% md\n"
    }
   }
  },
  {
   "cell_type": "code",
   "execution_count": null,
   "outputs": [],
   "source": [
    "# dropping SQL, CSS and HTML5 from results\n",
    "df_2012_proficiencies_clean = df_2012_proficiencies.drop(\"Proficient in SQL\", axis=1)\n",
    "df_2012_proficiencies_clean = df_2012_proficiencies_clean.drop(\"Proficient in CSS\", axis=1)\n",
    "df_2012_proficiencies_clean = df_2012_proficiencies_clean.drop(\"Proficient in HTML5\", axis=1)"
   ],
   "metadata": {
    "collapsed": false,
    "pycharm": {
     "name": "#%%\n",
     "is_executing": true
    }
   }
  },
  {
   "cell_type": "code",
   "source": [
    "# computing total proficiencies once again\n",
    "df_2012_proficiencies_clean_sum = df_2012_proficiencies_clean.sum(axis=0)"
   ],
   "metadata": {
    "collapsed": false,
    "pycharm": {
     "name": "#%%\n",
     "is_executing": true
    }
   },
   "execution_count": null,
   "outputs": []
  },
  {
   "cell_type": "markdown",
   "source": [
    "We can assess the language popularity in absolute terms computing total percentage of coders using that\n",
    "particular language:\n"
   ],
   "metadata": {
    "collapsed": false
   }
  },
  {
   "cell_type": "code",
   "execution_count": null,
   "outputs": [],
   "source": [
    "# computing percentages\n",
    "s_2012_proficiencies_percentages = (df_2012_proficiencies_clean_sum/df_2012_proficiencies_clean.shape[0])*100\n",
    "# removing unuseful prefix from index (for plot readability purposes)\n",
    "s_2012_proficiencies_percentages.index = s_2012_proficiencies_percentages.index.str.replace(\"Proficient in \", \"\")"
   ],
   "metadata": {
    "collapsed": false,
    "pycharm": {
     "name": "#%%\n",
     "is_executing": true
    }
   }
  },
  {
   "cell_type": "markdown",
   "metadata": {},
   "source": [
    "Top 5 languages by proficiency in 2012:"
   ]
  },
  {
   "cell_type": "code",
   "execution_count": null,
   "metadata": {
    "pycharm": {
     "name": "#%%\n",
     "is_executing": true
    }
   },
   "outputs": [],
   "source": [
    "# sorting data to keep palette colors through plots\n",
    "s_2012_proficiencies_percentages.sort_index(inplace=True)\n",
    "\n",
    "# plotting data\n",
    "\n",
    "ax_12 = s_2012_proficiencies_percentages.plot.bar(color=plt.cm.Paired(np.arange(len(s_2012_proficiencies_percentages))))\n",
    "# annotating values on top of each bar, for readability\n",
    "for p in ax_12.patches:\n",
    "    ax_12.annotate(str(round(p.get_height(), 2)), (p.get_x() * 1.005, p.get_height() * 1.005))"
   ]
  },
  {
   "cell_type": "markdown",
   "metadata": {},
   "source": [
    "As we can see, year 2012, C++ overtook is \"father\" language C in 5th place. <br/>\n",
    "Top 5 languages in 2012 are: <br>\n",
    "1. JavaScript\n",
    "2. C#\n",
    "3. Java\n",
    "4. PHP\n",
    "5. C++ <br>"
   ]
  },
  {
   "cell_type": "markdown",
   "metadata": {},
   "source": [
    "#### 2013 Results Analysis\n",
    "Now I'll compute the answer to first question, referring to 2013 data:"
   ]
  },
  {
   "cell_type": "code",
   "execution_count": null,
   "metadata": {
    "pycharm": {
     "name": "#%%\n",
     "is_executing": true
    }
   },
   "outputs": [],
   "source": [
    "proficiency_columns_range_2013 = range(56,69)\n",
    "df_2013_proficiencies = df_surveys_13.iloc[:, proficiency_columns_range_2013]"
   ]
  },
  {
   "cell_type": "markdown",
   "source": [
    "Computing total number of respondents that has declared proficiency in that language and looking at top 10:"
   ],
   "metadata": {
    "collapsed": false
   }
  },
  {
   "cell_type": "code",
   "execution_count": null,
   "outputs": [],
   "source": [
    "s_2013_proficiencies = df_2013_proficiencies.sum(axis=0)\n",
    "s_2013_proficiencies.sort_values(ascending=False).head(10)"
   ],
   "metadata": {
    "collapsed": false,
    "pycharm": {
     "name": "#%%\n",
     "is_executing": true
    }
   }
  },
  {
   "cell_type": "markdown",
   "source": [
    "Removing SQL and jQuery (which iss actually a library) from data:"
   ],
   "metadata": {
    "collapsed": false,
    "pycharm": {
     "name": "#%% md\n"
    }
   }
  },
  {
   "cell_type": "code",
   "execution_count": null,
   "outputs": [],
   "source": [
    "df_2013_proficiencies_clean = df_2013_proficiencies.drop(\"Proficient in SQL\", axis=1)\n",
    "df_2013_proficiencies_clean = df_2013_proficiencies_clean.drop(\"Proficient in jQuery\", axis=1)"
   ],
   "metadata": {
    "collapsed": false,
    "pycharm": {
     "name": "#%%\n",
     "is_executing": true
    }
   }
  },
  {
   "cell_type": "markdown",
   "source": [
    "Computing (again) total number of respondents that has declared proficiency in that language:"
   ],
   "metadata": {
    "collapsed": false,
    "pycharm": {
     "name": "#%% md\n"
    }
   }
  },
  {
   "cell_type": "code",
   "execution_count": null,
   "outputs": [],
   "source": [
    "s_2013_proficiencies_clean_sum = df_2013_proficiencies_clean.sum(axis=0)\n",
    "s_2013_proficiencies_clean_sum.sort_values(ascending=False).head(10)"
   ],
   "metadata": {
    "collapsed": false,
    "pycharm": {
     "name": "#%%\n",
     "is_executing": true
    }
   }
  },
  {
   "cell_type": "markdown",
   "source": [
    "Node.js has to be removed too:"
   ],
   "metadata": {
    "collapsed": false,
    "pycharm": {
     "name": "#%% md\n"
    }
   }
  },
  {
   "cell_type": "code",
   "execution_count": null,
   "outputs": [],
   "source": [
    "# TODO use data_transform.find_column_name\n",
    "df_2013_proficiencies_clean = df_2013_proficiencies_clean.drop(\"Proficient in Node.js\", axis=1)"
   ],
   "metadata": {
    "collapsed": false,
    "pycharm": {
     "name": "#%%\n",
     "is_executing": true
    }
   }
  },
  {
   "cell_type": "markdown",
   "source": [
    "Computing (again) total number of respondents that has declared proficiency in that language:"
   ],
   "metadata": {
    "collapsed": false
   }
  },
  {
   "cell_type": "code",
   "execution_count": null,
   "outputs": [],
   "source": [
    "s_2013_proficiencies_clean_sum = df_2013_proficiencies_clean.sum(axis=0)\n",
    "s_2013_proficiencies_clean_sum.sort_values(ascending=False).head(10)"
   ],
   "metadata": {
    "collapsed": false,
    "pycharm": {
     "name": "#%%\n",
     "is_executing": true
    }
   }
  },
  {
   "cell_type": "markdown",
   "source": [
    "\"JQuery\" is just an occurrence of \"jQuery\" with a different casing, I'll remove that too:"
   ],
   "metadata": {
    "collapsed": false,
    "pycharm": {
     "name": "#%% md\n"
    }
   }
  },
  {
   "cell_type": "code",
   "execution_count": null,
   "outputs": [],
   "source": [
    "df_2013_proficiencies_clean = df_2013_proficiencies_clean.drop(\"Proficient in JQuery\", axis=1)"
   ],
   "metadata": {
    "collapsed": false,
    "pycharm": {
     "name": "#%%\n",
     "is_executing": true
    }
   }
  },
  {
   "cell_type": "markdown",
   "source": [
    "Computing (again) total number of respondents that has declared proficiency in that language:"
   ],
   "metadata": {
    "collapsed": false
   }
  },
  {
   "cell_type": "code",
   "execution_count": null,
   "outputs": [],
   "source": [
    "s_2013_proficiencies_clean_sum = df_2013_proficiencies_clean.sum(axis=0)\n",
    "s_2013_proficiencies_clean_sum.sort_values(ascending=False).head(10)"
   ],
   "metadata": {
    "collapsed": false,
    "pycharm": {
     "name": "#%%\n",
     "is_executing": true
    }
   }
  },
  {
   "cell_type": "markdown",
   "source": [
    "We can assess the language popularity in absolute terms computing total percentage of coders using that\n",
    "particular language:\n"
   ],
   "metadata": {
    "collapsed": false,
    "pycharm": {
     "name": "#%% md\n"
    }
   }
  },
  {
   "cell_type": "code",
   "execution_count": null,
   "outputs": [],
   "source": [
    "# computing percentages\n",
    "s_2013_proficiencies_percentages = (s_2013_proficiencies_clean_sum/df_2013_proficiencies_clean.shape[0])*100\n",
    "# removing unuseful prefix from index (for plot readability purposes)\n",
    "s_2013_proficiencies_percentages.index = s_2013_proficiencies_percentages.index.str.replace(\"Proficient in \", \"\")"
   ],
   "metadata": {
    "collapsed": false,
    "pycharm": {
     "name": "#%%\n",
     "is_executing": true
    }
   }
  },
  {
   "cell_type": "code",
   "execution_count": null,
   "metadata": {
    "pycharm": {
     "name": "#%%\n",
     "is_executing": true
    }
   },
   "outputs": [],
   "source": [
    "ax_13 = s_2013_proficiencies_percentages.plot.bar(color=plt.cm.Paired(np.arange(len(s_2013_proficiencies_percentages))))\n",
    "# annotating values on top of each bar, for readability\n",
    "for p in ax_13.patches:\n",
    "    ax_13.annotate(str(round(p.get_height(), 2)), (p.get_x() * 1.005, p.get_height() * 1.005))"
   ]
  },
  {
   "cell_type": "markdown",
   "metadata": {},
   "source": [
    "Top 5 languages in 2013: <br>\n",
    "1. JavaScript\n",
    "2. C#\n",
    "3. Java\n",
    "4. PHP\n",
    "5. Python <br>\n",
    "Once more in 2013, JavaScript was the most used language, followed by C# and Java <br> (they're almost tied,\n",
    "jQuery, instead, is not a language but actually a JavaScript library, so it won't be counted)"
   ]
  },
  {
   "cell_type": "markdown",
   "metadata": {},
   "source": [
    "#### 2014 Results Analysis\n",
    "Now I'll compute the answer to first question, referring to 2014 data:\n"
   ]
  },
  {
   "cell_type": "code",
   "execution_count": null,
   "metadata": {
    "pycharm": {
     "name": "#%%\n",
     "is_executing": true
    }
   },
   "outputs": [],
   "source": [
    "proficiency_columns_range_2014 = range(42,53)\n",
    "df_2014_proficiencies = df_surveys_14.iloc[:, proficiency_columns_range_2014]\n",
    "s_2014_proficiencies = df_2014_proficiencies.sum(axis=0)\n",
    "s_2014_proficiencies.sort_values(ascending=False).head(10)"
   ]
  },
  {
   "cell_type": "markdown",
   "metadata": {},
   "source": [
    "Top 5 languages in 2014: <br>\n",
    "1. JavaScript\n",
    "2. Java\n",
    "3. C#\n",
    "4. PHP\n",
    "5. Python"
   ]
  },
  {
   "cell_type": "markdown",
   "metadata": {},
   "source": [
    "#### 2015 Results Analysis\n",
    "Now I'll compute the answer to first question, referring to 2015 data:"
   ]
  },
  {
   "cell_type": "code",
   "execution_count": null,
   "metadata": {
    "pycharm": {
     "name": "#%%\n",
     "is_executing": true
    }
   },
   "outputs": [],
   "source": [
    "proficiency_columns_range_2015 = range(8,50)\n",
    "df_2015_proficiencies = df_surveys_15.iloc[:, proficiency_columns_range_2015]\n",
    "s_2015_proficiencies = df_2015_proficiencies.sum(axis=0)\n",
    "s_2015_proficiencies.sort_values(ascending=False).head(10)\n"
   ]
  },
  {
   "cell_type": "markdown",
   "metadata": {},
   "source": [
    "Top 5 languages in 2015: <br>\n",
    "1. JavaScript\n",
    "2. Java\n",
    "3. C#\n",
    "4. PHP\n",
    "5. Python\n",
    "\n"
   ]
  },
  {
   "cell_type": "markdown",
   "metadata": {},
   "source": [
    "#### 2016 Results Analysis\n",
    "Now I'll compute the answer to first question, referring to 2016 data:\n"
   ]
  },
  {
   "cell_type": "code",
   "execution_count": null,
   "metadata": {
    "pycharm": {
     "name": "#%%\n",
     "is_executing": true
    }
   },
   "outputs": [],
   "source": [
    "# computing proficiencies for 2016 data\n",
    "df_2016_proficiencies = df_surveys_16.filter(like='tech_do')\n",
    "s_2016_proficiencies = df_2016_proficiencies.sum(axis=0)\n",
    "s_2016_proficiencies.sort_values(ascending=False).head(10)"
   ]
  },
  {
   "cell_type": "markdown",
   "metadata": {},
   "source": [
    "Top 5 languages in 2016: <br>\n",
    "1. JavaScript\n",
    "2. Java\n",
    "3. C#\n",
    "4. PHP\n",
    "5. Python<br>"
   ]
  },
  {
   "cell_type": "markdown",
   "metadata": {},
   "source": [
    "#### 2017 Results Analysis\n",
    "Now I'll compute the answer to first question, referring to 2017 data:\n"
   ]
  },
  {
   "cell_type": "code",
   "execution_count": null,
   "metadata": {
    "pycharm": {
     "name": "#%%\n",
     "is_executing": true
    }
   },
   "outputs": [],
   "source": [
    "# computing proficiencies for 2017 data\n",
    "df_2017_proficiencies = df_surveys_17.filter(like='HaveWorkedLanguage')\n",
    "s_2017_proficiencies = df_2017_proficiencies.sum(axis=0)\n",
    "s_2017_proficiencies.sort_values(ascending=False).head(10)"
   ]
  },
  {
   "cell_type": "markdown",
   "metadata": {},
   "source": [
    "Top 5 languages in 2017: <br>\n",
    "1. JavaScript\n",
    "2. Java\n",
    "3. C#\n",
    "4. Python\n",
    "5. PHP <br>\n",
    "\n",
    "This year, python overtook PHP at the 4th place, and is growing in popularity.\n",
    "\n"
   ]
  },
  {
   "cell_type": "markdown",
   "metadata": {},
   "source": [
    "#### 2018 Results Analysis\n",
    "Now I'll compute the answer to first question, referring to 2018 data:\n"
   ]
  },
  {
   "cell_type": "code",
   "execution_count": null,
   "metadata": {
    "pycharm": {
     "name": "#%%\n",
     "is_executing": true
    }
   },
   "outputs": [],
   "source": [
    "# computing proficiencies for 2018 data\n",
    "df_2018_proficiencies = df_surveys_18.filter(like='LanguageWorkedWith')\n",
    "s_2018_proficiencies = df_2018_proficiencies.sum(axis=0)\n",
    "s_2018_proficiencies.sort_values(ascending=False).head(10)\n"
   ]
  },
  {
   "cell_type": "markdown",
   "metadata": {},
   "source": [
    "Top 5 languages in 2018: <br>\n",
    "1. JavaScript\n",
    "2. Java\n",
    "3. Python\n",
    "4. C#\n",
    "5. PHP<br>\n",
    "\n",
    "This year, python overtook C#, and is still growing in popularity."
   ]
  },
  {
   "cell_type": "markdown",
   "metadata": {},
   "source": [
    "#### 2019 Results Analysis\n",
    "Now I'll compute the answer to first question, referring to 2019 data:"
   ]
  },
  {
   "cell_type": "code",
   "execution_count": null,
   "metadata": {
    "pycharm": {
     "name": "#%%\n",
     "is_executing": true
    }
   },
   "outputs": [],
   "source": [
    "# computing proficiencies for 2019 data\n",
    "df_2019_proficiencies = df_surveys_19.filter(like='LanguageWorkedWith')\n",
    "s_2019_proficiencies = df_2019_proficiencies.sum(axis=0)\n",
    "s_2019_proficiencies.sort_values(ascending=False).head(10)\n"
   ]
  },
  {
   "cell_type": "markdown",
   "metadata": {},
   "source": [
    "Top 5 languages in 2019: <br>\n",
    "1. JavaScript\n",
    "2. Python\n",
    "3. Java\n",
    "4. C#\n",
    "5. PHP <br>\n",
    "\n",
    "This year, Python overtook Java, and is still growing."
   ]
  },
  {
   "cell_type": "markdown",
   "metadata": {},
   "source": [
    "#### 2020 Results Analysis\n",
    "Now I'll compute the answer to first question, referring to 2020 data:\n"
   ]
  },
  {
   "cell_type": "code",
   "execution_count": null,
   "metadata": {
    "pycharm": {
     "name": "#%%\n",
     "is_executing": true
    }
   },
   "outputs": [],
   "source": [
    "# computing proficiencies for 2020 data\n",
    "df_2020_proficiencies = df_surveys_20.filter(like='LanguageWorkedWith')\n",
    "s_2020_proficiencies = df_2020_proficiencies.sum(axis=0)\n",
    "s_2020_proficiencies.sort_values(ascending=False).head(10)\n"
   ]
  },
  {
   "cell_type": "markdown",
   "metadata": {},
   "source": [
    "Top 5 languages in 2020: <br>\n",
    "Top 5 languages in 2021: <br>\n",
    "1. JavaScript\n",
    "2. Python\n",
    "3. Java\n",
    "4. C#\n",
    "5. TypeScript <br>\n",
    "\n",
    "In 2020, we had a quite stable top three languages."
   ]
  },
  {
   "cell_type": "markdown",
   "metadata": {},
   "source": [
    "#### 2021 Results Analysis\n",
    "Now I'll compute the answer to first question, referring to 2021 data:\n"
   ]
  },
  {
   "cell_type": "code",
   "execution_count": null,
   "metadata": {
    "pycharm": {
     "name": "#%%\n",
     "is_executing": true
    }
   },
   "outputs": [],
   "source": [
    "# computing proficiencies for 2021 data\n",
    "df_2021_proficiencies = df_surveys_21.filter(like='LanguageHaveWorkedWith')\n",
    "s_2021_proficiencies = df_2021_proficiencies.sum(axis=0)\n",
    "s_2021_proficiencies.sort_values(ascending=False).head(10)\n"
   ]
  },
  {
   "cell_type": "markdown",
   "metadata": {},
   "source": [
    "Top 5 languages in 2021: <br>\n",
    "1. JavaScript\n",
    "2. Python\n",
    "3. Java\n",
    "4. TypeScript\n",
    "5. C#<br>\n",
    "\n",
    "This year, Python strengthen its 2nd position respect to Java and reduced the gap with JavaScript."
   ]
  },
  {
   "cell_type": "markdown",
   "metadata": {
    "pycharm": {
     "name": "#%% md\n"
    }
   },
   "source": [
    "Now I'll proceed with trend analysis, in the following notebook.<br/>\n",
    "To do so, once again, I'll need to store data from the current notebook.\n"
   ]
  },
  {
   "cell_type": "code",
   "execution_count": null,
   "metadata": {
    "pycharm": {
     "name": "#%%\n",
     "is_executing": true
    }
   },
   "outputs": [],
   "source": [
    "%store s_2011_proficiencies\n",
    "%store s_2012_proficiencies\n",
    "%store s_2013_proficiencies\n",
    "%store s_2014_proficiencies\n",
    "%store s_2015_proficiencies\n",
    "%store s_2016_proficiencies\n",
    "%store s_2017_proficiencies\n",
    "%store s_2018_proficiencies\n",
    "%store s_2019_proficiencies\n",
    "%store s_2020_proficiencies\n",
    "%store s_2021_proficiencies"
   ]
  }
 ],
 "metadata": {
  "kernelspec": {
   "display_name": "Python 3",
   "language": "python",
   "name": "python3"
  },
  "language_info": {
   "codemirror_mode": {
    "name": "ipython",
    "version": 3
   },
   "file_extension": ".py",
   "mimetype": "text/x-python",
   "name": "python",
   "nbconvert_exporter": "python",
   "pygments_lexer": "ipython3",
   "version": "3.9.5"
  }
 },
 "nbformat": 4,
 "nbformat_minor": 1
}