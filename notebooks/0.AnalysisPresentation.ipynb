{
 "cells": [
  {
   "cell_type": "markdown",
   "metadata": {
    "collapsed": false,
    "pycharm": {
     "name": "#%% md\n"
    }
   },
   "source": [
    "# Stack Overflow Developer Survey Data (2011-2022) Analysis\n",
    "\n",
    "This notebook presents project methodology and purposes.\n",
    "It loads data from files into Pandas Dataframes, ready to be analyzed.\n",
    "Here will follow the general description of the methodology used in the project.\n"
   ]
  },
  {
   "attachments": {},
   "cell_type": "markdown",
   "metadata": {
    "collapsed": false,
    "pycharm": {
     "name": "#%% md\n"
    }
   },
   "source": [
    "## CRISP-DM analysis\n",
    "In the following paragraphs I'll approach the dataset using the CRISP-DM methodology:\n",
    "CRISP-DM stands for Cross-Industry Standard Process for Data Mining and is a process structured in 5 steps:\n",
    "1. Business Understanding (common)\n",
    "2. Data Understanding (common)\n",
    "3. Data Preparation (question specific)\n",
    "4. Data Modeling (question specific, not implemented in this project)\n",
    "5. Results Analysis (question specific)\n",
    "6. Deployment (question specific, not implemented in this project)\n"
   ]
  },
  {
   "attachments": {},
   "cell_type": "markdown",
   "metadata": {
    "collapsed": false,
    "pycharm": {
     "name": "#%% md\n"
    }
   },
   "source": [
    "## 1. Business Understanding\n",
    "\n",
    "In this section, I will formulate some questions about the Stack Overflow survey dataset.\n",
    "\n",
    "For this purpose, I will use data from the following list of years:\n",
    "1. 2011\n",
    "2. 2012\n",
    "3. 2013\n",
    "4. 2014\n",
    "5. 2015\n",
    "6. 2016\n",
    "7. 2017\n",
    "8. 2018\n",
    "9. 2019\n",
    "10. 2020\n",
    "11. 2021\n",
    "12. 2022\n",
    "\n",
    "The questions will be the following:<br/>\n",
    "1. Which languages were the most popular each year? This could be done with barcharts/countplots. . What trends are in the top 10 languages' popularity? This could be made by common plots of share percentages througouth years.\n",
    "2. Referring to some specific platform like Android, are there any visible shifts in languages popularity between two or more of the top ten languages over the years? This could be done by using targeted barcharts. The case of Kotlin vs Java is interesting.\n",
    "3. Does the number of years in programming influence the preferred/mostly used language? This could be done using scatterplot or heatmaps... Mabye also have a look at Violin/Box Plots. Faceting? Adaptation of Univariate Plots? I can use the average of the years in programming on Y axis. This is qualitative (most used language) vs quantitative (number of years in programming)\n",
    "4. Does the developer's principal language(s) influence the desire to learn a specific language in the future? This could be done usign scatterplot too? Maybe it is better to explore correlation with other features too.\n"
   ]
  },
  {
   "cell_type": "markdown",
   "metadata": {
    "collapsed": false,
    "pycharm": {
     "name": "#%% md\n"
    }
   },
   "source": [
    "## 2. Data Understanding\n",
    "\n",
    "In this section, I will take a look at the data and check about the above formulated questions,\n",
    "exploring dataframes features\n"
   ]
  },
  {
   "cell_type": "markdown",
   "metadata": {
    "collapsed": false,
    "pycharm": {
     "name": "#%% md\n"
    }
   },
   "source": [
    "### Data Gathering and Access\n",
    "\n",
    "The data has to be loaded from CSV files, first.\n",
    "\n",
    "So I will use a support function to do this in the form of a dictionary, whose keys will be the year of reference"
   ]
  },
  {
   "cell_type": "markdown",
   "metadata": {
    "collapsed": false,
    "pycharm": {
     "name": "#%% md\n"
    }
   },
   "source": [
    "Before proceeding, I need to import pandas libraries:"
   ]
  },
  {
   "cell_type": "code",
   "execution_count": null,
   "metadata": {
    "collapsed": false,
    "pycharm": {
     "name": "#%%\n"
    }
   },
   "outputs": [],
   "source": [
    "import pandas as pd"
   ]
  },
  {
   "cell_type": "markdown",
   "metadata": {
    "collapsed": false,
    "pycharm": {
     "name": "#%% md\n"
    }
   },
   "source": [
    "Now I'll load data from CSV files:"
   ]
  },
  {
   "cell_type": "code",
   "execution_count": null,
   "metadata": {
    "collapsed": false,
    "pycharm": {
     "name": "#%%\n"
    }
   },
   "outputs": [],
   "source": [
    "# reading survey data from oldest to newest\n",
    "from preparation.data_load import load_surveys_data_from_csv\n",
    "df_surveys_11_to_22 = load_surveys_data_from_csv(years=range(2011, 2023))"
   ]
  },
  {
   "cell_type": "markdown",
   "metadata": {
    "collapsed": false,
    "pycharm": {
     "name": "#%% md\n"
    }
   },
   "source": [
    "### Data Exploration\n",
    "In this section I'll have a look at each dataframe comprising data from each year."
   ]
  },
  {
   "cell_type": "markdown",
   "metadata": {
    "collapsed": false,
    "pycharm": {
     "name": "#%% md\n"
    }
   },
   "source": [
    "#### Preliminary operations\n",
    "\n",
    "Before proceeding with data exploration, I need to get dimensionality parameters from resulting pandas Dataframe, in order to\n",
    "guarantee correct display of Dataframe during data exploration phases.\n",
    "\n",
    "First I will compute these parameters on dataframe:"
   ]
  },
  {
   "cell_type": "code",
   "execution_count": null,
   "metadata": {
    "collapsed": false,
    "pycharm": {
     "name": "#%%\n"
    }
   },
   "outputs": [],
   "source": [
    "from preparation.data_load import get_dataset_max_shapes\n",
    "max_rows, max_cols = get_dataset_max_shapes(df_surveys_11_to_22)"
   ]
  },
  {
   "cell_type": "markdown",
   "metadata": {
    "collapsed": false,
    "pycharm": {
     "name": "#%% md\n"
    }
   },
   "source": [
    "Then I will set these parameters on the Notebook:"
   ]
  },
  {
   "cell_type": "code",
   "execution_count": null,
   "metadata": {
    "collapsed": false,
    "pycharm": {
     "name": "#%%\n"
    }
   },
   "outputs": [],
   "source": [
    "# setting the option from dataset computed parameters\n",
    "pd.set_option('display.max_columns', max_rows)\n",
    "pd.set_option('display.max_columns', max_cols)"
   ]
  },
  {
   "cell_type": "markdown",
   "metadata": {
    "collapsed": false,
    "pycharm": {
     "name": "#%% md\n"
    }
   },
   "source": [
    "Now I'll go through dataset by year, dataframe by dataframe, looking at features of each of them."
   ]
  },
  {
   "cell_type": "code",
   "execution_count": null,
   "metadata": {
    "collapsed": false,
    "pycharm": {
     "name": "#%%\n"
    }
   },
   "outputs": [],
   "source": [
    "# 2011 survey data dataframe\n",
    "df_surveys_11_to_22[2011].head(3)"
   ]
  },
  {
   "cell_type": "code",
   "execution_count": null,
   "metadata": {
    "collapsed": false,
    "pycharm": {
     "name": "#%%\n"
    }
   },
   "outputs": [],
   "source": [
    "# 2012 survey data dataframe\n",
    "df_surveys_11_to_22[2012].head(3)"
   ]
  },
  {
   "cell_type": "code",
   "execution_count": null,
   "metadata": {
    "collapsed": false,
    "pycharm": {
     "name": "#%%\n"
    }
   },
   "outputs": [],
   "source": [
    "# 2013 survey data dataframe\n",
    "df_surveys_11_to_22[2013].head(3)"
   ]
  },
  {
   "cell_type": "code",
   "execution_count": null,
   "metadata": {
    "collapsed": false,
    "pycharm": {
     "name": "#%%\n"
    }
   },
   "outputs": [],
   "source": [
    "# 2014 survey data dataframe\n",
    "df_surveys_11_to_22[2014].head(3)"
   ]
  },
  {
   "cell_type": "code",
   "execution_count": null,
   "metadata": {
    "collapsed": false,
    "pycharm": {
     "name": "#%%\n"
    }
   },
   "outputs": [],
   "source": [
    "# 2015 survey data dataframe\n",
    "df_surveys_11_to_22[2015].head(3)"
   ]
  },
  {
   "cell_type": "code",
   "execution_count": null,
   "metadata": {
    "collapsed": false,
    "pycharm": {
     "name": "#%%\n"
    }
   },
   "outputs": [],
   "source": [
    "# 2016 survey data dataframe\n",
    "df_surveys_11_to_22[2016].head(3)"
   ]
  },
  {
   "cell_type": "code",
   "execution_count": null,
   "metadata": {
    "collapsed": false,
    "pycharm": {
     "name": "#%%\n"
    }
   },
   "outputs": [],
   "source": [
    "# 2017 survey data dataframe\n",
    "df_surveys_11_to_22[2017].head(3)"
   ]
  },
  {
   "cell_type": "code",
   "execution_count": null,
   "metadata": {
    "collapsed": false,
    "pycharm": {
     "name": "#%%\n"
    }
   },
   "outputs": [],
   "source": [
    "# 2018 survey data dataframe\n",
    "df_surveys_11_to_22[2018].head(3)"
   ]
  },
  {
   "cell_type": "code",
   "execution_count": null,
   "metadata": {
    "collapsed": false,
    "pycharm": {
     "name": "#%%\n"
    }
   },
   "outputs": [],
   "source": [
    "# 2019 survey data dataframe\n",
    "df_surveys_11_to_22[2019].head(3)"
   ]
  },
  {
   "cell_type": "code",
   "execution_count": null,
   "metadata": {
    "collapsed": false,
    "pycharm": {
     "name": "#%%\n"
    }
   },
   "outputs": [],
   "source": [
    "# 2020 survey data dataframe\n",
    "df_surveys_11_to_22[2020].head(3)"
   ]
  },
  {
   "cell_type": "code",
   "execution_count": null,
   "metadata": {
    "collapsed": false,
    "pycharm": {
     "name": "#%%\n"
    }
   },
   "outputs": [],
   "source": [
    "# 2021 survey data dataframe\n",
    "df_surveys_11_to_22[2021].head(3)"
   ]
  },
  {
   "cell_type": "code",
   "execution_count": null,
   "metadata": {
    "collapsed": false,
    "pycharm": {
     "name": "#%%\n"
    }
   },
   "outputs": [],
   "source": [
    "# 2022 survey data dataframe\n",
    "df_surveys_11_to_22[2022].head(3)"
   ]
  },
  {
   "cell_type": "markdown",
   "metadata": {
    "collapsed": false,
    "pycharm": {
     "name": "#%% md\n"
    }
   },
   "source": [
    "To share the loaded data between notebooks, I will run a special line"
   ]
  },
  {
   "cell_type": "code",
   "execution_count": null,
   "metadata": {
    "collapsed": false,
    "pycharm": {
     "name": "#%%\n"
    }
   },
   "outputs": [],
   "source": [
    "%store df_surveys_11_to_22"
   ]
  }
 ],
 "metadata": {
  "kernelspec": {
   "display_name": "ml-ds",
   "language": "python",
   "name": "python3"
  },
  "language_info": {
   "codemirror_mode": {
    "name": "ipython",
    "version": 3
   },
   "file_extension": ".py",
   "mimetype": "text/x-python",
   "name": "python",
   "nbconvert_exporter": "python",
   "pygments_lexer": "ipython3",
   "version": "3.9.13"
  },
  "vscode": {
   "interpreter": {
    "hash": "6935e08561a651a9baa03a8747a4f428a3e72ad2f76787ca650ea6ebcd957ea9"
   }
  }
 },
 "nbformat": 4,
 "nbformat_minor": 0
}
