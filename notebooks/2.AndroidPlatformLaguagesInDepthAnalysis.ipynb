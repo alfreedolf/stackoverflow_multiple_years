{
 "cells": [
  {
   "attachments": {},
   "cell_type": "markdown",
   "metadata": {},
   "source": [
    "# Android Platform in-depth analysis\n",
    "\n",
    "# Question N°2\n",
    "This notebook purpose is to answer the Third Question: </br>\n",
    "<b><i>\"Referring specifically to Android paltform, are there any visible shifts in languages popularity between two or more of the top ten languages over the years?\"</i></b>\n",
    "Focus will be on Java vs Kotlin."
   ]
  },
  {
   "attachments": {},
   "cell_type": "markdown",
   "metadata": {},
   "source": [
    "### In depth analysis of Java vs Kotlin"
   ]
  },
  {
   "attachments": {},
   "cell_type": "markdown",
   "metadata": {},
   "source": [
    "I will extract some more targeted statistics, to get a better idea, of the relationship between the two apparently conflicting trends between thest two languages, wich shares such an interesting (for developers and for software related industries) field of application as Android development."
   ]
  },
  {
   "cell_type": "code",
   "execution_count": 1,
   "metadata": {},
   "outputs": [],
   "source": [
    "import pandas as pd\n",
    "import matplotlib.pyplot as plt"
   ]
  },
  {
   "cell_type": "code",
   "execution_count": 2,
   "metadata": {},
   "outputs": [
    {
     "name": "stdout",
     "output_type": "stream",
     "text": [
      "no stored variable or alias lpp_18\n",
      "no stored variable or alias lpp_19\n",
      "no stored variable or alias lpp_20\n"
     ]
    }
   ],
   "source": [
    "%store -r df_surveys_18\n",
    "%store -r df_surveys_19\n",
    "%store -r df_surveys_20\n",
    "%store -r df_surveys_21\n",
    "%store -r df_surveys_22\n",
    "\n",
    "%store -r lpp_18\n",
    "%store -r lpp_19\n",
    "%store -r lpp_20"
   ]
  },
  {
   "cell_type": "code",
   "execution_count": 3,
   "metadata": {},
   "outputs": [],
   "source": [
    "cols_18 = df_surveys_18.columns[df_surveys_18.isin([\"Android\"]).any()]\n",
    "cols_19 = df_surveys_19.columns[df_surveys_19.isin([\"Android\"]).any()]\n",
    "cols_20 = df_surveys_20.columns[df_surveys_20.isin([\"Android\"]).any()]\n",
    "#df_surveys_18[df_surveys_18.eq(\"Android\").any(1)]"
   ]
  },
  {
   "cell_type": "code",
   "execution_count": 4,
   "metadata": {},
   "outputs": [
    {
     "data": {
      "text/plain": [
       "Index(['PlatformWorkedWith', 'PlatformDesireNextYear'], dtype='object')"
      ]
     },
     "execution_count": 4,
     "metadata": {},
     "output_type": "execute_result"
    }
   ],
   "source": [
    "cols_18"
   ]
  },
  {
   "cell_type": "code",
   "execution_count": 5,
   "metadata": {},
   "outputs": [
    {
     "data": {
      "text/plain": [
       "Index(['PlatformWorkedWith', 'PlatformDesireNextYear'], dtype='object')"
      ]
     },
     "execution_count": 5,
     "metadata": {},
     "output_type": "execute_result"
    }
   ],
   "source": [
    "cols_19"
   ]
  },
  {
   "cell_type": "code",
   "execution_count": 6,
   "metadata": {},
   "outputs": [
    {
     "data": {
      "text/plain": [
       "Index(['PlatformDesireNextYear', 'PlatformWorkedWith'], dtype='object')"
      ]
     },
     "execution_count": 6,
     "metadata": {},
     "output_type": "execute_result"
    }
   ],
   "source": [
    "cols_20"
   ]
  },
  {
   "attachments": {},
   "cell_type": "markdown",
   "metadata": {},
   "source": [
    "We have a clear indication on where to find the information about the platform of reference."
   ]
  },
  {
   "attachments": {},
   "cell_type": "markdown",
   "metadata": {},
   "source": [
    "Then, we first define as base to count shares as:\n",
    "$$ SharedBase := \\frac{|(Java \\cup Kotlin) \\cap Android|}{|Android|}"
   ]
  },
  {
   "attachments": {},
   "cell_type": "markdown",
   "metadata": {},
   "source": [
    "As the percentage of respondents that have Java or Kotlin experience, and that have declared to have worked on Android platform."
   ]
  },
  {
   "attachments": {},
   "cell_type": "markdown",
   "metadata": {},
   "source": [
    "Then, we can define joint intersection of Java and Kotlin on Android platform:"
   ]
  },
  {
   "attachments": {},
   "cell_type": "markdown",
   "metadata": {},
   "source": [
    "$$ UsingBoth := \\frac{|Java \\cap Kotlin \\cap Android|}{|SharedBase|}"
   ]
  },
  {
   "attachments": {},
   "cell_type": "markdown",
   "metadata": {},
   "source": [
    "From that, we can also define:"
   ]
  },
  {
   "attachments": {},
   "cell_type": "markdown",
   "metadata": {},
   "source": [
    "$$ JavaLoyals = \\frac{|Java \\cap Android| \\setminus |Kotlin \\cap Android|}{|SharedBase|}"
   ]
  },
  {
   "attachments": {},
   "cell_type": "markdown",
   "metadata": {},
   "source": [
    "as the percentage of developers in the shared base that used Java but not Kotlin."
   ]
  },
  {
   "attachments": {},
   "cell_type": "markdown",
   "metadata": {},
   "source": [
    "As opposed to:"
   ]
  },
  {
   "attachments": {},
   "cell_type": "markdown",
   "metadata": {},
   "source": [
    "$$ KotlinLoyals = \\frac{|Kotlin \\cap Android| \\setminus |Java \\cap Android|}{|SharedBase|}"
   ]
  },
  {
   "attachments": {},
   "cell_type": "markdown",
   "metadata": {},
   "source": [
    "as the percentage of developers in share base that used Kotlin but not Java."
   ]
  },
  {
   "attachments": {},
   "cell_type": "markdown",
   "metadata": {},
   "source": [
    "For practical reason, I will call these value as follows:"
   ]
  },
  {
   "cell_type": "code",
   "execution_count": 7,
   "metadata": {},
   "outputs": [],
   "source": [
    "java_vs_kotlin_experience = [\"Java plus Kotlin Android developers\", \"Android Developers that use Java and Kotlin together\", \"Java exclusive share on Android Developers\", \"Kotlin exclusive share on Android Developers\"]"
   ]
  },
  {
   "attachments": {},
   "cell_type": "markdown",
   "metadata": {},
   "source": [
    "First we will compute:\n",
    "$$ |SharedBase| = \\frac{|(Java \\cup Kotlin) \\cap Android|}{|Android|}"
   ]
  },
  {
   "cell_type": "code",
   "execution_count": 8,
   "metadata": {},
   "outputs": [
    {
     "ename": "NameError",
     "evalue": "name 'lpp_18' is not defined",
     "output_type": "error",
     "traceback": [
      "\u001b[1;31m---------------------------------------------------------------------------\u001b[0m",
      "\u001b[1;31mNameError\u001b[0m                                 Traceback (most recent call last)",
      "Cell \u001b[1;32mIn[8], line 1\u001b[0m\n\u001b[1;32m----> 1\u001b[0m base_share_18 \u001b[38;5;241m=\u001b[39m \u001b[43mlpp_18\u001b[49m\u001b[38;5;241m.\u001b[39mjoint_share([\u001b[38;5;124m\"\u001b[39m\u001b[38;5;124mLanguageWorkedWith: Java\u001b[39m\u001b[38;5;124m\"\u001b[39m, \u001b[38;5;124m\"\u001b[39m\u001b[38;5;124mLanguageWorkedWith: Kotlin\u001b[39m\u001b[38;5;124m\"\u001b[39m], platform\u001b[38;5;241m=\u001b[39m\u001b[38;5;124m\"\u001b[39m\u001b[38;5;124mAndroid\u001b[39m\u001b[38;5;124m\"\u001b[39m)\n\u001b[0;32m      2\u001b[0m base_share_19 \u001b[38;5;241m=\u001b[39m lpp_19\u001b[38;5;241m.\u001b[39mjoint_share([\u001b[38;5;124m\"\u001b[39m\u001b[38;5;124mLanguageWorkedWith: Java\u001b[39m\u001b[38;5;124m\"\u001b[39m, \u001b[38;5;124m\"\u001b[39m\u001b[38;5;124mLanguageWorkedWith: Kotlin\u001b[39m\u001b[38;5;124m\"\u001b[39m], platform\u001b[38;5;241m=\u001b[39m\u001b[38;5;124m\"\u001b[39m\u001b[38;5;124mAndroid\u001b[39m\u001b[38;5;124m\"\u001b[39m)\n\u001b[0;32m      3\u001b[0m base_share_20 \u001b[38;5;241m=\u001b[39m lpp_20\u001b[38;5;241m.\u001b[39mjoint_share([\u001b[38;5;124m\"\u001b[39m\u001b[38;5;124mLanguageWorkedWith: Java\u001b[39m\u001b[38;5;124m\"\u001b[39m, \u001b[38;5;124m\"\u001b[39m\u001b[38;5;124mLanguageWorkedWith: Kotlin\u001b[39m\u001b[38;5;124m\"\u001b[39m], platform\u001b[38;5;241m=\u001b[39m\u001b[38;5;124m\"\u001b[39m\u001b[38;5;124mAndroid\u001b[39m\u001b[38;5;124m\"\u001b[39m)\n",
      "\u001b[1;31mNameError\u001b[0m: name 'lpp_18' is not defined"
     ]
    }
   ],
   "source": [
    "base_share_18 = lpp_18.joint_share([\"LanguageWorkedWith: Java\", \"LanguageWorkedWith: Kotlin\"], platform=\"Android\")\n",
    "base_share_19 = lpp_19.joint_share([\"LanguageWorkedWith: Java\", \"LanguageWorkedWith: Kotlin\"], platform=\"Android\")\n",
    "base_share_20 = lpp_20.joint_share([\"LanguageWorkedWith: Java\", \"LanguageWorkedWith: Kotlin\"], platform=\"Android\")"
   ]
  },
  {
   "cell_type": "code",
   "execution_count": null,
   "metadata": {},
   "outputs": [],
   "source": [
    "base_share_18"
   ]
  },
  {
   "cell_type": "code",
   "execution_count": null,
   "metadata": {},
   "outputs": [],
   "source": [
    "base_share_19"
   ]
  },
  {
   "cell_type": "code",
   "execution_count": null,
   "metadata": {},
   "outputs": [],
   "source": [
    "base_share_20"
   ]
  },
  {
   "attachments": {},
   "cell_type": "markdown",
   "metadata": {},
   "source": [
    "We can now compute:"
   ]
  },
  {
   "attachments": {},
   "cell_type": "markdown",
   "metadata": {},
   "source": [
    "$$ \\frac{|Java \\cap Kotlin \\cap Android|}{|SharedBase|}"
   ]
  },
  {
   "cell_type": "code",
   "execution_count": null,
   "metadata": {},
   "outputs": [],
   "source": [
    "android_java_and_kotlin_shares_intersections_18 = lpp_18.joint_share([\"LanguageWorkedWith: Java\", \"LanguageWorkedWith: Kotlin\"], unison=True, platform=\"Android\")\n",
    "android_java_and_kotlin_shares_intersections_19 = lpp_19.joint_share([\"LanguageWorkedWith: Java\", \"LanguageWorkedWith: Kotlin\"], unison=True, platform=\"Android\")\n",
    "android_java_and_kotlin_shares_intersections_20 = lpp_20.joint_share([\"LanguageWorkedWith: Java\", \"LanguageWorkedWith: Kotlin\"], unison=True, platform=\"Android\")"
   ]
  },
  {
   "cell_type": "code",
   "execution_count": null,
   "metadata": {},
   "outputs": [],
   "source": [
    "android_java_and_kotlin_shares_intersections_18"
   ]
  },
  {
   "cell_type": "code",
   "execution_count": null,
   "metadata": {},
   "outputs": [],
   "source": [
    "android_java_and_kotlin_shares_intersections_19"
   ]
  },
  {
   "cell_type": "code",
   "execution_count": null,
   "metadata": {},
   "outputs": [],
   "source": [
    "android_java_and_kotlin_shares_intersections_20"
   ]
  },
  {
   "attachments": {},
   "cell_type": "markdown",
   "metadata": {},
   "source": [
    "Than we will compute:\n",
    "$$ \\frac{|Java \\cap Android| \\setminus |Kotlin \\cap Android|}{|SharedBase|}"
   ]
  },
  {
   "cell_type": "code",
   "execution_count": null,
   "metadata": {},
   "outputs": [],
   "source": [
    "android_java_exclusive_share_18 = lpp_18.exclusive_share(ref_language=\"LanguageWorkedWith: Java\", excluded_languages=[\"LanguageWorkedWith: Kotlin\"], platform=\"Android\")\n",
    "android_java_exclusive_share_19 = lpp_19.exclusive_share(ref_language=\"LanguageWorkedWith: Java\", excluded_languages=[\"LanguageWorkedWith: Kotlin\"], platform=\"Android\")\n",
    "android_java_exclusive_share_20 = lpp_20.exclusive_share(ref_language=\"LanguageWorkedWith: Java\", excluded_languages=[\"LanguageWorkedWith: Kotlin\"], platform=\"Android\")"
   ]
  },
  {
   "cell_type": "code",
   "execution_count": null,
   "metadata": {},
   "outputs": [],
   "source": [
    "android_java_exclusive_share_18"
   ]
  },
  {
   "cell_type": "code",
   "execution_count": null,
   "metadata": {},
   "outputs": [],
   "source": [
    "android_java_exclusive_share_19"
   ]
  },
  {
   "cell_type": "code",
   "execution_count": null,
   "metadata": {},
   "outputs": [],
   "source": [
    "android_java_exclusive_share_20"
   ]
  },
  {
   "cell_type": "code",
   "execution_count": null,
   "metadata": {},
   "outputs": [],
   "source": [
    "android_kotlin_exclusive_share_18 = lpp_18.exclusive_share(ref_language=\"LanguageWorkedWith: Kotlin\", excluded_languages=[\"LanguageWorkedWith: Java\"], platform=\"Android\")\n",
    "android_kotlin_exclusive_share_19 = lpp_19.exclusive_share(ref_language=\"LanguageWorkedWith: Kotlin\", excluded_languages=[\"LanguageWorkedWith: Java\"], platform=\"Android\")\n",
    "android_kotlin_exclusive_share_20 = lpp_20.exclusive_share(ref_language=\"LanguageWorkedWith: Kotlin\", excluded_languages=[\"LanguageWorkedWith: Java\"], platform=\"Android\")"
   ]
  },
  {
   "cell_type": "code",
   "execution_count": null,
   "metadata": {},
   "outputs": [],
   "source": [
    "android_kotlin_exclusive_share_18"
   ]
  },
  {
   "cell_type": "code",
   "execution_count": null,
   "metadata": {},
   "outputs": [],
   "source": [
    "android_kotlin_exclusive_share_19"
   ]
  },
  {
   "cell_type": "code",
   "execution_count": null,
   "metadata": {},
   "outputs": [],
   "source": [
    "android_kotlin_exclusive_share_20"
   ]
  },
  {
   "attachments": {},
   "cell_type": "markdown",
   "metadata": {},
   "source": [
    "Now we can proceed plotting data:"
   ]
  },
  {
   "cell_type": "code",
   "execution_count": null,
   "metadata": {},
   "outputs": [],
   "source": [
    "import numpy as np"
   ]
  },
  {
   "cell_type": "code",
   "execution_count": null,
   "metadata": {},
   "outputs": [],
   "source": [
    "# putting everythin in arrays, so we can populate a dataframe\n",
    "java_plus_kotlin_share = np.array([base_share_18, base_share_19, base_share_20])\n",
    "android_java_and_kotlin_shares_intersections = np.array([android_java_and_kotlin_shares_intersections_18, android_java_and_kotlin_shares_intersections_19, android_java_and_kotlin_shares_intersections_20])\n",
    "java_exclusive_shares = np.array([android_java_exclusive_share_18, android_java_exclusive_share_19, android_java_exclusive_share_20])\n",
    "kotlin_exclusive_shares = np.array([android_kotlin_exclusive_share_18, android_kotlin_exclusive_share_19, android_kotlin_exclusive_share_20])\n"
   ]
  },
  {
   "cell_type": "code",
   "execution_count": null,
   "metadata": {},
   "outputs": [],
   "source": [
    "java_vs_kotlin_stats =  np.array([java_exclusive_shares, kotlin_exclusive_shares, android_java_and_kotlin_shares_intersections, java_plus_kotlin_share])"
   ]
  },
  {
   "cell_type": "code",
   "execution_count": null,
   "metadata": {},
   "outputs": [],
   "source": [
    "# here is the dataframe\n",
    "df_java_vs_kotlin_18to20_percentages = pd.DataFrame(index=java_vs_kotlin_experience, data=java_vs_kotlin_stats, columns=[2018, 2019, 2020])"
   ]
  },
  {
   "cell_type": "code",
   "execution_count": null,
   "metadata": {},
   "outputs": [],
   "source": [
    "#df_java_vs_kotlin_18to20_percentages.index.name = 'year'"
   ]
  },
  {
   "cell_type": "code",
   "execution_count": null,
   "metadata": {},
   "outputs": [],
   "source": [
    "df_java_vs_kotlin_18to20_percentages"
   ]
  },
  {
   "attachments": {},
   "cell_type": "markdown",
   "metadata": {},
   "source": [
    "Now we can also plot the data, but first, it is better to change the legend to make it shorter:"
   ]
  },
  {
   "cell_type": "code",
   "execution_count": null,
   "metadata": {},
   "outputs": [],
   "source": [
    "java_vs_kotlin_experience_plot_legend = [r'$JavaLoyals$', r'$KotlinLoyals$', r'$UsingBoth$', r'$SharedBase$']"
   ]
  },
  {
   "cell_type": "code",
   "execution_count": null,
   "metadata": {},
   "outputs": [],
   "source": [
    "df_java_vs_kotlin_18to20_percentages_plot = pd.DataFrame(index=java_vs_kotlin_experience_plot_legend, data=java_vs_kotlin_stats, columns=[2018, 2019, 2020])"
   ]
  },
  {
   "cell_type": "code",
   "execution_count": null,
   "metadata": {},
   "outputs": [],
   "source": [
    "df_java_vs_kotlin_18to20_percentages_plot.plot.bar()\n",
    "plt.legend(loc='center left', bbox_to_anchor=(1.0, 0.5))\n",
    "plt.xticks(rotation=30, horizontalalignment=\"center\")\n",
    "plt.show()"
   ]
  },
  {
   "cell_type": "code",
   "execution_count": null,
   "metadata": {},
   "outputs": [],
   "source": [
    "df_java_vs_kotlin_18to20_percentages_no_share_base = df_java_vs_kotlin_18to20_percentages[:-1]"
   ]
  },
  {
   "cell_type": "code",
   "execution_count": null,
   "metadata": {},
   "outputs": [],
   "source": [
    "java_vs_kotlin_experience_plot_legend_no_shares = [r'$JavaLoyals$', r'$KotlinLoyals$', r'$UsingBoth$']"
   ]
  },
  {
   "cell_type": "code",
   "execution_count": null,
   "metadata": {},
   "outputs": [],
   "source": [
    "java_vs_kotlin_stats_plot_no_shares =  np.array([java_exclusive_shares, kotlin_exclusive_shares, android_java_and_kotlin_shares_intersections])"
   ]
  },
  {
   "cell_type": "code",
   "execution_count": null,
   "metadata": {},
   "outputs": [],
   "source": [
    "df_java_vs_kotlin_18to20_percentages_plot_no_shares = pd.DataFrame(index=java_vs_kotlin_experience_plot_legend_no_shares, data=java_vs_kotlin_stats_plot_no_shares, columns=[2018, 2019, 2020])"
   ]
  },
  {
   "cell_type": "code",
   "execution_count": null,
   "metadata": {},
   "outputs": [],
   "source": [
    "df_java_vs_kotlin_18to20_percentages_plot_no_shares.plot.bar()\n",
    "plt.legend(loc='center left', bbox_to_anchor=(1.0, 0.5))\n",
    "plt.xticks(rotation=30, horizontalalignment=\"center\")\n",
    "plt.show()"
   ]
  },
  {
   "attachments": {},
   "cell_type": "markdown",
   "metadata": {},
   "source": [
    "It can be clearly spotted an increase in Kotlin developers in Android base, simultaneously with a decrease in Java developer in the same base."
   ]
  },
  {
   "attachments": {},
   "cell_type": "markdown",
   "metadata": {},
   "source": [
    "As a conclusion, we can say that is likely that a significative percentage of respondents were drawn from Java to Kotlin development. But this doesn't seem to fully explain the leak of Java developers, both on Android and on other platforms.  "
   ]
  },
  {
   "attachments": {},
   "cell_type": "markdown",
   "metadata": {},
   "source": []
  }
 ],
 "metadata": {
  "kernelspec": {
   "display_name": "ml-ds",
   "language": "python",
   "name": "python3"
  },
  "language_info": {
   "codemirror_mode": {
    "name": "ipython",
    "version": 3
   },
   "file_extension": ".py",
   "mimetype": "text/x-python",
   "name": "python",
   "nbconvert_exporter": "python",
   "pygments_lexer": "ipython3",
   "version": "3.12.3"
  },
  "orig_nbformat": 4
 },
 "nbformat": 4,
 "nbformat_minor": 2
}
