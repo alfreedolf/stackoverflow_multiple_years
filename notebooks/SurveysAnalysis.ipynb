{
 "cells": [
  {
   "cell_type": "code",
   "execution_count": 16,
   "metadata": {
    "collapsed": true
   },
   "outputs": [],
   "source": [
    "from preparation.data_load import load_surveys_data_from_csv, merge_dataframes"
   ]
  },
  {
   "cell_type": "markdown",
   "source": [
    "## Data Load\n",
    "\n",
    "This notebook is to be run first and just loads the data from the CSV files, from all the reference years."
   ],
   "metadata": {
    "collapsed": false,
    "pycharm": {
     "name": "#%% md\n"
    }
   }
  },
  {
   "cell_type": "code",
   "execution_count": 17,
   "outputs": [
    {
     "name": "stderr",
     "output_type": "stream",
     "text": [
      "/mnt/LinuxStorage/workspace/stackoverflow_multiple_years/preparation/data_load.py:37: DtypeWarning: Columns (46,48,62) have mixed types.Specify dtype option on import or set low_memory=False.\n",
      "  surveys_years_df[y] = load_from_csv(os.path.join(base_dir, data_path,\n",
      "/mnt/LinuxStorage/workspace/stackoverflow_multiple_years/preparation/data_load.py:37: DtypeWarning: Columns (5,108,121,196,197,198) have mixed types.Specify dtype option on import or set low_memory=False.\n",
      "  surveys_years_df[y] = load_from_csv(os.path.join(base_dir, data_path,\n",
      "/mnt/LinuxStorage/workspace/stackoverflow_multiple_years/preparation/data_load.py:37: DtypeWarning: Columns (8,12,13,14,15,16,50,51,52,53,55,56,57,58,59,60,61,62,63,64,65,66,67,68,69,70,71,72,73,74,75,76,77,78,79,80,81,82,83,84,85,93,94,95,96,97,98,99,100,101,102,103,104,105,106,107,108,109,110,111,112,113,114,115,116,117,118,119,120,121,122,123,124,125,126,127,128) have mixed types.Specify dtype option on import or set low_memory=False.\n",
      "  surveys_years_df[y] = load_from_csv(os.path.join(base_dir, data_path,\n"
     ]
    }
   ],
   "source": [
    "# reading survey data from oldest to newest\n",
    "df_surveys_11_to_21 = load_surveys_data_from_csv()"
   ],
   "metadata": {
    "collapsed": false,
    "pycharm": {
     "name": "#%%\n"
    }
   }
  },
  {
   "cell_type": "markdown",
   "source": [
    "# Merging data\n",
    "Now I would like to merge the dataframes, based on least common feature set"
   ],
   "metadata": {
    "collapsed": false
   }
  },
  {
   "cell_type": "code",
   "execution_count": 22,
   "outputs": [],
   "source": [
    "# get least common feature set\n",
    "# df_surveys_full = merge_dataframes(df_surveys_11_to_21)"
   ],
   "metadata": {
    "collapsed": false,
    "pycharm": {
     "name": "#%%\n"
    }
   }
  },
  {
   "cell_type": "code",
   "execution_count": 23,
   "outputs": [],
   "source": [
    "# take a look at data from 2011:\n",
    "# df_surveys_full.head()"
   ],
   "metadata": {
    "collapsed": false,
    "pycharm": {
     "name": "#%%\n"
    }
   }
  },
  {
   "cell_type": "code",
   "execution_count": 24,
   "outputs": [
    {
     "name": "stdout",
     "output_type": "stream",
     "text": [
      "<class 'pandas.core.frame.DataFrame'>\n",
      "RangeIndex: 2814 entries, 0 to 2813\n",
      "Data columns (total 65 columns):\n",
      " #   Column                                                                                           Non-Null Count  Dtype \n",
      "---  ------                                                                                           --------------  ----- \n",
      " 0   What Country or Region do you live in?                                                           2814 non-null   object\n",
      " 1   Which US State or Territory do you live in?                                                      1030 non-null   object\n",
      " 2   How old are you?                                                                                 2730 non-null   object\n",
      " 3   How many years of IT/Programming experience do you have?                                         2730 non-null   object\n",
      " 4   How would you best describe the industry you work in?                                            2730 non-null   object\n",
      " 5   Which best describes the size of your company?                                                   2647 non-null   object\n",
      " 6   Which of the following best describes your occupation?                                           2647 non-null   object\n",
      " 7   How likely is it that a recommendation you make will be acted upon?                              2611 non-null   object\n",
      " 8   What is your involvement in purchasing? You can choose more than 1.                              1362 non-null   object\n",
      " 9   Unnamed: 9                                                                                       1497 non-null   object\n",
      " 10  Unnamed: 10                                                                                      395 non-null    object\n",
      " 11  Unnamed: 11                                                                                      457 non-null    object\n",
      " 12  Unnamed: 12                                                                                      186 non-null    object\n",
      " 13  Unnamed: 13                                                                                      727 non-null    object\n",
      " 14  Unnamed: 14                                                                                      92 non-null     object\n",
      " 15  What types of purchases are you involved in?                                                     968 non-null    object\n",
      " 16  Unnamed: 16                                                                                      709 non-null    object\n",
      " 17  Unnamed: 17                                                                                      1790 non-null   object\n",
      " 18  Unnamed: 18                                                                                      970 non-null    object\n",
      " 19  Unnamed: 19                                                                                      467 non-null    object\n",
      " 20  Unnamed: 20                                                                                      285 non-null    object\n",
      " 21  What is your budget for outside expenditures (hardware, software, consulting, etc) for 2011?     533 non-null    object\n",
      " 22  Unnamed: 22                                                                                      219 non-null    object\n",
      " 23  Unnamed: 23                                                                                      85 non-null     object\n",
      " 24  Unnamed: 24                                                                                      45 non-null     object\n",
      " 25  Unnamed: 25                                                                                      43 non-null     object\n",
      " 26  Unnamed: 26                                                                                      45 non-null     object\n",
      " 27  Unnamed: 27                                                                                      121 non-null    object\n",
      " 28  Unnamed: 28                                                                                      927 non-null    object\n",
      " 29  What type of project are you developing?                                                         2599 non-null   object\n",
      " 30  Which languages are you proficient in?                                                           862 non-null    object\n",
      " 31  Unnamed: 31                                                                                      1420 non-null   object\n",
      " 32  Unnamed: 32                                                                                      1357 non-null   object\n",
      " 33  Unnamed: 33                                                                                      789 non-null    object\n",
      " 34  Unnamed: 34                                                                                      576 non-null    object\n",
      " 35  Unnamed: 35                                                                                      286 non-null    object\n",
      " 36  Unnamed: 36                                                                                      1614 non-null   object\n",
      " 37  Unnamed: 37                                                                                      1353 non-null   object\n",
      " 38  Unnamed: 38                                                                                      741 non-null    object\n",
      " 39  Unnamed: 39                                                                                      742 non-null    object\n",
      " 40  Unnamed: 40                                                                                      285 non-null    object\n",
      " 41  Unnamed: 41                                                                                      21 non-null     object\n",
      " 42  Unnamed: 42                                                                                      668 non-null    object\n",
      " 43  What operating system do you use the most?                                                       2591 non-null   object\n",
      " 44  Please rate your job/career satisfaction                                                         2554 non-null   object\n",
      " 45  Including bonus, what is your annual compensation in USD?                                        2366 non-null   object\n",
      " 46  Which technology products do you own? (You can choose more than one)                             840 non-null    object\n",
      " 47  Unnamed: 47                                                                                      745 non-null    object\n",
      " 48  Unnamed: 48                                                                                      169 non-null    object\n",
      " 49  Unnamed: 49                                                                                      367 non-null    object\n",
      " 50  Unnamed: 50                                                                                      625 non-null    object\n",
      " 51  Unnamed: 51                                                                                      354 non-null    object\n",
      " 52  Unnamed: 52                                                                                      40 non-null     object\n",
      " 53  Unnamed: 53                                                                                      517 non-null    object\n",
      " 54  Unnamed: 54                                                                                      1091 non-null   object\n",
      " 55  Unnamed: 55                                                                                      117 non-null    object\n",
      " 56  Unnamed: 56                                                                                      395 non-null    object\n",
      " 57  Unnamed: 57                                                                                      502 non-null    object\n",
      " 58  Unnamed: 58                                                                                      377 non-null    object\n",
      " 59  Unnamed: 59                                                                                      598 non-null    object\n",
      " 60  Unnamed: 60                                                                                      825 non-null    object\n",
      " 61  Unnamed: 61                                                                                      315 non-null    object\n",
      " 62  Unnamed: 62                                                                                      219 non-null    object\n",
      " 63  In the last 12 months, how much money have you spent on personal technology-related purchases?   2506 non-null   object\n",
      " 64  Which of our sites do you frequent most?                                                         2533 non-null   object\n",
      "dtypes: object(65)\n",
      "memory usage: 1.4+ MB\n",
      "<class 'pandas.core.frame.DataFrame'>\n",
      "RangeIndex: 6244 entries, 0 to 6243\n",
      "Data columns (total 75 columns):\n",
      " #   Column                                                                                                                    Non-Null Count  Dtype \n",
      "---  ------                                                                                                                    --------------  ----- \n",
      " 0   What Country or Region do you live in?                                                                                    6244 non-null   object\n",
      " 1   Which US State or Territory do you live in?                                                                               1776 non-null   object\n",
      " 2   How old are you?                                                                                                          5965 non-null   object\n",
      " 3   How many years of IT/Programming experience do you have?                                                                  5965 non-null   object\n",
      " 4   How would you best describe the industry you currently work in?                                                           5965 non-null   object\n",
      " 5   Which best describes the size of your company?                                                                            5738 non-null   object\n",
      " 6   Which of the following best describes your occupation?                                                                    5738 non-null   object\n",
      " 7   What is your involvement in purchasing products or services for the company you work for? (You can choose more than one)  2555 non-null   object\n",
      " 8   Unnamed: 8                                                                                                                2773 non-null   object\n",
      " 9   Unnamed: 9                                                                                                                976 non-null    object\n",
      " 10  Unnamed: 10                                                                                                               883 non-null    object\n",
      " 11  Unnamed: 11                                                                                                               403 non-null    object\n",
      " 12  Unnamed: 12                                                                                                               1999 non-null   object\n",
      " 13  Unnamed: 13                                                                                                               181 non-null    object\n",
      " 14  What types of purchases are you involved in?                                                                              1723 non-null   object\n",
      " 15  Unnamed: 15                                                                                                               1293 non-null   object\n",
      " 16  Unnamed: 16                                                                                                               3401 non-null   object\n",
      " 17  Unnamed: 17                                                                                                               1656 non-null   object\n",
      " 18  Unnamed: 18                                                                                                               868 non-null    object\n",
      " 19  Unnamed: 19                                                                                                               530 non-null    object\n",
      " 20  What is your budget for outside expenditures (hardware, software, consulting, etc) for 2011?                              3758 non-null   object\n",
      " 21  What type of project are you developing?                                                                                  5560 non-null   object\n",
      " 22  Which languages are you proficient in?                                                                                    2349 non-null   object\n",
      " 23  Unnamed: 23                                                                                                               3128 non-null   object\n",
      " 24  Unnamed: 24                                                                                                               2825 non-null   object\n",
      " 25  Unnamed: 25                                                                                                               1926 non-null   object\n",
      " 26  Unnamed: 26                                                                                                               1211 non-null   object\n",
      " 27  Unnamed: 27                                                                                                               606 non-null    object\n",
      " 28  Unnamed: 28                                                                                                               578 non-null    object\n",
      " 29  Unnamed: 29                                                                                                               3295 non-null   object\n",
      " 30  Unnamed: 30                                                                                                               2469 non-null   object\n",
      " 31  Unnamed: 31                                                                                                               1527 non-null   object\n",
      " 32  Unnamed: 32                                                                                                               1485 non-null   object\n",
      " 33  Unnamed: 33                                                                                                               462 non-null    object\n",
      " 34  Unnamed: 34                                                                                                               2155 non-null   object\n",
      " 35  Unnamed: 35                                                                                                               6 non-null      object\n",
      " 36  Unnamed: 36                                                                                                               872 non-null    object\n",
      " 37  Which desktop operating system do you use the most?                                                                       5548 non-null   object\n",
      " 38  What best describes your career / job satisfaction?                                                                       5445 non-null   object\n",
      " 39  Including bonus, what is your annual compensation in USD?                                                                 5238 non-null   object\n",
      " 40  Have you visited / Are you aware of Stack Overflow Careers?                                                               5444 non-null   object\n",
      " 41  Do you have a Stack Overflow Careers Profile?                                                                             5444 non-null   object\n",
      " 42  You answered you don't have a Careers profile, can you elaborate why?                                                     2049 non-null   object\n",
      " 43  Unnamed: 43                                                                                                               329 non-null    object\n",
      " 44  Which technology products do you own? (You can choose more than one)                                                      1754 non-null   object\n",
      " 45  Unnamed: 45                                                                                                               2472 non-null   object\n",
      " 46  Unnamed: 46                                                                                                               311 non-null    object\n",
      " 47  Unnamed: 47                                                                                                               407 non-null    object\n",
      " 48  Unnamed: 48                                                                                                               386 non-null    object\n",
      " 49  Unnamed: 49                                                                                                               1005 non-null   object\n",
      " 50  Unnamed: 50                                                                                                               1058 non-null   object\n",
      " 51  Unnamed: 51                                                                                                               155 non-null    object\n",
      " 52  Unnamed: 52                                                                                                               313 non-null    object\n",
      " 53  Unnamed: 53                                                                                                               90 non-null     object\n",
      " 54  Unnamed: 54                                                                                                               615 non-null    object\n",
      " 55  Unnamed: 55                                                                                                               1012 non-null   object\n",
      " 56  Unnamed: 56                                                                                                               855 non-null    object\n",
      " 57  Unnamed: 57                                                                                                               1213 non-null   object\n",
      " 58  Unnamed: 58                                                                                                               1426 non-null   object\n",
      " 59  Unnamed: 59                                                                                                               601 non-null    object\n",
      " 60  Unnamed: 60                                                                                                               114 non-null    object\n",
      " 61  Unnamed: 61                                                                                                               1226 non-null   object\n",
      " 62  Unnamed: 62                                                                                                               424 non-null    object\n",
      " 63  Unnamed: 63                                                                                                               403 non-null    object\n",
      " 64  In the last 12 months, how much money have you spent on personal technology-related purchases?                            5298 non-null   object\n",
      " 65  Please rate the advertising you've seen on Stack Overflow                                                                 5157 non-null   object\n",
      " 66  Unnamed: 66                                                                                                               5162 non-null   object\n",
      " 67  Unnamed: 67                                                                                                               5160 non-null   object\n",
      " 68  Unnamed: 68                                                                                                               5173 non-null   object\n",
      " 69  Unnamed: 69                                                                                                               5150 non-null   object\n",
      " 70  Unnamed: 70                                                                                                               5108 non-null   object\n",
      " 71  What advertisers do you remember seeing on Stack Overflow?                                                                1981 non-null   object\n",
      " 72  What is your current Stack Overflow reputation?                                                                           5143 non-null   object\n",
      " 73  Which of our sites do you frequent most?                                                                                  5197 non-null   object\n",
      " 74  Unnamed: 74                                                                                                               253 non-null    object\n",
      "dtypes: object(75)\n",
      "memory usage: 3.6+ MB\n",
      "<class 'pandas.core.frame.DataFrame'>\n",
      "RangeIndex: 9743 entries, 0 to 9742\n",
      "Columns: 128 entries, What Country or Region do you live in? to Unnamed: 127\n",
      "dtypes: object(128)\n",
      "memory usage: 9.5+ MB\n",
      "<class 'pandas.core.frame.DataFrame'>\n",
      "RangeIndex: 7644 entries, 0 to 7643\n",
      "Columns: 120 entries, What Country do you live in? to How often do you find solutions to your programming problems on Stack Overflow without asking a new question?\n",
      "dtypes: object(120)\n",
      "memory usage: 7.0+ MB\n",
      "<class 'pandas.core.frame.DataFrame'>\n",
      "RangeIndex: 26087 entries, 0 to 26086\n",
      "Columns: 222 entries, Unnamed: 0 to Unnamed: 221\n",
      "dtypes: object(222)\n",
      "memory usage: 44.2+ MB\n",
      "<class 'pandas.core.frame.DataFrame'>\n",
      "RangeIndex: 56030 entries, 0 to 56029\n",
      "Data columns (total 66 columns):\n",
      " #   Column                            Non-Null Count  Dtype  \n",
      "---  ------                            --------------  -----  \n",
      " 0   Unnamed: 0                        56030 non-null  int64  \n",
      " 1   collector                         56030 non-null  object \n",
      " 2   country                           55528 non-null  object \n",
      " 3   un_subregion                      55313 non-null  object \n",
      " 4   so_region                         55390 non-null  object \n",
      " 5   age_range                         55727 non-null  object \n",
      " 6   age_midpoint                      55336 non-null  float64\n",
      " 7   gender                            55586 non-null  object \n",
      " 8   self_identification               54202 non-null  object \n",
      " 9   occupation                        49519 non-null  object \n",
      " 10  occupation_group                  46934 non-null  object \n",
      " 11  experience_range                  49520 non-null  object \n",
      " 12  experience_midpoint               49520 non-null  float64\n",
      " 13  salary_range                      46121 non-null  object \n",
      " 14  salary_midpoint                   41742 non-null  float64\n",
      " 15  big_mac_index                     48825 non-null  float64\n",
      " 16  tech_do                           49025 non-null  object \n",
      " 17  tech_want                         47952 non-null  object \n",
      " 18  aliens                            49177 non-null  object \n",
      " 19  programming_ability               46982 non-null  float64\n",
      " 20  employment_status                 49576 non-null  object \n",
      " 21  industry                          40110 non-null  object \n",
      " 22  company_size_range                39932 non-null  object \n",
      " 23  team_size_range                   39962 non-null  object \n",
      " 24  women_on_team                     39808 non-null  object \n",
      " 25  remote                            40118 non-null  object \n",
      " 26  job_satisfaction                  40110 non-null  object \n",
      " 27  job_discovery                     40027 non-null  object \n",
      " 28  dev_environment                   45713 non-null  object \n",
      " 29  commit_frequency                  46598 non-null  object \n",
      " 30  hobby                             46673 non-null  object \n",
      " 31  dogs_vs_cats                      45239 non-null  object \n",
      " 32  desktop_os                        46451 non-null  object \n",
      " 33  unit_testing                      46657 non-null  object \n",
      " 34  rep_range                         46143 non-null  object \n",
      " 35  visit_frequency                   46154 non-null  object \n",
      " 36  why_learn_new_tech                46145 non-null  object \n",
      " 37  education                         44955 non-null  object \n",
      " 38  open_to_new_job                   44380 non-null  object \n",
      " 39  new_job_value                     43658 non-null  object \n",
      " 40  job_search_annoyance              42851 non-null  object \n",
      " 41  interview_likelihood              42263 non-null  object \n",
      " 42  how_to_improve_interview_process  41041 non-null  object \n",
      " 43  star_wars_vs_star_trek            34398 non-null  object \n",
      " 44  agree_tech                        42662 non-null  object \n",
      " 45  agree_notice                      42755 non-null  object \n",
      " 46  agree_problemsolving              42659 non-null  object \n",
      " 47  agree_diversity                   42505 non-null  object \n",
      " 48  agree_adblocker                   42627 non-null  object \n",
      " 49  agree_alcohol                     42692 non-null  object \n",
      " 50  agree_loveboss                    42096 non-null  object \n",
      " 51  agree_nightcode                   42613 non-null  object \n",
      " 52  agree_legacy                      42382 non-null  object \n",
      " 53  agree_mars                        42685 non-null  object \n",
      " 54  important_variety                 42628 non-null  object \n",
      " 55  important_control                 42572 non-null  object \n",
      " 56  important_sameend                 42531 non-null  object \n",
      " 57  important_newtech                 42604 non-null  object \n",
      " 58  important_buildnew                42538 non-null  object \n",
      " 59  important_buildexisting           42580 non-null  object \n",
      " 60  important_promotion               42483 non-null  object \n",
      " 61  important_companymission          42529 non-null  object \n",
      " 62  important_wfh                     42582 non-null  object \n",
      " 63  important_ownoffice               42538 non-null  object \n",
      " 64  developer_challenges              41096 non-null  object \n",
      " 65  why_stack_overflow                41793 non-null  object \n",
      "dtypes: float64(5), int64(1), object(60)\n",
      "memory usage: 28.2+ MB\n",
      "<class 'pandas.core.frame.DataFrame'>\n",
      "RangeIndex: 51392 entries, 0 to 51391\n",
      "Columns: 154 entries, Respondent to ExpectedSalary\n",
      "dtypes: float64(6), int64(1), object(147)\n",
      "memory usage: 60.4+ MB\n",
      "<class 'pandas.core.frame.DataFrame'>\n",
      "RangeIndex: 98855 entries, 0 to 98854\n",
      "Columns: 129 entries, Respondent to SurveyEasy\n",
      "dtypes: float64(41), int64(1), object(87)\n",
      "memory usage: 97.3+ MB\n",
      "<class 'pandas.core.frame.DataFrame'>\n",
      "RangeIndex: 88883 entries, 0 to 88882\n",
      "Data columns (total 85 columns):\n",
      " #   Column                  Non-Null Count  Dtype  \n",
      "---  ------                  --------------  -----  \n",
      " 0   Respondent              88883 non-null  int64  \n",
      " 1   MainBranch              88331 non-null  object \n",
      " 2   Hobbyist                88883 non-null  object \n",
      " 3   OpenSourcer             88883 non-null  object \n",
      " 4   OpenSource              86842 non-null  object \n",
      " 5   Employment              87181 non-null  object \n",
      " 6   Country                 88751 non-null  object \n",
      " 7   Student                 87014 non-null  object \n",
      " 8   EdLevel                 86390 non-null  object \n",
      " 9   UndergradMajor          75614 non-null  object \n",
      " 10  EduOther                84260 non-null  object \n",
      " 11  OrgSize                 71791 non-null  object \n",
      " 12  DevType                 81335 non-null  object \n",
      " 13  YearsCode               87938 non-null  object \n",
      " 14  Age1stCode              87634 non-null  object \n",
      " 15  YearsCodePro            74331 non-null  object \n",
      " 16  CareerSat               72847 non-null  object \n",
      " 17  JobSat                  70988 non-null  object \n",
      " 18  MgrIdiot                61159 non-null  object \n",
      " 19  MgrMoney                61157 non-null  object \n",
      " 20  MgrWant                 61232 non-null  object \n",
      " 21  JobSeek                 80555 non-null  object \n",
      " 22  LastHireDate            79854 non-null  object \n",
      " 23  LastInt                 67155 non-null  object \n",
      " 24  FizzBuzz                71344 non-null  object \n",
      " 25  JobFactors              79371 non-null  object \n",
      " 26  ResumeUpdate            77877 non-null  object \n",
      " 27  CurrencySymbol          71392 non-null  object \n",
      " 28  CurrencyDesc            71392 non-null  object \n",
      " 29  CompTotal               55945 non-null  float64\n",
      " 30  CompFreq                63268 non-null  object \n",
      " 31  ConvertedComp           55823 non-null  float64\n",
      " 32  WorkWeekHrs             64503 non-null  float64\n",
      " 33  WorkPlan                68914 non-null  object \n",
      " 34  WorkChallenge           68141 non-null  object \n",
      " 35  WorkRemote              70284 non-null  object \n",
      " 36  WorkLoc                 70055 non-null  object \n",
      " 37  ImpSyn                  71779 non-null  object \n",
      " 38  CodeRev                 70390 non-null  object \n",
      " 39  CodeRevHrs              49790 non-null  float64\n",
      " 40  UnitTests               62668 non-null  object \n",
      " 41  PurchaseHow             61108 non-null  object \n",
      " 42  PurchaseWhat            62029 non-null  object \n",
      " 43  LanguageWorkedWith      87569 non-null  object \n",
      " 44  LanguageDesireNextYear  84088 non-null  object \n",
      " 45  DatabaseWorkedWith      76026 non-null  object \n",
      " 46  DatabaseDesireNextYear  69147 non-null  object \n",
      " 47  PlatformWorkedWith      80714 non-null  object \n",
      " 48  PlatformDesireNextYear  77443 non-null  object \n",
      " 49  WebFrameWorkedWith      65022 non-null  object \n",
      " 50  WebFrameDesireNextYear  62944 non-null  object \n",
      " 51  MiscTechWorkedWith      59586 non-null  object \n",
      " 52  MiscTechDesireNextYear  64511 non-null  object \n",
      " 53  DevEnviron              87317 non-null  object \n",
      " 54  OpSys                   87851 non-null  object \n",
      " 55  Containers              85366 non-null  object \n",
      " 56  BlockchainOrg           48175 non-null  object \n",
      " 57  BlockchainIs            60165 non-null  object \n",
      " 58  BetterLife              86269 non-null  object \n",
      " 59  ITperson                87141 non-null  object \n",
      " 60  OffOn                   86663 non-null  object \n",
      " 61  SocialMedia             84437 non-null  object \n",
      " 62  Extraversion            87305 non-null  object \n",
      " 63  ScreenName              80486 non-null  object \n",
      " 64  SOVisit1st              83877 non-null  object \n",
      " 65  SOVisitFreq             88263 non-null  object \n",
      " 66  SOVisitTo               88086 non-null  object \n",
      " 67  SOFindAnswer            87816 non-null  object \n",
      " 68  SOTimeSaved             86344 non-null  object \n",
      " 69  SOHowMuchTime           68378 non-null  object \n",
      " 70  SOAccount               87828 non-null  object \n",
      " 71  SOPartFreq              74692 non-null  object \n",
      " 72  SOJobs                  88066 non-null  object \n",
      " 73  EntTeams                87841 non-null  object \n",
      " 74  SOComm                  88131 non-null  object \n",
      " 75  WelcomeChange           85855 non-null  object \n",
      " 76  SONewContent            69560 non-null  object \n",
      " 77  Age                     79210 non-null  float64\n",
      " 78  Gender                  85406 non-null  object \n",
      " 79  Trans                   83607 non-null  object \n",
      " 80  Sexuality               76147 non-null  object \n",
      " 81  Ethnicity               76668 non-null  object \n",
      " 82  Dependents              83059 non-null  object \n",
      " 83  SurveyLength            86984 non-null  object \n",
      " 84  SurveyEase              87081 non-null  object \n",
      "dtypes: float64(5), int64(1), object(79)\n",
      "memory usage: 57.6+ MB\n",
      "<class 'pandas.core.frame.DataFrame'>\n",
      "RangeIndex: 64461 entries, 0 to 64460\n",
      "Data columns (total 61 columns):\n",
      " #   Column                        Non-Null Count  Dtype  \n",
      "---  ------                        --------------  -----  \n",
      " 0   Respondent                    64461 non-null  int64  \n",
      " 1   MainBranch                    64162 non-null  object \n",
      " 2   Hobbyist                      64416 non-null  object \n",
      " 3   Age                           45446 non-null  float64\n",
      " 4   Age1stCode                    57900 non-null  object \n",
      " 5   CompFreq                      40069 non-null  object \n",
      " 6   CompTotal                     34826 non-null  float64\n",
      " 7   ConvertedComp                 34756 non-null  float64\n",
      " 8   Country                       64072 non-null  object \n",
      " 9   CurrencyDesc                  45472 non-null  object \n",
      " 10  CurrencySymbol                45472 non-null  object \n",
      " 11  DatabaseDesireNextYear        44070 non-null  object \n",
      " 12  DatabaseWorkedWith            49537 non-null  object \n",
      " 13  DevType                       49370 non-null  object \n",
      " 14  EdLevel                       57431 non-null  object \n",
      " 15  Employment                    63854 non-null  object \n",
      " 16  Ethnicity                     45948 non-null  object \n",
      " 17  Gender                        50557 non-null  object \n",
      " 18  JobFactors                    49349 non-null  object \n",
      " 19  JobSat                        45194 non-null  object \n",
      " 20  JobSeek                       51727 non-null  object \n",
      " 21  LanguageDesireNextYear        54113 non-null  object \n",
      " 22  LanguageWorkedWith            57378 non-null  object \n",
      " 23  MiscTechDesireNextYear        42379 non-null  object \n",
      " 24  MiscTechWorkedWith            40314 non-null  object \n",
      " 25  NEWCollabToolsDesireNextYear  47287 non-null  object \n",
      " 26  NEWCollabToolsWorkedWith      52883 non-null  object \n",
      " 27  NEWDevOps                     42686 non-null  object \n",
      " 28  NEWDevOpsImpt                 41732 non-null  object \n",
      " 29  NEWEdImpt                     48465 non-null  object \n",
      " 30  NEWJobHunt                    42286 non-null  object \n",
      " 31  NEWJobHuntResearch            41022 non-null  object \n",
      " 32  NEWLearn                      56156 non-null  object \n",
      " 33  NEWOffTopic                   50804 non-null  object \n",
      " 34  NEWOnboardGood                42623 non-null  object \n",
      " 35  NEWOtherComms                 57205 non-null  object \n",
      " 36  NEWOvertime                   43231 non-null  object \n",
      " 37  NEWPurchaseResearch           37321 non-null  object \n",
      " 38  NEWPurpleLink                 54803 non-null  object \n",
      " 39  NEWSOSites                    58275 non-null  object \n",
      " 40  NEWStuck                      54983 non-null  object \n",
      " 41  OpSys                         56228 non-null  object \n",
      " 42  OrgSize                       44334 non-null  object \n",
      " 43  PlatformDesireNextYear        50605 non-null  object \n",
      " 44  PlatformWorkedWith            53843 non-null  object \n",
      " 45  PurchaseWhat                  39364 non-null  object \n",
      " 46  Sexuality                     43992 non-null  object \n",
      " 47  SOAccount                     56805 non-null  object \n",
      " 48  SOComm                        56476 non-null  object \n",
      " 49  SOPartFreq                    46792 non-null  object \n",
      " 50  SOVisitFreq                   56970 non-null  object \n",
      " 51  SurveyEase                    51802 non-null  object \n",
      " 52  SurveyLength                  51701 non-null  object \n",
      " 53  Trans                         49345 non-null  object \n",
      " 54  UndergradMajor                50995 non-null  object \n",
      " 55  WebframeDesireNextYear        40024 non-null  object \n",
      " 56  WebframeWorkedWith            42279 non-null  object \n",
      " 57  WelcomeChange                 52683 non-null  object \n",
      " 58  WorkWeekHrs                   41151 non-null  float64\n",
      " 59  YearsCode                     57684 non-null  object \n",
      " 60  YearsCodePro                  46349 non-null  object \n",
      "dtypes: float64(4), int64(1), object(56)\n",
      "memory usage: 30.0+ MB\n",
      "<class 'pandas.core.frame.DataFrame'>\n",
      "RangeIndex: 83439 entries, 0 to 83438\n",
      "Data columns (total 48 columns):\n",
      " #   Column                        Non-Null Count  Dtype  \n",
      "---  ------                        --------------  -----  \n",
      " 0   ResponseId                    83439 non-null  int64  \n",
      " 1   MainBranch                    83439 non-null  object \n",
      " 2   Employment                    83323 non-null  object \n",
      " 3   Country                       83439 non-null  object \n",
      " 4   US_State                      14920 non-null  object \n",
      " 5   UK_Country                    4418 non-null   object \n",
      " 6   EdLevel                       83126 non-null  object \n",
      " 7   Age1stCode                    83243 non-null  object \n",
      " 8   LearnCode                     82963 non-null  object \n",
      " 9   YearsCode                     81641 non-null  object \n",
      " 10  YearsCodePro                  61216 non-null  object \n",
      " 11  DevType                       66484 non-null  object \n",
      " 12  OrgSize                       60726 non-null  object \n",
      " 13  Currency                      61080 non-null  object \n",
      " 14  CompTotal                     47183 non-null  float64\n",
      " 15  CompFreq                      52150 non-null  object \n",
      " 16  LanguageHaveWorkedWith        82357 non-null  object \n",
      " 17  LanguageWantToWorkWith        76821 non-null  object \n",
      " 18  DatabaseHaveWorkedWith        69546 non-null  object \n",
      " 19  DatabaseWantToWorkWith        58299 non-null  object \n",
      " 20  PlatformHaveWorkedWith        52135 non-null  object \n",
      " 21  PlatformWantToWorkWith        41619 non-null  object \n",
      " 22  WebframeHaveWorkedWith        61707 non-null  object \n",
      " 23  WebframeWantToWorkWith        52095 non-null  object \n",
      " 24  MiscTechHaveWorkedWith        47055 non-null  object \n",
      " 25  MiscTechWantToWorkWith        38021 non-null  object \n",
      " 26  ToolsTechHaveWorkedWith       72537 non-null  object \n",
      " 27  ToolsTechWantToWorkWith       65480 non-null  object \n",
      " 28  NEWCollabToolsHaveWorkedWith  81234 non-null  object \n",
      " 29  NEWCollabToolsWantToWorkWith  73022 non-null  object \n",
      " 30  OpSys                         83294 non-null  object \n",
      " 31  NEWStuck                      83052 non-null  object \n",
      " 32  NEWSOSites                    83171 non-null  object \n",
      " 33  SOVisitFreq                   82413 non-null  object \n",
      " 34  SOAccount                     82525 non-null  object \n",
      " 35  SOPartFreq                    67553 non-null  object \n",
      " 36  SOComm                        82319 non-null  object \n",
      " 37  NEWOtherComms                 82828 non-null  object \n",
      " 38  Age                           82407 non-null  object \n",
      " 39  Gender                        82286 non-null  object \n",
      " 40  Trans                         80678 non-null  object \n",
      " 41  Sexuality                     73366 non-null  object \n",
      " 42  Ethnicity                     79464 non-null  object \n",
      " 43  Accessibility                 77603 non-null  object \n",
      " 44  MentalHealth                  76920 non-null  object \n",
      " 45  SurveyLength                  81711 non-null  object \n",
      " 46  SurveyEase                    81948 non-null  object \n",
      " 47  ConvertedCompYearly           46844 non-null  float64\n",
      "dtypes: float64(2), int64(1), object(45)\n",
      "memory usage: 30.6+ MB\n"
     ]
    }
   ],
   "source": [
    "# Go through each dataframe looking at the description\n",
    "for year, df in df_surveys_11_to_21.items():\n",
    "    df.info()\n"
   ],
   "metadata": {
    "collapsed": false,
    "pycharm": {
     "name": "#%%\n"
    }
   }
  },
  {
   "cell_type": "markdown",
   "source": [
    "## Data Cleaning\n",
    "\n",
    "Now I should clean the data, knowing that a lot of null values are there and no\n"
   ],
   "metadata": {
    "collapsed": false,
    "pycharm": {
     "name": "#%% md\n"
    }
   }
  },
  {
   "cell_type": "code",
   "execution_count": 20,
   "outputs": [
    {
     "data": {
      "text/plain": "  What Country or Region do you live in?  \\\n0                               Response   \n1                         United Kingdom   \n2               United States of America   \n3               United States of America   \n4                                Germany   \n\n  Which US State or Territory do you live in? How old are you?  \\\n0                                    Response         Response   \n1                                         NaN            35-39   \n2                                      Oregon            25-29   \n3                                   Wisconsin            51-60   \n4                                         NaN              NaN   \n\n  How many years of IT/Programming experience do you have?  \\\n0                                           Response         \n1                                          6/10/2013         \n2                                          6/10/2013         \n3                                                 11         \n4                                                NaN         \n\n  How would you best describe the industry you currently work in?  \\\n0                                           Response                \n1                                  Finance / Banking                \n2                                             Retail                \n3                                  Software Products                \n4                                                NaN                \n\n  How many people work for your company?  \\\n0                               Response   \n1                                101-999   \n2                                101-999   \n3                                 26-100   \n4                                    NaN   \n\n  Which of the following best describes your occupation?  \\\n0                                           Response       \n1                          Enterprise Level Services       \n2                             Back-End Web Developer       \n3                          Enterprise Level Services       \n4                                                NaN       \n\n  Including yourself, how many developers are employed at your company?  \\\n0                                           Response                      \n1                                                100                      \n2                                          6/15/2013                      \n3                                          6/15/2013                      \n4                                                NaN                      \n\n  How large is the team that you work on?  \\\n0                                Response   \n1                                4/8/2013   \n2                                4/8/2013   \n3                                Just me!   \n4                                     NaN   \n\n  What other departments / roles do you interact with regularly?  ...  \\\n0                              System Administrators              ...   \n1                              System Administrators              ...   \n2                              System Administrators              ...   \n3                              System Administrators              ...   \n4                                                NaN              ...   \n\n              Unnamed: 118                     Unnamed: 119  \\\n0  The ads are Informative  I click on ads that interest me   \n1                  Neutral                          Neutral   \n2                  Neutral                            Agree   \n3                  Neutral                Strongly Disagree   \n4                      NaN                              NaN   \n\n                                      Unnamed: 120  \\\n0  I've taken a trial/purchased a product from ads   \n1                                          Neutral   \n2                                         Disagree   \n3                                Strongly Disagree   \n4                                              NaN   \n\n                    Unnamed: 121  \\\n0  What ads? I use an ad blocker   \n1                        Neutral   \n2                        Neutral   \n3              Strongly Disagree   \n4                            NaN   \n\n  What advertisers do you remember seeing on Stack Overflow?  \\\n0                                Open-Ended Response           \n1                                                NaN           \n2  StackOverflow themselves, Careers 2.0 (SO also...           \n3          don't recall seeing ads on Stack Overflow           \n4                                                NaN           \n\n  What is your current Stack Overflow reputation?  \\\n0                                        Response   \n1                           Don't have an account   \n2                                               1   \n3                           Don't have an account   \n4                                             NaN   \n\n                      How do you use Stack Overflow?  \\\n0  Read other people's questions to solve my prob...   \n1  Read other people's questions to solve my prob...   \n2  Read other people's questions to solve my prob...   \n3  Read other people's questions to solve my prob...   \n4                                                NaN   \n\n                      Unnamed: 125                           Unnamed: 126  \\\n0  Ask questions to solve problems  Answer questions I know the answer to   \n1                              NaN                                    NaN   \n2  Ask questions to solve problems  Answer questions I know the answer to   \n3                              NaN                                    NaN   \n4                              NaN                                    NaN   \n\n             Unnamed: 127  \n0  Other (please specify)  \n1                     NaN  \n2                     NaN  \n3                     NaN  \n4                     NaN  \n\n[5 rows x 128 columns]",
      "text/html": "<div>\n<style scoped>\n    .dataframe tbody tr th:only-of-type {\n        vertical-align: middle;\n    }\n\n    .dataframe tbody tr th {\n        vertical-align: top;\n    }\n\n    .dataframe thead th {\n        text-align: right;\n    }\n</style>\n<table border=\"1\" class=\"dataframe\">\n  <thead>\n    <tr style=\"text-align: right;\">\n      <th></th>\n      <th>What Country or Region do you live in?</th>\n      <th>Which US State or Territory do you live in?</th>\n      <th>How old are you?</th>\n      <th>How many years of IT/Programming experience do you have?</th>\n      <th>How would you best describe the industry you currently work in?</th>\n      <th>How many people work for your company?</th>\n      <th>Which of the following best describes your occupation?</th>\n      <th>Including yourself, how many developers are employed at your company?</th>\n      <th>How large is the team that you work on?</th>\n      <th>What other departments / roles do you interact with regularly?</th>\n      <th>...</th>\n      <th>Unnamed: 118</th>\n      <th>Unnamed: 119</th>\n      <th>Unnamed: 120</th>\n      <th>Unnamed: 121</th>\n      <th>What advertisers do you remember seeing on Stack Overflow?</th>\n      <th>What is your current Stack Overflow reputation?</th>\n      <th>How do you use Stack Overflow?</th>\n      <th>Unnamed: 125</th>\n      <th>Unnamed: 126</th>\n      <th>Unnamed: 127</th>\n    </tr>\n  </thead>\n  <tbody>\n    <tr>\n      <th>0</th>\n      <td>Response</td>\n      <td>Response</td>\n      <td>Response</td>\n      <td>Response</td>\n      <td>Response</td>\n      <td>Response</td>\n      <td>Response</td>\n      <td>Response</td>\n      <td>Response</td>\n      <td>System Administrators</td>\n      <td>...</td>\n      <td>The ads are Informative</td>\n      <td>I click on ads that interest me</td>\n      <td>I've taken a trial/purchased a product from ads</td>\n      <td>What ads? I use an ad blocker</td>\n      <td>Open-Ended Response</td>\n      <td>Response</td>\n      <td>Read other people's questions to solve my prob...</td>\n      <td>Ask questions to solve problems</td>\n      <td>Answer questions I know the answer to</td>\n      <td>Other (please specify)</td>\n    </tr>\n    <tr>\n      <th>1</th>\n      <td>United Kingdom</td>\n      <td>NaN</td>\n      <td>35-39</td>\n      <td>6/10/2013</td>\n      <td>Finance / Banking</td>\n      <td>101-999</td>\n      <td>Enterprise Level Services</td>\n      <td>100</td>\n      <td>4/8/2013</td>\n      <td>System Administrators</td>\n      <td>...</td>\n      <td>Neutral</td>\n      <td>Neutral</td>\n      <td>Neutral</td>\n      <td>Neutral</td>\n      <td>NaN</td>\n      <td>Don't have an account</td>\n      <td>Read other people's questions to solve my prob...</td>\n      <td>NaN</td>\n      <td>NaN</td>\n      <td>NaN</td>\n    </tr>\n    <tr>\n      <th>2</th>\n      <td>United States of America</td>\n      <td>Oregon</td>\n      <td>25-29</td>\n      <td>6/10/2013</td>\n      <td>Retail</td>\n      <td>101-999</td>\n      <td>Back-End Web Developer</td>\n      <td>6/15/2013</td>\n      <td>4/8/2013</td>\n      <td>System Administrators</td>\n      <td>...</td>\n      <td>Neutral</td>\n      <td>Agree</td>\n      <td>Disagree</td>\n      <td>Neutral</td>\n      <td>StackOverflow themselves, Careers 2.0 (SO also...</td>\n      <td>1</td>\n      <td>Read other people's questions to solve my prob...</td>\n      <td>Ask questions to solve problems</td>\n      <td>Answer questions I know the answer to</td>\n      <td>NaN</td>\n    </tr>\n    <tr>\n      <th>3</th>\n      <td>United States of America</td>\n      <td>Wisconsin</td>\n      <td>51-60</td>\n      <td>11</td>\n      <td>Software Products</td>\n      <td>26-100</td>\n      <td>Enterprise Level Services</td>\n      <td>6/15/2013</td>\n      <td>Just me!</td>\n      <td>System Administrators</td>\n      <td>...</td>\n      <td>Neutral</td>\n      <td>Strongly Disagree</td>\n      <td>Strongly Disagree</td>\n      <td>Strongly Disagree</td>\n      <td>don't recall seeing ads on Stack Overflow</td>\n      <td>Don't have an account</td>\n      <td>Read other people's questions to solve my prob...</td>\n      <td>NaN</td>\n      <td>NaN</td>\n      <td>NaN</td>\n    </tr>\n    <tr>\n      <th>4</th>\n      <td>Germany</td>\n      <td>NaN</td>\n      <td>NaN</td>\n      <td>NaN</td>\n      <td>NaN</td>\n      <td>NaN</td>\n      <td>NaN</td>\n      <td>NaN</td>\n      <td>NaN</td>\n      <td>NaN</td>\n      <td>...</td>\n      <td>NaN</td>\n      <td>NaN</td>\n      <td>NaN</td>\n      <td>NaN</td>\n      <td>NaN</td>\n      <td>NaN</td>\n      <td>NaN</td>\n      <td>NaN</td>\n      <td>NaN</td>\n      <td>NaN</td>\n    </tr>\n  </tbody>\n</table>\n<p>5 rows × 128 columns</p>\n</div>"
     },
     "execution_count": 20,
     "metadata": {},
     "output_type": "execute_result"
    }
   ],
   "source": [
    "# take a look at data from 2013\n",
    "df_2013.head()"
   ],
   "metadata": {
    "collapsed": false,
    "pycharm": {
     "name": "#%%\n"
    }
   }
  },
  {
   "cell_type": "code",
   "execution_count": 21,
   "outputs": [
    {
     "data": {
      "text/plain": "  What Country do you live in?              Unnamed: 1  \\\n0                     Response  Other (please specify)   \n1                        India                     NaN   \n2                     Thailand                     NaN   \n3                         Iran                     NaN   \n4                      Ukraine                     NaN   \n\n  Which US State or Territory do you live in? How old are you?  \\\n0                                    Response         Response   \n1                                         NaN            30-34   \n2                                         NaN            20-24   \n3                                         NaN            25-29   \n4                                         NaN             < 20   \n\n  What is your gender?  \\\n0             Response   \n1               Female   \n2                 Male   \n3                 Male   \n4                 Male   \n\n  How many years of IT/Programming experience do you have?  \\\n0                                           Response         \n1                                          6/10/2014         \n2                                                 <2         \n3                                          6/10/2014         \n4                                                 <2         \n\n  Which of the following best describes your occupation?  \\\n0                                           Response       \n1                             Back-End Web Developer       \n2                             Back-End Web Developer       \n3                         Desktop Software Developer       \n4                                            Student       \n\n  Including bonus, what is your annual compensation in USD?  \\\n0                                           Response          \n1                                  $20,000 - $40,000          \n2                               Student / Unemployed          \n3                                           <$20,000          \n4                               Student / Unemployed          \n\n  How would you best describe the industry you currently work in?  \\\n0                                           Response                \n1                                  Finance / Banking                \n2                                         Healthcare                \n3                             Not Currently Employed                \n4                                            Student                \n\n  How many developers are employed at your company?  ...  \\\n0                                          Response  ...   \n1                                               100  ...   \n2                                               NaN  ...   \n3                                          1/5/2014  ...   \n4                                               NaN  ...   \n\n  Did you participate in the Apptivate contest?  \\\n0                                      Response   \n1                                            No   \n2                                           NaN   \n3                                            No   \n4                                           NaN   \n\n  What advertisers do you remember seeing on Stack Overflow?  \\\n0                                Open-Ended Response           \n1                                                NaN           \n2                                                NaN           \n3                                           Tehcodez           \n4                                                NaN           \n\n  What is your current Stack Overflow reputation?  \\\n0                                        Response   \n1                                             500   \n2                           Don't have an account   \n3                                               1   \n4                                              50   \n\n                      How do you use Stack Overflow?  \\\n0  Read other people's questions to solve my prob...   \n1  Read other people's questions to solve my prob...   \n2  Read other people's questions to solve my prob...   \n3  Read other people's questions to solve my prob...   \n4  Read other people's questions to solve my prob...   \n\n                      Unnamed: 114                           Unnamed: 115  \\\n0  Ask questions to solve problems  Answer questions I know the answer to   \n1  Ask questions to solve problems                                    NaN   \n2                              NaN                                    NaN   \n3                              NaN                                    NaN   \n4  Ask questions to solve problems                                    NaN   \n\n        Unnamed: 116                Unnamed: 117            Unnamed: 118  \\\n0  Looking for a job  Build my online reputation  Other (please specify)   \n1                NaN                         NaN                     NaN   \n2                NaN                         NaN                     NaN   \n3                NaN                         NaN                     NaN   \n4                NaN                         NaN                     NaN   \n\n  How often do you find solutions to your programming problems on Stack Overflow without asking a new question?  \n0                                           Response                                                             \n1                                      Almost Always                                                             \n2                                                NaN                                                             \n3                                      Almost Always                                                             \n4                                      Almost Always                                                             \n\n[5 rows x 120 columns]",
      "text/html": "<div>\n<style scoped>\n    .dataframe tbody tr th:only-of-type {\n        vertical-align: middle;\n    }\n\n    .dataframe tbody tr th {\n        vertical-align: top;\n    }\n\n    .dataframe thead th {\n        text-align: right;\n    }\n</style>\n<table border=\"1\" class=\"dataframe\">\n  <thead>\n    <tr style=\"text-align: right;\">\n      <th></th>\n      <th>What Country do you live in?</th>\n      <th>Unnamed: 1</th>\n      <th>Which US State or Territory do you live in?</th>\n      <th>How old are you?</th>\n      <th>What is your gender?</th>\n      <th>How many years of IT/Programming experience do you have?</th>\n      <th>Which of the following best describes your occupation?</th>\n      <th>Including bonus, what is your annual compensation in USD?</th>\n      <th>How would you best describe the industry you currently work in?</th>\n      <th>How many developers are employed at your company?</th>\n      <th>...</th>\n      <th>Did you participate in the Apptivate contest?</th>\n      <th>What advertisers do you remember seeing on Stack Overflow?</th>\n      <th>What is your current Stack Overflow reputation?</th>\n      <th>How do you use Stack Overflow?</th>\n      <th>Unnamed: 114</th>\n      <th>Unnamed: 115</th>\n      <th>Unnamed: 116</th>\n      <th>Unnamed: 117</th>\n      <th>Unnamed: 118</th>\n      <th>How often do you find solutions to your programming problems on Stack Overflow without asking a new question?</th>\n    </tr>\n  </thead>\n  <tbody>\n    <tr>\n      <th>0</th>\n      <td>Response</td>\n      <td>Other (please specify)</td>\n      <td>Response</td>\n      <td>Response</td>\n      <td>Response</td>\n      <td>Response</td>\n      <td>Response</td>\n      <td>Response</td>\n      <td>Response</td>\n      <td>Response</td>\n      <td>...</td>\n      <td>Response</td>\n      <td>Open-Ended Response</td>\n      <td>Response</td>\n      <td>Read other people's questions to solve my prob...</td>\n      <td>Ask questions to solve problems</td>\n      <td>Answer questions I know the answer to</td>\n      <td>Looking for a job</td>\n      <td>Build my online reputation</td>\n      <td>Other (please specify)</td>\n      <td>Response</td>\n    </tr>\n    <tr>\n      <th>1</th>\n      <td>India</td>\n      <td>NaN</td>\n      <td>NaN</td>\n      <td>30-34</td>\n      <td>Female</td>\n      <td>6/10/2014</td>\n      <td>Back-End Web Developer</td>\n      <td>$20,000 - $40,000</td>\n      <td>Finance / Banking</td>\n      <td>100</td>\n      <td>...</td>\n      <td>No</td>\n      <td>NaN</td>\n      <td>500</td>\n      <td>Read other people's questions to solve my prob...</td>\n      <td>Ask questions to solve problems</td>\n      <td>NaN</td>\n      <td>NaN</td>\n      <td>NaN</td>\n      <td>NaN</td>\n      <td>Almost Always</td>\n    </tr>\n    <tr>\n      <th>2</th>\n      <td>Thailand</td>\n      <td>NaN</td>\n      <td>NaN</td>\n      <td>20-24</td>\n      <td>Male</td>\n      <td>&lt;2</td>\n      <td>Back-End Web Developer</td>\n      <td>Student / Unemployed</td>\n      <td>Healthcare</td>\n      <td>NaN</td>\n      <td>...</td>\n      <td>NaN</td>\n      <td>NaN</td>\n      <td>Don't have an account</td>\n      <td>Read other people's questions to solve my prob...</td>\n      <td>NaN</td>\n      <td>NaN</td>\n      <td>NaN</td>\n      <td>NaN</td>\n      <td>NaN</td>\n      <td>NaN</td>\n    </tr>\n    <tr>\n      <th>3</th>\n      <td>Iran</td>\n      <td>NaN</td>\n      <td>NaN</td>\n      <td>25-29</td>\n      <td>Male</td>\n      <td>6/10/2014</td>\n      <td>Desktop Software Developer</td>\n      <td>&lt;$20,000</td>\n      <td>Not Currently Employed</td>\n      <td>1/5/2014</td>\n      <td>...</td>\n      <td>No</td>\n      <td>Tehcodez</td>\n      <td>1</td>\n      <td>Read other people's questions to solve my prob...</td>\n      <td>NaN</td>\n      <td>NaN</td>\n      <td>NaN</td>\n      <td>NaN</td>\n      <td>NaN</td>\n      <td>Almost Always</td>\n    </tr>\n    <tr>\n      <th>4</th>\n      <td>Ukraine</td>\n      <td>NaN</td>\n      <td>NaN</td>\n      <td>&lt; 20</td>\n      <td>Male</td>\n      <td>&lt;2</td>\n      <td>Student</td>\n      <td>Student / Unemployed</td>\n      <td>Student</td>\n      <td>NaN</td>\n      <td>...</td>\n      <td>NaN</td>\n      <td>NaN</td>\n      <td>50</td>\n      <td>Read other people's questions to solve my prob...</td>\n      <td>Ask questions to solve problems</td>\n      <td>NaN</td>\n      <td>NaN</td>\n      <td>NaN</td>\n      <td>NaN</td>\n      <td>Almost Always</td>\n    </tr>\n  </tbody>\n</table>\n<p>5 rows × 120 columns</p>\n</div>"
     },
     "execution_count": 21,
     "metadata": {},
     "output_type": "execute_result"
    }
   ],
   "source": [
    "# take a look at data from 2014\n",
    "df_2014.head()"
   ],
   "metadata": {
    "collapsed": false,
    "pycharm": {
     "name": "#%%\n"
    }
   }
  },
  {
   "cell_type": "code",
   "execution_count": 22,
   "outputs": [
    {
     "data": {
      "text/plain": "  Unnamed: 0 Unnamed: 1 Unnamed: 2      Unnamed: 3  \\\n0    Country        Age     Gender  Tabs or Spaces   \n1    Croatia      25-29       Male            Tabs   \n2     France      20-24       Male          Spaces   \n3      India      20-24       Male            Tabs   \n4     Latvia      25-29       Male      It depends   \n\n                          Unnamed: 4              Unnamed: 5  \\\n0  Years IT / Programming Experience              Occupation   \n1                        2 - 5 years  Back-end web developer   \n2                        1 - 2 years  Back-end web developer   \n3                        1 - 2 years  Back-end web developer   \n4                       6 - 10 years  Back-end web developer   \n\n                 Unnamed: 6                          Unnamed: 7  \\\n0  Desktop Operating System  Desktop Operating System: write-in   \n1                    Ubuntu                                 NaN   \n2                 Windows 7                                 NaN   \n3                 Windows 7                                 NaN   \n4                    Ubuntu                                 NaN   \n\n          Select all that apply                    Unnamed: 9  ...  \\\n0  Current Lang & Tech: Android  Current Lang & Tech: Arduino  ...   \n1                           NaN                           NaN  ...   \n2                           NaN                           NaN  ...   \n3                           NaN                           NaN  ...   \n4                           NaN                           NaN  ...   \n\n                                        Unnamed: 212  \\\n0  Why use Stack Overflow: I don't use Stack Over...   \n1                                                NaN   \n2                                                NaN   \n3                                                NaN   \n4                                                NaN   \n\n                                     Unnamed: 213  \\\n0  How often are Stack Overflow's answers helpful   \n1                                         Usually   \n2                                         Usually   \n3                                          Rarely   \n4                                         Usually   \n\n                      Select all that apply.7  \\\n0       Why answer: Help a programmer in need   \n1                                         NaN   \n2                                         NaN   \n3                                         NaN   \n4  It feels good to help a programmer in need   \n\n                                        Unnamed: 215  \\\n0                Why answer: Help future programmers   \n1                                                NaN   \n2  My answer will help lots of people who have th...   \n3                                                NaN   \n4  My answer will help lots of people who have th...   \n\n                                 Unnamed: 216  \\\n0           Why answer: Demonstrate expertise   \n1  It feels good to demonstrate my expertise.   \n2  It feels good to demonstrate my expertise.   \n3                                         NaN   \n4  It feels good to demonstrate my expertise.   \n\n                                 Unnamed: 217  \\\n0                  Why answer: Self promotion   \n1  Demonstrating my expertise will benefit me   \n2                                         NaN   \n3  Demonstrating my expertise will benefit me   \n4  Demonstrating my expertise will benefit me   \n\n                                        Unnamed: 218         Unnamed: 219  \\\n0  Why answer: Sense of responsibility to developers  Why answer: No idea   \n1  I feel a sense of responsibility to the develo...                  NaN   \n2                                                NaN                  NaN   \n3                                                NaN                  NaN   \n4  I feel a sense of responsibility to the develo...                  NaN   \n\n                                     Unnamed: 220  \\\n0  Why answer: I don't answer and I don't want to   \n1                                             NaN   \n2                                             NaN   \n3                                             NaN   \n4                                             NaN   \n\n                               Unnamed: 221  \n0  Why answer: I don't answer but I want to  \n1                                       NaN  \n2                                       NaN  \n3                                       NaN  \n4                                       NaN  \n\n[5 rows x 222 columns]",
      "text/html": "<div>\n<style scoped>\n    .dataframe tbody tr th:only-of-type {\n        vertical-align: middle;\n    }\n\n    .dataframe tbody tr th {\n        vertical-align: top;\n    }\n\n    .dataframe thead th {\n        text-align: right;\n    }\n</style>\n<table border=\"1\" class=\"dataframe\">\n  <thead>\n    <tr style=\"text-align: right;\">\n      <th></th>\n      <th>Unnamed: 0</th>\n      <th>Unnamed: 1</th>\n      <th>Unnamed: 2</th>\n      <th>Unnamed: 3</th>\n      <th>Unnamed: 4</th>\n      <th>Unnamed: 5</th>\n      <th>Unnamed: 6</th>\n      <th>Unnamed: 7</th>\n      <th>Select all that apply</th>\n      <th>Unnamed: 9</th>\n      <th>...</th>\n      <th>Unnamed: 212</th>\n      <th>Unnamed: 213</th>\n      <th>Select all that apply.7</th>\n      <th>Unnamed: 215</th>\n      <th>Unnamed: 216</th>\n      <th>Unnamed: 217</th>\n      <th>Unnamed: 218</th>\n      <th>Unnamed: 219</th>\n      <th>Unnamed: 220</th>\n      <th>Unnamed: 221</th>\n    </tr>\n  </thead>\n  <tbody>\n    <tr>\n      <th>0</th>\n      <td>Country</td>\n      <td>Age</td>\n      <td>Gender</td>\n      <td>Tabs or Spaces</td>\n      <td>Years IT / Programming Experience</td>\n      <td>Occupation</td>\n      <td>Desktop Operating System</td>\n      <td>Desktop Operating System: write-in</td>\n      <td>Current Lang &amp; Tech: Android</td>\n      <td>Current Lang &amp; Tech: Arduino</td>\n      <td>...</td>\n      <td>Why use Stack Overflow: I don't use Stack Over...</td>\n      <td>How often are Stack Overflow's answers helpful</td>\n      <td>Why answer: Help a programmer in need</td>\n      <td>Why answer: Help future programmers</td>\n      <td>Why answer: Demonstrate expertise</td>\n      <td>Why answer: Self promotion</td>\n      <td>Why answer: Sense of responsibility to developers</td>\n      <td>Why answer: No idea</td>\n      <td>Why answer: I don't answer and I don't want to</td>\n      <td>Why answer: I don't answer but I want to</td>\n    </tr>\n    <tr>\n      <th>1</th>\n      <td>Croatia</td>\n      <td>25-29</td>\n      <td>Male</td>\n      <td>Tabs</td>\n      <td>2 - 5 years</td>\n      <td>Back-end web developer</td>\n      <td>Ubuntu</td>\n      <td>NaN</td>\n      <td>NaN</td>\n      <td>NaN</td>\n      <td>...</td>\n      <td>NaN</td>\n      <td>Usually</td>\n      <td>NaN</td>\n      <td>NaN</td>\n      <td>It feels good to demonstrate my expertise.</td>\n      <td>Demonstrating my expertise will benefit me</td>\n      <td>I feel a sense of responsibility to the develo...</td>\n      <td>NaN</td>\n      <td>NaN</td>\n      <td>NaN</td>\n    </tr>\n    <tr>\n      <th>2</th>\n      <td>France</td>\n      <td>20-24</td>\n      <td>Male</td>\n      <td>Spaces</td>\n      <td>1 - 2 years</td>\n      <td>Back-end web developer</td>\n      <td>Windows 7</td>\n      <td>NaN</td>\n      <td>NaN</td>\n      <td>NaN</td>\n      <td>...</td>\n      <td>NaN</td>\n      <td>Usually</td>\n      <td>NaN</td>\n      <td>My answer will help lots of people who have th...</td>\n      <td>It feels good to demonstrate my expertise.</td>\n      <td>NaN</td>\n      <td>NaN</td>\n      <td>NaN</td>\n      <td>NaN</td>\n      <td>NaN</td>\n    </tr>\n    <tr>\n      <th>3</th>\n      <td>India</td>\n      <td>20-24</td>\n      <td>Male</td>\n      <td>Tabs</td>\n      <td>1 - 2 years</td>\n      <td>Back-end web developer</td>\n      <td>Windows 7</td>\n      <td>NaN</td>\n      <td>NaN</td>\n      <td>NaN</td>\n      <td>...</td>\n      <td>NaN</td>\n      <td>Rarely</td>\n      <td>NaN</td>\n      <td>NaN</td>\n      <td>NaN</td>\n      <td>Demonstrating my expertise will benefit me</td>\n      <td>NaN</td>\n      <td>NaN</td>\n      <td>NaN</td>\n      <td>NaN</td>\n    </tr>\n    <tr>\n      <th>4</th>\n      <td>Latvia</td>\n      <td>25-29</td>\n      <td>Male</td>\n      <td>It depends</td>\n      <td>6 - 10 years</td>\n      <td>Back-end web developer</td>\n      <td>Ubuntu</td>\n      <td>NaN</td>\n      <td>NaN</td>\n      <td>NaN</td>\n      <td>...</td>\n      <td>NaN</td>\n      <td>Usually</td>\n      <td>It feels good to help a programmer in need</td>\n      <td>My answer will help lots of people who have th...</td>\n      <td>It feels good to demonstrate my expertise.</td>\n      <td>Demonstrating my expertise will benefit me</td>\n      <td>I feel a sense of responsibility to the develo...</td>\n      <td>NaN</td>\n      <td>NaN</td>\n      <td>NaN</td>\n    </tr>\n  </tbody>\n</table>\n<p>5 rows × 222 columns</p>\n</div>"
     },
     "execution_count": 22,
     "metadata": {},
     "output_type": "execute_result"
    }
   ],
   "source": [
    "# take a look at data from 2015\n",
    "df_2015.head()"
   ],
   "metadata": {
    "collapsed": false,
    "pycharm": {
     "name": "#%%\n"
    }
   }
  },
  {
   "cell_type": "code",
   "execution_count": 23,
   "outputs": [
    {
     "data": {
      "text/plain": "   Unnamed: 0 collector      country   un_subregion     so_region age_range  \\\n0        1888  Facebook  Afghanistan  Southern Asia  Central Asia     20-24   \n1        4637  Facebook  Afghanistan  Southern Asia  Central Asia     30-34   \n2       11164  Facebook  Afghanistan  Southern Asia  Central Asia       NaN   \n3       21378  Facebook  Afghanistan  Southern Asia  Central Asia       NaN   \n4       30280  Facebook  Afghanistan  Southern Asia  Central Asia      > 60   \n\n   age_midpoint                  gender  \\\n0          22.0                    Male   \n1          32.0                    Male   \n2           NaN                     NaN   \n3           NaN                  Female   \n4          65.0  Prefer not to disclose   \n\n                                 self_identification              occupation  \\\n0                                         Programmer                     NaN   \n1                    Developer; Engineer; Programmer  Mobile developer - iOS   \n2                                                NaN                     NaN   \n3                                           Engineer                  DevOps   \n4  Developer; Engineer; Programmer; Sr. Developer...                     NaN   \n\n   ...           important_sameend           important_newtech  \\\n0  ...                         NaN                         NaN   \n1  ...  This is somewhat important      This is very important   \n2  ...                         NaN                         NaN   \n3  ...     I don't care about this  This is somewhat important   \n4  ...                         NaN                         NaN   \n\n       important_buildnew  important_buildexisting  \\\n0                     NaN                      NaN   \n1  This is very important  I don't care about this   \n2                     NaN                      NaN   \n3  This is very important   This is very important   \n4                     NaN                      NaN   \n\n          important_promotion    important_companymission  \\\n0                         NaN                         NaN   \n1  This is somewhat important  This is somewhat important   \n2                         NaN                         NaN   \n3     I don't care about this     I don't care about this   \n4                         NaN                         NaN   \n\n             important_wfh         important_ownoffice  \\\n0                      NaN                         NaN   \n1  I don't care about this     I don't care about this   \n2                      NaN                         NaN   \n3   This is very important  This is somewhat important   \n4                      NaN                         NaN   \n\n                                developer_challenges  \\\n0                                                NaN   \n1  Unrealistic expectations; Interacting with non...   \n2                                                NaN   \n3  Corporate policies; Interacting with non-techn...   \n4                                                NaN   \n\n                                  why_stack_overflow  \n0                                                NaN  \n1  To get help for my job; Because I can't do my ...  \n2                                                NaN  \n3   To get help for my job; Beacause I love to learn  \n4                                                NaN  \n\n[5 rows x 66 columns]",
      "text/html": "<div>\n<style scoped>\n    .dataframe tbody tr th:only-of-type {\n        vertical-align: middle;\n    }\n\n    .dataframe tbody tr th {\n        vertical-align: top;\n    }\n\n    .dataframe thead th {\n        text-align: right;\n    }\n</style>\n<table border=\"1\" class=\"dataframe\">\n  <thead>\n    <tr style=\"text-align: right;\">\n      <th></th>\n      <th>Unnamed: 0</th>\n      <th>collector</th>\n      <th>country</th>\n      <th>un_subregion</th>\n      <th>so_region</th>\n      <th>age_range</th>\n      <th>age_midpoint</th>\n      <th>gender</th>\n      <th>self_identification</th>\n      <th>occupation</th>\n      <th>...</th>\n      <th>important_sameend</th>\n      <th>important_newtech</th>\n      <th>important_buildnew</th>\n      <th>important_buildexisting</th>\n      <th>important_promotion</th>\n      <th>important_companymission</th>\n      <th>important_wfh</th>\n      <th>important_ownoffice</th>\n      <th>developer_challenges</th>\n      <th>why_stack_overflow</th>\n    </tr>\n  </thead>\n  <tbody>\n    <tr>\n      <th>0</th>\n      <td>1888</td>\n      <td>Facebook</td>\n      <td>Afghanistan</td>\n      <td>Southern Asia</td>\n      <td>Central Asia</td>\n      <td>20-24</td>\n      <td>22.0</td>\n      <td>Male</td>\n      <td>Programmer</td>\n      <td>NaN</td>\n      <td>...</td>\n      <td>NaN</td>\n      <td>NaN</td>\n      <td>NaN</td>\n      <td>NaN</td>\n      <td>NaN</td>\n      <td>NaN</td>\n      <td>NaN</td>\n      <td>NaN</td>\n      <td>NaN</td>\n      <td>NaN</td>\n    </tr>\n    <tr>\n      <th>1</th>\n      <td>4637</td>\n      <td>Facebook</td>\n      <td>Afghanistan</td>\n      <td>Southern Asia</td>\n      <td>Central Asia</td>\n      <td>30-34</td>\n      <td>32.0</td>\n      <td>Male</td>\n      <td>Developer; Engineer; Programmer</td>\n      <td>Mobile developer - iOS</td>\n      <td>...</td>\n      <td>This is somewhat important</td>\n      <td>This is very important</td>\n      <td>This is very important</td>\n      <td>I don't care about this</td>\n      <td>This is somewhat important</td>\n      <td>This is somewhat important</td>\n      <td>I don't care about this</td>\n      <td>I don't care about this</td>\n      <td>Unrealistic expectations; Interacting with non...</td>\n      <td>To get help for my job; Because I can't do my ...</td>\n    </tr>\n    <tr>\n      <th>2</th>\n      <td>11164</td>\n      <td>Facebook</td>\n      <td>Afghanistan</td>\n      <td>Southern Asia</td>\n      <td>Central Asia</td>\n      <td>NaN</td>\n      <td>NaN</td>\n      <td>NaN</td>\n      <td>NaN</td>\n      <td>NaN</td>\n      <td>...</td>\n      <td>NaN</td>\n      <td>NaN</td>\n      <td>NaN</td>\n      <td>NaN</td>\n      <td>NaN</td>\n      <td>NaN</td>\n      <td>NaN</td>\n      <td>NaN</td>\n      <td>NaN</td>\n      <td>NaN</td>\n    </tr>\n    <tr>\n      <th>3</th>\n      <td>21378</td>\n      <td>Facebook</td>\n      <td>Afghanistan</td>\n      <td>Southern Asia</td>\n      <td>Central Asia</td>\n      <td>NaN</td>\n      <td>NaN</td>\n      <td>Female</td>\n      <td>Engineer</td>\n      <td>DevOps</td>\n      <td>...</td>\n      <td>I don't care about this</td>\n      <td>This is somewhat important</td>\n      <td>This is very important</td>\n      <td>This is very important</td>\n      <td>I don't care about this</td>\n      <td>I don't care about this</td>\n      <td>This is very important</td>\n      <td>This is somewhat important</td>\n      <td>Corporate policies; Interacting with non-techn...</td>\n      <td>To get help for my job; Beacause I love to learn</td>\n    </tr>\n    <tr>\n      <th>4</th>\n      <td>30280</td>\n      <td>Facebook</td>\n      <td>Afghanistan</td>\n      <td>Southern Asia</td>\n      <td>Central Asia</td>\n      <td>&gt; 60</td>\n      <td>65.0</td>\n      <td>Prefer not to disclose</td>\n      <td>Developer; Engineer; Programmer; Sr. Developer...</td>\n      <td>NaN</td>\n      <td>...</td>\n      <td>NaN</td>\n      <td>NaN</td>\n      <td>NaN</td>\n      <td>NaN</td>\n      <td>NaN</td>\n      <td>NaN</td>\n      <td>NaN</td>\n      <td>NaN</td>\n      <td>NaN</td>\n      <td>NaN</td>\n    </tr>\n  </tbody>\n</table>\n<p>5 rows × 66 columns</p>\n</div>"
     },
     "execution_count": 23,
     "metadata": {},
     "output_type": "execute_result"
    }
   ],
   "source": [
    "# take a look at data from 2016\n",
    "df_2016.head()"
   ],
   "metadata": {
    "collapsed": false,
    "pycharm": {
     "name": "#%%\n"
    }
   }
  },
  {
   "cell_type": "code",
   "execution_count": 24,
   "outputs": [
    {
     "data": {
      "text/plain": "   Respondent                                       Professional  \\\n0           1                                            Student   \n1           2                                            Student   \n2           3                             Professional developer   \n3           4  Professional non-developer who sometimes write...   \n4           5                             Professional developer   \n\n                ProgramHobby         Country      University  \\\n0                  Yes, both   United States              No   \n1                  Yes, both  United Kingdom  Yes, full-time   \n2                  Yes, both  United Kingdom              No   \n3                  Yes, both   United States              No   \n4  Yes, I program as a hobby     Switzerland              No   \n\n                         EmploymentStatus  \\\n0  Not employed, and not looking for work   \n1                      Employed part-time   \n2                      Employed full-time   \n3                      Employed full-time   \n4                      Employed full-time   \n\n                                     FormalEducation  \\\n0                                   Secondary school   \n1  Some college/university study without earning ...   \n2                                  Bachelor's degree   \n3                                    Doctoral degree   \n4                                    Master's degree   \n\n                                  MajorUndergrad  \\\n0                                            NaN   \n1       Computer science or software engineering   \n2       Computer science or software engineering   \n3  A non-computer-focused engineering discipline   \n4       Computer science or software engineering   \n\n                                          HomeRemote  \\\n0                                                NaN   \n1              More than half, but not all, the time   \n2  Less than half the time, but at least one day ...   \n3  Less than half the time, but at least one day ...   \n4                                              Never   \n\n                CompanySize  ... StackOverflowMakeMoney Gender  \\\n0                       NaN  ...      Strongly disagree   Male   \n1        20 to 99 employees  ...      Strongly disagree   Male   \n2  10,000 or more employees  ...               Disagree   Male   \n3  10,000 or more employees  ...               Disagree   Male   \n4        10 to 19 employees  ...                    NaN    NaN   \n\n  HighestEducationParents                          Race         SurveyLong  \\\n0             High school  White or of European descent  Strongly disagree   \n1       A master's degree  White or of European descent     Somewhat agree   \n2   A professional degree  White or of European descent     Somewhat agree   \n3       A doctoral degree  White or of European descent              Agree   \n4                     NaN                           NaN                NaN   \n\n  QuestionsInteresting QuestionsConfusing InterestedAnswers    Salary  \\\n0       Strongly agree           Disagree    Strongly agree       NaN   \n1       Somewhat agree           Disagree    Strongly agree       NaN   \n2                Agree           Disagree             Agree  113750.0   \n3                Agree     Somewhat agree    Strongly agree       NaN   \n4                  NaN                NaN               NaN       NaN   \n\n   ExpectedSalary  \n0             NaN  \n1         37500.0  \n2             NaN  \n3             NaN  \n4             NaN  \n\n[5 rows x 154 columns]",
      "text/html": "<div>\n<style scoped>\n    .dataframe tbody tr th:only-of-type {\n        vertical-align: middle;\n    }\n\n    .dataframe tbody tr th {\n        vertical-align: top;\n    }\n\n    .dataframe thead th {\n        text-align: right;\n    }\n</style>\n<table border=\"1\" class=\"dataframe\">\n  <thead>\n    <tr style=\"text-align: right;\">\n      <th></th>\n      <th>Respondent</th>\n      <th>Professional</th>\n      <th>ProgramHobby</th>\n      <th>Country</th>\n      <th>University</th>\n      <th>EmploymentStatus</th>\n      <th>FormalEducation</th>\n      <th>MajorUndergrad</th>\n      <th>HomeRemote</th>\n      <th>CompanySize</th>\n      <th>...</th>\n      <th>StackOverflowMakeMoney</th>\n      <th>Gender</th>\n      <th>HighestEducationParents</th>\n      <th>Race</th>\n      <th>SurveyLong</th>\n      <th>QuestionsInteresting</th>\n      <th>QuestionsConfusing</th>\n      <th>InterestedAnswers</th>\n      <th>Salary</th>\n      <th>ExpectedSalary</th>\n    </tr>\n  </thead>\n  <tbody>\n    <tr>\n      <th>0</th>\n      <td>1</td>\n      <td>Student</td>\n      <td>Yes, both</td>\n      <td>United States</td>\n      <td>No</td>\n      <td>Not employed, and not looking for work</td>\n      <td>Secondary school</td>\n      <td>NaN</td>\n      <td>NaN</td>\n      <td>NaN</td>\n      <td>...</td>\n      <td>Strongly disagree</td>\n      <td>Male</td>\n      <td>High school</td>\n      <td>White or of European descent</td>\n      <td>Strongly disagree</td>\n      <td>Strongly agree</td>\n      <td>Disagree</td>\n      <td>Strongly agree</td>\n      <td>NaN</td>\n      <td>NaN</td>\n    </tr>\n    <tr>\n      <th>1</th>\n      <td>2</td>\n      <td>Student</td>\n      <td>Yes, both</td>\n      <td>United Kingdom</td>\n      <td>Yes, full-time</td>\n      <td>Employed part-time</td>\n      <td>Some college/university study without earning ...</td>\n      <td>Computer science or software engineering</td>\n      <td>More than half, but not all, the time</td>\n      <td>20 to 99 employees</td>\n      <td>...</td>\n      <td>Strongly disagree</td>\n      <td>Male</td>\n      <td>A master's degree</td>\n      <td>White or of European descent</td>\n      <td>Somewhat agree</td>\n      <td>Somewhat agree</td>\n      <td>Disagree</td>\n      <td>Strongly agree</td>\n      <td>NaN</td>\n      <td>37500.0</td>\n    </tr>\n    <tr>\n      <th>2</th>\n      <td>3</td>\n      <td>Professional developer</td>\n      <td>Yes, both</td>\n      <td>United Kingdom</td>\n      <td>No</td>\n      <td>Employed full-time</td>\n      <td>Bachelor's degree</td>\n      <td>Computer science or software engineering</td>\n      <td>Less than half the time, but at least one day ...</td>\n      <td>10,000 or more employees</td>\n      <td>...</td>\n      <td>Disagree</td>\n      <td>Male</td>\n      <td>A professional degree</td>\n      <td>White or of European descent</td>\n      <td>Somewhat agree</td>\n      <td>Agree</td>\n      <td>Disagree</td>\n      <td>Agree</td>\n      <td>113750.0</td>\n      <td>NaN</td>\n    </tr>\n    <tr>\n      <th>3</th>\n      <td>4</td>\n      <td>Professional non-developer who sometimes write...</td>\n      <td>Yes, both</td>\n      <td>United States</td>\n      <td>No</td>\n      <td>Employed full-time</td>\n      <td>Doctoral degree</td>\n      <td>A non-computer-focused engineering discipline</td>\n      <td>Less than half the time, but at least one day ...</td>\n      <td>10,000 or more employees</td>\n      <td>...</td>\n      <td>Disagree</td>\n      <td>Male</td>\n      <td>A doctoral degree</td>\n      <td>White or of European descent</td>\n      <td>Agree</td>\n      <td>Agree</td>\n      <td>Somewhat agree</td>\n      <td>Strongly agree</td>\n      <td>NaN</td>\n      <td>NaN</td>\n    </tr>\n    <tr>\n      <th>4</th>\n      <td>5</td>\n      <td>Professional developer</td>\n      <td>Yes, I program as a hobby</td>\n      <td>Switzerland</td>\n      <td>No</td>\n      <td>Employed full-time</td>\n      <td>Master's degree</td>\n      <td>Computer science or software engineering</td>\n      <td>Never</td>\n      <td>10 to 19 employees</td>\n      <td>...</td>\n      <td>NaN</td>\n      <td>NaN</td>\n      <td>NaN</td>\n      <td>NaN</td>\n      <td>NaN</td>\n      <td>NaN</td>\n      <td>NaN</td>\n      <td>NaN</td>\n      <td>NaN</td>\n      <td>NaN</td>\n    </tr>\n  </tbody>\n</table>\n<p>5 rows × 154 columns</p>\n</div>"
     },
     "execution_count": 24,
     "metadata": {},
     "output_type": "execute_result"
    }
   ],
   "source": [
    "# take a look at data from 2017\n",
    "df_2017.head()"
   ],
   "metadata": {
    "collapsed": false,
    "pycharm": {
     "name": "#%%\n"
    }
   }
  },
  {
   "cell_type": "code",
   "execution_count": 25,
   "outputs": [
    {
     "data": {
      "text/plain": "   Respondent Hobby OpenSource         Country         Student  \\\n0           1   Yes         No           Kenya              No   \n1           3   Yes        Yes  United Kingdom              No   \n2           4   Yes        Yes   United States              No   \n3           5    No         No   United States              No   \n4           7   Yes         No    South Africa  Yes, part-time   \n\n           Employment                                    FormalEducation  \\\n0  Employed part-time         Bachelorâs degree (BA, BS, B.Eng., etc.)   \n1  Employed full-time         Bachelorâs degree (BA, BS, B.Eng., etc.)   \n2  Employed full-time                                   Associate degree   \n3  Employed full-time         Bachelorâs degree (BA, BS, B.Eng., etc.)   \n4  Employed full-time  Some college/university study without earning ...   \n\n                                      UndergradMajor  \\\n0                          Mathematics or statistics   \n1  A natural science (ex. biology, chemistry, phy...   \n2  Computer science, computer engineering, or sof...   \n3  Computer science, computer engineering, or sof...   \n4  Computer science, computer engineering, or sof...   \n\n                CompanySize  \\\n0        20 to 99 employees   \n1  10,000 or more employees   \n2        20 to 99 employees   \n3      100 to 499 employees   \n4  10,000 or more employees   \n\n                                             DevType  ...  \\\n0                               Full-stack developer  ...   \n1  Database administrator;DevOps specialist;Full-...  ...   \n2           Engineering manager;Full-stack developer  ...   \n3                               Full-stack developer  ...   \n4  Data or business analyst;Desktop or enterprise...  ...   \n\n                     Exercise Gender         SexualOrientation  \\\n0        3 - 4 times per week   Male  Straight or heterosexual   \n1   Daily or almost every day   Male  Straight or heterosexual   \n2                         NaN    NaN                       NaN   \n3  I don't typically exercise   Male  Straight or heterosexual   \n4        3 - 4 times per week   Male  Straight or heterosexual   \n\n                                    EducationParents  \\\n0         Bachelorâs degree (BA, BS, B.Eng., etc.)   \n1         Bachelorâs degree (BA, BS, B.Eng., etc.)   \n2                                                NaN   \n3  Some college/university study without earning ...   \n4  Some college/university study without earning ...   \n\n                  RaceEthnicity                Age Dependents  MilitaryUS  \\\n0   Black or of African descent  25 - 34 years old        Yes         NaN   \n1  White or of European descent  35 - 44 years old        Yes         NaN   \n2                           NaN                NaN        NaN         NaN   \n3  White or of European descent  35 - 44 years old         No          No   \n4  White or of European descent  18 - 24 years old        Yes         NaN   \n\n                          SurveyTooLong     SurveyEasy  \n0  The survey was an appropriate length      Very easy  \n1  The survey was an appropriate length  Somewhat easy  \n2                                   NaN            NaN  \n3  The survey was an appropriate length  Somewhat easy  \n4  The survey was an appropriate length  Somewhat easy  \n\n[5 rows x 129 columns]",
      "text/html": "<div>\n<style scoped>\n    .dataframe tbody tr th:only-of-type {\n        vertical-align: middle;\n    }\n\n    .dataframe tbody tr th {\n        vertical-align: top;\n    }\n\n    .dataframe thead th {\n        text-align: right;\n    }\n</style>\n<table border=\"1\" class=\"dataframe\">\n  <thead>\n    <tr style=\"text-align: right;\">\n      <th></th>\n      <th>Respondent</th>\n      <th>Hobby</th>\n      <th>OpenSource</th>\n      <th>Country</th>\n      <th>Student</th>\n      <th>Employment</th>\n      <th>FormalEducation</th>\n      <th>UndergradMajor</th>\n      <th>CompanySize</th>\n      <th>DevType</th>\n      <th>...</th>\n      <th>Exercise</th>\n      <th>Gender</th>\n      <th>SexualOrientation</th>\n      <th>EducationParents</th>\n      <th>RaceEthnicity</th>\n      <th>Age</th>\n      <th>Dependents</th>\n      <th>MilitaryUS</th>\n      <th>SurveyTooLong</th>\n      <th>SurveyEasy</th>\n    </tr>\n  </thead>\n  <tbody>\n    <tr>\n      <th>0</th>\n      <td>1</td>\n      <td>Yes</td>\n      <td>No</td>\n      <td>Kenya</td>\n      <td>No</td>\n      <td>Employed part-time</td>\n      <td>Bachelorâs degree (BA, BS, B.Eng., etc.)</td>\n      <td>Mathematics or statistics</td>\n      <td>20 to 99 employees</td>\n      <td>Full-stack developer</td>\n      <td>...</td>\n      <td>3 - 4 times per week</td>\n      <td>Male</td>\n      <td>Straight or heterosexual</td>\n      <td>Bachelorâs degree (BA, BS, B.Eng., etc.)</td>\n      <td>Black or of African descent</td>\n      <td>25 - 34 years old</td>\n      <td>Yes</td>\n      <td>NaN</td>\n      <td>The survey was an appropriate length</td>\n      <td>Very easy</td>\n    </tr>\n    <tr>\n      <th>1</th>\n      <td>3</td>\n      <td>Yes</td>\n      <td>Yes</td>\n      <td>United Kingdom</td>\n      <td>No</td>\n      <td>Employed full-time</td>\n      <td>Bachelorâs degree (BA, BS, B.Eng., etc.)</td>\n      <td>A natural science (ex. biology, chemistry, phy...</td>\n      <td>10,000 or more employees</td>\n      <td>Database administrator;DevOps specialist;Full-...</td>\n      <td>...</td>\n      <td>Daily or almost every day</td>\n      <td>Male</td>\n      <td>Straight or heterosexual</td>\n      <td>Bachelorâs degree (BA, BS, B.Eng., etc.)</td>\n      <td>White or of European descent</td>\n      <td>35 - 44 years old</td>\n      <td>Yes</td>\n      <td>NaN</td>\n      <td>The survey was an appropriate length</td>\n      <td>Somewhat easy</td>\n    </tr>\n    <tr>\n      <th>2</th>\n      <td>4</td>\n      <td>Yes</td>\n      <td>Yes</td>\n      <td>United States</td>\n      <td>No</td>\n      <td>Employed full-time</td>\n      <td>Associate degree</td>\n      <td>Computer science, computer engineering, or sof...</td>\n      <td>20 to 99 employees</td>\n      <td>Engineering manager;Full-stack developer</td>\n      <td>...</td>\n      <td>NaN</td>\n      <td>NaN</td>\n      <td>NaN</td>\n      <td>NaN</td>\n      <td>NaN</td>\n      <td>NaN</td>\n      <td>NaN</td>\n      <td>NaN</td>\n      <td>NaN</td>\n      <td>NaN</td>\n    </tr>\n    <tr>\n      <th>3</th>\n      <td>5</td>\n      <td>No</td>\n      <td>No</td>\n      <td>United States</td>\n      <td>No</td>\n      <td>Employed full-time</td>\n      <td>Bachelorâs degree (BA, BS, B.Eng., etc.)</td>\n      <td>Computer science, computer engineering, or sof...</td>\n      <td>100 to 499 employees</td>\n      <td>Full-stack developer</td>\n      <td>...</td>\n      <td>I don't typically exercise</td>\n      <td>Male</td>\n      <td>Straight or heterosexual</td>\n      <td>Some college/university study without earning ...</td>\n      <td>White or of European descent</td>\n      <td>35 - 44 years old</td>\n      <td>No</td>\n      <td>No</td>\n      <td>The survey was an appropriate length</td>\n      <td>Somewhat easy</td>\n    </tr>\n    <tr>\n      <th>4</th>\n      <td>7</td>\n      <td>Yes</td>\n      <td>No</td>\n      <td>South Africa</td>\n      <td>Yes, part-time</td>\n      <td>Employed full-time</td>\n      <td>Some college/university study without earning ...</td>\n      <td>Computer science, computer engineering, or sof...</td>\n      <td>10,000 or more employees</td>\n      <td>Data or business analyst;Desktop or enterprise...</td>\n      <td>...</td>\n      <td>3 - 4 times per week</td>\n      <td>Male</td>\n      <td>Straight or heterosexual</td>\n      <td>Some college/university study without earning ...</td>\n      <td>White or of European descent</td>\n      <td>18 - 24 years old</td>\n      <td>Yes</td>\n      <td>NaN</td>\n      <td>The survey was an appropriate length</td>\n      <td>Somewhat easy</td>\n    </tr>\n  </tbody>\n</table>\n<p>5 rows × 129 columns</p>\n</div>"
     },
     "execution_count": 25,
     "metadata": {},
     "output_type": "execute_result"
    }
   ],
   "source": [
    "# take a look at data from 2018\n",
    "df_2018.head()"
   ],
   "metadata": {
    "collapsed": false,
    "pycharm": {
     "name": "#%%\n"
    }
   }
  },
  {
   "cell_type": "code",
   "execution_count": 26,
   "outputs": [
    {
     "data": {
      "text/plain": "   Respondent                                         MainBranch Hobbyist  \\\n0           1             I am a student who is learning to code      Yes   \n1           2             I am a student who is learning to code       No   \n2           3  I am not primarily a developer, but I write co...      Yes   \n3           4                     I am a developer by profession       No   \n4           5                     I am a developer by profession      Yes   \n\n                  OpenSourcer  \\\n0                       Never   \n1     Less than once per year   \n2                       Never   \n3                       Never   \n4  Once a month or more often   \n\n                                          OpenSource  \\\n0  The quality of OSS and closed source software ...   \n1  The quality of OSS and closed source software ...   \n2  The quality of OSS and closed source software ...   \n3  The quality of OSS and closed source software ...   \n4  OSS is, on average, of HIGHER quality than pro...   \n\n                               Employment                 Country  \\\n0  Not employed, and not looking for work          United Kingdom   \n1      Not employed, but looking for work  Bosnia and Herzegovina   \n2                      Employed full-time                Thailand   \n3                      Employed full-time           United States   \n4                      Employed full-time                 Ukraine   \n\n          Student                                            EdLevel  \\\n0              No                          Primary/elementary school   \n1  Yes, full-time  Secondary school (e.g. American high school, G...   \n2              No         Bachelorâs degree (BA, BS, B.Eng., etc.)   \n3              No         Bachelorâs degree (BA, BS, B.Eng., etc.)   \n4              No         Bachelorâs degree (BA, BS, B.Eng., etc.)   \n\n                                      UndergradMajor  ...  \\\n0                                                NaN  ...   \n1                                                NaN  ...   \n2                      Web development or web design  ...   \n3  Computer science, computer engineering, or sof...  ...   \n4  Computer science, computer engineering, or sof...  ...   \n\n                             WelcomeChange  \\\n0  Just as welcome now as I felt last year   \n1  Just as welcome now as I felt last year   \n2  Just as welcome now as I felt last year   \n3  Just as welcome now as I felt last year   \n4  Just as welcome now as I felt last year   \n\n                                        SONewContent   Age Gender Trans  \\\n0  Tech articles written by other developers;Indu...  14.0    Man    No   \n1  Tech articles written by other developers;Indu...  19.0    Man    No   \n2  Tech meetups or events in your area;Courses on...  28.0    Man    No   \n3  Tech articles written by other developers;Indu...  22.0    Man    No   \n4  Tech meetups or events in your area;Courses on...  30.0    Man    No   \n\n                 Sexuality                                 Ethnicity  \\\n0  Straight / Heterosexual                                       NaN   \n1  Straight / Heterosexual                                       NaN   \n2  Straight / Heterosexual                                       NaN   \n3  Straight / Heterosexual              White or of European descent   \n4  Straight / Heterosexual  White or of European descent;Multiracial   \n\n  Dependents           SurveyLength                  SurveyEase  \n0         No  Appropriate in length  Neither easy nor difficult  \n1         No  Appropriate in length  Neither easy nor difficult  \n2        Yes  Appropriate in length  Neither easy nor difficult  \n3         No  Appropriate in length                        Easy  \n4         No  Appropriate in length                        Easy  \n\n[5 rows x 85 columns]",
      "text/html": "<div>\n<style scoped>\n    .dataframe tbody tr th:only-of-type {\n        vertical-align: middle;\n    }\n\n    .dataframe tbody tr th {\n        vertical-align: top;\n    }\n\n    .dataframe thead th {\n        text-align: right;\n    }\n</style>\n<table border=\"1\" class=\"dataframe\">\n  <thead>\n    <tr style=\"text-align: right;\">\n      <th></th>\n      <th>Respondent</th>\n      <th>MainBranch</th>\n      <th>Hobbyist</th>\n      <th>OpenSourcer</th>\n      <th>OpenSource</th>\n      <th>Employment</th>\n      <th>Country</th>\n      <th>Student</th>\n      <th>EdLevel</th>\n      <th>UndergradMajor</th>\n      <th>...</th>\n      <th>WelcomeChange</th>\n      <th>SONewContent</th>\n      <th>Age</th>\n      <th>Gender</th>\n      <th>Trans</th>\n      <th>Sexuality</th>\n      <th>Ethnicity</th>\n      <th>Dependents</th>\n      <th>SurveyLength</th>\n      <th>SurveyEase</th>\n    </tr>\n  </thead>\n  <tbody>\n    <tr>\n      <th>0</th>\n      <td>1</td>\n      <td>I am a student who is learning to code</td>\n      <td>Yes</td>\n      <td>Never</td>\n      <td>The quality of OSS and closed source software ...</td>\n      <td>Not employed, and not looking for work</td>\n      <td>United Kingdom</td>\n      <td>No</td>\n      <td>Primary/elementary school</td>\n      <td>NaN</td>\n      <td>...</td>\n      <td>Just as welcome now as I felt last year</td>\n      <td>Tech articles written by other developers;Indu...</td>\n      <td>14.0</td>\n      <td>Man</td>\n      <td>No</td>\n      <td>Straight / Heterosexual</td>\n      <td>NaN</td>\n      <td>No</td>\n      <td>Appropriate in length</td>\n      <td>Neither easy nor difficult</td>\n    </tr>\n    <tr>\n      <th>1</th>\n      <td>2</td>\n      <td>I am a student who is learning to code</td>\n      <td>No</td>\n      <td>Less than once per year</td>\n      <td>The quality of OSS and closed source software ...</td>\n      <td>Not employed, but looking for work</td>\n      <td>Bosnia and Herzegovina</td>\n      <td>Yes, full-time</td>\n      <td>Secondary school (e.g. American high school, G...</td>\n      <td>NaN</td>\n      <td>...</td>\n      <td>Just as welcome now as I felt last year</td>\n      <td>Tech articles written by other developers;Indu...</td>\n      <td>19.0</td>\n      <td>Man</td>\n      <td>No</td>\n      <td>Straight / Heterosexual</td>\n      <td>NaN</td>\n      <td>No</td>\n      <td>Appropriate in length</td>\n      <td>Neither easy nor difficult</td>\n    </tr>\n    <tr>\n      <th>2</th>\n      <td>3</td>\n      <td>I am not primarily a developer, but I write co...</td>\n      <td>Yes</td>\n      <td>Never</td>\n      <td>The quality of OSS and closed source software ...</td>\n      <td>Employed full-time</td>\n      <td>Thailand</td>\n      <td>No</td>\n      <td>Bachelorâs degree (BA, BS, B.Eng., etc.)</td>\n      <td>Web development or web design</td>\n      <td>...</td>\n      <td>Just as welcome now as I felt last year</td>\n      <td>Tech meetups or events in your area;Courses on...</td>\n      <td>28.0</td>\n      <td>Man</td>\n      <td>No</td>\n      <td>Straight / Heterosexual</td>\n      <td>NaN</td>\n      <td>Yes</td>\n      <td>Appropriate in length</td>\n      <td>Neither easy nor difficult</td>\n    </tr>\n    <tr>\n      <th>3</th>\n      <td>4</td>\n      <td>I am a developer by profession</td>\n      <td>No</td>\n      <td>Never</td>\n      <td>The quality of OSS and closed source software ...</td>\n      <td>Employed full-time</td>\n      <td>United States</td>\n      <td>No</td>\n      <td>Bachelorâs degree (BA, BS, B.Eng., etc.)</td>\n      <td>Computer science, computer engineering, or sof...</td>\n      <td>...</td>\n      <td>Just as welcome now as I felt last year</td>\n      <td>Tech articles written by other developers;Indu...</td>\n      <td>22.0</td>\n      <td>Man</td>\n      <td>No</td>\n      <td>Straight / Heterosexual</td>\n      <td>White or of European descent</td>\n      <td>No</td>\n      <td>Appropriate in length</td>\n      <td>Easy</td>\n    </tr>\n    <tr>\n      <th>4</th>\n      <td>5</td>\n      <td>I am a developer by profession</td>\n      <td>Yes</td>\n      <td>Once a month or more often</td>\n      <td>OSS is, on average, of HIGHER quality than pro...</td>\n      <td>Employed full-time</td>\n      <td>Ukraine</td>\n      <td>No</td>\n      <td>Bachelorâs degree (BA, BS, B.Eng., etc.)</td>\n      <td>Computer science, computer engineering, or sof...</td>\n      <td>...</td>\n      <td>Just as welcome now as I felt last year</td>\n      <td>Tech meetups or events in your area;Courses on...</td>\n      <td>30.0</td>\n      <td>Man</td>\n      <td>No</td>\n      <td>Straight / Heterosexual</td>\n      <td>White or of European descent;Multiracial</td>\n      <td>No</td>\n      <td>Appropriate in length</td>\n      <td>Easy</td>\n    </tr>\n  </tbody>\n</table>\n<p>5 rows × 85 columns</p>\n</div>"
     },
     "execution_count": 26,
     "metadata": {},
     "output_type": "execute_result"
    }
   ],
   "source": [
    "# take a look at data from 2019\n",
    "df_2019.head()"
   ],
   "metadata": {
    "collapsed": false,
    "pycharm": {
     "name": "#%%\n"
    }
   }
  },
  {
   "cell_type": "code",
   "execution_count": 27,
   "outputs": [
    {
     "data": {
      "text/plain": "   Respondent                                         MainBranch Hobbyist  \\\n0           1                     I am a developer by profession      Yes   \n1           2                     I am a developer by profession       No   \n2           3                        I code primarily as a hobby      Yes   \n3           4                     I am a developer by profession      Yes   \n4           5  I used to be a developer by profession, but no...      Yes   \n\n    Age Age1stCode CompFreq  CompTotal  ConvertedComp             Country  \\\n0   NaN         13  Monthly        NaN            NaN             Germany   \n1   NaN         19      NaN        NaN            NaN      United Kingdom   \n2   NaN         15      NaN        NaN            NaN  Russian Federation   \n3  25.0         18      NaN        NaN            NaN             Albania   \n4  31.0         16      NaN        NaN            NaN       United States   \n\n     CurrencyDesc  ...                  SurveyEase           SurveyLength  \\\n0   European Euro  ...  Neither easy nor difficult  Appropriate in length   \n1  Pound sterling  ...                         NaN                    NaN   \n2             NaN  ...  Neither easy nor difficult  Appropriate in length   \n3    Albanian lek  ...                         NaN                    NaN   \n4             NaN  ...                        Easy              Too short   \n\n  Trans                                     UndergradMajor  \\\n0    No  Computer science, computer engineering, or sof...   \n1   NaN  Computer science, computer engineering, or sof...   \n2   NaN                                                NaN   \n3    No  Computer science, computer engineering, or sof...   \n4    No  Computer science, computer engineering, or sof...   \n\n  WebframeDesireNextYear    WebframeWorkedWith  \\\n0           ASP.NET Core  ASP.NET;ASP.NET Core   \n1                    NaN                   NaN   \n2                    NaN                   NaN   \n3                    NaN                   NaN   \n4   Django;Ruby on Rails         Ruby on Rails   \n\n                              WelcomeChange WorkWeekHrs YearsCode YearsCodePro  \n0   Just as welcome now as I felt last year        50.0        36           27  \n1  Somewhat more welcome now than last year         NaN         7            4  \n2  Somewhat more welcome now than last year         NaN         4          NaN  \n3  Somewhat less welcome now than last year        40.0         7            4  \n4   Just as welcome now as I felt last year         NaN        15            8  \n\n[5 rows x 61 columns]",
      "text/html": "<div>\n<style scoped>\n    .dataframe tbody tr th:only-of-type {\n        vertical-align: middle;\n    }\n\n    .dataframe tbody tr th {\n        vertical-align: top;\n    }\n\n    .dataframe thead th {\n        text-align: right;\n    }\n</style>\n<table border=\"1\" class=\"dataframe\">\n  <thead>\n    <tr style=\"text-align: right;\">\n      <th></th>\n      <th>Respondent</th>\n      <th>MainBranch</th>\n      <th>Hobbyist</th>\n      <th>Age</th>\n      <th>Age1stCode</th>\n      <th>CompFreq</th>\n      <th>CompTotal</th>\n      <th>ConvertedComp</th>\n      <th>Country</th>\n      <th>CurrencyDesc</th>\n      <th>...</th>\n      <th>SurveyEase</th>\n      <th>SurveyLength</th>\n      <th>Trans</th>\n      <th>UndergradMajor</th>\n      <th>WebframeDesireNextYear</th>\n      <th>WebframeWorkedWith</th>\n      <th>WelcomeChange</th>\n      <th>WorkWeekHrs</th>\n      <th>YearsCode</th>\n      <th>YearsCodePro</th>\n    </tr>\n  </thead>\n  <tbody>\n    <tr>\n      <th>0</th>\n      <td>1</td>\n      <td>I am a developer by profession</td>\n      <td>Yes</td>\n      <td>NaN</td>\n      <td>13</td>\n      <td>Monthly</td>\n      <td>NaN</td>\n      <td>NaN</td>\n      <td>Germany</td>\n      <td>European Euro</td>\n      <td>...</td>\n      <td>Neither easy nor difficult</td>\n      <td>Appropriate in length</td>\n      <td>No</td>\n      <td>Computer science, computer engineering, or sof...</td>\n      <td>ASP.NET Core</td>\n      <td>ASP.NET;ASP.NET Core</td>\n      <td>Just as welcome now as I felt last year</td>\n      <td>50.0</td>\n      <td>36</td>\n      <td>27</td>\n    </tr>\n    <tr>\n      <th>1</th>\n      <td>2</td>\n      <td>I am a developer by profession</td>\n      <td>No</td>\n      <td>NaN</td>\n      <td>19</td>\n      <td>NaN</td>\n      <td>NaN</td>\n      <td>NaN</td>\n      <td>United Kingdom</td>\n      <td>Pound sterling</td>\n      <td>...</td>\n      <td>NaN</td>\n      <td>NaN</td>\n      <td>NaN</td>\n      <td>Computer science, computer engineering, or sof...</td>\n      <td>NaN</td>\n      <td>NaN</td>\n      <td>Somewhat more welcome now than last year</td>\n      <td>NaN</td>\n      <td>7</td>\n      <td>4</td>\n    </tr>\n    <tr>\n      <th>2</th>\n      <td>3</td>\n      <td>I code primarily as a hobby</td>\n      <td>Yes</td>\n      <td>NaN</td>\n      <td>15</td>\n      <td>NaN</td>\n      <td>NaN</td>\n      <td>NaN</td>\n      <td>Russian Federation</td>\n      <td>NaN</td>\n      <td>...</td>\n      <td>Neither easy nor difficult</td>\n      <td>Appropriate in length</td>\n      <td>NaN</td>\n      <td>NaN</td>\n      <td>NaN</td>\n      <td>NaN</td>\n      <td>Somewhat more welcome now than last year</td>\n      <td>NaN</td>\n      <td>4</td>\n      <td>NaN</td>\n    </tr>\n    <tr>\n      <th>3</th>\n      <td>4</td>\n      <td>I am a developer by profession</td>\n      <td>Yes</td>\n      <td>25.0</td>\n      <td>18</td>\n      <td>NaN</td>\n      <td>NaN</td>\n      <td>NaN</td>\n      <td>Albania</td>\n      <td>Albanian lek</td>\n      <td>...</td>\n      <td>NaN</td>\n      <td>NaN</td>\n      <td>No</td>\n      <td>Computer science, computer engineering, or sof...</td>\n      <td>NaN</td>\n      <td>NaN</td>\n      <td>Somewhat less welcome now than last year</td>\n      <td>40.0</td>\n      <td>7</td>\n      <td>4</td>\n    </tr>\n    <tr>\n      <th>4</th>\n      <td>5</td>\n      <td>I used to be a developer by profession, but no...</td>\n      <td>Yes</td>\n      <td>31.0</td>\n      <td>16</td>\n      <td>NaN</td>\n      <td>NaN</td>\n      <td>NaN</td>\n      <td>United States</td>\n      <td>NaN</td>\n      <td>...</td>\n      <td>Easy</td>\n      <td>Too short</td>\n      <td>No</td>\n      <td>Computer science, computer engineering, or sof...</td>\n      <td>Django;Ruby on Rails</td>\n      <td>Ruby on Rails</td>\n      <td>Just as welcome now as I felt last year</td>\n      <td>NaN</td>\n      <td>15</td>\n      <td>8</td>\n    </tr>\n  </tbody>\n</table>\n<p>5 rows × 61 columns</p>\n</div>"
     },
     "execution_count": 27,
     "metadata": {},
     "output_type": "execute_result"
    }
   ],
   "source": [
    "# take a look at data from 2020\n",
    "df_2020.head()"
   ],
   "metadata": {
    "collapsed": false,
    "pycharm": {
     "name": "#%%\n"
    }
   }
  },
  {
   "cell_type": "code",
   "execution_count": 28,
   "outputs": [
    {
     "data": {
      "text/plain": "   ResponseId                                         MainBranch  \\\n0           1                     I am a developer by profession   \n1           2             I am a student who is learning to code   \n2           3  I am not primarily a developer, but I write co...   \n3           4                     I am a developer by profession   \n4           5                     I am a developer by profession   \n\n                                          Employment  \\\n0  Independent contractor, freelancer, or self-em...   \n1                                 Student, full-time   \n2                                 Student, full-time   \n3                                 Employed full-time   \n4  Independent contractor, freelancer, or self-em...   \n\n                                             Country US_State UK_Country  \\\n0                                           Slovakia      NaN        NaN   \n1                                        Netherlands      NaN        NaN   \n2                                 Russian Federation      NaN        NaN   \n3                                            Austria      NaN        NaN   \n4  United Kingdom of Great Britain and Northern I...      NaN    England   \n\n                                             EdLevel     Age1stCode  \\\n0  Secondary school (e.g. American high school, G...  18 - 24 years   \n1     Bachelorâs degree (B.A., B.S., B.Eng., etc.)  11 - 17 years   \n2     Bachelorâs degree (B.A., B.S., B.Eng., etc.)  11 - 17 years   \n3  Masterâs degree (M.A., M.S., M.Eng., MBA, etc.)  11 - 17 years   \n4  Masterâs degree (M.A., M.S., M.Eng., MBA, etc.)   5 - 10 years   \n\n                                           LearnCode YearsCode  ...  \\\n0  Coding Bootcamp;Other online resources (ex: vi...       NaN  ...   \n1  Other online resources (ex: videos, blogs, etc...         7  ...   \n2  Other online resources (ex: videos, blogs, etc...       NaN  ...   \n3                                                NaN       NaN  ...   \n4                            Friend or family member        17  ...   \n\n               Age Gender Trans                Sexuality  \\\n0  25-34 years old    Man    No  Straight / Heterosexual   \n1  18-24 years old    Man    No  Straight / Heterosexual   \n2  18-24 years old    Man    No        Prefer not to say   \n3  35-44 years old    Man    No  Straight / Heterosexual   \n4  25-34 years old    Man    No                      NaN   \n\n                      Ethnicity                Accessibility  \\\n0  White or of European descent            None of the above   \n1  White or of European descent            None of the above   \n2             Prefer not to say            None of the above   \n3  White or of European descent  I am deaf / hard of hearing   \n4  White or of European descent            None of the above   \n\n        MentalHealth           SurveyLength                  SurveyEase  \\\n0  None of the above  Appropriate in length                        Easy   \n1  None of the above  Appropriate in length                        Easy   \n2  None of the above  Appropriate in length                        Easy   \n3                NaN  Appropriate in length  Neither easy nor difficult   \n4                NaN  Appropriate in length                        Easy   \n\n  ConvertedCompYearly  \n0             62268.0  \n1                 NaN  \n2                 NaN  \n3                 NaN  \n4                 NaN  \n\n[5 rows x 48 columns]",
      "text/html": "<div>\n<style scoped>\n    .dataframe tbody tr th:only-of-type {\n        vertical-align: middle;\n    }\n\n    .dataframe tbody tr th {\n        vertical-align: top;\n    }\n\n    .dataframe thead th {\n        text-align: right;\n    }\n</style>\n<table border=\"1\" class=\"dataframe\">\n  <thead>\n    <tr style=\"text-align: right;\">\n      <th></th>\n      <th>ResponseId</th>\n      <th>MainBranch</th>\n      <th>Employment</th>\n      <th>Country</th>\n      <th>US_State</th>\n      <th>UK_Country</th>\n      <th>EdLevel</th>\n      <th>Age1stCode</th>\n      <th>LearnCode</th>\n      <th>YearsCode</th>\n      <th>...</th>\n      <th>Age</th>\n      <th>Gender</th>\n      <th>Trans</th>\n      <th>Sexuality</th>\n      <th>Ethnicity</th>\n      <th>Accessibility</th>\n      <th>MentalHealth</th>\n      <th>SurveyLength</th>\n      <th>SurveyEase</th>\n      <th>ConvertedCompYearly</th>\n    </tr>\n  </thead>\n  <tbody>\n    <tr>\n      <th>0</th>\n      <td>1</td>\n      <td>I am a developer by profession</td>\n      <td>Independent contractor, freelancer, or self-em...</td>\n      <td>Slovakia</td>\n      <td>NaN</td>\n      <td>NaN</td>\n      <td>Secondary school (e.g. American high school, G...</td>\n      <td>18 - 24 years</td>\n      <td>Coding Bootcamp;Other online resources (ex: vi...</td>\n      <td>NaN</td>\n      <td>...</td>\n      <td>25-34 years old</td>\n      <td>Man</td>\n      <td>No</td>\n      <td>Straight / Heterosexual</td>\n      <td>White or of European descent</td>\n      <td>None of the above</td>\n      <td>None of the above</td>\n      <td>Appropriate in length</td>\n      <td>Easy</td>\n      <td>62268.0</td>\n    </tr>\n    <tr>\n      <th>1</th>\n      <td>2</td>\n      <td>I am a student who is learning to code</td>\n      <td>Student, full-time</td>\n      <td>Netherlands</td>\n      <td>NaN</td>\n      <td>NaN</td>\n      <td>Bachelorâs degree (B.A., B.S., B.Eng., etc.)</td>\n      <td>11 - 17 years</td>\n      <td>Other online resources (ex: videos, blogs, etc...</td>\n      <td>7</td>\n      <td>...</td>\n      <td>18-24 years old</td>\n      <td>Man</td>\n      <td>No</td>\n      <td>Straight / Heterosexual</td>\n      <td>White or of European descent</td>\n      <td>None of the above</td>\n      <td>None of the above</td>\n      <td>Appropriate in length</td>\n      <td>Easy</td>\n      <td>NaN</td>\n    </tr>\n    <tr>\n      <th>2</th>\n      <td>3</td>\n      <td>I am not primarily a developer, but I write co...</td>\n      <td>Student, full-time</td>\n      <td>Russian Federation</td>\n      <td>NaN</td>\n      <td>NaN</td>\n      <td>Bachelorâs degree (B.A., B.S., B.Eng., etc.)</td>\n      <td>11 - 17 years</td>\n      <td>Other online resources (ex: videos, blogs, etc...</td>\n      <td>NaN</td>\n      <td>...</td>\n      <td>18-24 years old</td>\n      <td>Man</td>\n      <td>No</td>\n      <td>Prefer not to say</td>\n      <td>Prefer not to say</td>\n      <td>None of the above</td>\n      <td>None of the above</td>\n      <td>Appropriate in length</td>\n      <td>Easy</td>\n      <td>NaN</td>\n    </tr>\n    <tr>\n      <th>3</th>\n      <td>4</td>\n      <td>I am a developer by profession</td>\n      <td>Employed full-time</td>\n      <td>Austria</td>\n      <td>NaN</td>\n      <td>NaN</td>\n      <td>Masterâs degree (M.A., M.S., M.Eng., MBA, etc.)</td>\n      <td>11 - 17 years</td>\n      <td>NaN</td>\n      <td>NaN</td>\n      <td>...</td>\n      <td>35-44 years old</td>\n      <td>Man</td>\n      <td>No</td>\n      <td>Straight / Heterosexual</td>\n      <td>White or of European descent</td>\n      <td>I am deaf / hard of hearing</td>\n      <td>NaN</td>\n      <td>Appropriate in length</td>\n      <td>Neither easy nor difficult</td>\n      <td>NaN</td>\n    </tr>\n    <tr>\n      <th>4</th>\n      <td>5</td>\n      <td>I am a developer by profession</td>\n      <td>Independent contractor, freelancer, or self-em...</td>\n      <td>United Kingdom of Great Britain and Northern I...</td>\n      <td>NaN</td>\n      <td>England</td>\n      <td>Masterâs degree (M.A., M.S., M.Eng., MBA, etc.)</td>\n      <td>5 - 10 years</td>\n      <td>Friend or family member</td>\n      <td>17</td>\n      <td>...</td>\n      <td>25-34 years old</td>\n      <td>Man</td>\n      <td>No</td>\n      <td>NaN</td>\n      <td>White or of European descent</td>\n      <td>None of the above</td>\n      <td>NaN</td>\n      <td>Appropriate in length</td>\n      <td>Easy</td>\n      <td>NaN</td>\n    </tr>\n  </tbody>\n</table>\n<p>5 rows × 48 columns</p>\n</div>"
     },
     "execution_count": 28,
     "metadata": {},
     "output_type": "execute_result"
    }
   ],
   "source": [
    "# take a look at data from 2021\n",
    "df_2021.head()"
   ],
   "metadata": {
    "collapsed": false,
    "pycharm": {
     "name": "#%%\n"
    }
   }
  },
  {
   "cell_type": "code",
   "execution_count": 36,
   "outputs": [
    {
     "data": {
      "text/plain": "       What Country or Region do you live in?  \\\ncount                                    2814   \nunique                                     20   \ntop                  United States of America   \nfreq                                     1037   \n\n       Which US State or Territory do you live in? How old are you?  \\\ncount                                         1030             2730   \nunique                                          52                9   \ntop                                     California            25-29   \nfreq                                           122              831   \n\n       How many years of IT/Programming experience do you have?  \\\ncount                                                2730         \nunique                                                  5         \ntop                                                    11         \nfreq                                                 1044         \n\n       How would you best describe the industry you work in?  \\\ncount                                                2730      \nunique                                                 13      \ntop                                     Software Products      \nfreq                                                  814      \n\n       Which best describes the size of your company?  \\\ncount                                            2647   \nunique                                              7   \ntop                                   Start Up (1-25)   \nfreq                                              745   \n\n       Which of the following best describes your occupation?  \\\ncount                                                2647       \nunique                                                 14       \ntop                             Web Application Developer       \nfreq                                                 1066       \n\n       How likely is it that a recommendation you make will be acted upon?  \\\ncount                                                2611                    \nunique                                                  6                    \ntop                             It's been known to happen                    \nfreq                                                 1060                    \n\n       What is your involvement in purchasing? You can choose more than 1.  \\\ncount                                                1362                    \nunique                                                  1                    \ntop                                            Influencer                    \nfreq                                                 1362                    \n\n         Unnamed: 9  ... Unnamed: 55 Unnamed: 56    Unnamed: 57 Unnamed: 58  \\\ncount          1497  ...         117         395            502         377   \nunique            1  ...           1           1              1           1   \ntop     Recommender  ...     AppleTV        iPad  Other netbook         PS3   \nfreq           1497  ...         117         395            502         377   \n\n       Unnamed: 59 Unnamed: 60          Unnamed: 61 Unnamed: 62  \\\ncount          598         825                  315         219   \nunique           1           1                    1         148   \ntop           Xbox         Wii  Other gaming system  iPod Touch   \nfreq           598         825                  315          27   \n\n       In the last 12 months, how much money have you spent on personal technology-related purchases?   \\\ncount                                                2506                                                \nunique                                                  8                                                \ntop                                         $1,001-$2,000                                                \nfreq                                                  569                                                \n\n       Which of our sites do you frequent most?  \ncount                                      2533  \nunique                                        8  \ntop                              Stack Overflow  \nfreq                                       2230  \n\n[4 rows x 65 columns]",
      "text/html": "<div>\n<style scoped>\n    .dataframe tbody tr th:only-of-type {\n        vertical-align: middle;\n    }\n\n    .dataframe tbody tr th {\n        vertical-align: top;\n    }\n\n    .dataframe thead th {\n        text-align: right;\n    }\n</style>\n<table border=\"1\" class=\"dataframe\">\n  <thead>\n    <tr style=\"text-align: right;\">\n      <th></th>\n      <th>What Country or Region do you live in?</th>\n      <th>Which US State or Territory do you live in?</th>\n      <th>How old are you?</th>\n      <th>How many years of IT/Programming experience do you have?</th>\n      <th>How would you best describe the industry you work in?</th>\n      <th>Which best describes the size of your company?</th>\n      <th>Which of the following best describes your occupation?</th>\n      <th>How likely is it that a recommendation you make will be acted upon?</th>\n      <th>What is your involvement in purchasing? You can choose more than 1.</th>\n      <th>Unnamed: 9</th>\n      <th>...</th>\n      <th>Unnamed: 55</th>\n      <th>Unnamed: 56</th>\n      <th>Unnamed: 57</th>\n      <th>Unnamed: 58</th>\n      <th>Unnamed: 59</th>\n      <th>Unnamed: 60</th>\n      <th>Unnamed: 61</th>\n      <th>Unnamed: 62</th>\n      <th>In the last 12 months, how much money have you spent on personal technology-related purchases?</th>\n      <th>Which of our sites do you frequent most?</th>\n    </tr>\n  </thead>\n  <tbody>\n    <tr>\n      <th>count</th>\n      <td>2814</td>\n      <td>1030</td>\n      <td>2730</td>\n      <td>2730</td>\n      <td>2730</td>\n      <td>2647</td>\n      <td>2647</td>\n      <td>2611</td>\n      <td>1362</td>\n      <td>1497</td>\n      <td>...</td>\n      <td>117</td>\n      <td>395</td>\n      <td>502</td>\n      <td>377</td>\n      <td>598</td>\n      <td>825</td>\n      <td>315</td>\n      <td>219</td>\n      <td>2506</td>\n      <td>2533</td>\n    </tr>\n    <tr>\n      <th>unique</th>\n      <td>20</td>\n      <td>52</td>\n      <td>9</td>\n      <td>5</td>\n      <td>13</td>\n      <td>7</td>\n      <td>14</td>\n      <td>6</td>\n      <td>1</td>\n      <td>1</td>\n      <td>...</td>\n      <td>1</td>\n      <td>1</td>\n      <td>1</td>\n      <td>1</td>\n      <td>1</td>\n      <td>1</td>\n      <td>1</td>\n      <td>148</td>\n      <td>8</td>\n      <td>8</td>\n    </tr>\n    <tr>\n      <th>top</th>\n      <td>United States of America</td>\n      <td>California</td>\n      <td>25-29</td>\n      <td>11</td>\n      <td>Software Products</td>\n      <td>Start Up (1-25)</td>\n      <td>Web Application Developer</td>\n      <td>It's been known to happen</td>\n      <td>Influencer</td>\n      <td>Recommender</td>\n      <td>...</td>\n      <td>AppleTV</td>\n      <td>iPad</td>\n      <td>Other netbook</td>\n      <td>PS3</td>\n      <td>Xbox</td>\n      <td>Wii</td>\n      <td>Other gaming system</td>\n      <td>iPod Touch</td>\n      <td>$1,001-$2,000</td>\n      <td>Stack Overflow</td>\n    </tr>\n    <tr>\n      <th>freq</th>\n      <td>1037</td>\n      <td>122</td>\n      <td>831</td>\n      <td>1044</td>\n      <td>814</td>\n      <td>745</td>\n      <td>1066</td>\n      <td>1060</td>\n      <td>1362</td>\n      <td>1497</td>\n      <td>...</td>\n      <td>117</td>\n      <td>395</td>\n      <td>502</td>\n      <td>377</td>\n      <td>598</td>\n      <td>825</td>\n      <td>315</td>\n      <td>27</td>\n      <td>569</td>\n      <td>2230</td>\n    </tr>\n  </tbody>\n</table>\n<p>4 rows × 65 columns</p>\n</div>"
     },
     "execution_count": 36,
     "metadata": {},
     "output_type": "execute_result"
    }
   ],
   "source": [
    "# take a look at feature counts from 2011\n",
    "df_2011.describe()"
   ],
   "metadata": {
    "collapsed": false,
    "pycharm": {
     "name": "#%%\n"
    }
   }
  },
  {
   "cell_type": "code",
   "execution_count": 37,
   "outputs": [
    {
     "data": {
      "text/plain": "       What Country or Region do you live in?  \\\ncount                                    6244   \nunique                                     21   \ntop                  United States of America   \nfreq                                     1785   \n\n       Which US State or Territory do you live in? How old are you?  \\\ncount                                         1776             5965   \nunique                                          54                9   \ntop                                     California            25-29   \nfreq                                           256             1914   \n\n       How many years of IT/Programming experience do you have?  \\\ncount                                                5965         \nunique                                                  5         \ntop                                                 40944         \nfreq                                                 1934         \n\n       How would you best describe the industry you currently work in?  \\\ncount                                                5965                \nunique                                                 13                \ntop                                     Software Products                \nfreq                                                 1883                \n\n       Which best describes the size of your company?  \\\ncount                                            5738   \nunique                                              7   \ntop                                   Start Up (1-25)   \nfreq                                             1762   \n\n       Which of the following best describes your occupation?  \\\ncount                                                5738       \nunique                                                 15       \ntop                             Web Application Developer       \nfreq                                                 2427       \n\n       What is your involvement in purchasing products or services for the company you work for? (You can choose more than one)  \\\ncount                                                2555                                                                         \nunique                                                  1                                                                         \ntop                                            Influencer                                                                         \nfreq                                                 2555                                                                         \n\n         Unnamed: 8 Unnamed: 9  ...  \\\ncount          2773        976  ...   \nunique            1          1  ...   \ntop     Recommender   Approver  ...   \nfreq           2773        976  ...   \n\n       Please rate the advertising you've seen on Stack Overflow Unnamed: 66  \\\ncount                                                5157               5162   \nunique                                                  6                  6   \ntop                                               Neutral            Neutral   \nfreq                                                 2186               2629   \n\n       Unnamed: 67 Unnamed: 68        Unnamed: 69        Unnamed: 70  \\\ncount         5160        5173               5150               5108   \nunique           6           6                  6                  6   \ntop        Neutral       Agree  Strongly Disagree  Strongly Disagree   \nfreq          2667        2164               2139               2131   \n\n       What advertisers do you remember seeing on Stack Overflow?  \\\ncount                                                1981           \nunique                                               1465           \ntop                                                  None           \nfreq                                                   93           \n\n       What is your current Stack Overflow reputation?  \\\ncount                                             5143   \nunique                                              12   \ntop                                                  1   \nfreq                                               756   \n\n       Which of our sites do you frequent most? Unnamed: 74  \ncount                                      5197         253  \nunique                                        8         184  \ntop                              Stack Overflow      Gaming  \nfreq                                       4627          17  \n\n[4 rows x 75 columns]",
      "text/html": "<div>\n<style scoped>\n    .dataframe tbody tr th:only-of-type {\n        vertical-align: middle;\n    }\n\n    .dataframe tbody tr th {\n        vertical-align: top;\n    }\n\n    .dataframe thead th {\n        text-align: right;\n    }\n</style>\n<table border=\"1\" class=\"dataframe\">\n  <thead>\n    <tr style=\"text-align: right;\">\n      <th></th>\n      <th>What Country or Region do you live in?</th>\n      <th>Which US State or Territory do you live in?</th>\n      <th>How old are you?</th>\n      <th>How many years of IT/Programming experience do you have?</th>\n      <th>How would you best describe the industry you currently work in?</th>\n      <th>Which best describes the size of your company?</th>\n      <th>Which of the following best describes your occupation?</th>\n      <th>What is your involvement in purchasing products or services for the company you work for? (You can choose more than one)</th>\n      <th>Unnamed: 8</th>\n      <th>Unnamed: 9</th>\n      <th>...</th>\n      <th>Please rate the advertising you've seen on Stack Overflow</th>\n      <th>Unnamed: 66</th>\n      <th>Unnamed: 67</th>\n      <th>Unnamed: 68</th>\n      <th>Unnamed: 69</th>\n      <th>Unnamed: 70</th>\n      <th>What advertisers do you remember seeing on Stack Overflow?</th>\n      <th>What is your current Stack Overflow reputation?</th>\n      <th>Which of our sites do you frequent most?</th>\n      <th>Unnamed: 74</th>\n    </tr>\n  </thead>\n  <tbody>\n    <tr>\n      <th>count</th>\n      <td>6244</td>\n      <td>1776</td>\n      <td>5965</td>\n      <td>5965</td>\n      <td>5965</td>\n      <td>5738</td>\n      <td>5738</td>\n      <td>2555</td>\n      <td>2773</td>\n      <td>976</td>\n      <td>...</td>\n      <td>5157</td>\n      <td>5162</td>\n      <td>5160</td>\n      <td>5173</td>\n      <td>5150</td>\n      <td>5108</td>\n      <td>1981</td>\n      <td>5143</td>\n      <td>5197</td>\n      <td>253</td>\n    </tr>\n    <tr>\n      <th>unique</th>\n      <td>21</td>\n      <td>54</td>\n      <td>9</td>\n      <td>5</td>\n      <td>13</td>\n      <td>7</td>\n      <td>15</td>\n      <td>1</td>\n      <td>1</td>\n      <td>1</td>\n      <td>...</td>\n      <td>6</td>\n      <td>6</td>\n      <td>6</td>\n      <td>6</td>\n      <td>6</td>\n      <td>6</td>\n      <td>1465</td>\n      <td>12</td>\n      <td>8</td>\n      <td>184</td>\n    </tr>\n    <tr>\n      <th>top</th>\n      <td>United States of America</td>\n      <td>California</td>\n      <td>25-29</td>\n      <td>40944</td>\n      <td>Software Products</td>\n      <td>Start Up (1-25)</td>\n      <td>Web Application Developer</td>\n      <td>Influencer</td>\n      <td>Recommender</td>\n      <td>Approver</td>\n      <td>...</td>\n      <td>Neutral</td>\n      <td>Neutral</td>\n      <td>Neutral</td>\n      <td>Agree</td>\n      <td>Strongly Disagree</td>\n      <td>Strongly Disagree</td>\n      <td>None</td>\n      <td>1</td>\n      <td>Stack Overflow</td>\n      <td>Gaming</td>\n    </tr>\n    <tr>\n      <th>freq</th>\n      <td>1785</td>\n      <td>256</td>\n      <td>1914</td>\n      <td>1934</td>\n      <td>1883</td>\n      <td>1762</td>\n      <td>2427</td>\n      <td>2555</td>\n      <td>2773</td>\n      <td>976</td>\n      <td>...</td>\n      <td>2186</td>\n      <td>2629</td>\n      <td>2667</td>\n      <td>2164</td>\n      <td>2139</td>\n      <td>2131</td>\n      <td>93</td>\n      <td>756</td>\n      <td>4627</td>\n      <td>17</td>\n    </tr>\n  </tbody>\n</table>\n<p>4 rows × 75 columns</p>\n</div>"
     },
     "execution_count": 37,
     "metadata": {},
     "output_type": "execute_result"
    }
   ],
   "source": [
    "# take a look at feature counts from 2012\n",
    "df_2012.describe()"
   ],
   "metadata": {
    "collapsed": false,
    "pycharm": {
     "name": "#%%\n"
    }
   }
  },
  {
   "cell_type": "code",
   "execution_count": 38,
   "outputs": [
    {
     "data": {
      "text/plain": "       What Country or Region do you live in?  \\\ncount                                    9742   \nunique                                     21   \ntop                  United States of America   \nfreq                                     3181   \n\n       Which US State or Territory do you live in? How old are you?  \\\ncount                                         3160             9435   \nunique                                          53                9   \ntop                                     California            25-29   \nfreq                                           471             2594   \n\n       How many years of IT/Programming experience do you have?  \\\ncount                                                9437         \nunique                                                  5         \ntop                                                    11         \nfreq                                                 3047         \n\n       How would you best describe the industry you currently work in?  \\\ncount                                                9437                \nunique                                                 13                \ntop                                     Software Products                \nfreq                                                 2930                \n\n       How many people work for your company?  \\\ncount                                    8219   \nunique                                      7   \ntop                                 1/25/2013   \nfreq                                     2706   \n\n       Which of the following best describes your occupation?  \\\ncount                                                8219       \nunique                                                 15       \ntop                              Full-Stack Web Developer       \nfreq                                                 2387       \n\n       Including yourself, how many developers are employed at your company?  \\\ncount                                                7834                      \nunique                                                  7                      \ntop                                              1/5/2013                      \nfreq                                                 3021                      \n\n       How large is the team that you work on?  \\\ncount                                     7942   \nunique                                       6   \ntop                                   4/8/2013   \nfreq                                      2672   \n\n       What other departments / roles do you interact with regularly?  ...  \\\ncount                                                4137              ...   \nunique                                                  1              ...   \ntop                                 System Administrators              ...   \nfreq                                                 4137              ...   \n\n       Unnamed: 118 Unnamed: 119       Unnamed: 120       Unnamed: 121  \\\ncount          7466         7497               7482               7424   \nunique            6            6                  6                  6   \ntop         Neutral      Neutral  Strongly Disagree  Strongly Disagree   \nfreq           4562         2692               3242               2180   \n\n       What advertisers do you remember seeing on Stack Overflow?  \\\ncount                                                2758           \nunique                                               1726           \ntop                                                  None           \nfreq                                                  197           \n\n       What is your current Stack Overflow reputation?  \\\ncount                                             7433   \nunique                                              12   \ntop                                               1000   \nfreq                                               969   \n\n                           How do you use Stack Overflow?  \\\ncount                                                7057   \nunique                                                  1   \ntop     Read other people's questions to solve my prob...   \nfreq                                                 7057   \n\n                           Unnamed: 125  \\\ncount                              4923   \nunique                                1   \ntop     Ask questions to solve problems   \nfreq                               4923   \n\n                                 Unnamed: 126 Unnamed: 127  \ncount                                    5926          602  \nunique                                      1          588  \ntop     Answer questions I know the answer to       Review  \nfreq                                     5926            5  \n\n[4 rows x 128 columns]",
      "text/html": "<div>\n<style scoped>\n    .dataframe tbody tr th:only-of-type {\n        vertical-align: middle;\n    }\n\n    .dataframe tbody tr th {\n        vertical-align: top;\n    }\n\n    .dataframe thead th {\n        text-align: right;\n    }\n</style>\n<table border=\"1\" class=\"dataframe\">\n  <thead>\n    <tr style=\"text-align: right;\">\n      <th></th>\n      <th>What Country or Region do you live in?</th>\n      <th>Which US State or Territory do you live in?</th>\n      <th>How old are you?</th>\n      <th>How many years of IT/Programming experience do you have?</th>\n      <th>How would you best describe the industry you currently work in?</th>\n      <th>How many people work for your company?</th>\n      <th>Which of the following best describes your occupation?</th>\n      <th>Including yourself, how many developers are employed at your company?</th>\n      <th>How large is the team that you work on?</th>\n      <th>What other departments / roles do you interact with regularly?</th>\n      <th>...</th>\n      <th>Unnamed: 118</th>\n      <th>Unnamed: 119</th>\n      <th>Unnamed: 120</th>\n      <th>Unnamed: 121</th>\n      <th>What advertisers do you remember seeing on Stack Overflow?</th>\n      <th>What is your current Stack Overflow reputation?</th>\n      <th>How do you use Stack Overflow?</th>\n      <th>Unnamed: 125</th>\n      <th>Unnamed: 126</th>\n      <th>Unnamed: 127</th>\n    </tr>\n  </thead>\n  <tbody>\n    <tr>\n      <th>count</th>\n      <td>9742</td>\n      <td>3160</td>\n      <td>9435</td>\n      <td>9437</td>\n      <td>9437</td>\n      <td>8219</td>\n      <td>8219</td>\n      <td>7834</td>\n      <td>7942</td>\n      <td>4137</td>\n      <td>...</td>\n      <td>7466</td>\n      <td>7497</td>\n      <td>7482</td>\n      <td>7424</td>\n      <td>2758</td>\n      <td>7433</td>\n      <td>7057</td>\n      <td>4923</td>\n      <td>5926</td>\n      <td>602</td>\n    </tr>\n    <tr>\n      <th>unique</th>\n      <td>21</td>\n      <td>53</td>\n      <td>9</td>\n      <td>5</td>\n      <td>13</td>\n      <td>7</td>\n      <td>15</td>\n      <td>7</td>\n      <td>6</td>\n      <td>1</td>\n      <td>...</td>\n      <td>6</td>\n      <td>6</td>\n      <td>6</td>\n      <td>6</td>\n      <td>1726</td>\n      <td>12</td>\n      <td>1</td>\n      <td>1</td>\n      <td>1</td>\n      <td>588</td>\n    </tr>\n    <tr>\n      <th>top</th>\n      <td>United States of America</td>\n      <td>California</td>\n      <td>25-29</td>\n      <td>11</td>\n      <td>Software Products</td>\n      <td>1/25/2013</td>\n      <td>Full-Stack Web Developer</td>\n      <td>1/5/2013</td>\n      <td>4/8/2013</td>\n      <td>System Administrators</td>\n      <td>...</td>\n      <td>Neutral</td>\n      <td>Neutral</td>\n      <td>Strongly Disagree</td>\n      <td>Strongly Disagree</td>\n      <td>None</td>\n      <td>1000</td>\n      <td>Read other people's questions to solve my prob...</td>\n      <td>Ask questions to solve problems</td>\n      <td>Answer questions I know the answer to</td>\n      <td>Review</td>\n    </tr>\n    <tr>\n      <th>freq</th>\n      <td>3181</td>\n      <td>471</td>\n      <td>2594</td>\n      <td>3047</td>\n      <td>2930</td>\n      <td>2706</td>\n      <td>2387</td>\n      <td>3021</td>\n      <td>2672</td>\n      <td>4137</td>\n      <td>...</td>\n      <td>4562</td>\n      <td>2692</td>\n      <td>3242</td>\n      <td>2180</td>\n      <td>197</td>\n      <td>969</td>\n      <td>7057</td>\n      <td>4923</td>\n      <td>5926</td>\n      <td>5</td>\n    </tr>\n  </tbody>\n</table>\n<p>4 rows × 128 columns</p>\n</div>"
     },
     "execution_count": 38,
     "metadata": {},
     "output_type": "execute_result"
    }
   ],
   "source": [
    "# take a look at feature counts from 2013\n",
    "df_2013.describe()"
   ],
   "metadata": {
    "collapsed": false,
    "pycharm": {
     "name": "#%%\n"
    }
   }
  },
  {
   "cell_type": "code",
   "execution_count": 39,
   "outputs": [
    {
     "data": {
      "text/plain": "       What Country do you live in?              Unnamed: 1  \\\ncount                          7644                       1   \nunique                           97                       1   \ntop                   United States  Other (please specify)   \nfreq                           2128                       1   \n\n       Which US State or Territory do you live in? How old are you?  \\\ncount                                         2109             7347   \nunique                                          52                9   \ntop                                     California            25-29   \nfreq                                           286             2034   \n\n       What is your gender?  \\\ncount                  7347   \nunique                    4   \ntop                    Male   \nfreq                   6864   \n\n       How many years of IT/Programming experience do you have?  \\\ncount                                                7347         \nunique                                                  5         \ntop                                              2/5/2014         \nfreq                                                 2405         \n\n       Which of the following best describes your occupation?  \\\ncount                                                7347       \nunique                                                 16       \ntop                              Full-Stack Web Developer       \nfreq                                                 1966       \n\n       Including bonus, what is your annual compensation in USD?  \\\ncount                                                6901          \nunique                                                 11          \ntop                                  Student / Unemployed          \nfreq                                                 1147          \n\n       How would you best describe the industry you currently work in?  \\\ncount                                                7220                \nunique                                                 16                \ntop                                     Software Products                \nfreq                                                 2021                \n\n       How many developers are employed at your company?  ...  \\\ncount                                               6398  ...   \nunique                                                 7  ...   \ntop                                             1/5/2014  ...   \nfreq                                                2131  ...   \n\n       Did you participate in the Apptivate contest?  \\\ncount                                           6195   \nunique                                             4   \ntop                                               No   \nfreq                                            5791   \n\n       What advertisers do you remember seeing on Stack Overflow?  \\\ncount                                                1632           \nunique                                               1097           \ntop                                                  None           \nfreq                                                  107           \n\n       What is your current Stack Overflow reputation?  \\\ncount                                             6284   \nunique                                              12   \ntop                                                  1   \nfreq                                               843   \n\n                           How do you use Stack Overflow?  \\\ncount                                                5950   \nunique                                                  1   \ntop     Read other people's questions to solve my prob...   \nfreq                                                 5950   \n\n                           Unnamed: 114  \\\ncount                              4074   \nunique                                1   \ntop     Ask questions to solve problems   \nfreq                               4074   \n\n                                 Unnamed: 115       Unnamed: 116  \\\ncount                                    4927                587   \nunique                                      1                  1   \ntop     Answer questions I know the answer to  Looking for a job   \nfreq                                     4927                587   \n\n                      Unnamed: 117 Unnamed: 118  \\\ncount                         2610          266   \nunique                           1          262   \ntop     Build my online reputation     Learning   \nfreq                          2610            3   \n\n       How often do you find solutions to your programming problems on Stack Overflow without asking a new question?  \ncount                                                6259                                                             \nunique                                                  6                                                             \ntop                                         Almost Always                                                             \nfreq                                                 3718                                                             \n\n[4 rows x 120 columns]",
      "text/html": "<div>\n<style scoped>\n    .dataframe tbody tr th:only-of-type {\n        vertical-align: middle;\n    }\n\n    .dataframe tbody tr th {\n        vertical-align: top;\n    }\n\n    .dataframe thead th {\n        text-align: right;\n    }\n</style>\n<table border=\"1\" class=\"dataframe\">\n  <thead>\n    <tr style=\"text-align: right;\">\n      <th></th>\n      <th>What Country do you live in?</th>\n      <th>Unnamed: 1</th>\n      <th>Which US State or Territory do you live in?</th>\n      <th>How old are you?</th>\n      <th>What is your gender?</th>\n      <th>How many years of IT/Programming experience do you have?</th>\n      <th>Which of the following best describes your occupation?</th>\n      <th>Including bonus, what is your annual compensation in USD?</th>\n      <th>How would you best describe the industry you currently work in?</th>\n      <th>How many developers are employed at your company?</th>\n      <th>...</th>\n      <th>Did you participate in the Apptivate contest?</th>\n      <th>What advertisers do you remember seeing on Stack Overflow?</th>\n      <th>What is your current Stack Overflow reputation?</th>\n      <th>How do you use Stack Overflow?</th>\n      <th>Unnamed: 114</th>\n      <th>Unnamed: 115</th>\n      <th>Unnamed: 116</th>\n      <th>Unnamed: 117</th>\n      <th>Unnamed: 118</th>\n      <th>How often do you find solutions to your programming problems on Stack Overflow without asking a new question?</th>\n    </tr>\n  </thead>\n  <tbody>\n    <tr>\n      <th>count</th>\n      <td>7644</td>\n      <td>1</td>\n      <td>2109</td>\n      <td>7347</td>\n      <td>7347</td>\n      <td>7347</td>\n      <td>7347</td>\n      <td>6901</td>\n      <td>7220</td>\n      <td>6398</td>\n      <td>...</td>\n      <td>6195</td>\n      <td>1632</td>\n      <td>6284</td>\n      <td>5950</td>\n      <td>4074</td>\n      <td>4927</td>\n      <td>587</td>\n      <td>2610</td>\n      <td>266</td>\n      <td>6259</td>\n    </tr>\n    <tr>\n      <th>unique</th>\n      <td>97</td>\n      <td>1</td>\n      <td>52</td>\n      <td>9</td>\n      <td>4</td>\n      <td>5</td>\n      <td>16</td>\n      <td>11</td>\n      <td>16</td>\n      <td>7</td>\n      <td>...</td>\n      <td>4</td>\n      <td>1097</td>\n      <td>12</td>\n      <td>1</td>\n      <td>1</td>\n      <td>1</td>\n      <td>1</td>\n      <td>1</td>\n      <td>262</td>\n      <td>6</td>\n    </tr>\n    <tr>\n      <th>top</th>\n      <td>United States</td>\n      <td>Other (please specify)</td>\n      <td>California</td>\n      <td>25-29</td>\n      <td>Male</td>\n      <td>2/5/2014</td>\n      <td>Full-Stack Web Developer</td>\n      <td>Student / Unemployed</td>\n      <td>Software Products</td>\n      <td>1/5/2014</td>\n      <td>...</td>\n      <td>No</td>\n      <td>None</td>\n      <td>1</td>\n      <td>Read other people's questions to solve my prob...</td>\n      <td>Ask questions to solve problems</td>\n      <td>Answer questions I know the answer to</td>\n      <td>Looking for a job</td>\n      <td>Build my online reputation</td>\n      <td>Learning</td>\n      <td>Almost Always</td>\n    </tr>\n    <tr>\n      <th>freq</th>\n      <td>2128</td>\n      <td>1</td>\n      <td>286</td>\n      <td>2034</td>\n      <td>6864</td>\n      <td>2405</td>\n      <td>1966</td>\n      <td>1147</td>\n      <td>2021</td>\n      <td>2131</td>\n      <td>...</td>\n      <td>5791</td>\n      <td>107</td>\n      <td>843</td>\n      <td>5950</td>\n      <td>4074</td>\n      <td>4927</td>\n      <td>587</td>\n      <td>2610</td>\n      <td>3</td>\n      <td>3718</td>\n    </tr>\n  </tbody>\n</table>\n<p>4 rows × 120 columns</p>\n</div>"
     },
     "execution_count": 39,
     "metadata": {},
     "output_type": "execute_result"
    }
   ],
   "source": [
    "# take a look at feature counts from 2014\n",
    "df_2014.describe()"
   ],
   "metadata": {
    "collapsed": false,
    "pycharm": {
     "name": "#%%\n"
    }
   }
  },
  {
   "cell_type": "code",
   "execution_count": 40,
   "outputs": [
    {
     "data": {
      "text/plain": "           Unnamed: 0 Unnamed: 1 Unnamed: 2 Unnamed: 3   Unnamed: 4  \\\ncount           25280      25832      25745      25808        24828   \nunique            157         10          5          5            6   \ntop     United States      25-29       Male       Tabs  2 - 5 years   \nfreq             4745       7365      23699      11604         8037   \n\n                      Unnamed: 5 Unnamed: 6  Unnamed: 7 Select all that apply  \\\ncount                      20852      21981         791                  4111   \nunique                        25         11         325                     2   \ntop     Full-stack web developer  Windows 7  Arch Linux               Android   \nfreq                        6765       7700         101                  4110   \n\n                    Unnamed: 9  ...  \\\ncount                     1627  ...   \nunique                       2  ...   \ntop     Arduino / Raspberry Pi  ...   \nfreq                      1626  ...   \n\n                                             Unnamed: 212 Unnamed: 213  \\\ncount                                                 206        16394   \nunique                                                  2            6   \ntop     I don't really use Stack Overflow. I just take...      Usually   \nfreq                                                  205        12453   \n\n                           Select all that apply.7  \\\ncount                                        10231   \nunique                                           2   \ntop     It feels good to help a programmer in need   \nfreq                                         10230   \n\n                                             Unnamed: 215  \\\ncount                                                8664   \nunique                                                  2   \ntop     My answer will help lots of people who have th...   \nfreq                                                 8663   \n\n                                      Unnamed: 216  \\\ncount                                         4827   \nunique                                           2   \ntop     It feels good to demonstrate my expertise.   \nfreq                                          4826   \n\n                                      Unnamed: 217  \\\ncount                                         3319   \nunique                                           2   \ntop     Demonstrating my expertise will benefit me   \nfreq                                          3318   \n\n                                             Unnamed: 218  \\\ncount                                                5176   \nunique                                                  2   \ntop     I feel a sense of responsibility to the develo...   \nfreq                                                 5175   \n\n                                          Unnamed: 219  \\\ncount                                             1023   \nunique                                               2   \ntop     I have no idea why I answer but I do it anyway   \nfreq                                              1022   \n\n                                             Unnamed: 220  \\\ncount                                                 703   \nunique                                                  2   \ntop     I don't answer much (or at all), and I don't w...   \nfreq                                                  702   \n\n                                             Unnamed: 221  \ncount                                                5701  \nunique                                                  2  \ntop     I don't answer much (or at all), but I want to...  \nfreq                                                 5700  \n\n[4 rows x 222 columns]",
      "text/html": "<div>\n<style scoped>\n    .dataframe tbody tr th:only-of-type {\n        vertical-align: middle;\n    }\n\n    .dataframe tbody tr th {\n        vertical-align: top;\n    }\n\n    .dataframe thead th {\n        text-align: right;\n    }\n</style>\n<table border=\"1\" class=\"dataframe\">\n  <thead>\n    <tr style=\"text-align: right;\">\n      <th></th>\n      <th>Unnamed: 0</th>\n      <th>Unnamed: 1</th>\n      <th>Unnamed: 2</th>\n      <th>Unnamed: 3</th>\n      <th>Unnamed: 4</th>\n      <th>Unnamed: 5</th>\n      <th>Unnamed: 6</th>\n      <th>Unnamed: 7</th>\n      <th>Select all that apply</th>\n      <th>Unnamed: 9</th>\n      <th>...</th>\n      <th>Unnamed: 212</th>\n      <th>Unnamed: 213</th>\n      <th>Select all that apply.7</th>\n      <th>Unnamed: 215</th>\n      <th>Unnamed: 216</th>\n      <th>Unnamed: 217</th>\n      <th>Unnamed: 218</th>\n      <th>Unnamed: 219</th>\n      <th>Unnamed: 220</th>\n      <th>Unnamed: 221</th>\n    </tr>\n  </thead>\n  <tbody>\n    <tr>\n      <th>count</th>\n      <td>25280</td>\n      <td>25832</td>\n      <td>25745</td>\n      <td>25808</td>\n      <td>24828</td>\n      <td>20852</td>\n      <td>21981</td>\n      <td>791</td>\n      <td>4111</td>\n      <td>1627</td>\n      <td>...</td>\n      <td>206</td>\n      <td>16394</td>\n      <td>10231</td>\n      <td>8664</td>\n      <td>4827</td>\n      <td>3319</td>\n      <td>5176</td>\n      <td>1023</td>\n      <td>703</td>\n      <td>5701</td>\n    </tr>\n    <tr>\n      <th>unique</th>\n      <td>157</td>\n      <td>10</td>\n      <td>5</td>\n      <td>5</td>\n      <td>6</td>\n      <td>25</td>\n      <td>11</td>\n      <td>325</td>\n      <td>2</td>\n      <td>2</td>\n      <td>...</td>\n      <td>2</td>\n      <td>6</td>\n      <td>2</td>\n      <td>2</td>\n      <td>2</td>\n      <td>2</td>\n      <td>2</td>\n      <td>2</td>\n      <td>2</td>\n      <td>2</td>\n    </tr>\n    <tr>\n      <th>top</th>\n      <td>United States</td>\n      <td>25-29</td>\n      <td>Male</td>\n      <td>Tabs</td>\n      <td>2 - 5 years</td>\n      <td>Full-stack web developer</td>\n      <td>Windows 7</td>\n      <td>Arch Linux</td>\n      <td>Android</td>\n      <td>Arduino / Raspberry Pi</td>\n      <td>...</td>\n      <td>I don't really use Stack Overflow. I just take...</td>\n      <td>Usually</td>\n      <td>It feels good to help a programmer in need</td>\n      <td>My answer will help lots of people who have th...</td>\n      <td>It feels good to demonstrate my expertise.</td>\n      <td>Demonstrating my expertise will benefit me</td>\n      <td>I feel a sense of responsibility to the develo...</td>\n      <td>I have no idea why I answer but I do it anyway</td>\n      <td>I don't answer much (or at all), and I don't w...</td>\n      <td>I don't answer much (or at all), but I want to...</td>\n    </tr>\n    <tr>\n      <th>freq</th>\n      <td>4745</td>\n      <td>7365</td>\n      <td>23699</td>\n      <td>11604</td>\n      <td>8037</td>\n      <td>6765</td>\n      <td>7700</td>\n      <td>101</td>\n      <td>4110</td>\n      <td>1626</td>\n      <td>...</td>\n      <td>205</td>\n      <td>12453</td>\n      <td>10230</td>\n      <td>8663</td>\n      <td>4826</td>\n      <td>3318</td>\n      <td>5175</td>\n      <td>1022</td>\n      <td>702</td>\n      <td>5700</td>\n    </tr>\n  </tbody>\n</table>\n<p>4 rows × 222 columns</p>\n</div>"
     },
     "execution_count": 40,
     "metadata": {},
     "output_type": "execute_result"
    }
   ],
   "source": [
    "# take a look at feature counts from 2015\n",
    "df_2015.describe()\n"
   ],
   "metadata": {
    "collapsed": false,
    "pycharm": {
     "name": "#%%\n"
    }
   }
  },
  {
   "cell_type": "code",
   "execution_count": 41,
   "outputs": [
    {
     "data": {
      "text/plain": "         Unnamed: 0  age_midpoint  experience_midpoint  salary_midpoint  \\\ncount  56030.000000  55336.000000         49520.000000     41742.000000   \nmean   28014.500000     29.621286             6.640145     53952.973025   \nstd    16174.612128      9.108102             4.446157     46518.823875   \nmin        0.000000     16.000000             0.500000      5000.000000   \n25%    14007.250000     22.000000             3.500000     15000.000000   \n50%    28014.500000     27.000000             3.500000     45000.000000   \n75%    42021.750000     32.000000            13.000000     75000.000000   \nmax    56029.000000     65.000000            13.000000    210000.000000   \n\n       big_mac_index  programming_ability  \ncount   48825.000000         46982.000000  \nmean        3.907442             7.094547  \nstd         1.120232             1.766312  \nmin         1.530000             1.000000  \n25%         3.410000             6.000000  \n50%         4.220000             7.000000  \n75%         4.930000             8.000000  \nmax         6.440000            10.000000  ",
      "text/html": "<div>\n<style scoped>\n    .dataframe tbody tr th:only-of-type {\n        vertical-align: middle;\n    }\n\n    .dataframe tbody tr th {\n        vertical-align: top;\n    }\n\n    .dataframe thead th {\n        text-align: right;\n    }\n</style>\n<table border=\"1\" class=\"dataframe\">\n  <thead>\n    <tr style=\"text-align: right;\">\n      <th></th>\n      <th>Unnamed: 0</th>\n      <th>age_midpoint</th>\n      <th>experience_midpoint</th>\n      <th>salary_midpoint</th>\n      <th>big_mac_index</th>\n      <th>programming_ability</th>\n    </tr>\n  </thead>\n  <tbody>\n    <tr>\n      <th>count</th>\n      <td>56030.000000</td>\n      <td>55336.000000</td>\n      <td>49520.000000</td>\n      <td>41742.000000</td>\n      <td>48825.000000</td>\n      <td>46982.000000</td>\n    </tr>\n    <tr>\n      <th>mean</th>\n      <td>28014.500000</td>\n      <td>29.621286</td>\n      <td>6.640145</td>\n      <td>53952.973025</td>\n      <td>3.907442</td>\n      <td>7.094547</td>\n    </tr>\n    <tr>\n      <th>std</th>\n      <td>16174.612128</td>\n      <td>9.108102</td>\n      <td>4.446157</td>\n      <td>46518.823875</td>\n      <td>1.120232</td>\n      <td>1.766312</td>\n    </tr>\n    <tr>\n      <th>min</th>\n      <td>0.000000</td>\n      <td>16.000000</td>\n      <td>0.500000</td>\n      <td>5000.000000</td>\n      <td>1.530000</td>\n      <td>1.000000</td>\n    </tr>\n    <tr>\n      <th>25%</th>\n      <td>14007.250000</td>\n      <td>22.000000</td>\n      <td>3.500000</td>\n      <td>15000.000000</td>\n      <td>3.410000</td>\n      <td>6.000000</td>\n    </tr>\n    <tr>\n      <th>50%</th>\n      <td>28014.500000</td>\n      <td>27.000000</td>\n      <td>3.500000</td>\n      <td>45000.000000</td>\n      <td>4.220000</td>\n      <td>7.000000</td>\n    </tr>\n    <tr>\n      <th>75%</th>\n      <td>42021.750000</td>\n      <td>32.000000</td>\n      <td>13.000000</td>\n      <td>75000.000000</td>\n      <td>4.930000</td>\n      <td>8.000000</td>\n    </tr>\n    <tr>\n      <th>max</th>\n      <td>56029.000000</td>\n      <td>65.000000</td>\n      <td>13.000000</td>\n      <td>210000.000000</td>\n      <td>6.440000</td>\n      <td>10.000000</td>\n    </tr>\n  </tbody>\n</table>\n</div>"
     },
     "execution_count": 41,
     "metadata": {},
     "output_type": "execute_result"
    }
   ],
   "source": [
    "# take a look at feature counts from 2016\n",
    "df_2016.describe()"
   ],
   "metadata": {
    "collapsed": false,
    "pycharm": {
     "name": "#%%\n"
    }
   }
  },
  {
   "cell_type": "code",
   "execution_count": 42,
   "outputs": [
    {
     "data": {
      "text/plain": "         Respondent  CareerSatisfaction  JobSatisfaction  HoursPerWeek  \\\ncount  51392.000000        42695.000000     40376.000000  20600.000000   \nmean   25696.500000            7.300574         6.957078      3.952282   \nstd    14835.736854            1.955444         2.167652      7.564722   \nmin        1.000000            0.000000         0.000000      0.000000   \n25%    12848.750000            6.000000         6.000000      1.000000   \n50%    25696.500000            8.000000         7.000000      1.000000   \n75%    38544.250000            9.000000         8.000000      4.000000   \nmax    51392.000000           10.000000        10.000000     40.000000   \n\n       StackOverflowSatisfaction         Salary  ExpectedSalary  \ncount               36592.000000   12891.000000     2566.000000  \nmean                    8.429875   56298.480641    33142.220468  \nstd                     1.390635   39880.905277    30162.988829  \nmin                     0.000000       0.000000        0.000000  \n25%                     8.000000   26440.371839     4490.492484  \n50%                     9.000000   50000.000000    29364.263691  \n75%                    10.000000   80000.000000    50403.225806  \nmax                    10.000000  197000.000000   187500.000000  ",
      "text/html": "<div>\n<style scoped>\n    .dataframe tbody tr th:only-of-type {\n        vertical-align: middle;\n    }\n\n    .dataframe tbody tr th {\n        vertical-align: top;\n    }\n\n    .dataframe thead th {\n        text-align: right;\n    }\n</style>\n<table border=\"1\" class=\"dataframe\">\n  <thead>\n    <tr style=\"text-align: right;\">\n      <th></th>\n      <th>Respondent</th>\n      <th>CareerSatisfaction</th>\n      <th>JobSatisfaction</th>\n      <th>HoursPerWeek</th>\n      <th>StackOverflowSatisfaction</th>\n      <th>Salary</th>\n      <th>ExpectedSalary</th>\n    </tr>\n  </thead>\n  <tbody>\n    <tr>\n      <th>count</th>\n      <td>51392.000000</td>\n      <td>42695.000000</td>\n      <td>40376.000000</td>\n      <td>20600.000000</td>\n      <td>36592.000000</td>\n      <td>12891.000000</td>\n      <td>2566.000000</td>\n    </tr>\n    <tr>\n      <th>mean</th>\n      <td>25696.500000</td>\n      <td>7.300574</td>\n      <td>6.957078</td>\n      <td>3.952282</td>\n      <td>8.429875</td>\n      <td>56298.480641</td>\n      <td>33142.220468</td>\n    </tr>\n    <tr>\n      <th>std</th>\n      <td>14835.736854</td>\n      <td>1.955444</td>\n      <td>2.167652</td>\n      <td>7.564722</td>\n      <td>1.390635</td>\n      <td>39880.905277</td>\n      <td>30162.988829</td>\n    </tr>\n    <tr>\n      <th>min</th>\n      <td>1.000000</td>\n      <td>0.000000</td>\n      <td>0.000000</td>\n      <td>0.000000</td>\n      <td>0.000000</td>\n      <td>0.000000</td>\n      <td>0.000000</td>\n    </tr>\n    <tr>\n      <th>25%</th>\n      <td>12848.750000</td>\n      <td>6.000000</td>\n      <td>6.000000</td>\n      <td>1.000000</td>\n      <td>8.000000</td>\n      <td>26440.371839</td>\n      <td>4490.492484</td>\n    </tr>\n    <tr>\n      <th>50%</th>\n      <td>25696.500000</td>\n      <td>8.000000</td>\n      <td>7.000000</td>\n      <td>1.000000</td>\n      <td>9.000000</td>\n      <td>50000.000000</td>\n      <td>29364.263691</td>\n    </tr>\n    <tr>\n      <th>75%</th>\n      <td>38544.250000</td>\n      <td>9.000000</td>\n      <td>8.000000</td>\n      <td>4.000000</td>\n      <td>10.000000</td>\n      <td>80000.000000</td>\n      <td>50403.225806</td>\n    </tr>\n    <tr>\n      <th>max</th>\n      <td>51392.000000</td>\n      <td>10.000000</td>\n      <td>10.000000</td>\n      <td>40.000000</td>\n      <td>10.000000</td>\n      <td>197000.000000</td>\n      <td>187500.000000</td>\n    </tr>\n  </tbody>\n</table>\n</div>"
     },
     "execution_count": 42,
     "metadata": {},
     "output_type": "execute_result"
    }
   ],
   "source": [
    "# take a look at feature counts from 2017\n",
    "df_2017.describe()\n"
   ],
   "metadata": {
    "collapsed": false,
    "pycharm": {
     "name": "#%%\n"
    }
   }
  },
  {
   "cell_type": "code",
   "execution_count": 43,
   "outputs": [
    {
     "data": {
      "text/plain": "          Respondent    AssessJob1    AssessJob2    AssessJob3    AssessJob4  \\\ncount   98855.000000  66985.000000  66985.000000  66985.000000  66985.000000   \nmean    50822.971635      6.397089      6.673524      5.906875      4.065791   \nstd     29321.650410      2.788428      2.531202      2.642734      2.541196   \nmin         1.000000      1.000000      1.000000      1.000000      1.000000   \n25%     25443.500000      4.000000      5.000000      4.000000      2.000000   \n50%     50823.000000      7.000000      7.000000      6.000000      4.000000   \n75%     76219.500000      9.000000      9.000000      8.000000      6.000000   \nmax    101592.000000     10.000000     10.000000     10.000000     10.000000   \n\n         AssessJob5    AssessJob6    AssessJob7    AssessJob8    AssessJob9  \\\ncount  66985.000000  66985.000000  66985.000000  66985.000000  66985.000000   \nmean       3.953243      4.407196      5.673181      4.225200      7.640009   \nstd        2.520499      2.502069      2.923998      2.507411      2.407457   \nmin        1.000000      1.000000      1.000000      1.000000      1.000000   \n25%        2.000000      2.000000      3.000000      2.000000      6.000000   \n50%        3.000000      4.000000      6.000000      4.000000      8.000000   \n75%        6.000000      6.000000      8.000000      6.000000     10.000000   \nmax       10.000000     10.000000     10.000000     10.000000     10.000000   \n\n       ...  JobEmailPriorities6  JobEmailPriorities7  ConvertedSalary  \\\ncount  ...          46213.00000         46213.000000     4.770200e+04   \nmean   ...              4.97425             4.836388     9.578086e+04   \nstd    ...              1.86063             1.659844     2.023482e+05   \nmin    ...              1.00000             1.000000     0.000000e+00   \n25%    ...              4.00000             4.000000     2.384400e+04   \n50%    ...              5.00000             5.000000     5.507500e+04   \n75%    ...              7.00000             6.000000     9.300000e+04   \nmax    ...              7.00000             7.000000     2.000000e+06   \n\n       AdsPriorities1  AdsPriorities2  AdsPriorities3  AdsPriorities4  \\\ncount    60479.000000    60479.000000    60479.000000    60479.000000   \nmean         2.726880        3.805784        3.340945        3.782470   \nstd          1.881078        1.821323        1.673485        1.844864   \nmin          1.000000        1.000000        1.000000        1.000000   \n25%          1.000000        2.000000        2.000000        2.000000   \n50%          2.000000        4.000000        3.000000        4.000000   \n75%          4.000000        5.000000        5.000000        5.000000   \nmax          7.000000        7.000000        7.000000        7.000000   \n\n       AdsPriorities5  AdsPriorities6  AdsPriorities7  \ncount    60479.000000    60479.000000    60479.000000  \nmean         4.383604        5.138809        4.821459  \nstd          1.931746        1.853249        1.874895  \nmin          1.000000        1.000000        1.000000  \n25%          3.000000        4.000000        3.000000  \n50%          5.000000        6.000000        5.000000  \n75%          6.000000        7.000000        7.000000  \nmax          7.000000        7.000000        7.000000  \n\n[8 rows x 42 columns]",
      "text/html": "<div>\n<style scoped>\n    .dataframe tbody tr th:only-of-type {\n        vertical-align: middle;\n    }\n\n    .dataframe tbody tr th {\n        vertical-align: top;\n    }\n\n    .dataframe thead th {\n        text-align: right;\n    }\n</style>\n<table border=\"1\" class=\"dataframe\">\n  <thead>\n    <tr style=\"text-align: right;\">\n      <th></th>\n      <th>Respondent</th>\n      <th>AssessJob1</th>\n      <th>AssessJob2</th>\n      <th>AssessJob3</th>\n      <th>AssessJob4</th>\n      <th>AssessJob5</th>\n      <th>AssessJob6</th>\n      <th>AssessJob7</th>\n      <th>AssessJob8</th>\n      <th>AssessJob9</th>\n      <th>...</th>\n      <th>JobEmailPriorities6</th>\n      <th>JobEmailPriorities7</th>\n      <th>ConvertedSalary</th>\n      <th>AdsPriorities1</th>\n      <th>AdsPriorities2</th>\n      <th>AdsPriorities3</th>\n      <th>AdsPriorities4</th>\n      <th>AdsPriorities5</th>\n      <th>AdsPriorities6</th>\n      <th>AdsPriorities7</th>\n    </tr>\n  </thead>\n  <tbody>\n    <tr>\n      <th>count</th>\n      <td>98855.000000</td>\n      <td>66985.000000</td>\n      <td>66985.000000</td>\n      <td>66985.000000</td>\n      <td>66985.000000</td>\n      <td>66985.000000</td>\n      <td>66985.000000</td>\n      <td>66985.000000</td>\n      <td>66985.000000</td>\n      <td>66985.000000</td>\n      <td>...</td>\n      <td>46213.00000</td>\n      <td>46213.000000</td>\n      <td>4.770200e+04</td>\n      <td>60479.000000</td>\n      <td>60479.000000</td>\n      <td>60479.000000</td>\n      <td>60479.000000</td>\n      <td>60479.000000</td>\n      <td>60479.000000</td>\n      <td>60479.000000</td>\n    </tr>\n    <tr>\n      <th>mean</th>\n      <td>50822.971635</td>\n      <td>6.397089</td>\n      <td>6.673524</td>\n      <td>5.906875</td>\n      <td>4.065791</td>\n      <td>3.953243</td>\n      <td>4.407196</td>\n      <td>5.673181</td>\n      <td>4.225200</td>\n      <td>7.640009</td>\n      <td>...</td>\n      <td>4.97425</td>\n      <td>4.836388</td>\n      <td>9.578086e+04</td>\n      <td>2.726880</td>\n      <td>3.805784</td>\n      <td>3.340945</td>\n      <td>3.782470</td>\n      <td>4.383604</td>\n      <td>5.138809</td>\n      <td>4.821459</td>\n    </tr>\n    <tr>\n      <th>std</th>\n      <td>29321.650410</td>\n      <td>2.788428</td>\n      <td>2.531202</td>\n      <td>2.642734</td>\n      <td>2.541196</td>\n      <td>2.520499</td>\n      <td>2.502069</td>\n      <td>2.923998</td>\n      <td>2.507411</td>\n      <td>2.407457</td>\n      <td>...</td>\n      <td>1.86063</td>\n      <td>1.659844</td>\n      <td>2.023482e+05</td>\n      <td>1.881078</td>\n      <td>1.821323</td>\n      <td>1.673485</td>\n      <td>1.844864</td>\n      <td>1.931746</td>\n      <td>1.853249</td>\n      <td>1.874895</td>\n    </tr>\n    <tr>\n      <th>min</th>\n      <td>1.000000</td>\n      <td>1.000000</td>\n      <td>1.000000</td>\n      <td>1.000000</td>\n      <td>1.000000</td>\n      <td>1.000000</td>\n      <td>1.000000</td>\n      <td>1.000000</td>\n      <td>1.000000</td>\n      <td>1.000000</td>\n      <td>...</td>\n      <td>1.00000</td>\n      <td>1.000000</td>\n      <td>0.000000e+00</td>\n      <td>1.000000</td>\n      <td>1.000000</td>\n      <td>1.000000</td>\n      <td>1.000000</td>\n      <td>1.000000</td>\n      <td>1.000000</td>\n      <td>1.000000</td>\n    </tr>\n    <tr>\n      <th>25%</th>\n      <td>25443.500000</td>\n      <td>4.000000</td>\n      <td>5.000000</td>\n      <td>4.000000</td>\n      <td>2.000000</td>\n      <td>2.000000</td>\n      <td>2.000000</td>\n      <td>3.000000</td>\n      <td>2.000000</td>\n      <td>6.000000</td>\n      <td>...</td>\n      <td>4.00000</td>\n      <td>4.000000</td>\n      <td>2.384400e+04</td>\n      <td>1.000000</td>\n      <td>2.000000</td>\n      <td>2.000000</td>\n      <td>2.000000</td>\n      <td>3.000000</td>\n      <td>4.000000</td>\n      <td>3.000000</td>\n    </tr>\n    <tr>\n      <th>50%</th>\n      <td>50823.000000</td>\n      <td>7.000000</td>\n      <td>7.000000</td>\n      <td>6.000000</td>\n      <td>4.000000</td>\n      <td>3.000000</td>\n      <td>4.000000</td>\n      <td>6.000000</td>\n      <td>4.000000</td>\n      <td>8.000000</td>\n      <td>...</td>\n      <td>5.00000</td>\n      <td>5.000000</td>\n      <td>5.507500e+04</td>\n      <td>2.000000</td>\n      <td>4.000000</td>\n      <td>3.000000</td>\n      <td>4.000000</td>\n      <td>5.000000</td>\n      <td>6.000000</td>\n      <td>5.000000</td>\n    </tr>\n    <tr>\n      <th>75%</th>\n      <td>76219.500000</td>\n      <td>9.000000</td>\n      <td>9.000000</td>\n      <td>8.000000</td>\n      <td>6.000000</td>\n      <td>6.000000</td>\n      <td>6.000000</td>\n      <td>8.000000</td>\n      <td>6.000000</td>\n      <td>10.000000</td>\n      <td>...</td>\n      <td>7.00000</td>\n      <td>6.000000</td>\n      <td>9.300000e+04</td>\n      <td>4.000000</td>\n      <td>5.000000</td>\n      <td>5.000000</td>\n      <td>5.000000</td>\n      <td>6.000000</td>\n      <td>7.000000</td>\n      <td>7.000000</td>\n    </tr>\n    <tr>\n      <th>max</th>\n      <td>101592.000000</td>\n      <td>10.000000</td>\n      <td>10.000000</td>\n      <td>10.000000</td>\n      <td>10.000000</td>\n      <td>10.000000</td>\n      <td>10.000000</td>\n      <td>10.000000</td>\n      <td>10.000000</td>\n      <td>10.000000</td>\n      <td>...</td>\n      <td>7.00000</td>\n      <td>7.000000</td>\n      <td>2.000000e+06</td>\n      <td>7.000000</td>\n      <td>7.000000</td>\n      <td>7.000000</td>\n      <td>7.000000</td>\n      <td>7.000000</td>\n      <td>7.000000</td>\n      <td>7.000000</td>\n    </tr>\n  </tbody>\n</table>\n<p>8 rows × 42 columns</p>\n</div>"
     },
     "execution_count": 43,
     "metadata": {},
     "output_type": "execute_result"
    }
   ],
   "source": [
    "# take a look at feature counts from 2018\n",
    "df_2018.describe()\n"
   ],
   "metadata": {
    "collapsed": false,
    "pycharm": {
     "name": "#%%\n"
    }
   }
  },
  {
   "cell_type": "code",
   "execution_count": 44,
   "outputs": [
    {
     "data": {
      "text/plain": "         Respondent     CompTotal  ConvertedComp   WorkWeekHrs    CodeRevHrs  \\\ncount  88883.000000  5.594500e+04   5.582300e+04  64503.000000  49790.000000   \nmean   44442.000000  5.519014e+11   1.271107e+05     42.127197      5.084308   \nstd    25658.456325  7.331926e+13   2.841523e+05     37.287610      5.513931   \nmin        1.000000  0.000000e+00   0.000000e+00      1.000000      0.000000   \n25%    22221.500000  2.000000e+04   2.577750e+04     40.000000      2.000000   \n50%    44442.000000  6.200000e+04   5.728700e+04     40.000000      4.000000   \n75%    66662.500000  1.200000e+05   1.000000e+05     44.750000      6.000000   \nmax    88883.000000  1.000000e+16   2.000000e+06   4850.000000     99.000000   \n\n                Age  \ncount  79210.000000  \nmean      30.336699  \nstd        9.178390  \nmin        1.000000  \n25%       24.000000  \n50%       29.000000  \n75%       35.000000  \nmax       99.000000  ",
      "text/html": "<div>\n<style scoped>\n    .dataframe tbody tr th:only-of-type {\n        vertical-align: middle;\n    }\n\n    .dataframe tbody tr th {\n        vertical-align: top;\n    }\n\n    .dataframe thead th {\n        text-align: right;\n    }\n</style>\n<table border=\"1\" class=\"dataframe\">\n  <thead>\n    <tr style=\"text-align: right;\">\n      <th></th>\n      <th>Respondent</th>\n      <th>CompTotal</th>\n      <th>ConvertedComp</th>\n      <th>WorkWeekHrs</th>\n      <th>CodeRevHrs</th>\n      <th>Age</th>\n    </tr>\n  </thead>\n  <tbody>\n    <tr>\n      <th>count</th>\n      <td>88883.000000</td>\n      <td>5.594500e+04</td>\n      <td>5.582300e+04</td>\n      <td>64503.000000</td>\n      <td>49790.000000</td>\n      <td>79210.000000</td>\n    </tr>\n    <tr>\n      <th>mean</th>\n      <td>44442.000000</td>\n      <td>5.519014e+11</td>\n      <td>1.271107e+05</td>\n      <td>42.127197</td>\n      <td>5.084308</td>\n      <td>30.336699</td>\n    </tr>\n    <tr>\n      <th>std</th>\n      <td>25658.456325</td>\n      <td>7.331926e+13</td>\n      <td>2.841523e+05</td>\n      <td>37.287610</td>\n      <td>5.513931</td>\n      <td>9.178390</td>\n    </tr>\n    <tr>\n      <th>min</th>\n      <td>1.000000</td>\n      <td>0.000000e+00</td>\n      <td>0.000000e+00</td>\n      <td>1.000000</td>\n      <td>0.000000</td>\n      <td>1.000000</td>\n    </tr>\n    <tr>\n      <th>25%</th>\n      <td>22221.500000</td>\n      <td>2.000000e+04</td>\n      <td>2.577750e+04</td>\n      <td>40.000000</td>\n      <td>2.000000</td>\n      <td>24.000000</td>\n    </tr>\n    <tr>\n      <th>50%</th>\n      <td>44442.000000</td>\n      <td>6.200000e+04</td>\n      <td>5.728700e+04</td>\n      <td>40.000000</td>\n      <td>4.000000</td>\n      <td>29.000000</td>\n    </tr>\n    <tr>\n      <th>75%</th>\n      <td>66662.500000</td>\n      <td>1.200000e+05</td>\n      <td>1.000000e+05</td>\n      <td>44.750000</td>\n      <td>6.000000</td>\n      <td>35.000000</td>\n    </tr>\n    <tr>\n      <th>max</th>\n      <td>88883.000000</td>\n      <td>1.000000e+16</td>\n      <td>2.000000e+06</td>\n      <td>4850.000000</td>\n      <td>99.000000</td>\n      <td>99.000000</td>\n    </tr>\n  </tbody>\n</table>\n</div>"
     },
     "execution_count": 44,
     "metadata": {},
     "output_type": "execute_result"
    }
   ],
   "source": [
    "# take a look at feature counts from 2019\n",
    "df_2019.describe()"
   ],
   "metadata": {
    "collapsed": false,
    "pycharm": {
     "name": "#%%\n"
    }
   }
  },
  {
   "cell_type": "code",
   "execution_count": 15,
   "outputs": [
    {
     "name": "stdout",
     "output_type": "stream",
     "text": [
      "<class 'pandas.core.frame.DataFrame'>\n",
      "RangeIndex: 2814 entries, 0 to 2813\n",
      "Data columns (total 65 columns):\n",
      " #   Column                                                                                           Non-Null Count  Dtype \n",
      "---  ------                                                                                           --------------  ----- \n",
      " 0   What Country or Region do you live in?                                                           2814 non-null   object\n",
      " 1   Which US State or Territory do you live in?                                                      1030 non-null   object\n",
      " 2   How old are you?                                                                                 2730 non-null   object\n",
      " 3   How many years of IT/Programming experience do you have?                                         2730 non-null   object\n",
      " 4   How would you best describe the industry you work in?                                            2730 non-null   object\n",
      " 5   Which best describes the size of your company?                                                   2647 non-null   object\n",
      " 6   Which of the following best describes your occupation?                                           2647 non-null   object\n",
      " 7   How likely is it that a recommendation you make will be acted upon?                              2611 non-null   object\n",
      " 8   What is your involvement in purchasing? You can choose more than 1.                              1362 non-null   object\n",
      " 9   Unnamed: 9                                                                                       1497 non-null   object\n",
      " 10  Unnamed: 10                                                                                      395 non-null    object\n",
      " 11  Unnamed: 11                                                                                      457 non-null    object\n",
      " 12  Unnamed: 12                                                                                      186 non-null    object\n",
      " 13  Unnamed: 13                                                                                      727 non-null    object\n",
      " 14  Unnamed: 14                                                                                      92 non-null     object\n",
      " 15  What types of purchases are you involved in?                                                     968 non-null    object\n",
      " 16  Unnamed: 16                                                                                      709 non-null    object\n",
      " 17  Unnamed: 17                                                                                      1790 non-null   object\n",
      " 18  Unnamed: 18                                                                                      970 non-null    object\n",
      " 19  Unnamed: 19                                                                                      467 non-null    object\n",
      " 20  Unnamed: 20                                                                                      285 non-null    object\n",
      " 21  What is your budget for outside expenditures (hardware, software, consulting, etc) for 2011?     533 non-null    object\n",
      " 22  Unnamed: 22                                                                                      219 non-null    object\n",
      " 23  Unnamed: 23                                                                                      85 non-null     object\n",
      " 24  Unnamed: 24                                                                                      45 non-null     object\n",
      " 25  Unnamed: 25                                                                                      43 non-null     object\n",
      " 26  Unnamed: 26                                                                                      45 non-null     object\n",
      " 27  Unnamed: 27                                                                                      121 non-null    object\n",
      " 28  Unnamed: 28                                                                                      927 non-null    object\n",
      " 29  What type of project are you developing?                                                         2599 non-null   object\n",
      " 30  Which languages are you proficient in?                                                           862 non-null    object\n",
      " 31  Unnamed: 31                                                                                      1420 non-null   object\n",
      " 32  Unnamed: 32                                                                                      1357 non-null   object\n",
      " 33  Unnamed: 33                                                                                      789 non-null    object\n",
      " 34  Unnamed: 34                                                                                      576 non-null    object\n",
      " 35  Unnamed: 35                                                                                      286 non-null    object\n",
      " 36  Unnamed: 36                                                                                      1614 non-null   object\n",
      " 37  Unnamed: 37                                                                                      1353 non-null   object\n",
      " 38  Unnamed: 38                                                                                      741 non-null    object\n",
      " 39  Unnamed: 39                                                                                      742 non-null    object\n",
      " 40  Unnamed: 40                                                                                      285 non-null    object\n",
      " 41  Unnamed: 41                                                                                      21 non-null     object\n",
      " 42  Unnamed: 42                                                                                      668 non-null    object\n",
      " 43  What operating system do you use the most?                                                       2591 non-null   object\n",
      " 44  Please rate your job/career satisfaction                                                         2554 non-null   object\n",
      " 45  Including bonus, what is your annual compensation in USD?                                        2366 non-null   object\n",
      " 46  Which technology products do you own? (You can choose more than one)                             840 non-null    object\n",
      " 47  Unnamed: 47                                                                                      745 non-null    object\n",
      " 48  Unnamed: 48                                                                                      169 non-null    object\n",
      " 49  Unnamed: 49                                                                                      367 non-null    object\n",
      " 50  Unnamed: 50                                                                                      625 non-null    object\n",
      " 51  Unnamed: 51                                                                                      354 non-null    object\n",
      " 52  Unnamed: 52                                                                                      40 non-null     object\n",
      " 53  Unnamed: 53                                                                                      517 non-null    object\n",
      " 54  Unnamed: 54                                                                                      1091 non-null   object\n",
      " 55  Unnamed: 55                                                                                      117 non-null    object\n",
      " 56  Unnamed: 56                                                                                      395 non-null    object\n",
      " 57  Unnamed: 57                                                                                      502 non-null    object\n",
      " 58  Unnamed: 58                                                                                      377 non-null    object\n",
      " 59  Unnamed: 59                                                                                      598 non-null    object\n",
      " 60  Unnamed: 60                                                                                      825 non-null    object\n",
      " 61  Unnamed: 61                                                                                      315 non-null    object\n",
      " 62  Unnamed: 62                                                                                      219 non-null    object\n",
      " 63  In the last 12 months, how much money have you spent on personal technology-related purchases?   2506 non-null   object\n",
      " 64  Which of our sites do you frequent most?                                                         2533 non-null   object\n",
      "dtypes: object(65)\n",
      "memory usage: 1.4+ MB\n"
     ]
    }
   ],
   "source": [],
   "metadata": {
    "collapsed": false,
    "pycharm": {
     "name": "#%%\n"
    }
   }
  },
  {
   "cell_type": "code",
   "execution_count": 45,
   "outputs": [
    {
     "data": {
      "text/plain": "         Respondent           Age      CompTotal  ConvertedComp   WorkWeekHrs\ncount  64461.000000  45446.000000   3.482600e+04   3.475600e+04  41151.000000\nmean   32554.079738     30.834111  3.190464e+242   1.037561e+05     40.782174\nstd    18967.442360      9.585392            inf   2.268853e+05     17.816383\nmin        1.000000      1.000000   0.000000e+00   0.000000e+00      1.000000\n25%    16116.000000     24.000000   2.000000e+04   2.464800e+04     40.000000\n50%    32231.000000     29.000000   6.300000e+04   5.404900e+04     40.000000\n75%    49142.000000     35.000000   1.250000e+05   9.500000e+04     44.000000\nmax    65639.000000    279.000000  1.111111e+247   2.000000e+06    475.000000",
      "text/html": "<div>\n<style scoped>\n    .dataframe tbody tr th:only-of-type {\n        vertical-align: middle;\n    }\n\n    .dataframe tbody tr th {\n        vertical-align: top;\n    }\n\n    .dataframe thead th {\n        text-align: right;\n    }\n</style>\n<table border=\"1\" class=\"dataframe\">\n  <thead>\n    <tr style=\"text-align: right;\">\n      <th></th>\n      <th>Respondent</th>\n      <th>Age</th>\n      <th>CompTotal</th>\n      <th>ConvertedComp</th>\n      <th>WorkWeekHrs</th>\n    </tr>\n  </thead>\n  <tbody>\n    <tr>\n      <th>count</th>\n      <td>64461.000000</td>\n      <td>45446.000000</td>\n      <td>3.482600e+04</td>\n      <td>3.475600e+04</td>\n      <td>41151.000000</td>\n    </tr>\n    <tr>\n      <th>mean</th>\n      <td>32554.079738</td>\n      <td>30.834111</td>\n      <td>3.190464e+242</td>\n      <td>1.037561e+05</td>\n      <td>40.782174</td>\n    </tr>\n    <tr>\n      <th>std</th>\n      <td>18967.442360</td>\n      <td>9.585392</td>\n      <td>inf</td>\n      <td>2.268853e+05</td>\n      <td>17.816383</td>\n    </tr>\n    <tr>\n      <th>min</th>\n      <td>1.000000</td>\n      <td>1.000000</td>\n      <td>0.000000e+00</td>\n      <td>0.000000e+00</td>\n      <td>1.000000</td>\n    </tr>\n    <tr>\n      <th>25%</th>\n      <td>16116.000000</td>\n      <td>24.000000</td>\n      <td>2.000000e+04</td>\n      <td>2.464800e+04</td>\n      <td>40.000000</td>\n    </tr>\n    <tr>\n      <th>50%</th>\n      <td>32231.000000</td>\n      <td>29.000000</td>\n      <td>6.300000e+04</td>\n      <td>5.404900e+04</td>\n      <td>40.000000</td>\n    </tr>\n    <tr>\n      <th>75%</th>\n      <td>49142.000000</td>\n      <td>35.000000</td>\n      <td>1.250000e+05</td>\n      <td>9.500000e+04</td>\n      <td>44.000000</td>\n    </tr>\n    <tr>\n      <th>max</th>\n      <td>65639.000000</td>\n      <td>279.000000</td>\n      <td>1.111111e+247</td>\n      <td>2.000000e+06</td>\n      <td>475.000000</td>\n    </tr>\n  </tbody>\n</table>\n</div>"
     },
     "execution_count": 45,
     "metadata": {},
     "output_type": "execute_result"
    }
   ],
   "source": [
    "# take a look at feature counts from 2020\n",
    "df_2020.describe()"
   ],
   "metadata": {
    "collapsed": false,
    "pycharm": {
     "name": "#%%\n"
    }
   }
  },
  {
   "cell_type": "code",
   "execution_count": 46,
   "outputs": [
    {
     "name": "stdout",
     "output_type": "stream",
     "text": [
      "<class 'pandas.core.frame.DataFrame'>\n",
      "RangeIndex: 2814 entries, 0 to 2813\n",
      "Data columns (total 65 columns):\n",
      " #   Column                                                                                           Non-Null Count  Dtype \n",
      "---  ------                                                                                           --------------  ----- \n",
      " 0   What Country or Region do you live in?                                                           2814 non-null   object\n",
      " 1   Which US State or Territory do you live in?                                                      1030 non-null   object\n",
      " 2   How old are you?                                                                                 2730 non-null   object\n",
      " 3   How many years of IT/Programming experience do you have?                                         2730 non-null   object\n",
      " 4   How would you best describe the industry you work in?                                            2730 non-null   object\n",
      " 5   Which best describes the size of your company?                                                   2647 non-null   object\n",
      " 6   Which of the following best describes your occupation?                                           2647 non-null   object\n",
      " 7   How likely is it that a recommendation you make will be acted upon?                              2611 non-null   object\n",
      " 8   What is your involvement in purchasing? You can choose more than 1.                              1362 non-null   object\n",
      " 9   Unnamed: 9                                                                                       1497 non-null   object\n",
      " 10  Unnamed: 10                                                                                      395 non-null    object\n",
      " 11  Unnamed: 11                                                                                      457 non-null    object\n",
      " 12  Unnamed: 12                                                                                      186 non-null    object\n",
      " 13  Unnamed: 13                                                                                      727 non-null    object\n",
      " 14  Unnamed: 14                                                                                      92 non-null     object\n",
      " 15  What types of purchases are you involved in?                                                     968 non-null    object\n",
      " 16  Unnamed: 16                                                                                      709 non-null    object\n",
      " 17  Unnamed: 17                                                                                      1790 non-null   object\n",
      " 18  Unnamed: 18                                                                                      970 non-null    object\n",
      " 19  Unnamed: 19                                                                                      467 non-null    object\n",
      " 20  Unnamed: 20                                                                                      285 non-null    object\n",
      " 21  What is your budget for outside expenditures (hardware, software, consulting, etc) for 2011?     533 non-null    object\n",
      " 22  Unnamed: 22                                                                                      219 non-null    object\n",
      " 23  Unnamed: 23                                                                                      85 non-null     object\n",
      " 24  Unnamed: 24                                                                                      45 non-null     object\n",
      " 25  Unnamed: 25                                                                                      43 non-null     object\n",
      " 26  Unnamed: 26                                                                                      45 non-null     object\n",
      " 27  Unnamed: 27                                                                                      121 non-null    object\n",
      " 28  Unnamed: 28                                                                                      927 non-null    object\n",
      " 29  What type of project are you developing?                                                         2599 non-null   object\n",
      " 30  Which languages are you proficient in?                                                           862 non-null    object\n",
      " 31  Unnamed: 31                                                                                      1420 non-null   object\n",
      " 32  Unnamed: 32                                                                                      1357 non-null   object\n",
      " 33  Unnamed: 33                                                                                      789 non-null    object\n",
      " 34  Unnamed: 34                                                                                      576 non-null    object\n",
      " 35  Unnamed: 35                                                                                      286 non-null    object\n",
      " 36  Unnamed: 36                                                                                      1614 non-null   object\n",
      " 37  Unnamed: 37                                                                                      1353 non-null   object\n",
      " 38  Unnamed: 38                                                                                      741 non-null    object\n",
      " 39  Unnamed: 39                                                                                      742 non-null    object\n",
      " 40  Unnamed: 40                                                                                      285 non-null    object\n",
      " 41  Unnamed: 41                                                                                      21 non-null     object\n",
      " 42  Unnamed: 42                                                                                      668 non-null    object\n",
      " 43  What operating system do you use the most?                                                       2591 non-null   object\n",
      " 44  Please rate your job/career satisfaction                                                         2554 non-null   object\n",
      " 45  Including bonus, what is your annual compensation in USD?                                        2366 non-null   object\n",
      " 46  Which technology products do you own? (You can choose more than one)                             840 non-null    object\n",
      " 47  Unnamed: 47                                                                                      745 non-null    object\n",
      " 48  Unnamed: 48                                                                                      169 non-null    object\n",
      " 49  Unnamed: 49                                                                                      367 non-null    object\n",
      " 50  Unnamed: 50                                                                                      625 non-null    object\n",
      " 51  Unnamed: 51                                                                                      354 non-null    object\n",
      " 52  Unnamed: 52                                                                                      40 non-null     object\n",
      " 53  Unnamed: 53                                                                                      517 non-null    object\n",
      " 54  Unnamed: 54                                                                                      1091 non-null   object\n",
      " 55  Unnamed: 55                                                                                      117 non-null    object\n",
      " 56  Unnamed: 56                                                                                      395 non-null    object\n",
      " 57  Unnamed: 57                                                                                      502 non-null    object\n",
      " 58  Unnamed: 58                                                                                      377 non-null    object\n",
      " 59  Unnamed: 59                                                                                      598 non-null    object\n",
      " 60  Unnamed: 60                                                                                      825 non-null    object\n",
      " 61  Unnamed: 61                                                                                      315 non-null    object\n",
      " 62  Unnamed: 62                                                                                      219 non-null    object\n",
      " 63  In the last 12 months, how much money have you spent on personal technology-related purchases?   2506 non-null   object\n",
      " 64  Which of our sites do you frequent most?                                                         2533 non-null   object\n",
      "dtypes: object(65)\n",
      "memory usage: 1.4+ MB\n"
     ]
    }
   ],
   "source": [
    "# take a look at feature counts from 2021\n",
    "df_2021.describe()\n",
    "\n",
    "# take a look at\n",
    "df_2011.info()"
   ],
   "metadata": {
    "collapsed": false,
    "pycharm": {
     "name": "#%%\n"
    }
   }
  },
  {
   "cell_type": "markdown",
   "source": [
    "# TBD\n",
    "1. Delete index related data from dataframes (i.e. Unnamed? Look at schemas).\n",
    "2. Just make a matching between common features throughout surveys years and build a unique datafame, or alternatively,\n",
    "just make same question for each year.\n",
    "\n",
    "\n",
    "\n"
   ],
   "metadata": {
    "collapsed": false,
    "pycharm": {
     "name": "#%% md\n"
    }
   }
  },
  {
   "cell_type": "code",
   "execution_count": null,
   "outputs": [],
   "source": [],
   "metadata": {
    "collapsed": false,
    "pycharm": {
     "name": "#%%\n"
    }
   }
  }
 ],
 "metadata": {
  "kernelspec": {
   "display_name": "Python 3",
   "language": "python",
   "name": "python3"
  },
  "language_info": {
   "codemirror_mode": {
    "name": "ipython",
    "version": 2
   },
   "file_extension": ".py",
   "mimetype": "text/x-python",
   "name": "python",
   "nbconvert_exporter": "python",
   "pygments_lexer": "ipython2",
   "version": "2.7.6"
  }
 },
 "nbformat": 4,
 "nbformat_minor": 0
}